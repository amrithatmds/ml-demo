{
 "cells": [
  {
   "cell_type": "code",
   "execution_count": 1,
   "metadata": {},
   "outputs": [
    {
     "name": "stdout",
     "output_type": "stream",
     "text": [
      "Writing rest.py\n"
     ]
    }
   ],
   "source": [
    "%%writefile rest.py\n",
    "\n",
    "import requests\n",
    "import json"
   ]
  },
  {
   "cell_type": "code",
   "execution_count": null,
   "metadata": {},
   "outputs": [],
   "source": [
    "# WIP\n",
    "\n",
    "def login(base_url,endpoint,identifier,password,api_key):\n",
    "\n",
    "    data={\n",
    "        \"identifier\":identifier,\n",
    "        \"password\":password\n",
    "    }\n",
    "    \n",
    "    headers={\n",
    "        \"Content-Type\":\"application/json\",\n",
    "        \"X-IG-API-KEY\":api_key,\n",
    "        \"Version\":\"1\"\n",
    "    }\n",
    "    \n",
    "    r = requests.post(base_url+endpoint,\n",
    "        headers=headers,\n",
    "        data=json.dumps(data))\n",
    "    \n",
    "    if r.status_code==200:\n",
    "        return r.headers['CST'],r.headers['X-SECURITY-TOKEN']\n",
    "    else:\n",
    "        return None"
   ]
  }
 ],
 "metadata": {
  "kernelspec": {
   "display_name": "conda_python3",
   "language": "python",
   "name": "conda_python3"
  },
  "language_info": {
   "codemirror_mode": {
    "name": "ipython",
    "version": 3
   },
   "file_extension": ".py",
   "mimetype": "text/x-python",
   "name": "python",
   "nbconvert_exporter": "python",
   "pygments_lexer": "ipython3",
   "version": "3.6.5"
  }
 },
 "nbformat": 4,
 "nbformat_minor": 4
}
