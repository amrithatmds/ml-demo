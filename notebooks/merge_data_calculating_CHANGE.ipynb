{
 "cells": [
  {
   "cell_type": "code",
   "execution_count": null,
   "metadata": {},
   "outputs": [],
   "source": [
    "!pip install s3fs\n",
    "!pip install sagemaker"
   ]
  },
  {
   "cell_type": "code",
   "execution_count": 2,
   "metadata": {},
   "outputs": [],
   "source": [
    "BUCKET='ml-lab-pyspark'\n",
    "!export AWS_PROFILE=ml-lab"
   ]
  },
  {
   "cell_type": "code",
   "execution_count": 3,
   "metadata": {},
   "outputs": [],
   "source": [
    "import pandas as pd\n",
    "import numpy as np\n",
    "from datetime import datetime as dt"
   ]
  },
  {
   "cell_type": "code",
   "execution_count": 4,
   "metadata": {},
   "outputs": [],
   "source": [
    "deals=pd.read_csv('../data/deals_replay.csv',\n",
    "    header=None,\n",
    "    names=[\"timestamp\",\"deal_type\",\"order_type\",\"stop\",\"limit\",\"price\",\"stop_price\",\"limit_price\",\"loss_or_profit\"],\n",
    "    dtype={\n",
    "        \"timestamp\":str\n",
    "    }\n",
    ")"
   ]
  },
  {
   "cell_type": "markdown",
   "metadata": {},
   "source": [
    "## All orders sorted by timestamp"
   ]
  },
  {
   "cell_type": "code",
   "execution_count": 5,
   "metadata": {},
   "outputs": [
    {
     "data": {
      "text/html": "<div>\n<style scoped>\n    .dataframe tbody tr th:only-of-type {\n        vertical-align: middle;\n    }\n\n    .dataframe tbody tr th {\n        vertical-align: top;\n    }\n\n    .dataframe thead th {\n        text-align: right;\n    }\n</style>\n<table border=\"1\" class=\"dataframe\">\n  <thead>\n    <tr style=\"text-align: right;\">\n      <th></th>\n      <th>timestamp</th>\n      <th>deal_type</th>\n      <th>order_type</th>\n      <th>stop</th>\n      <th>limit</th>\n      <th>price</th>\n      <th>stop_price</th>\n      <th>limit_price</th>\n      <th>loss_or_profit</th>\n    </tr>\n  </thead>\n  <tbody>\n    <tr>\n      <th>585</th>\n      <td>1584100045.375273</td>\n      <td>stop</td>\n      <td>buy</td>\n      <td>10</td>\n      <td>10</td>\n      <td>1.25193</td>\n      <td>1.25093</td>\n      <td>1.25293</td>\n      <td>-0.001</td>\n    </tr>\n    <tr>\n      <th>719</th>\n      <td>1584100045.375273</td>\n      <td>limit</td>\n      <td>sell</td>\n      <td>10</td>\n      <td>10</td>\n      <td>1.25176</td>\n      <td>1.25276</td>\n      <td>1.25076</td>\n      <td>0.001</td>\n    </tr>\n    <tr>\n      <th>17636</th>\n      <td>1584100045.375273</td>\n      <td>limit</td>\n      <td>sell</td>\n      <td>20</td>\n      <td>20</td>\n      <td>1.25176</td>\n      <td>1.25376</td>\n      <td>1.24976</td>\n      <td>0.002</td>\n    </tr>\n    <tr>\n      <th>15462</th>\n      <td>1584100045.375273</td>\n      <td>stop</td>\n      <td>buy</td>\n      <td>20</td>\n      <td>20</td>\n      <td>1.25193</td>\n      <td>1.24993</td>\n      <td>1.25393</td>\n      <td>-0.002</td>\n    </tr>\n    <tr>\n      <th>17637</th>\n      <td>1584100045.480978</td>\n      <td>limit</td>\n      <td>sell</td>\n      <td>20</td>\n      <td>20</td>\n      <td>1.25177</td>\n      <td>1.25377</td>\n      <td>1.24977</td>\n      <td>0.002</td>\n    </tr>\n    <tr>\n      <th>...</th>\n      <td>...</td>\n      <td>...</td>\n      <td>...</td>\n      <td>...</td>\n      <td>...</td>\n      <td>...</td>\n      <td>...</td>\n      <td>...</td>\n      <td>...</td>\n    </tr>\n    <tr>\n      <th>292</th>\n      <td>1584102585.325714</td>\n      <td>stop</td>\n      <td>sell</td>\n      <td>20</td>\n      <td>20</td>\n      <td>1.24964</td>\n      <td>1.25164</td>\n      <td>1.24764</td>\n      <td>-0.002</td>\n    </tr>\n    <tr>\n      <th>293</th>\n      <td>1584102585.747461</td>\n      <td>stop</td>\n      <td>sell</td>\n      <td>20</td>\n      <td>20</td>\n      <td>1.24964</td>\n      <td>1.25164</td>\n      <td>1.24764</td>\n      <td>-0.002</td>\n    </tr>\n    <tr>\n      <th>244</th>\n      <td>1584102585.747461</td>\n      <td>stop</td>\n      <td>sell</td>\n      <td>10</td>\n      <td>10</td>\n      <td>1.24964</td>\n      <td>1.25064</td>\n      <td>1.24864</td>\n      <td>-0.001</td>\n    </tr>\n    <tr>\n      <th>361</th>\n      <td>1584102585.747461</td>\n      <td>limit</td>\n      <td>buy</td>\n      <td>10</td>\n      <td>10</td>\n      <td>1.24981</td>\n      <td>1.24881</td>\n      <td>1.25081</td>\n      <td>0.001</td>\n    </tr>\n    <tr>\n      <th>393</th>\n      <td>1584102585.747461</td>\n      <td>limit</td>\n      <td>buy</td>\n      <td>20</td>\n      <td>20</td>\n      <td>1.24981</td>\n      <td>1.24781</td>\n      <td>1.25181</td>\n      <td>0.002</td>\n    </tr>\n  </tbody>\n</table>\n<p>24302 rows × 9 columns</p>\n</div>",
      "text/plain": "               timestamp deal_type order_type  stop  limit    price  \\\n585    1584100045.375273      stop        buy    10     10  1.25193   \n719    1584100045.375273     limit       sell    10     10  1.25176   \n17636  1584100045.375273     limit       sell    20     20  1.25176   \n15462  1584100045.375273      stop        buy    20     20  1.25193   \n17637  1584100045.480978     limit       sell    20     20  1.25177   \n...                  ...       ...        ...   ...    ...      ...   \n292    1584102585.325714      stop       sell    20     20  1.24964   \n293    1584102585.747461      stop       sell    20     20  1.24964   \n244    1584102585.747461      stop       sell    10     10  1.24964   \n361    1584102585.747461     limit        buy    10     10  1.24981   \n393    1584102585.747461     limit        buy    20     20  1.24981   \n\n       stop_price  limit_price  loss_or_profit  \n585       1.25093      1.25293          -0.001  \n719       1.25276      1.25076           0.001  \n17636     1.25376      1.24976           0.002  \n15462     1.24993      1.25393          -0.002  \n17637     1.25377      1.24977           0.002  \n...           ...          ...             ...  \n292       1.25164      1.24764          -0.002  \n293       1.25164      1.24764          -0.002  \n244       1.25064      1.24864          -0.001  \n361       1.24881      1.25081           0.001  \n393       1.24781      1.25181           0.002  \n\n[24302 rows x 9 columns]"
     },
     "execution_count": 5,
     "metadata": {},
     "output_type": "execute_result"
    }
   ],
   "source": [
    "deals.sort_values(by=\"timestamp\")"
   ]
  },
  {
   "cell_type": "markdown",
   "metadata": {},
   "source": [
    "### All `buy` type orders where the stop/limit was 10"
   ]
  },
  {
   "cell_type": "code",
   "execution_count": 6,
   "metadata": {},
   "outputs": [
    {
     "data": {
      "text/html": "<div>\n<style scoped>\n    .dataframe tbody tr th:only-of-type {\n        vertical-align: middle;\n    }\n\n    .dataframe tbody tr th {\n        vertical-align: top;\n    }\n\n    .dataframe thead th {\n        text-align: right;\n    }\n</style>\n<table border=\"1\" class=\"dataframe\">\n  <thead>\n    <tr style=\"text-align: right;\">\n      <th></th>\n      <th>timestamp</th>\n      <th>deal_type</th>\n      <th>order_type</th>\n      <th>stop</th>\n      <th>limit</th>\n      <th>price</th>\n      <th>stop_price</th>\n      <th>limit_price</th>\n      <th>loss_or_profit</th>\n    </tr>\n  </thead>\n  <tbody>\n    <tr>\n      <th>102</th>\n      <td>1584102154.841821</td>\n      <td>limit</td>\n      <td>buy</td>\n      <td>10</td>\n      <td>10</td>\n      <td>1.24902</td>\n      <td>1.24802</td>\n      <td>1.25002</td>\n      <td>0.001</td>\n    </tr>\n    <tr>\n      <th>103</th>\n      <td>1584102155.189365</td>\n      <td>limit</td>\n      <td>buy</td>\n      <td>10</td>\n      <td>10</td>\n      <td>1.24901</td>\n      <td>1.24801</td>\n      <td>1.25001</td>\n      <td>0.001</td>\n    </tr>\n    <tr>\n      <th>104</th>\n      <td>1584102161.575295</td>\n      <td>limit</td>\n      <td>buy</td>\n      <td>10</td>\n      <td>10</td>\n      <td>1.24902</td>\n      <td>1.24802</td>\n      <td>1.25002</td>\n      <td>0.001</td>\n    </tr>\n    <tr>\n      <th>105</th>\n      <td>1584102162.229208</td>\n      <td>limit</td>\n      <td>buy</td>\n      <td>10</td>\n      <td>10</td>\n      <td>1.24902</td>\n      <td>1.24802</td>\n      <td>1.25002</td>\n      <td>0.001</td>\n    </tr>\n    <tr>\n      <th>106</th>\n      <td>1584102163.200662</td>\n      <td>limit</td>\n      <td>buy</td>\n      <td>10</td>\n      <td>10</td>\n      <td>1.24902</td>\n      <td>1.24802</td>\n      <td>1.25002</td>\n      <td>0.001</td>\n    </tr>\n    <tr>\n      <th>...</th>\n      <td>...</td>\n      <td>...</td>\n      <td>...</td>\n      <td>...</td>\n      <td>...</td>\n      <td>...</td>\n      <td>...</td>\n      <td>...</td>\n      <td>...</td>\n    </tr>\n    <tr>\n      <th>24268</th>\n      <td>1584102007.087893</td>\n      <td>stop</td>\n      <td>buy</td>\n      <td>10</td>\n      <td>10</td>\n      <td>1.25001</td>\n      <td>1.24901</td>\n      <td>1.25101</td>\n      <td>-0.001</td>\n    </tr>\n    <tr>\n      <th>24269</th>\n      <td>1584102008.139766</td>\n      <td>stop</td>\n      <td>buy</td>\n      <td>10</td>\n      <td>10</td>\n      <td>1.25001</td>\n      <td>1.24901</td>\n      <td>1.25101</td>\n      <td>-0.001</td>\n    </tr>\n    <tr>\n      <th>24270</th>\n      <td>1584102008.448525</td>\n      <td>stop</td>\n      <td>buy</td>\n      <td>10</td>\n      <td>10</td>\n      <td>1.25001</td>\n      <td>1.24901</td>\n      <td>1.25101</td>\n      <td>-0.001</td>\n    </tr>\n    <tr>\n      <th>24271</th>\n      <td>1584102008.748936</td>\n      <td>stop</td>\n      <td>buy</td>\n      <td>10</td>\n      <td>10</td>\n      <td>1.25001</td>\n      <td>1.24901</td>\n      <td>1.25101</td>\n      <td>-0.001</td>\n    </tr>\n    <tr>\n      <th>24272</th>\n      <td>1584102009.052985</td>\n      <td>stop</td>\n      <td>buy</td>\n      <td>10</td>\n      <td>10</td>\n      <td>1.25001</td>\n      <td>1.24901</td>\n      <td>1.25101</td>\n      <td>-0.001</td>\n    </tr>\n  </tbody>\n</table>\n<p>7171 rows × 9 columns</p>\n</div>",
      "text/plain": "               timestamp deal_type order_type  stop  limit    price  \\\n102    1584102154.841821     limit        buy    10     10  1.24902   \n103    1584102155.189365     limit        buy    10     10  1.24901   \n104    1584102161.575295     limit        buy    10     10  1.24902   \n105    1584102162.229208     limit        buy    10     10  1.24902   \n106    1584102163.200662     limit        buy    10     10  1.24902   \n...                  ...       ...        ...   ...    ...      ...   \n24268  1584102007.087893      stop        buy    10     10  1.25001   \n24269  1584102008.139766      stop        buy    10     10  1.25001   \n24270  1584102008.448525      stop        buy    10     10  1.25001   \n24271  1584102008.748936      stop        buy    10     10  1.25001   \n24272  1584102009.052985      stop        buy    10     10  1.25001   \n\n       stop_price  limit_price  loss_or_profit  \n102       1.24802      1.25002           0.001  \n103       1.24801      1.25001           0.001  \n104       1.24802      1.25002           0.001  \n105       1.24802      1.25002           0.001  \n106       1.24802      1.25002           0.001  \n...           ...          ...             ...  \n24268     1.24901      1.25101          -0.001  \n24269     1.24901      1.25101          -0.001  \n24270     1.24901      1.25101          -0.001  \n24271     1.24901      1.25101          -0.001  \n24272     1.24901      1.25101          -0.001  \n\n[7171 rows x 9 columns]"
     },
     "execution_count": 6,
     "metadata": {},
     "output_type": "execute_result"
    }
   ],
   "source": [
    "qualified_deals=deals.query('order_type==\"buy\" & stop==10')\n",
    "qualified_deals"
   ]
  },
  {
   "cell_type": "code",
   "execution_count": 7,
   "metadata": {},
   "outputs": [
    {
     "data": {
      "text/html": "<div>\n<style scoped>\n    .dataframe tbody tr th:only-of-type {\n        vertical-align: middle;\n    }\n\n    .dataframe tbody tr th {\n        vertical-align: top;\n    }\n\n    .dataframe thead th {\n        text-align: right;\n    }\n</style>\n<table border=\"1\" class=\"dataframe\">\n  <thead>\n    <tr style=\"text-align: right;\">\n      <th></th>\n      <th>stop</th>\n      <th>limit</th>\n      <th>price</th>\n      <th>stop_price</th>\n      <th>limit_price</th>\n      <th>loss_or_profit</th>\n    </tr>\n  </thead>\n  <tbody>\n    <tr>\n      <th>count</th>\n      <td>7171.0</td>\n      <td>7171.0</td>\n      <td>7171.000000</td>\n      <td>7171.000000</td>\n      <td>7171.000000</td>\n      <td>7171.000000</td>\n    </tr>\n    <tr>\n      <th>mean</th>\n      <td>10.0</td>\n      <td>10.0</td>\n      <td>1.251397</td>\n      <td>1.250397</td>\n      <td>1.252397</td>\n      <td>-0.000171</td>\n    </tr>\n    <tr>\n      <th>std</th>\n      <td>0.0</td>\n      <td>0.0</td>\n      <td>0.000649</td>\n      <td>0.000649</td>\n      <td>0.000649</td>\n      <td>0.000985</td>\n    </tr>\n    <tr>\n      <th>min</th>\n      <td>10.0</td>\n      <td>10.0</td>\n      <td>1.249010</td>\n      <td>1.248010</td>\n      <td>1.250010</td>\n      <td>-0.001000</td>\n    </tr>\n    <tr>\n      <th>25%</th>\n      <td>10.0</td>\n      <td>10.0</td>\n      <td>1.250930</td>\n      <td>1.249930</td>\n      <td>1.251930</td>\n      <td>-0.001000</td>\n    </tr>\n    <tr>\n      <th>50%</th>\n      <td>10.0</td>\n      <td>10.0</td>\n      <td>1.251450</td>\n      <td>1.250450</td>\n      <td>1.252450</td>\n      <td>-0.001000</td>\n    </tr>\n    <tr>\n      <th>75%</th>\n      <td>10.0</td>\n      <td>10.0</td>\n      <td>1.251860</td>\n      <td>1.250860</td>\n      <td>1.252860</td>\n      <td>0.001000</td>\n    </tr>\n    <tr>\n      <th>max</th>\n      <td>10.0</td>\n      <td>10.0</td>\n      <td>1.252950</td>\n      <td>1.251950</td>\n      <td>1.253950</td>\n      <td>0.001000</td>\n    </tr>\n  </tbody>\n</table>\n</div>",
      "text/plain": "         stop   limit        price   stop_price  limit_price  loss_or_profit\ncount  7171.0  7171.0  7171.000000  7171.000000  7171.000000     7171.000000\nmean     10.0    10.0     1.251397     1.250397     1.252397       -0.000171\nstd       0.0     0.0     0.000649     0.000649     0.000649        0.000985\nmin      10.0    10.0     1.249010     1.248010     1.250010       -0.001000\n25%      10.0    10.0     1.250930     1.249930     1.251930       -0.001000\n50%      10.0    10.0     1.251450     1.250450     1.252450       -0.001000\n75%      10.0    10.0     1.251860     1.250860     1.252860        0.001000\nmax      10.0    10.0     1.252950     1.251950     1.253950        0.001000"
     },
     "execution_count": 7,
     "metadata": {},
     "output_type": "execute_result"
    }
   ],
   "source": [
    "qualified_deals.describe()"
   ]
  },
  {
   "cell_type": "markdown",
   "metadata": {},
   "source": [
    "Among above orders, below have made a profit. We want to predict these orders:"
   ]
  },
  {
   "cell_type": "code",
   "execution_count": 8,
   "metadata": {},
   "outputs": [
    {
     "data": {
      "text/plain": "2973"
     },
     "execution_count": 8,
     "metadata": {},
     "output_type": "execute_result"
    }
   ],
   "source": [
    "len(qualified_deals.query('deal_type==\"limit\"'))"
   ]
  },
  {
   "cell_type": "code",
   "execution_count": 9,
   "metadata": {},
   "outputs": [],
   "source": [
    "price=pd.read_csv('../data/price.csv',\n",
    "    header=None,\n",
    "    names=[\"datetime\",\"timestamp\",\"MID_OPEN\",\"BID\",\"OFFER\",\"CHANGE\",\"CHANGE_PCT\",\"HIGH\",\"LOW\"],\n",
    "    dtype={\n",
    "        \"timestamp\":str,\n",
    "        \"datetime\":str\n",
    "    }\n",
    ")"
   ]
  },
  {
   "cell_type": "code",
   "execution_count": 10,
   "metadata": {},
   "outputs": [
    {
     "data": {
      "text/html": "<div>\n<style scoped>\n    .dataframe tbody tr th:only-of-type {\n        vertical-align: middle;\n    }\n\n    .dataframe tbody tr th {\n        vertical-align: top;\n    }\n\n    .dataframe thead th {\n        text-align: right;\n    }\n</style>\n<table border=\"1\" class=\"dataframe\">\n  <thead>\n    <tr style=\"text-align: right;\">\n      <th></th>\n      <th>datetime</th>\n      <th>timestamp</th>\n      <th>MID_OPEN</th>\n      <th>BID</th>\n      <th>OFFER</th>\n      <th>CHANGE</th>\n      <th>CHANGE_PCT</th>\n      <th>HIGH</th>\n      <th>LOW</th>\n    </tr>\n  </thead>\n  <tbody>\n    <tr>\n      <th>49</th>\n      <td>20-03-13 11:47:24</td>\n      <td>1584100045.375273</td>\n      <td>1.25699</td>\n      <td>1.25176</td>\n      <td>1.25193</td>\n      <td>-0.00515</td>\n      <td>-0.41</td>\n      <td>1.26256</td>\n      <td>1.25052</td>\n    </tr>\n    <tr>\n      <th>50</th>\n      <td>20-03-13 11:47:25</td>\n      <td>1584100045.480978</td>\n      <td>1.25699</td>\n      <td>1.25177</td>\n      <td>1.25194</td>\n      <td>-0.00513</td>\n      <td>-0.41</td>\n      <td>1.26256</td>\n      <td>1.25052</td>\n    </tr>\n    <tr>\n      <th>51</th>\n      <td>20-03-13 11:47:25</td>\n      <td>1584100045.680272</td>\n      <td>1.25699</td>\n      <td>1.25180</td>\n      <td>1.25200</td>\n      <td>-0.00509</td>\n      <td>-0.40</td>\n      <td>1.26256</td>\n      <td>1.25052</td>\n    </tr>\n    <tr>\n      <th>52</th>\n      <td>20-03-13 11:47:25</td>\n      <td>1584100045.953611</td>\n      <td>1.25699</td>\n      <td>1.25184</td>\n      <td>1.25202</td>\n      <td>-0.00506</td>\n      <td>-0.40</td>\n      <td>1.26256</td>\n      <td>1.25052</td>\n    </tr>\n    <tr>\n      <th>53</th>\n      <td>20-03-13 11:47:26</td>\n      <td>1584100046.104995</td>\n      <td>1.25699</td>\n      <td>1.25182</td>\n      <td>1.25202</td>\n      <td>-0.00507</td>\n      <td>-0.40</td>\n      <td>1.26256</td>\n      <td>1.25052</td>\n    </tr>\n    <tr>\n      <th>...</th>\n      <td>...</td>\n      <td>...</td>\n      <td>...</td>\n      <td>...</td>\n      <td>...</td>\n      <td>...</td>\n      <td>...</td>\n      <td>...</td>\n      <td>...</td>\n    </tr>\n    <tr>\n      <th>44</th>\n      <td>20-03-13 12:24:50</td>\n      <td>1584102584.117409</td>\n      <td>1.25699</td>\n      <td>1.24964</td>\n      <td>1.24981</td>\n      <td>-0.00727</td>\n      <td>-0.58</td>\n      <td>1.26256</td>\n      <td>1.24884</td>\n    </tr>\n    <tr>\n      <th>45</th>\n      <td>20-03-13 12:24:50</td>\n      <td>1584102584.525387</td>\n      <td>1.25699</td>\n      <td>1.24963</td>\n      <td>1.24980</td>\n      <td>-0.00727</td>\n      <td>-0.58</td>\n      <td>1.26256</td>\n      <td>1.24884</td>\n    </tr>\n    <tr>\n      <th>46</th>\n      <td>20-03-13 12:24:50</td>\n      <td>1584102584.931247</td>\n      <td>1.25699</td>\n      <td>1.24964</td>\n      <td>1.24981</td>\n      <td>-0.00727</td>\n      <td>-0.58</td>\n      <td>1.26256</td>\n      <td>1.24884</td>\n    </tr>\n    <tr>\n      <th>47</th>\n      <td>20-03-13 12:24:50</td>\n      <td>1584102585.325714</td>\n      <td>1.25699</td>\n      <td>1.24964</td>\n      <td>1.24981</td>\n      <td>-0.00726</td>\n      <td>-0.58</td>\n      <td>1.26256</td>\n      <td>1.24884</td>\n    </tr>\n    <tr>\n      <th>48</th>\n      <td>20-03-13 12:24:50</td>\n      <td>1584102585.747461</td>\n      <td>1.25699</td>\n      <td>1.24964</td>\n      <td>1.24981</td>\n      <td>-0.00727</td>\n      <td>-0.58</td>\n      <td>1.26256</td>\n      <td>1.24884</td>\n    </tr>\n  </tbody>\n</table>\n<p>8671 rows × 9 columns</p>\n</div>",
      "text/plain": "             datetime          timestamp  MID_OPEN      BID    OFFER   CHANGE  \\\n49  20-03-13 11:47:24  1584100045.375273   1.25699  1.25176  1.25193 -0.00515   \n50  20-03-13 11:47:25  1584100045.480978   1.25699  1.25177  1.25194 -0.00513   \n51  20-03-13 11:47:25  1584100045.680272   1.25699  1.25180  1.25200 -0.00509   \n52  20-03-13 11:47:25  1584100045.953611   1.25699  1.25184  1.25202 -0.00506   \n53  20-03-13 11:47:26  1584100046.104995   1.25699  1.25182  1.25202 -0.00507   \n..                ...                ...       ...      ...      ...      ...   \n44  20-03-13 12:24:50  1584102584.117409   1.25699  1.24964  1.24981 -0.00727   \n45  20-03-13 12:24:50  1584102584.525387   1.25699  1.24963  1.24980 -0.00727   \n46  20-03-13 12:24:50  1584102584.931247   1.25699  1.24964  1.24981 -0.00727   \n47  20-03-13 12:24:50  1584102585.325714   1.25699  1.24964  1.24981 -0.00726   \n48  20-03-13 12:24:50  1584102585.747461   1.25699  1.24964  1.24981 -0.00727   \n\n    CHANGE_PCT     HIGH      LOW  \n49       -0.41  1.26256  1.25052  \n50       -0.41  1.26256  1.25052  \n51       -0.40  1.26256  1.25052  \n52       -0.40  1.26256  1.25052  \n53       -0.40  1.26256  1.25052  \n..         ...      ...      ...  \n44       -0.58  1.26256  1.24884  \n45       -0.58  1.26256  1.24884  \n46       -0.58  1.26256  1.24884  \n47       -0.58  1.26256  1.24884  \n48       -0.58  1.26256  1.24884  \n\n[8671 rows x 9 columns]"
     },
     "execution_count": 10,
     "metadata": {},
     "output_type": "execute_result"
    }
   ],
   "source": [
    "price.sort_values(by=\"timestamp\")"
   ]
  },
  {
   "cell_type": "code",
   "execution_count": 11,
   "metadata": {},
   "outputs": [
    {
     "data": {
      "text/html": "<div>\n<style scoped>\n    .dataframe tbody tr th:only-of-type {\n        vertical-align: middle;\n    }\n\n    .dataframe tbody tr th {\n        vertical-align: top;\n    }\n\n    .dataframe thead th {\n        text-align: right;\n    }\n</style>\n<table border=\"1\" class=\"dataframe\">\n  <thead>\n    <tr style=\"text-align: right;\">\n      <th></th>\n      <th>timestamp</th>\n      <th>deal_type</th>\n      <th>order_type</th>\n      <th>stop</th>\n      <th>limit</th>\n      <th>price</th>\n      <th>stop_price</th>\n      <th>limit_price</th>\n      <th>loss_or_profit</th>\n      <th>datetime</th>\n      <th>MID_OPEN</th>\n      <th>BID</th>\n      <th>OFFER</th>\n      <th>CHANGE</th>\n      <th>CHANGE_PCT</th>\n      <th>HIGH</th>\n      <th>LOW</th>\n      <th>MID</th>\n    </tr>\n  </thead>\n  <tbody>\n    <tr>\n      <th>0</th>\n      <td>1584100045.375273</td>\n      <td>stop</td>\n      <td>buy</td>\n      <td>10</td>\n      <td>10</td>\n      <td>1.25193</td>\n      <td>1.25093</td>\n      <td>1.25293</td>\n      <td>-0.001</td>\n      <td>20-03-13 11:47:24</td>\n      <td>1.25699</td>\n      <td>1.25176</td>\n      <td>1.25193</td>\n      <td>-0.00515</td>\n      <td>-0.41</td>\n      <td>1.26256</td>\n      <td>1.25052</td>\n      <td>1.251845</td>\n    </tr>\n    <tr>\n      <th>1</th>\n      <td>1584100045.480978</td>\n      <td>stop</td>\n      <td>buy</td>\n      <td>10</td>\n      <td>10</td>\n      <td>1.25194</td>\n      <td>1.25094</td>\n      <td>1.25294</td>\n      <td>-0.001</td>\n      <td>20-03-13 11:47:25</td>\n      <td>1.25699</td>\n      <td>1.25177</td>\n      <td>1.25194</td>\n      <td>-0.00513</td>\n      <td>-0.41</td>\n      <td>1.26256</td>\n      <td>1.25052</td>\n      <td>1.251855</td>\n    </tr>\n    <tr>\n      <th>2</th>\n      <td>1584100045.680272</td>\n      <td>stop</td>\n      <td>buy</td>\n      <td>10</td>\n      <td>10</td>\n      <td>1.25200</td>\n      <td>1.25100</td>\n      <td>1.25300</td>\n      <td>-0.001</td>\n      <td>20-03-13 11:47:25</td>\n      <td>1.25699</td>\n      <td>1.25180</td>\n      <td>1.25200</td>\n      <td>-0.00509</td>\n      <td>-0.40</td>\n      <td>1.26256</td>\n      <td>1.25052</td>\n      <td>1.251900</td>\n    </tr>\n    <tr>\n      <th>3</th>\n      <td>1584100045.953611</td>\n      <td>stop</td>\n      <td>buy</td>\n      <td>10</td>\n      <td>10</td>\n      <td>1.25202</td>\n      <td>1.25102</td>\n      <td>1.25302</td>\n      <td>-0.001</td>\n      <td>20-03-13 11:47:25</td>\n      <td>1.25699</td>\n      <td>1.25184</td>\n      <td>1.25202</td>\n      <td>-0.00506</td>\n      <td>-0.40</td>\n      <td>1.26256</td>\n      <td>1.25052</td>\n      <td>1.251930</td>\n    </tr>\n    <tr>\n      <th>4</th>\n      <td>1584100046.104995</td>\n      <td>stop</td>\n      <td>buy</td>\n      <td>10</td>\n      <td>10</td>\n      <td>1.25202</td>\n      <td>1.25102</td>\n      <td>1.25302</td>\n      <td>-0.001</td>\n      <td>20-03-13 11:47:26</td>\n      <td>1.25699</td>\n      <td>1.25182</td>\n      <td>1.25202</td>\n      <td>-0.00507</td>\n      <td>-0.40</td>\n      <td>1.26256</td>\n      <td>1.25052</td>\n      <td>1.251920</td>\n    </tr>\n    <tr>\n      <th>...</th>\n      <td>...</td>\n      <td>...</td>\n      <td>...</td>\n      <td>...</td>\n      <td>...</td>\n      <td>...</td>\n      <td>...</td>\n      <td>...</td>\n      <td>...</td>\n      <td>...</td>\n      <td>...</td>\n      <td>...</td>\n      <td>...</td>\n      <td>...</td>\n      <td>...</td>\n      <td>...</td>\n      <td>...</td>\n      <td>...</td>\n    </tr>\n    <tr>\n      <th>7166</th>\n      <td>1584102584.117409</td>\n      <td>limit</td>\n      <td>buy</td>\n      <td>10</td>\n      <td>10</td>\n      <td>1.24981</td>\n      <td>1.24881</td>\n      <td>1.25081</td>\n      <td>0.001</td>\n      <td>20-03-13 12:24:50</td>\n      <td>1.25699</td>\n      <td>1.24964</td>\n      <td>1.24981</td>\n      <td>-0.00727</td>\n      <td>-0.58</td>\n      <td>1.26256</td>\n      <td>1.24884</td>\n      <td>1.249725</td>\n    </tr>\n    <tr>\n      <th>7167</th>\n      <td>1584102584.525387</td>\n      <td>limit</td>\n      <td>buy</td>\n      <td>10</td>\n      <td>10</td>\n      <td>1.24980</td>\n      <td>1.24880</td>\n      <td>1.25080</td>\n      <td>0.001</td>\n      <td>20-03-13 12:24:50</td>\n      <td>1.25699</td>\n      <td>1.24963</td>\n      <td>1.24980</td>\n      <td>-0.00727</td>\n      <td>-0.58</td>\n      <td>1.26256</td>\n      <td>1.24884</td>\n      <td>1.249715</td>\n    </tr>\n    <tr>\n      <th>7168</th>\n      <td>1584102584.931247</td>\n      <td>limit</td>\n      <td>buy</td>\n      <td>10</td>\n      <td>10</td>\n      <td>1.24981</td>\n      <td>1.24881</td>\n      <td>1.25081</td>\n      <td>0.001</td>\n      <td>20-03-13 12:24:50</td>\n      <td>1.25699</td>\n      <td>1.24964</td>\n      <td>1.24981</td>\n      <td>-0.00727</td>\n      <td>-0.58</td>\n      <td>1.26256</td>\n      <td>1.24884</td>\n      <td>1.249725</td>\n    </tr>\n    <tr>\n      <th>7169</th>\n      <td>1584102585.325714</td>\n      <td>limit</td>\n      <td>buy</td>\n      <td>10</td>\n      <td>10</td>\n      <td>1.24981</td>\n      <td>1.24881</td>\n      <td>1.25081</td>\n      <td>0.001</td>\n      <td>20-03-13 12:24:50</td>\n      <td>1.25699</td>\n      <td>1.24964</td>\n      <td>1.24981</td>\n      <td>-0.00726</td>\n      <td>-0.58</td>\n      <td>1.26256</td>\n      <td>1.24884</td>\n      <td>1.249725</td>\n    </tr>\n    <tr>\n      <th>7170</th>\n      <td>1584102585.747461</td>\n      <td>limit</td>\n      <td>buy</td>\n      <td>10</td>\n      <td>10</td>\n      <td>1.24981</td>\n      <td>1.24881</td>\n      <td>1.25081</td>\n      <td>0.001</td>\n      <td>20-03-13 12:24:50</td>\n      <td>1.25699</td>\n      <td>1.24964</td>\n      <td>1.24981</td>\n      <td>-0.00727</td>\n      <td>-0.58</td>\n      <td>1.26256</td>\n      <td>1.24884</td>\n      <td>1.249725</td>\n    </tr>\n  </tbody>\n</table>\n<p>7171 rows × 18 columns</p>\n</div>",
      "text/plain": "              timestamp deal_type order_type  stop  limit    price  \\\n0     1584100045.375273      stop        buy    10     10  1.25193   \n1     1584100045.480978      stop        buy    10     10  1.25194   \n2     1584100045.680272      stop        buy    10     10  1.25200   \n3     1584100045.953611      stop        buy    10     10  1.25202   \n4     1584100046.104995      stop        buy    10     10  1.25202   \n...                 ...       ...        ...   ...    ...      ...   \n7166  1584102584.117409     limit        buy    10     10  1.24981   \n7167  1584102584.525387     limit        buy    10     10  1.24980   \n7168  1584102584.931247     limit        buy    10     10  1.24981   \n7169  1584102585.325714     limit        buy    10     10  1.24981   \n7170  1584102585.747461     limit        buy    10     10  1.24981   \n\n      stop_price  limit_price  loss_or_profit           datetime  MID_OPEN  \\\n0        1.25093      1.25293          -0.001  20-03-13 11:47:24   1.25699   \n1        1.25094      1.25294          -0.001  20-03-13 11:47:25   1.25699   \n2        1.25100      1.25300          -0.001  20-03-13 11:47:25   1.25699   \n3        1.25102      1.25302          -0.001  20-03-13 11:47:25   1.25699   \n4        1.25102      1.25302          -0.001  20-03-13 11:47:26   1.25699   \n...          ...          ...             ...                ...       ...   \n7166     1.24881      1.25081           0.001  20-03-13 12:24:50   1.25699   \n7167     1.24880      1.25080           0.001  20-03-13 12:24:50   1.25699   \n7168     1.24881      1.25081           0.001  20-03-13 12:24:50   1.25699   \n7169     1.24881      1.25081           0.001  20-03-13 12:24:50   1.25699   \n7170     1.24881      1.25081           0.001  20-03-13 12:24:50   1.25699   \n\n          BID    OFFER   CHANGE  CHANGE_PCT     HIGH      LOW       MID  \n0     1.25176  1.25193 -0.00515       -0.41  1.26256  1.25052  1.251845  \n1     1.25177  1.25194 -0.00513       -0.41  1.26256  1.25052  1.251855  \n2     1.25180  1.25200 -0.00509       -0.40  1.26256  1.25052  1.251900  \n3     1.25184  1.25202 -0.00506       -0.40  1.26256  1.25052  1.251930  \n4     1.25182  1.25202 -0.00507       -0.40  1.26256  1.25052  1.251920  \n...       ...      ...      ...         ...      ...      ...       ...  \n7166  1.24964  1.24981 -0.00727       -0.58  1.26256  1.24884  1.249725  \n7167  1.24963  1.24980 -0.00727       -0.58  1.26256  1.24884  1.249715  \n7168  1.24964  1.24981 -0.00727       -0.58  1.26256  1.24884  1.249725  \n7169  1.24964  1.24981 -0.00726       -0.58  1.26256  1.24884  1.249725  \n7170  1.24964  1.24981 -0.00727       -0.58  1.26256  1.24884  1.249725  \n\n[7171 rows x 18 columns]"
     },
     "execution_count": 11,
     "metadata": {},
     "output_type": "execute_result"
    }
   ],
   "source": [
    "deals_with_price=pd.merge(qualified_deals, price,how=\"left\",on=\"timestamp\",sort=True)\n",
    "deals_with_price['MID']=(deals_with_price['BID']+deals_with_price['OFFER'])/2\n",
    "deals_with_price"
   ]
  },
  {
   "cell_type": "code",
   "execution_count": 32,
   "metadata": {},
   "outputs": [
    {
     "data": {
      "text/plain": "1584100044"
     },
     "execution_count": 32,
     "metadata": {},
     "output_type": "execute_result"
    }
   ],
   "source": [
    "_format='%y-%m-%d %H:%M:%S'\n",
    "\n",
    "def datetime_to_int(x):\n",
    "    return int(dt.strptime(x,_format).timestamp())\n",
    "\n",
    "datetime_to_int('20-03-13 11:47:24')"
   ]
  },
  {
   "cell_type": "code",
   "execution_count": 33,
   "metadata": {},
   "outputs": [
    {
     "data": {
      "text/html": "<div>\n<style scoped>\n    .dataframe tbody tr th:only-of-type {\n        vertical-align: middle;\n    }\n\n    .dataframe tbody tr th {\n        vertical-align: top;\n    }\n\n    .dataframe thead th {\n        text-align: right;\n    }\n</style>\n<table border=\"1\" class=\"dataframe\">\n  <thead>\n    <tr style=\"text-align: right;\">\n      <th></th>\n      <th>timestamp</th>\n      <th>deal_type</th>\n      <th>order_type</th>\n      <th>stop</th>\n      <th>limit</th>\n      <th>price</th>\n      <th>stop_price</th>\n      <th>limit_price</th>\n      <th>loss_or_profit</th>\n      <th>datetime</th>\n      <th>MID_OPEN</th>\n      <th>BID</th>\n      <th>OFFER</th>\n      <th>CHANGE</th>\n      <th>CHANGE_PCT</th>\n      <th>HIGH</th>\n      <th>LOW</th>\n      <th>MID</th>\n      <th>datetime_int</th>\n    </tr>\n  </thead>\n  <tbody>\n    <tr>\n      <th>0</th>\n      <td>1584100045.375273</td>\n      <td>stop</td>\n      <td>buy</td>\n      <td>10</td>\n      <td>10</td>\n      <td>1.25193</td>\n      <td>1.25093</td>\n      <td>1.25293</td>\n      <td>-0.001</td>\n      <td>20-03-13 11:47:24</td>\n      <td>1.25699</td>\n      <td>1.25176</td>\n      <td>1.25193</td>\n      <td>-0.00515</td>\n      <td>-0.41</td>\n      <td>1.26256</td>\n      <td>1.25052</td>\n      <td>1.251845</td>\n      <td>1584100044</td>\n    </tr>\n    <tr>\n      <th>1</th>\n      <td>1584100045.480978</td>\n      <td>stop</td>\n      <td>buy</td>\n      <td>10</td>\n      <td>10</td>\n      <td>1.25194</td>\n      <td>1.25094</td>\n      <td>1.25294</td>\n      <td>-0.001</td>\n      <td>20-03-13 11:47:25</td>\n      <td>1.25699</td>\n      <td>1.25177</td>\n      <td>1.25194</td>\n      <td>-0.00513</td>\n      <td>-0.41</td>\n      <td>1.26256</td>\n      <td>1.25052</td>\n      <td>1.251855</td>\n      <td>1584100045</td>\n    </tr>\n    <tr>\n      <th>2</th>\n      <td>1584100045.680272</td>\n      <td>stop</td>\n      <td>buy</td>\n      <td>10</td>\n      <td>10</td>\n      <td>1.25200</td>\n      <td>1.25100</td>\n      <td>1.25300</td>\n      <td>-0.001</td>\n      <td>20-03-13 11:47:25</td>\n      <td>1.25699</td>\n      <td>1.25180</td>\n      <td>1.25200</td>\n      <td>-0.00509</td>\n      <td>-0.40</td>\n      <td>1.26256</td>\n      <td>1.25052</td>\n      <td>1.251900</td>\n      <td>1584100045</td>\n    </tr>\n    <tr>\n      <th>3</th>\n      <td>1584100045.953611</td>\n      <td>stop</td>\n      <td>buy</td>\n      <td>10</td>\n      <td>10</td>\n      <td>1.25202</td>\n      <td>1.25102</td>\n      <td>1.25302</td>\n      <td>-0.001</td>\n      <td>20-03-13 11:47:25</td>\n      <td>1.25699</td>\n      <td>1.25184</td>\n      <td>1.25202</td>\n      <td>-0.00506</td>\n      <td>-0.40</td>\n      <td>1.26256</td>\n      <td>1.25052</td>\n      <td>1.251930</td>\n      <td>1584100045</td>\n    </tr>\n    <tr>\n      <th>4</th>\n      <td>1584100046.104995</td>\n      <td>stop</td>\n      <td>buy</td>\n      <td>10</td>\n      <td>10</td>\n      <td>1.25202</td>\n      <td>1.25102</td>\n      <td>1.25302</td>\n      <td>-0.001</td>\n      <td>20-03-13 11:47:26</td>\n      <td>1.25699</td>\n      <td>1.25182</td>\n      <td>1.25202</td>\n      <td>-0.00507</td>\n      <td>-0.40</td>\n      <td>1.26256</td>\n      <td>1.25052</td>\n      <td>1.251920</td>\n      <td>1584100046</td>\n    </tr>\n    <tr>\n      <th>...</th>\n      <td>...</td>\n      <td>...</td>\n      <td>...</td>\n      <td>...</td>\n      <td>...</td>\n      <td>...</td>\n      <td>...</td>\n      <td>...</td>\n      <td>...</td>\n      <td>...</td>\n      <td>...</td>\n      <td>...</td>\n      <td>...</td>\n      <td>...</td>\n      <td>...</td>\n      <td>...</td>\n      <td>...</td>\n      <td>...</td>\n      <td>...</td>\n    </tr>\n    <tr>\n      <th>7166</th>\n      <td>1584102584.117409</td>\n      <td>limit</td>\n      <td>buy</td>\n      <td>10</td>\n      <td>10</td>\n      <td>1.24981</td>\n      <td>1.24881</td>\n      <td>1.25081</td>\n      <td>0.001</td>\n      <td>20-03-13 12:24:50</td>\n      <td>1.25699</td>\n      <td>1.24964</td>\n      <td>1.24981</td>\n      <td>-0.00727</td>\n      <td>-0.58</td>\n      <td>1.26256</td>\n      <td>1.24884</td>\n      <td>1.249725</td>\n      <td>1584102290</td>\n    </tr>\n    <tr>\n      <th>7167</th>\n      <td>1584102584.525387</td>\n      <td>limit</td>\n      <td>buy</td>\n      <td>10</td>\n      <td>10</td>\n      <td>1.24980</td>\n      <td>1.24880</td>\n      <td>1.25080</td>\n      <td>0.001</td>\n      <td>20-03-13 12:24:50</td>\n      <td>1.25699</td>\n      <td>1.24963</td>\n      <td>1.24980</td>\n      <td>-0.00727</td>\n      <td>-0.58</td>\n      <td>1.26256</td>\n      <td>1.24884</td>\n      <td>1.249715</td>\n      <td>1584102290</td>\n    </tr>\n    <tr>\n      <th>7168</th>\n      <td>1584102584.931247</td>\n      <td>limit</td>\n      <td>buy</td>\n      <td>10</td>\n      <td>10</td>\n      <td>1.24981</td>\n      <td>1.24881</td>\n      <td>1.25081</td>\n      <td>0.001</td>\n      <td>20-03-13 12:24:50</td>\n      <td>1.25699</td>\n      <td>1.24964</td>\n      <td>1.24981</td>\n      <td>-0.00727</td>\n      <td>-0.58</td>\n      <td>1.26256</td>\n      <td>1.24884</td>\n      <td>1.249725</td>\n      <td>1584102290</td>\n    </tr>\n    <tr>\n      <th>7169</th>\n      <td>1584102585.325714</td>\n      <td>limit</td>\n      <td>buy</td>\n      <td>10</td>\n      <td>10</td>\n      <td>1.24981</td>\n      <td>1.24881</td>\n      <td>1.25081</td>\n      <td>0.001</td>\n      <td>20-03-13 12:24:50</td>\n      <td>1.25699</td>\n      <td>1.24964</td>\n      <td>1.24981</td>\n      <td>-0.00726</td>\n      <td>-0.58</td>\n      <td>1.26256</td>\n      <td>1.24884</td>\n      <td>1.249725</td>\n      <td>1584102290</td>\n    </tr>\n    <tr>\n      <th>7170</th>\n      <td>1584102585.747461</td>\n      <td>limit</td>\n      <td>buy</td>\n      <td>10</td>\n      <td>10</td>\n      <td>1.24981</td>\n      <td>1.24881</td>\n      <td>1.25081</td>\n      <td>0.001</td>\n      <td>20-03-13 12:24:50</td>\n      <td>1.25699</td>\n      <td>1.24964</td>\n      <td>1.24981</td>\n      <td>-0.00727</td>\n      <td>-0.58</td>\n      <td>1.26256</td>\n      <td>1.24884</td>\n      <td>1.249725</td>\n      <td>1584102290</td>\n    </tr>\n  </tbody>\n</table>\n<p>7171 rows × 19 columns</p>\n</div>",
      "text/plain": "              timestamp deal_type order_type  stop  limit    price  \\\n0     1584100045.375273      stop        buy    10     10  1.25193   \n1     1584100045.480978      stop        buy    10     10  1.25194   \n2     1584100045.680272      stop        buy    10     10  1.25200   \n3     1584100045.953611      stop        buy    10     10  1.25202   \n4     1584100046.104995      stop        buy    10     10  1.25202   \n...                 ...       ...        ...   ...    ...      ...   \n7166  1584102584.117409     limit        buy    10     10  1.24981   \n7167  1584102584.525387     limit        buy    10     10  1.24980   \n7168  1584102584.931247     limit        buy    10     10  1.24981   \n7169  1584102585.325714     limit        buy    10     10  1.24981   \n7170  1584102585.747461     limit        buy    10     10  1.24981   \n\n      stop_price  limit_price  loss_or_profit           datetime  MID_OPEN  \\\n0        1.25093      1.25293          -0.001  20-03-13 11:47:24   1.25699   \n1        1.25094      1.25294          -0.001  20-03-13 11:47:25   1.25699   \n2        1.25100      1.25300          -0.001  20-03-13 11:47:25   1.25699   \n3        1.25102      1.25302          -0.001  20-03-13 11:47:25   1.25699   \n4        1.25102      1.25302          -0.001  20-03-13 11:47:26   1.25699   \n...          ...          ...             ...                ...       ...   \n7166     1.24881      1.25081           0.001  20-03-13 12:24:50   1.25699   \n7167     1.24880      1.25080           0.001  20-03-13 12:24:50   1.25699   \n7168     1.24881      1.25081           0.001  20-03-13 12:24:50   1.25699   \n7169     1.24881      1.25081           0.001  20-03-13 12:24:50   1.25699   \n7170     1.24881      1.25081           0.001  20-03-13 12:24:50   1.25699   \n\n          BID    OFFER   CHANGE  CHANGE_PCT     HIGH      LOW       MID  \\\n0     1.25176  1.25193 -0.00515       -0.41  1.26256  1.25052  1.251845   \n1     1.25177  1.25194 -0.00513       -0.41  1.26256  1.25052  1.251855   \n2     1.25180  1.25200 -0.00509       -0.40  1.26256  1.25052  1.251900   \n3     1.25184  1.25202 -0.00506       -0.40  1.26256  1.25052  1.251930   \n4     1.25182  1.25202 -0.00507       -0.40  1.26256  1.25052  1.251920   \n...       ...      ...      ...         ...      ...      ...       ...   \n7166  1.24964  1.24981 -0.00727       -0.58  1.26256  1.24884  1.249725   \n7167  1.24963  1.24980 -0.00727       -0.58  1.26256  1.24884  1.249715   \n7168  1.24964  1.24981 -0.00727       -0.58  1.26256  1.24884  1.249725   \n7169  1.24964  1.24981 -0.00726       -0.58  1.26256  1.24884  1.249725   \n7170  1.24964  1.24981 -0.00727       -0.58  1.26256  1.24884  1.249725   \n\n      datetime_int  \n0       1584100044  \n1       1584100045  \n2       1584100045  \n3       1584100045  \n4       1584100046  \n...            ...  \n7166    1584102290  \n7167    1584102290  \n7168    1584102290  \n7169    1584102290  \n7170    1584102290  \n\n[7171 rows x 19 columns]"
     },
     "execution_count": 33,
     "metadata": {},
     "output_type": "execute_result"
    }
   ],
   "source": [
    "from datetime import datetime as dt\n",
    "deals_with_price['datetime_int']=deals_with_price['datetime'].apply(datetime_to_int)\n",
    "deals_with_price"
   ]
  },
  {
   "cell_type": "code",
   "execution_count": 34,
   "metadata": {},
   "outputs": [
    {
     "data": {
      "text/html": "<div>\n<style scoped>\n    .dataframe tbody tr th:only-of-type {\n        vertical-align: middle;\n    }\n\n    .dataframe tbody tr th {\n        vertical-align: top;\n    }\n\n    .dataframe thead th {\n        text-align: right;\n    }\n</style>\n<table border=\"1\" class=\"dataframe\">\n  <thead>\n    <tr style=\"text-align: right;\">\n      <th></th>\n      <th>datetime</th>\n      <th>BID</th>\n      <th>OFFER</th>\n      <th>datetime_int</th>\n      <th>MID</th>\n    </tr>\n  </thead>\n  <tbody>\n    <tr>\n      <th>0</th>\n      <td>20-03-13 11:47:24</td>\n      <td>1.251760</td>\n      <td>1.251930</td>\n      <td>1584100044</td>\n      <td>1.251845</td>\n    </tr>\n    <tr>\n      <th>1</th>\n      <td>20-03-13 11:47:25</td>\n      <td>1.251803</td>\n      <td>1.251987</td>\n      <td>1584100045</td>\n      <td>1.251895</td>\n    </tr>\n    <tr>\n      <th>2</th>\n      <td>20-03-13 11:47:26</td>\n      <td>1.251812</td>\n      <td>1.252033</td>\n      <td>1584100046</td>\n      <td>1.251923</td>\n    </tr>\n    <tr>\n      <th>3</th>\n      <td>20-03-13 11:47:27</td>\n      <td>1.251766</td>\n      <td>1.251976</td>\n      <td>1584100047</td>\n      <td>1.251871</td>\n    </tr>\n    <tr>\n      <th>4</th>\n      <td>20-03-13 11:47:28</td>\n      <td>1.251683</td>\n      <td>1.251903</td>\n      <td>1584100048</td>\n      <td>1.251793</td>\n    </tr>\n    <tr>\n      <th>...</th>\n      <td>...</td>\n      <td>...</td>\n      <td>...</td>\n      <td>...</td>\n      <td>...</td>\n    </tr>\n    <tr>\n      <th>1824</th>\n      <td>20-03-13 12:24:46</td>\n      <td>1.249650</td>\n      <td>1.249828</td>\n      <td>1584102286</td>\n      <td>1.249739</td>\n    </tr>\n    <tr>\n      <th>1825</th>\n      <td>20-03-13 12:24:47</td>\n      <td>1.249620</td>\n      <td>1.249800</td>\n      <td>1584102287</td>\n      <td>1.249710</td>\n    </tr>\n    <tr>\n      <th>1826</th>\n      <td>20-03-13 12:24:48</td>\n      <td>1.249616</td>\n      <td>1.249786</td>\n      <td>1584102288</td>\n      <td>1.249701</td>\n    </tr>\n    <tr>\n      <th>1827</th>\n      <td>20-03-13 12:24:49</td>\n      <td>1.249602</td>\n      <td>1.249777</td>\n      <td>1584102289</td>\n      <td>1.249690</td>\n    </tr>\n    <tr>\n      <th>1828</th>\n      <td>20-03-13 12:24:50</td>\n      <td>1.249630</td>\n      <td>1.249800</td>\n      <td>1584102290</td>\n      <td>1.249715</td>\n    </tr>\n  </tbody>\n</table>\n<p>1829 rows × 5 columns</p>\n</div>",
      "text/plain": "               datetime       BID     OFFER  datetime_int       MID\n0     20-03-13 11:47:24  1.251760  1.251930    1584100044  1.251845\n1     20-03-13 11:47:25  1.251803  1.251987    1584100045  1.251895\n2     20-03-13 11:47:26  1.251812  1.252033    1584100046  1.251923\n3     20-03-13 11:47:27  1.251766  1.251976    1584100047  1.251871\n4     20-03-13 11:47:28  1.251683  1.251903    1584100048  1.251793\n...                 ...       ...       ...           ...       ...\n1824  20-03-13 12:24:46  1.249650  1.249828    1584102286  1.249739\n1825  20-03-13 12:24:47  1.249620  1.249800    1584102287  1.249710\n1826  20-03-13 12:24:48  1.249616  1.249786    1584102288  1.249701\n1827  20-03-13 12:24:49  1.249602  1.249777    1584102289  1.249690\n1828  20-03-13 12:24:50  1.249630  1.249800    1584102290  1.249715\n\n[1829 rows x 5 columns]"
     },
     "execution_count": 34,
     "metadata": {},
     "output_type": "execute_result"
    }
   ],
   "source": [
    "mean_price_each_second=deals_with_price[['datetime','BID','OFFER']].groupby('datetime').mean().reset_index()\n",
    "mean_price_each_second['datetime_int']=mean_price_each_second['datetime'].apply(datetime_to_int)\n",
    "mean_price_each_second['MID']=(mean_price_each_second['BID']+mean_price_each_second['OFFER'])/2\n",
    "mean_price_each_second"
   ]
  },
  {
   "cell_type": "code",
   "execution_count": 35,
   "metadata": {},
   "outputs": [
    {
     "data": {
      "text/plain": "array([  -1,   -2,   -3,   -4,   -5,   -6,   -7,   -8,   -9,  -10,  -11,\n        -12,  -13,  -14,  -15,  -16,  -17,  -18,  -19,  -20,  -21,  -22,\n        -23,  -24,  -25,  -26,  -27,  -28,  -29,  -30,  -31,  -32,  -33,\n        -34,  -35,  -36,  -37,  -38,  -39,  -40,  -41,  -42,  -43,  -44,\n        -45,  -46,  -47,  -48,  -49,  -50,  -51,  -52,  -53,  -54,  -55,\n        -56,  -57,  -58,  -59,  -60, -120, -180, -240, -300, -360, -420,\n       -480, -540])"
     },
     "execution_count": 35,
     "metadata": {},
     "output_type": "execute_result"
    }
   ],
   "source": [
    "import numpy as np\n",
    "timepoints=np.concatenate(\n",
    "    (np.arange(-1,-60,-1),\n",
    "    np.arange(-60,-600,-60))\n",
    ")\n",
    "timepoints"
   ]
  },
  {
   "cell_type": "code",
   "execution_count": 36,
   "metadata": {},
   "outputs": [
    {
     "data": {
      "text/plain": "1.251793333333333"
     },
     "execution_count": 36,
     "metadata": {},
     "output_type": "execute_result"
    }
   ],
   "source": [
    "mean_price_each_second.query('datetime_int==%s' % 1584100048)['MID'].values[0]"
   ]
  },
  {
   "cell_type": "code",
   "execution_count": 37,
   "metadata": {},
   "outputs": [
    {
     "data": {
      "text/html": "<div>\n<style scoped>\n    .dataframe tbody tr th:only-of-type {\n        vertical-align: middle;\n    }\n\n    .dataframe tbody tr th {\n        vertical-align: top;\n    }\n\n    .dataframe thead th {\n        text-align: right;\n    }\n</style>\n<table border=\"1\" class=\"dataframe\">\n  <thead>\n    <tr style=\"text-align: right;\">\n      <th></th>\n      <th>BID_TO_OPEN_PCT</th>\n      <th>OFFER_TO_OPEN_PCT</th>\n      <th>MID_TO_HIGH_PCT</th>\n      <th>MID_TO_LOW_PCT</th>\n    </tr>\n  </thead>\n  <tbody>\n    <tr>\n      <th>0</th>\n      <td>-0.416073</td>\n      <td>-0.402549</td>\n      <td>-0.848673</td>\n      <td>0.105956</td>\n    </tr>\n    <tr>\n      <th>1</th>\n      <td>-0.415278</td>\n      <td>-0.401753</td>\n      <td>-0.847880</td>\n      <td>0.106756</td>\n    </tr>\n    <tr>\n      <th>2</th>\n      <td>-0.412891</td>\n      <td>-0.396980</td>\n      <td>-0.844316</td>\n      <td>0.110354</td>\n    </tr>\n    <tr>\n      <th>3</th>\n      <td>-0.409709</td>\n      <td>-0.395389</td>\n      <td>-0.841940</td>\n      <td>0.112753</td>\n    </tr>\n    <tr>\n      <th>4</th>\n      <td>-0.411300</td>\n      <td>-0.395389</td>\n      <td>-0.842732</td>\n      <td>0.111953</td>\n    </tr>\n    <tr>\n      <th>...</th>\n      <td>...</td>\n      <td>...</td>\n      <td>...</td>\n      <td>...</td>\n    </tr>\n    <tr>\n      <th>7166</th>\n      <td>-0.584730</td>\n      <td>-0.571206</td>\n      <td>-1.016585</td>\n      <td>0.070866</td>\n    </tr>\n    <tr>\n      <th>7167</th>\n      <td>-0.585526</td>\n      <td>-0.572001</td>\n      <td>-1.017377</td>\n      <td>0.070065</td>\n    </tr>\n    <tr>\n      <th>7168</th>\n      <td>-0.584730</td>\n      <td>-0.571206</td>\n      <td>-1.016585</td>\n      <td>0.070866</td>\n    </tr>\n    <tr>\n      <th>7169</th>\n      <td>-0.584730</td>\n      <td>-0.571206</td>\n      <td>-1.016585</td>\n      <td>0.070866</td>\n    </tr>\n    <tr>\n      <th>7170</th>\n      <td>-0.584730</td>\n      <td>-0.571206</td>\n      <td>-1.016585</td>\n      <td>0.070866</td>\n    </tr>\n  </tbody>\n</table>\n<p>7171 rows × 4 columns</p>\n</div>",
      "text/plain": "      BID_TO_OPEN_PCT  OFFER_TO_OPEN_PCT  MID_TO_HIGH_PCT  MID_TO_LOW_PCT\n0           -0.416073          -0.402549        -0.848673        0.105956\n1           -0.415278          -0.401753        -0.847880        0.106756\n2           -0.412891          -0.396980        -0.844316        0.110354\n3           -0.409709          -0.395389        -0.841940        0.112753\n4           -0.411300          -0.395389        -0.842732        0.111953\n...               ...                ...              ...             ...\n7166        -0.584730          -0.571206        -1.016585        0.070866\n7167        -0.585526          -0.572001        -1.017377        0.070065\n7168        -0.584730          -0.571206        -1.016585        0.070866\n7169        -0.584730          -0.571206        -1.016585        0.070866\n7170        -0.584730          -0.571206        -1.016585        0.070866\n\n[7171 rows x 4 columns]"
     },
     "execution_count": 37,
     "metadata": {},
     "output_type": "execute_result"
    }
   ],
   "source": [
    "training_data=pd.DataFrame(data=None)\n",
    "# training_data['BID_CHANGE']=deals_with_price['BID']-deals_with_price['MID_OPEN']\n",
    "training_data['BID_TO_OPEN_PCT']=(deals_with_price['BID']/deals_with_price['MID_OPEN']-1)*100\n",
    "# training_data['OFFER_CHANGE']=deals_with_price['OFFER']-deals_with_price['MID_OPEN']\n",
    "training_data['OFFER_TO_OPEN_PCT']=(deals_with_price['OFFER']/deals_with_price['MID_OPEN']-1)*100\n",
    "# training_data['HIGH_TO_OPEN']=deals_with_price['HIGH']-deals_with_price['MID_OPEN']\n",
    "training_data['MID_TO_HIGH_PCT']=((deals_with_price['BID']+deals_with_price['OFFER'])/2/deals_with_price['HIGH']-1)*100\n",
    "# training_data['LOW_TO_OPEN']=deals_with_price['LOW']-deals_with_price['MID_OPEN']\n",
    "training_data['MID_TO_LOW_PCT']=((deals_with_price['BID']+deals_with_price['OFFER'])/2/deals_with_price['LOW']-1)*100\n",
    "\n",
    "training_data"
   ]
  },
  {
   "cell_type": "code",
   "execution_count": 38,
   "metadata": {},
   "outputs": [],
   "source": [
    "def get_mid_at_timepoint(row,timepoint):\n",
    "    _timestamp=row['datetime_int']+timepoint\n",
    "    mid=row['MID']\n",
    "    values=mean_price_each_second.query('datetime_int==%s' % _timestamp)['MID'].values\n",
    "    if len(values)>0:\n",
    "        mid_old=values[0]\n",
    "        return (mid/mid_old-1)*100\n",
    "    else:\n",
    "        return\n",
    "\n",
    "for t in timepoints:    \n",
    "    training_data['CHANGE_PCT'+str(t)]=deals_with_price.apply(lambda x:get_mid_at_timepoint(x,t),axis=1)\n"
   ]
  },
  {
   "cell_type": "code",
   "execution_count": 39,
   "metadata": {},
   "outputs": [],
   "source": [
    "# training_data.drop('profit',axis=1,inplace=True)"
   ]
  },
  {
   "cell_type": "code",
   "execution_count": 40,
   "metadata": {},
   "outputs": [
    {
     "data": {
      "text/html": "<div>\n<style scoped>\n    .dataframe tbody tr th:only-of-type {\n        vertical-align: middle;\n    }\n\n    .dataframe tbody tr th {\n        vertical-align: top;\n    }\n\n    .dataframe thead th {\n        text-align: right;\n    }\n</style>\n<table border=\"1\" class=\"dataframe\">\n  <thead>\n    <tr style=\"text-align: right;\">\n      <th></th>\n      <th>BID_TO_OPEN_PCT</th>\n      <th>OFFER_TO_OPEN_PCT</th>\n      <th>MID_TO_HIGH_PCT</th>\n      <th>MID_TO_LOW_PCT</th>\n      <th>CHANGE_PCT-1</th>\n      <th>CHANGE_PCT-2</th>\n      <th>CHANGE_PCT-3</th>\n      <th>CHANGE_PCT-4</th>\n      <th>CHANGE_PCT-5</th>\n      <th>CHANGE_PCT-6</th>\n      <th>...</th>\n      <th>CHANGE_PCT-59</th>\n      <th>CHANGE_PCT-60</th>\n      <th>CHANGE_PCT-120</th>\n      <th>CHANGE_PCT-180</th>\n      <th>CHANGE_PCT-240</th>\n      <th>CHANGE_PCT-300</th>\n      <th>CHANGE_PCT-360</th>\n      <th>CHANGE_PCT-420</th>\n      <th>CHANGE_PCT-480</th>\n      <th>CHANGE_PCT-540</th>\n    </tr>\n  </thead>\n  <tbody>\n    <tr>\n      <th>1000</th>\n      <td>-0.499606</td>\n      <td>-0.485286</td>\n      <td>-0.931441</td>\n      <td>0.029590</td>\n      <td>-0.001199</td>\n      <td>-0.001199</td>\n      <td>0.000933</td>\n      <td>-0.001199</td>\n      <td>0.000000</td>\n      <td>-0.000999</td>\n      <td>...</td>\n      <td>0.002998</td>\n      <td>0.003898</td>\n      <td>0.000266</td>\n      <td>-0.061123</td>\n      <td>-0.077091</td>\n      <td>NaN</td>\n      <td>NaN</td>\n      <td>NaN</td>\n      <td>NaN</td>\n      <td>NaN</td>\n    </tr>\n    <tr>\n      <th>1001</th>\n      <td>-0.499606</td>\n      <td>-0.484491</td>\n      <td>-0.931045</td>\n      <td>0.029990</td>\n      <td>-0.000799</td>\n      <td>-0.000799</td>\n      <td>0.001332</td>\n      <td>-0.000799</td>\n      <td>0.000400</td>\n      <td>-0.000600</td>\n      <td>...</td>\n      <td>0.003398</td>\n      <td>0.004297</td>\n      <td>0.000666</td>\n      <td>-0.060724</td>\n      <td>-0.076692</td>\n      <td>NaN</td>\n      <td>NaN</td>\n      <td>NaN</td>\n      <td>NaN</td>\n      <td>NaN</td>\n    </tr>\n    <tr>\n      <th>1002</th>\n      <td>-0.500402</td>\n      <td>-0.485286</td>\n      <td>-0.931837</td>\n      <td>0.029190</td>\n      <td>-0.000700</td>\n      <td>-0.001599</td>\n      <td>-0.001599</td>\n      <td>0.000533</td>\n      <td>-0.001599</td>\n      <td>-0.000400</td>\n      <td>...</td>\n      <td>0.001279</td>\n      <td>0.002598</td>\n      <td>0.003598</td>\n      <td>-0.060724</td>\n      <td>-0.076692</td>\n      <td>NaN</td>\n      <td>NaN</td>\n      <td>NaN</td>\n      <td>NaN</td>\n      <td>NaN</td>\n    </tr>\n    <tr>\n      <th>1003</th>\n      <td>-0.500402</td>\n      <td>-0.484491</td>\n      <td>-0.931441</td>\n      <td>0.029590</td>\n      <td>-0.000300</td>\n      <td>-0.001199</td>\n      <td>-0.001199</td>\n      <td>0.000933</td>\n      <td>-0.001199</td>\n      <td>0.000000</td>\n      <td>...</td>\n      <td>0.001679</td>\n      <td>0.002998</td>\n      <td>0.003998</td>\n      <td>-0.060325</td>\n      <td>-0.076293</td>\n      <td>NaN</td>\n      <td>NaN</td>\n      <td>NaN</td>\n      <td>NaN</td>\n      <td>NaN</td>\n    </tr>\n    <tr>\n      <th>1004</th>\n      <td>-0.500402</td>\n      <td>-0.483695</td>\n      <td>-0.931045</td>\n      <td>0.029990</td>\n      <td>0.000600</td>\n      <td>0.000100</td>\n      <td>-0.000799</td>\n      <td>-0.000799</td>\n      <td>0.001332</td>\n      <td>-0.000799</td>\n      <td>...</td>\n      <td>0.002199</td>\n      <td>0.002079</td>\n      <td>0.002265</td>\n      <td>-0.060724</td>\n      <td>-0.075295</td>\n      <td>NaN</td>\n      <td>NaN</td>\n      <td>NaN</td>\n      <td>NaN</td>\n      <td>NaN</td>\n    </tr>\n    <tr>\n      <th>...</th>\n      <td>...</td>\n      <td>...</td>\n      <td>...</td>\n      <td>...</td>\n      <td>...</td>\n      <td>...</td>\n      <td>...</td>\n      <td>...</td>\n      <td>...</td>\n      <td>...</td>\n      <td>...</td>\n      <td>...</td>\n      <td>...</td>\n      <td>...</td>\n      <td>...</td>\n      <td>...</td>\n      <td>...</td>\n      <td>...</td>\n      <td>...</td>\n      <td>...</td>\n      <td>...</td>\n    </tr>\n    <tr>\n      <th>1095</th>\n      <td>-0.496424</td>\n      <td>-0.482900</td>\n      <td>-0.928669</td>\n      <td>0.032389</td>\n      <td>0.000400</td>\n      <td>0.000533</td>\n      <td>-0.000160</td>\n      <td>0.000400</td>\n      <td>-0.001999</td>\n      <td>NaN</td>\n      <td>...</td>\n      <td>0.003198</td>\n      <td>0.003598</td>\n      <td>0.010794</td>\n      <td>0.006316</td>\n      <td>-0.065114</td>\n      <td>-0.084173</td>\n      <td>NaN</td>\n      <td>NaN</td>\n      <td>NaN</td>\n      <td>NaN</td>\n    </tr>\n    <tr>\n      <th>1096</th>\n      <td>-0.497220</td>\n      <td>-0.483695</td>\n      <td>-0.929461</td>\n      <td>0.031589</td>\n      <td>-0.001599</td>\n      <td>-0.000400</td>\n      <td>-0.000266</td>\n      <td>-0.000959</td>\n      <td>-0.000400</td>\n      <td>-0.002798</td>\n      <td>...</td>\n      <td>0.003038</td>\n      <td>0.002398</td>\n      <td>0.006929</td>\n      <td>0.003358</td>\n      <td>-0.065780</td>\n      <td>-0.083874</td>\n      <td>NaN</td>\n      <td>NaN</td>\n      <td>NaN</td>\n      <td>NaN</td>\n    </tr>\n    <tr>\n      <th>1097</th>\n      <td>-0.491651</td>\n      <td>-0.478126</td>\n      <td>-0.923916</td>\n      <td>0.037187</td>\n      <td>0.005596</td>\n      <td>0.003997</td>\n      <td>0.005197</td>\n      <td>0.005330</td>\n      <td>0.004637</td>\n      <td>0.005197</td>\n      <td>...</td>\n      <td>0.010394</td>\n      <td>0.008635</td>\n      <td>0.013492</td>\n      <td>0.007675</td>\n      <td>-0.059123</td>\n      <td>-0.076819</td>\n      <td>NaN</td>\n      <td>NaN</td>\n      <td>NaN</td>\n      <td>NaN</td>\n    </tr>\n    <tr>\n      <th>1098</th>\n      <td>-0.496424</td>\n      <td>-0.482900</td>\n      <td>-0.928669</td>\n      <td>0.032389</td>\n      <td>0.000799</td>\n      <td>-0.000799</td>\n      <td>0.000400</td>\n      <td>0.000533</td>\n      <td>-0.000160</td>\n      <td>0.000400</td>\n      <td>...</td>\n      <td>0.005597</td>\n      <td>0.003838</td>\n      <td>0.008695</td>\n      <td>0.002878</td>\n      <td>-0.063916</td>\n      <td>-0.081612</td>\n      <td>NaN</td>\n      <td>NaN</td>\n      <td>NaN</td>\n      <td>NaN</td>\n    </tr>\n    <tr>\n      <th>1099</th>\n      <td>-0.496424</td>\n      <td>-0.482900</td>\n      <td>-0.928669</td>\n      <td>0.032389</td>\n      <td>0.000799</td>\n      <td>-0.000799</td>\n      <td>0.000400</td>\n      <td>0.000533</td>\n      <td>-0.000160</td>\n      <td>0.000400</td>\n      <td>...</td>\n      <td>0.005597</td>\n      <td>0.003838</td>\n      <td>0.008695</td>\n      <td>0.002878</td>\n      <td>-0.063916</td>\n      <td>-0.081612</td>\n      <td>NaN</td>\n      <td>NaN</td>\n      <td>NaN</td>\n      <td>NaN</td>\n    </tr>\n  </tbody>\n</table>\n<p>100 rows × 72 columns</p>\n</div>",
      "text/plain": "      BID_TO_OPEN_PCT  OFFER_TO_OPEN_PCT  MID_TO_HIGH_PCT  MID_TO_LOW_PCT  \\\n1000        -0.499606          -0.485286        -0.931441        0.029590   \n1001        -0.499606          -0.484491        -0.931045        0.029990   \n1002        -0.500402          -0.485286        -0.931837        0.029190   \n1003        -0.500402          -0.484491        -0.931441        0.029590   \n1004        -0.500402          -0.483695        -0.931045        0.029990   \n...               ...                ...              ...             ...   \n1095        -0.496424          -0.482900        -0.928669        0.032389   \n1096        -0.497220          -0.483695        -0.929461        0.031589   \n1097        -0.491651          -0.478126        -0.923916        0.037187   \n1098        -0.496424          -0.482900        -0.928669        0.032389   \n1099        -0.496424          -0.482900        -0.928669        0.032389   \n\n      CHANGE_PCT-1  CHANGE_PCT-2  CHANGE_PCT-3  CHANGE_PCT-4  CHANGE_PCT-5  \\\n1000     -0.001199     -0.001199      0.000933     -0.001199      0.000000   \n1001     -0.000799     -0.000799      0.001332     -0.000799      0.000400   \n1002     -0.000700     -0.001599     -0.001599      0.000533     -0.001599   \n1003     -0.000300     -0.001199     -0.001199      0.000933     -0.001199   \n1004      0.000600      0.000100     -0.000799     -0.000799      0.001332   \n...            ...           ...           ...           ...           ...   \n1095      0.000400      0.000533     -0.000160      0.000400     -0.001999   \n1096     -0.001599     -0.000400     -0.000266     -0.000959     -0.000400   \n1097      0.005596      0.003997      0.005197      0.005330      0.004637   \n1098      0.000799     -0.000799      0.000400      0.000533     -0.000160   \n1099      0.000799     -0.000799      0.000400      0.000533     -0.000160   \n\n      CHANGE_PCT-6  ...  CHANGE_PCT-59  CHANGE_PCT-60  CHANGE_PCT-120  \\\n1000     -0.000999  ...       0.002998       0.003898        0.000266   \n1001     -0.000600  ...       0.003398       0.004297        0.000666   \n1002     -0.000400  ...       0.001279       0.002598        0.003598   \n1003      0.000000  ...       0.001679       0.002998        0.003998   \n1004     -0.000799  ...       0.002199       0.002079        0.002265   \n...            ...  ...            ...            ...             ...   \n1095           NaN  ...       0.003198       0.003598        0.010794   \n1096     -0.002798  ...       0.003038       0.002398        0.006929   \n1097      0.005197  ...       0.010394       0.008635        0.013492   \n1098      0.000400  ...       0.005597       0.003838        0.008695   \n1099      0.000400  ...       0.005597       0.003838        0.008695   \n\n      CHANGE_PCT-180  CHANGE_PCT-240  CHANGE_PCT-300  CHANGE_PCT-360  \\\n1000       -0.061123       -0.077091             NaN             NaN   \n1001       -0.060724       -0.076692             NaN             NaN   \n1002       -0.060724       -0.076692             NaN             NaN   \n1003       -0.060325       -0.076293             NaN             NaN   \n1004       -0.060724       -0.075295             NaN             NaN   \n...              ...             ...             ...             ...   \n1095        0.006316       -0.065114       -0.084173             NaN   \n1096        0.003358       -0.065780       -0.083874             NaN   \n1097        0.007675       -0.059123       -0.076819             NaN   \n1098        0.002878       -0.063916       -0.081612             NaN   \n1099        0.002878       -0.063916       -0.081612             NaN   \n\n      CHANGE_PCT-420  CHANGE_PCT-480  CHANGE_PCT-540  \n1000             NaN             NaN             NaN  \n1001             NaN             NaN             NaN  \n1002             NaN             NaN             NaN  \n1003             NaN             NaN             NaN  \n1004             NaN             NaN             NaN  \n...              ...             ...             ...  \n1095             NaN             NaN             NaN  \n1096             NaN             NaN             NaN  \n1097             NaN             NaN             NaN  \n1098             NaN             NaN             NaN  \n1099             NaN             NaN             NaN  \n\n[100 rows x 72 columns]"
     },
     "execution_count": 40,
     "metadata": {},
     "output_type": "execute_result"
    }
   ],
   "source": [
    "training_data[1000:1100]"
   ]
  },
  {
   "cell_type": "code",
   "execution_count": 52,
   "metadata": {},
   "outputs": [],
   "source": [
    "training_data.fillna(method='backfill',inplace=True)\n",
    "training_data.fillna(method='pad',inplace=True)"
   ]
  },
  {
   "cell_type": "code",
   "execution_count": 53,
   "metadata": {},
   "outputs": [
    {
     "data": {
      "text/plain": "0       0\n1       0\n2       0\n3       0\n4       0\n       ..\n7166    1\n7167    1\n7168    1\n7169    1\n7170    1\nName: deal_type, Length: 7171, dtype: int64"
     },
     "execution_count": 53,
     "metadata": {},
     "output_type": "execute_result"
    }
   ],
   "source": [
    "labels=deals_with_price['deal_type'].apply(lambda x:1 if x=='limit' else 0)\n",
    "labels"
   ]
  },
  {
   "cell_type": "code",
   "execution_count": 76,
   "metadata": {},
   "outputs": [],
   "source": [
    "count=len(training_data)\n",
    "\n",
    "import math\n",
    "training=math.floor(0.7*count)\n",
    "test=math.floor(0.15*count)\n",
    "validation=math.floor(0.15*count)\n",
    "evaluation=math.floor(0.2*count)"
   ]
  },
  {
   "cell_type": "code",
   "execution_count": 95,
   "metadata": {},
   "outputs": [
    {
     "data": {
      "text/plain": "5019"
     },
     "execution_count": 95,
     "metadata": {},
     "output_type": "execute_result"
    }
   ],
   "source": [
    "training_data_set=training_data[0:training]\n",
    "training_labels=labels[0:training]\n",
    "len(training_data_set)"
   ]
  },
  {
   "cell_type": "code",
   "execution_count": 93,
   "metadata": {},
   "outputs": [
    {
     "data": {
      "text/plain": "1074"
     },
     "execution_count": 93,
     "metadata": {},
     "output_type": "execute_result"
    }
   ],
   "source": [
    "test_data_set=training_data[(training+1):(training+test)]\n",
    "test_labels=labels[(training+1):(training+test)]\n",
    "len(test_data_set)"
   ]
  },
  {
   "cell_type": "code",
   "execution_count": 78,
   "metadata": {},
   "outputs": [
    {
     "data": {
      "text/plain": "1076"
     },
     "execution_count": 78,
     "metadata": {},
     "output_type": "execute_result"
    }
   ],
   "source": [
    "validation_data_set=training_data[(training+test+1):]\n",
    "validation_labels=labels[(training+test+1):]\n",
    "len(validation_data_set)"
   ]
  },
  {
   "cell_type": "code",
   "execution_count": 101,
   "metadata": {},
   "outputs": [],
   "source": [
    "training_data_set.to_csv('../data/training_data.csv',header=None,index=False)\n",
    "test_data_set.to_csv('../data/test_data.csv',header=None,index=False)\n",
    "validation_data_set.to_csv('../data/validation_data.csv',header=None,index=False)"
   ]
  },
  {
   "cell_type": "code",
   "execution_count": 96,
   "metadata": {},
   "outputs": [],
   "source": [
    "training_data_np=training_data_set.to_numpy().astype('float32')\n",
    "training_labels_np=training_labels.to_numpy().astype('float32')\n",
    "\n",
    "test_data_np=test_data_set.to_numpy().astype('float32')\n",
    "test_labels_np=test_labels.to_numpy().astype('float32')\n",
    "\n",
    "validation_data_np=validation_data_set.to_numpy().astype('float32')\n",
    "validation_labels_np=validation_labels.to_numpy().astype('float32')"
   ]
  },
  {
   "cell_type": "code",
   "execution_count": 86,
   "metadata": {},
   "outputs": [],
   "source": [
    "import io\n",
    "import sagemaker.amazon.common as smac\n",
    "import boto3\n",
    "session=boto3.Session(profile_name='ml-lab')"
   ]
  },
  {
   "cell_type": "code",
   "execution_count": 97,
   "metadata": {},
   "outputs": [],
   "source": [
    "buf = io.BytesIO()\n",
    "smac.write_numpy_to_dense_tensor(buf, training_data_np, training_labels_np)\n",
    "buf.seek(0)\n",
    "session.resource('s3').Bucket(BUCKET).Object('training_data.io').upload_fileobj(buf)"
   ]
  },
  {
   "cell_type": "code",
   "execution_count": 98,
   "metadata": {},
   "outputs": [],
   "source": [
    "buf = io.BytesIO()\n",
    "smac.write_numpy_to_dense_tensor(buf, test_data_np, test_labels_np)\n",
    "buf.seek(0)\n",
    "session.resource('s3').Bucket(BUCKET).Object('test_data.io').upload_fileobj(buf)"
   ]
  },
  {
   "cell_type": "code",
   "execution_count": 99,
   "metadata": {},
   "outputs": [],
   "source": [
    "buf = io.BytesIO()\n",
    "smac.write_numpy_to_dense_tensor(buf, validation_data_np, validation_labels_np)\n",
    "buf.seek(0)\n",
    "session.resource('s3').Bucket(BUCKET).Object('validation_data.io').upload_fileobj(buf)"
   ]
  },
  {
   "cell_type": "code",
   "execution_count": 58,
   "metadata": {},
   "outputs": [
    {
     "data": {
      "text/html": "<div>\n<style scoped>\n    .dataframe tbody tr th:only-of-type {\n        vertical-align: middle;\n    }\n\n    .dataframe tbody tr th {\n        vertical-align: top;\n    }\n\n    .dataframe thead th {\n        text-align: right;\n    }\n</style>\n<table border=\"1\" class=\"dataframe\">\n  <thead>\n    <tr style=\"text-align: right;\">\n      <th></th>\n      <th>BID_TO_OPEN_PCT</th>\n      <th>OFFER_TO_OPEN_PCT</th>\n      <th>MID_TO_HIGH_PCT</th>\n      <th>MID_TO_LOW_PCT</th>\n      <th>CHANGE_PCT-1</th>\n      <th>CHANGE_PCT-2</th>\n      <th>CHANGE_PCT-3</th>\n      <th>CHANGE_PCT-4</th>\n      <th>CHANGE_PCT-5</th>\n      <th>CHANGE_PCT-6</th>\n      <th>...</th>\n      <th>CHANGE_PCT-60</th>\n      <th>CHANGE_PCT-120</th>\n      <th>CHANGE_PCT-180</th>\n      <th>CHANGE_PCT-240</th>\n      <th>CHANGE_PCT-300</th>\n      <th>CHANGE_PCT-360</th>\n      <th>CHANGE_PCT-420</th>\n      <th>CHANGE_PCT-480</th>\n      <th>CHANGE_PCT-540</th>\n      <th>profit</th>\n    </tr>\n  </thead>\n  <tbody>\n    <tr>\n      <th>5737</th>\n      <td>-0.481309</td>\n      <td>-0.466989</td>\n      <td>-0.913224</td>\n      <td>0.051184</td>\n      <td>0.000320</td>\n      <td>-0.000400</td>\n      <td>-0.002158</td>\n      <td>0.000320</td>\n      <td>-0.004529</td>\n      <td>-0.002398</td>\n      <td>...</td>\n      <td>-0.005915</td>\n      <td>-0.052968</td>\n      <td>-0.058158</td>\n      <td>-0.122250</td>\n      <td>-0.122250</td>\n      <td>-0.098522</td>\n      <td>-0.096328</td>\n      <td>-0.065264</td>\n      <td>-0.051032</td>\n      <td>0</td>\n    </tr>\n    <tr>\n      <th>5738</th>\n      <td>-0.484491</td>\n      <td>-0.466989</td>\n      <td>-0.914808</td>\n      <td>0.049585</td>\n      <td>-0.001279</td>\n      <td>-0.001998</td>\n      <td>-0.003757</td>\n      <td>-0.001279</td>\n      <td>-0.006128</td>\n      <td>-0.003997</td>\n      <td>...</td>\n      <td>-0.007513</td>\n      <td>-0.054566</td>\n      <td>-0.059756</td>\n      <td>-0.123846</td>\n      <td>-0.123846</td>\n      <td>-0.100119</td>\n      <td>-0.097925</td>\n      <td>-0.066861</td>\n      <td>-0.052630</td>\n      <td>0</td>\n    </tr>\n    <tr>\n      <th>5739</th>\n      <td>-0.483695</td>\n      <td>-0.466989</td>\n      <td>-0.914412</td>\n      <td>0.049984</td>\n      <td>-0.000879</td>\n      <td>-0.001599</td>\n      <td>-0.003357</td>\n      <td>-0.000879</td>\n      <td>-0.005728</td>\n      <td>-0.003597</td>\n      <td>...</td>\n      <td>-0.007114</td>\n      <td>-0.054167</td>\n      <td>-0.059357</td>\n      <td>-0.123447</td>\n      <td>-0.123447</td>\n      <td>-0.099719</td>\n      <td>-0.097526</td>\n      <td>-0.066462</td>\n      <td>-0.052230</td>\n      <td>0</td>\n    </tr>\n    <tr>\n      <th>5740</th>\n      <td>-0.484491</td>\n      <td>-0.466193</td>\n      <td>-0.914412</td>\n      <td>0.049984</td>\n      <td>-0.001279</td>\n      <td>-0.000879</td>\n      <td>-0.001599</td>\n      <td>-0.003357</td>\n      <td>-0.000879</td>\n      <td>-0.005728</td>\n      <td>...</td>\n      <td>-0.008392</td>\n      <td>-0.054626</td>\n      <td>-0.060873</td>\n      <td>-0.121513</td>\n      <td>-0.122550</td>\n      <td>-0.101415</td>\n      <td>-0.103648</td>\n      <td>-0.063189</td>\n      <td>-0.050733</td>\n      <td>0</td>\n    </tr>\n    <tr>\n      <th>5741</th>\n      <td>-0.481309</td>\n      <td>-0.467784</td>\n      <td>-0.913620</td>\n      <td>0.050784</td>\n      <td>-0.000480</td>\n      <td>-0.000080</td>\n      <td>-0.000799</td>\n      <td>-0.002558</td>\n      <td>-0.000080</td>\n      <td>-0.004929</td>\n      <td>...</td>\n      <td>-0.007593</td>\n      <td>-0.053827</td>\n      <td>-0.060075</td>\n      <td>-0.120715</td>\n      <td>-0.121752</td>\n      <td>-0.100616</td>\n      <td>-0.102850</td>\n      <td>-0.062390</td>\n      <td>-0.049934</td>\n      <td>0</td>\n    </tr>\n    <tr>\n      <th>...</th>\n      <td>...</td>\n      <td>...</td>\n      <td>...</td>\n      <td>...</td>\n      <td>...</td>\n      <td>...</td>\n      <td>...</td>\n      <td>...</td>\n      <td>...</td>\n      <td>...</td>\n      <td>...</td>\n      <td>...</td>\n      <td>...</td>\n      <td>...</td>\n      <td>...</td>\n      <td>...</td>\n      <td>...</td>\n      <td>...</td>\n      <td>...</td>\n      <td>...</td>\n      <td>...</td>\n    </tr>\n    <tr>\n      <th>7166</th>\n      <td>-0.584730</td>\n      <td>-0.571206</td>\n      <td>-1.016585</td>\n      <td>0.070866</td>\n      <td>0.002801</td>\n      <td>0.001920</td>\n      <td>0.001200</td>\n      <td>-0.001100</td>\n      <td>-0.006401</td>\n      <td>-0.008801</td>\n      <td>...</td>\n      <td>-0.016198</td>\n      <td>-0.071604</td>\n      <td>-0.083725</td>\n      <td>0.052239</td>\n      <td>-0.131524</td>\n      <td>-0.010801</td>\n      <td>-0.030637</td>\n      <td>-0.100521</td>\n      <td>-0.080619</td>\n      <td>1</td>\n    </tr>\n    <tr>\n      <th>7167</th>\n      <td>-0.585526</td>\n      <td>-0.572001</td>\n      <td>-1.017377</td>\n      <td>0.070065</td>\n      <td>0.002000</td>\n      <td>0.001120</td>\n      <td>0.000400</td>\n      <td>-0.001900</td>\n      <td>-0.007201</td>\n      <td>-0.009601</td>\n      <td>...</td>\n      <td>-0.016198</td>\n      <td>-0.071604</td>\n      <td>-0.083725</td>\n      <td>0.052239</td>\n      <td>-0.131524</td>\n      <td>-0.010801</td>\n      <td>-0.031437</td>\n      <td>-0.101320</td>\n      <td>-0.081419</td>\n      <td>1</td>\n    </tr>\n    <tr>\n      <th>7168</th>\n      <td>-0.584730</td>\n      <td>-0.571206</td>\n      <td>-1.016585</td>\n      <td>0.070866</td>\n      <td>0.002801</td>\n      <td>0.001920</td>\n      <td>0.001200</td>\n      <td>-0.001100</td>\n      <td>-0.006401</td>\n      <td>-0.008801</td>\n      <td>...</td>\n      <td>-0.016198</td>\n      <td>-0.071604</td>\n      <td>-0.083725</td>\n      <td>0.052239</td>\n      <td>-0.131524</td>\n      <td>-0.010801</td>\n      <td>-0.030637</td>\n      <td>-0.100521</td>\n      <td>-0.080619</td>\n      <td>1</td>\n    </tr>\n    <tr>\n      <th>7169</th>\n      <td>-0.584730</td>\n      <td>-0.571206</td>\n      <td>-1.016585</td>\n      <td>0.070866</td>\n      <td>0.002801</td>\n      <td>0.001920</td>\n      <td>0.001200</td>\n      <td>-0.001100</td>\n      <td>-0.006401</td>\n      <td>-0.008801</td>\n      <td>...</td>\n      <td>-0.016198</td>\n      <td>-0.071604</td>\n      <td>-0.083725</td>\n      <td>0.052239</td>\n      <td>-0.131524</td>\n      <td>-0.010801</td>\n      <td>-0.030637</td>\n      <td>-0.100521</td>\n      <td>-0.080619</td>\n      <td>1</td>\n    </tr>\n    <tr>\n      <th>7170</th>\n      <td>-0.584730</td>\n      <td>-0.571206</td>\n      <td>-1.016585</td>\n      <td>0.070866</td>\n      <td>0.002801</td>\n      <td>0.001920</td>\n      <td>0.001200</td>\n      <td>-0.001100</td>\n      <td>-0.006401</td>\n      <td>-0.008801</td>\n      <td>...</td>\n      <td>-0.016198</td>\n      <td>-0.071604</td>\n      <td>-0.083725</td>\n      <td>0.052239</td>\n      <td>-0.131524</td>\n      <td>-0.010801</td>\n      <td>-0.030637</td>\n      <td>-0.100521</td>\n      <td>-0.080619</td>\n      <td>1</td>\n    </tr>\n  </tbody>\n</table>\n<p>1434 rows × 73 columns</p>\n</div>",
      "text/plain": "      BID_TO_OPEN_PCT  OFFER_TO_OPEN_PCT  MID_TO_HIGH_PCT  MID_TO_LOW_PCT  \\\n5737        -0.481309          -0.466989        -0.913224        0.051184   \n5738        -0.484491          -0.466989        -0.914808        0.049585   \n5739        -0.483695          -0.466989        -0.914412        0.049984   \n5740        -0.484491          -0.466193        -0.914412        0.049984   \n5741        -0.481309          -0.467784        -0.913620        0.050784   \n...               ...                ...              ...             ...   \n7166        -0.584730          -0.571206        -1.016585        0.070866   \n7167        -0.585526          -0.572001        -1.017377        0.070065   \n7168        -0.584730          -0.571206        -1.016585        0.070866   \n7169        -0.584730          -0.571206        -1.016585        0.070866   \n7170        -0.584730          -0.571206        -1.016585        0.070866   \n\n      CHANGE_PCT-1  CHANGE_PCT-2  CHANGE_PCT-3  CHANGE_PCT-4  CHANGE_PCT-5  \\\n5737      0.000320     -0.000400     -0.002158      0.000320     -0.004529   \n5738     -0.001279     -0.001998     -0.003757     -0.001279     -0.006128   \n5739     -0.000879     -0.001599     -0.003357     -0.000879     -0.005728   \n5740     -0.001279     -0.000879     -0.001599     -0.003357     -0.000879   \n5741     -0.000480     -0.000080     -0.000799     -0.002558     -0.000080   \n...            ...           ...           ...           ...           ...   \n7166      0.002801      0.001920      0.001200     -0.001100     -0.006401   \n7167      0.002000      0.001120      0.000400     -0.001900     -0.007201   \n7168      0.002801      0.001920      0.001200     -0.001100     -0.006401   \n7169      0.002801      0.001920      0.001200     -0.001100     -0.006401   \n7170      0.002801      0.001920      0.001200     -0.001100     -0.006401   \n\n      CHANGE_PCT-6  ...  CHANGE_PCT-60  CHANGE_PCT-120  CHANGE_PCT-180  \\\n5737     -0.002398  ...      -0.005915       -0.052968       -0.058158   \n5738     -0.003997  ...      -0.007513       -0.054566       -0.059756   \n5739     -0.003597  ...      -0.007114       -0.054167       -0.059357   \n5740     -0.005728  ...      -0.008392       -0.054626       -0.060873   \n5741     -0.004929  ...      -0.007593       -0.053827       -0.060075   \n...            ...  ...            ...             ...             ...   \n7166     -0.008801  ...      -0.016198       -0.071604       -0.083725   \n7167     -0.009601  ...      -0.016198       -0.071604       -0.083725   \n7168     -0.008801  ...      -0.016198       -0.071604       -0.083725   \n7169     -0.008801  ...      -0.016198       -0.071604       -0.083725   \n7170     -0.008801  ...      -0.016198       -0.071604       -0.083725   \n\n      CHANGE_PCT-240  CHANGE_PCT-300  CHANGE_PCT-360  CHANGE_PCT-420  \\\n5737       -0.122250       -0.122250       -0.098522       -0.096328   \n5738       -0.123846       -0.123846       -0.100119       -0.097925   \n5739       -0.123447       -0.123447       -0.099719       -0.097526   \n5740       -0.121513       -0.122550       -0.101415       -0.103648   \n5741       -0.120715       -0.121752       -0.100616       -0.102850   \n...              ...             ...             ...             ...   \n7166        0.052239       -0.131524       -0.010801       -0.030637   \n7167        0.052239       -0.131524       -0.010801       -0.031437   \n7168        0.052239       -0.131524       -0.010801       -0.030637   \n7169        0.052239       -0.131524       -0.010801       -0.030637   \n7170        0.052239       -0.131524       -0.010801       -0.030637   \n\n      CHANGE_PCT-480  CHANGE_PCT-540  profit  \n5737       -0.065264       -0.051032       0  \n5738       -0.066861       -0.052630       0  \n5739       -0.066462       -0.052230       0  \n5740       -0.063189       -0.050733       0  \n5741       -0.062390       -0.049934       0  \n...              ...             ...     ...  \n7166       -0.100521       -0.080619       1  \n7167       -0.101320       -0.081419       1  \n7168       -0.100521       -0.080619       1  \n7169       -0.100521       -0.080619       1  \n7170       -0.100521       -0.080619       1  \n\n[1434 rows x 73 columns]"
     },
     "execution_count": 58,
     "metadata": {},
     "output_type": "execute_result"
    }
   ],
   "source": [
    "evaluation_data=training_data.copy()\n",
    "evaluation_data['profit']=labels\n",
    "evaluation_data_set=evaluation_data[(len(evaluation_data)-evaluation):]"
   ]
  },
  {
   "cell_type": "code",
   "execution_count": null,
   "metadata": {},
   "outputs": [],
   "source": []
  }
 ],
 "metadata": {
  "kernelspec": {
   "display_name": "Python 3.7.4 64-bit ('.venv': virtualenv)",
   "language": "python",
   "name": "python37464bitvenvvirtualenv6b4f093d3fee42a4b8c0f6bd7f8294ac"
  },
  "language_info": {
   "codemirror_mode": {
    "name": "ipython",
    "version": 3
   },
   "file_extension": ".py",
   "mimetype": "text/x-python",
   "name": "python",
   "nbconvert_exporter": "python",
   "pygments_lexer": "ipython3",
   "version": "3.7.4-final"
  }
 },
 "nbformat": 4,
 "nbformat_minor": 4
}