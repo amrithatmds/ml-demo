{
 "nbformat": 4,
 "nbformat_minor": 2,
 "metadata": {
  "language_info": {
   "name": "python",
   "codemirror_mode": {
    "name": "ipython",
    "version": 3
   },
   "version": "3.7.4-final"
  },
  "orig_nbformat": 2,
  "file_extension": ".py",
  "mimetype": "text/x-python",
  "name": "python",
  "npconvert_exporter": "python",
  "pygments_lexer": "ipython3",
  "version": 3,
  "kernelspec": {
   "name": "python37464bitvenvvirtualenv6b4f093d3fee42a4b8c0f6bd7f8294ac",
   "display_name": "Python 3.7.4 64-bit ('.venv': virtualenv)"
  }
 },
 "cells": [
  {
   "cell_type": "code",
   "execution_count": 1,
   "metadata": {},
   "outputs": [],
   "source": [
    "from pyspark.sql import SparkSession\n",
    "spark=SparkSession.builder.getOrCreate()"
   ]
  },
  {
   "cell_type": "code",
   "execution_count": 2,
   "metadata": {},
   "outputs": [],
   "source": [
    "from pyspark.sql.types import * \n",
    "schema = StructType([\n",
    "    StructField('order_type', StringType(), False),\n",
    "    StructField('stop', IntegerType(), True),\n",
    "    StructField('limit', IntegerType(), True),\n",
    "    StructField('price', FloatType(), True),\n",
    "    StructField('stop_price', FloatType(), True),\n",
    "    StructField('limit_price', FloatType(), True)\n",
    "])\n",
    "orders=spark.createDataFrame(data=[],schema=schema)\n",
    "orders.createOrReplaceTempView(\"orders\")"
   ]
  },
  {
   "cell_type": "code",
   "execution_count": 3,
   "metadata": {},
   "outputs": [],
   "source": [
    "new_orders=[['sell', 648, 470, 1.2814100000000002, 1.34671, 1.2349100000000002], ['sell', 279, 296, 1.2814100000000002, 1.3098100000000001, 1.25231], ['buy', 819, 963, 1.28241, 1.20001, 1.3782100000000002], ['buy', 148, 613, 1.28241, 1.2671100000000002, 1.34321], ['buy', 425, 726, 1.28241, 1.2394100000000001, 1.35451], ['sell', 708, 663, 1.2814100000000002, 1.35271, 1.21561], ['sell', 996, 753, 1.2814100000000002, 1.38151, 1.2066100000000002], ['sell', 558, 371, 1.2814100000000002, 1.3377100000000002, 1.2448100000000002], ['buy', 595, 749, 1.28241, 1.22241, 1.35681], ['buy', 154, 717, 1.28241, 1.26651, 1.3536100000000002]]"
   ]
  },
  {
   "cell_type": "code",
   "execution_count": 4,
   "metadata": {},
   "outputs": [
    {
     "data": {
      "text/plain": "DataFrame[order_type: string, stop: int, limit: int, price: float, stop_price: float, limit_price: float]"
     },
     "execution_count": 4,
     "metadata": {},
     "output_type": "execute_result"
    }
   ],
   "source": [
    "new_orders_df=spark.createDataFrame(new_orders,schema)\n",
    "new_orders_df"
   ]
  },
  {
   "cell_type": "code",
   "execution_count": 5,
   "metadata": {},
   "outputs": [
    {
     "data": {
      "text/plain": "10"
     },
     "execution_count": 5,
     "metadata": {},
     "output_type": "execute_result"
    }
   ],
   "source": [
    "orders=orders.union(new_orders_df)\n",
    "orders.createOrReplaceTempView(\"orders\")\n",
    "orders.count()"
   ]
  },
  {
   "cell_type": "code",
   "execution_count": 6,
   "metadata": {},
   "outputs": [
    {
     "data": {
      "text/plain": "10"
     },
     "metadata": {},
     "output_type": "display_data"
    },
    {
     "data": {
      "text/plain": "4"
     },
     "metadata": {},
     "output_type": "display_data"
    },
    {
     "data": {
      "text/plain": "3"
     },
     "metadata": {},
     "output_type": "display_data"
    },
    {
     "data": {
      "text/plain": "3"
     },
     "metadata": {},
     "output_type": "display_data"
    }
   ],
   "source": [
    "price=1.22\n",
    "display(orders.count())\n",
    "stop_triggered=spark.sql(\"\\\n",
    "        SELECT * FROM orders \\\n",
    "        WHERE (order_type='buy' AND {0}<=stop_price)\\\n",
    "            OR (order_type='sell' AND {0}>=stop_price)\\\n",
    "    \".format(price))\n",
    "limit_triggered=spark.sql(\"\\\n",
    "        SELECT * FROM orders \\\n",
    "        WHERE (order_type='buy' AND {0}>=limit_price)\\\n",
    "            OR (order_type='sell' AND {0}<=limit_price)\\\n",
    "    \".format(price))\n",
    "orders=spark.sql(\"\\\n",
    "        SELECT * FROM orders \\\n",
    "        WHERE ((order_type='buy' AND {0}<limit_price)\\\n",
    "            OR (order_type='sell' AND {0}>limit_price)) \\\n",
    "            AND \\\n",
    "            ((order_type='buy' AND {0}>stop_price)\\\n",
    "            OR (order_type='sell' AND {0}<stop_price))\\\n",
    "    \".format(price))\n",
    "display(stop_triggered.count())\n",
    "display(limit_triggered.count())\n",
    "\n",
    "orders.createOrReplaceTempView(\"orders\")\n",
    "display(orders.count())"
   ]
  },
  {
   "cell_type": "code",
   "execution_count": 7,
   "metadata": {},
   "outputs": [
    {
     "data": {
      "text/plain": "DataFrame[summary: string, order_type: string, stop: string, limit: string, price: string, stop_price: string, limit_price: string]"
     },
     "execution_count": 7,
     "metadata": {},
     "output_type": "execute_result"
    }
   ],
   "source": [
    "orders=spark.sql(\"\\\n",
    "        SELECT * FROM orders \\\n",
    "        WHERE (order_type='buy' AND {0}<limit_price)\\\n",
    "            OR (order_type='sell' AND {0}>limit_price)\\\n",
    "            OR (order_type='buy' AND {0}>stop_price)\\\n",
    "            OR (order_type='sell' AND {0}<stop_price)\\\n",
    "    \".format(price))\n",
    "orders.summary()"
   ]
  },
  {
   "cell_type": "code",
   "execution_count": 8,
   "metadata": {},
   "outputs": [
    {
     "name": "stdout",
     "output_type": "stream",
     "text": "+--------+\n|count(1)|\n+--------+\n|       3|\n+--------+\n\n"
    }
   ],
   "source": [
    "result=spark.sql(\"SELECT count(*) FROM orders\")\n",
    "result.show()"
   ]
  },
  {
   "cell_type": "code",
   "execution_count": 9,
   "metadata": {},
   "outputs": [
    {
     "data": {
      "text/plain": "3"
     },
     "execution_count": 9,
     "metadata": {},
     "output_type": "execute_result"
    }
   ],
   "source": [
    "orders.count()"
   ]
  },
  {
   "cell_type": "code",
   "execution_count": 15,
   "metadata": {},
   "outputs": [
    {
     "name": "stdout",
     "output_type": "stream",
     "text": "+----------+----+-----+-------+----------+-----------+\n|order_type|stop|limit|  price|stop_price|limit_price|\n+----------+----+-----+-------+----------+-----------+\n|      sell| 648|  470|1.28141|   1.34671|    1.23491|\n|      sell| 279|  296|1.28141|   1.30981|    1.25231|\n|      sell| 558|  371|1.28141|   1.33771|    1.24481|\n+----------+----+-----+-------+----------+-----------+\n\n"
    }
   ],
   "source": [
    "limit_triggered.show()"
   ]
  },
  {
   "cell_type": "code",
   "execution_count": 47,
   "metadata": {},
   "outputs": [
    {
     "output_type": "execute_result",
     "data": {
      "text/plain": "[{'order_type': 'sell',\n  'stop': 648,\n  'limit': 470,\n  'price': 1.2814099788665771,\n  'stop_price': 1.346709966659546,\n  'limit_price': 1.234910011291504},\n {'order_type': 'sell',\n  'stop': 279,\n  'limit': 296,\n  'price': 1.2814099788665771,\n  'stop_price': 1.3098100423812866,\n  'limit_price': 1.252310037612915},\n {'order_type': 'sell',\n  'stop': 558,\n  'limit': 371,\n  'price': 1.2814099788665771,\n  'stop_price': 1.3377100229263306,\n  'limit_price': 1.2448099851608276}]"
     },
     "metadata": {},
     "execution_count": 47
    }
   ],
   "source": [
    "list(map(lambda row:row.asDict(), limit_triggered.collect()))\n",
    ""
   ]
  },
  {
   "cell_type": "code",
   "execution_count": 31,
   "metadata": {},
   "outputs": [],
   "source": [
    "result"
   ]
  },
  {
   "cell_type": "code",
   "execution_count": null,
   "metadata": {},
   "outputs": [],
   "source": []
  }
 ]
}