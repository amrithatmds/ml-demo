{
 "nbformat": 4,
 "nbformat_minor": 2,
 "metadata": {
  "language_info": {
   "name": "python",
   "codemirror_mode": {
    "name": "ipython",
    "version": 3
   },
   "version": "3.7.4-final"
  },
  "orig_nbformat": 2,
  "file_extension": ".py",
  "mimetype": "text/x-python",
  "name": "python",
  "npconvert_exporter": "python",
  "pygments_lexer": "ipython3",
  "version": 3,
  "kernelspec": {
   "name": "python37464bitvenvvirtualenv6b4f093d3fee42a4b8c0f6bd7f8294ac",
   "display_name": "Python 3.7.4 64-bit ('.venv': virtualenv)"
  }
 },
 "cells": [
  {
   "cell_type": "code",
   "execution_count": 38,
   "metadata": {},
   "outputs": [],
   "source": [
    "bucket = 'ml-lab-pyspark'\n",
    "prefix = 'sagemaker/tuning/linear_learner'\n",
    " \n",
    "# Define IAM role\n",
    "import boto3\n",
    "from sagemaker import get_execution_role"
   ]
  },
  {
   "cell_type": "code",
   "execution_count": 39,
   "metadata": {},
   "outputs": [],
   "source": [
    "boto3_session=boto3.Session(profile_name='ml-lab')\n",
    "sagemaker_client=boto3_session.client('sagemaker')\n",
    "\n",
    "try:\n",
    "    role = get_execution_role()\n",
    "except:\n",
    "    role=\"arn:aws:iam::814948925568:role/service-role/AmazonSageMaker-ExecutionRole-20200310T154729\""
   ]
  },
  {
   "cell_type": "code",
   "execution_count": 40,
   "metadata": {},
   "outputs": [],
   "source": [
    "from sagemaker.inputs import s3_input\n",
    "training_data='s3://{}/{}'.format(bucket, 'training_data.io')\n",
    "test_data='s3://{}/{}'.format(bucket, 'test_data.io')\n",
    "validation_data='s3://{}/{}'.format(bucket, 'validation_data.io')\n"
   ]
  },
  {
   "cell_type": "code",
   "execution_count": 50,
   "metadata": {},
   "outputs": [],
   "source": [
    "from sagemaker.amazon.amazon_estimator import get_image_uri\n",
    "\n",
    "training_image = get_image_uri(boto3.Session().region_name, 'linear-learner')"
   ]
  },
  {
   "cell_type": "code",
   "execution_count": 54,
   "metadata": {},
   "outputs": [],
   "source": [
    "tuning_job_config = {\n",
    "    \"ParameterRanges\": {\n",
    "      \"CategoricalParameterRanges\": [\n",
    "        { \n",
    "            \"Name\": \"use_bias\",\n",
    "            \"Values\": [ \"true\",\"false\" ]\n",
    "        }\n",
    "      ],\n",
    "      \"ContinuousParameterRanges\": [\n",
    "        {\n",
    "          \"MaxValue\": \"1\",\n",
    "          \"MinValue\": \"0.0000001\",\n",
    "          \"ScalingType\":\"Logarithmic\",\n",
    "          \"Name\": \"l1\"\n",
    "        },\n",
    "        {\n",
    "          \"MaxValue\": \"1\",\n",
    "          \"MinValue\": \"0.00001\",\n",
    "          \"ScalingType\":\"Logarithmic\",\n",
    "          \"Name\": \"learning_rate\"\n",
    "        },\n",
    "        {\n",
    "          \"MaxValue\": \"10000\",\n",
    "          \"MinValue\": \"0.00001\",\n",
    "          \"ScalingType\":\"Logarithmic\",\n",
    "          \"Name\": \"positive_example_weight_mult\"\n",
    "        },\n",
    "        {\n",
    "          \"MaxValue\": \"1\",\n",
    "          \"MinValue\": \"0.0000001\",\n",
    "          \"ScalingType\":\"Logarithmic\",\n",
    "          \"Name\": \"wd\"\n",
    "        }\n",
    "      ],\n",
    "      \"IntegerParameterRanges\": [\n",
    "        {\n",
    "          \"MaxValue\": \"1000\",\n",
    "          \"MinValue\": \"100\",\n",
    "          \"ScalingType\":\"Logarithmic\",\n",
    "          \"Name\": \"mini_batch_size\"\n",
    "        }\n",
    "      ]\n",
    "    },\n",
    "    \"ResourceLimits\": {\n",
    "      \"MaxNumberOfTrainingJobs\": 10,\n",
    "      \"MaxParallelTrainingJobs\": 2\n",
    "    },\n",
    "    \"Strategy\": \"Bayesian\",\n",
    "    \"HyperParameterTuningJobObjective\": {\n",
    "      \"MetricName\": \"test:binary_f_beta\",\n",
    "      \"Type\": \"Maximize\"\n",
    "    }\n",
    "  }"
   ]
  },
  {
   "cell_type": "code",
   "execution_count": 55,
   "metadata": {},
   "outputs": [],
   "source": [
    "training_job_definition = {\n",
    "    \"AlgorithmSpecification\": {\n",
    "      \"TrainingImage\": training_image,\n",
    "      \"TrainingInputMode\": \"File\"\n",
    "    },\n",
    "    \"InputDataConfig\": [\n",
    "      {\n",
    "        \"ChannelName\": \"train\",\n",
    "        \"CompressionType\": \"None\",\n",
    "        \"DataSource\": {\n",
    "          \"S3DataSource\": {\n",
    "            \"S3DataDistributionType\": \"FullyReplicated\",\n",
    "            \"S3DataType\": \"S3Prefix\",\n",
    "            \"S3Uri\": training_data\n",
    "          }\n",
    "        }\n",
    "      },\n",
    "      {\n",
    "        \"ChannelName\": \"test\",\n",
    "        \"CompressionType\": \"None\",\n",
    "        \"DataSource\": {\n",
    "          \"S3DataSource\": {\n",
    "            \"S3DataDistributionType\": \"FullyReplicated\",\n",
    "            \"S3DataType\": \"S3Prefix\",\n",
    "            \"S3Uri\": test_data\n",
    "          }\n",
    "        }\n",
    "      },\n",
    "      {\n",
    "        \"ChannelName\": \"validation\",\n",
    "        \"CompressionType\": \"None\",\n",
    "        \"DataSource\": {\n",
    "          \"S3DataSource\": {\n",
    "            \"S3DataDistributionType\": \"FullyReplicated\",\n",
    "            \"S3DataType\": \"S3Prefix\",\n",
    "            \"S3Uri\": validation_data\n",
    "          }\n",
    "        }\n",
    "      }\n",
    "    ],\n",
    "    \"OutputDataConfig\": {\n",
    "      \"S3OutputPath\": \"s3://{}/{}/output\".format(bucket,prefix)\n",
    "    },\n",
    "    \"ResourceConfig\": {\n",
    "      \"InstanceCount\": 1,\n",
    "      \"InstanceType\": \"ml.c4.xlarge\",\n",
    "      \"VolumeSizeInGB\": 10\n",
    "    },\n",
    "    \"RoleArn\": role,\n",
    "    \"StaticHyperParameters\": {\n",
    "      \"feature_dim\": \"605\",\n",
    "      \"epochs\": \"15\",\n",
    "      \"normalize_data\":\"true\",\n",
    "      \"normalize_label\":\"false\",\n",
    "      \"predictor_type\":\"binary_classifier\",\n",
    "      \"binary_classifier_model_selection_criteria\":\"precision_at_target_recall\",\n",
    "      \"target_recall\":\"0.25\"\n",
    "    },\n",
    "    \"StoppingCondition\": {\n",
    "      \"MaxRuntimeInSeconds\": 43200\n",
    "    }\n",
    "}"
   ]
  },
  {
   "cell_type": "code",
   "execution_count": 60,
   "metadata": {},
   "outputs": [
    {
     "data": {
      "text/plain": "{'HyperParameterTuningJobArn': 'arn:aws:sagemaker:eu-west-2:814948925568:hyper-parameter-tuning-job/tuning-relative-price-f-beta',\n 'ResponseMetadata': {'RequestId': '6dece92f-660a-404a-b85d-e7928ecba913',\n  'HTTPStatusCode': 200,\n  'HTTPHeaders': {'x-amzn-requestid': '6dece92f-660a-404a-b85d-e7928ecba913',\n   'content-type': 'application/x-amz-json-1.1',\n   'content-length': '129',\n   'date': 'Mon, 16 Mar 2020 19:37:16 GMT'},\n  'RetryAttempts': 0}}"
     },
     "execution_count": 60,
     "metadata": {},
     "output_type": "execute_result"
    }
   ],
   "source": [
    "tuning_job_name = \"tuning-relative-price-f-beta\"\n",
    "sagemaker_client.create_hyper_parameter_tuning_job( HyperParameterTuningJobName = tuning_job_name,\n",
    "                                                    HyperParameterTuningJobConfig = tuning_job_config,\n",
    "                                                    TrainingJobDefinition = training_job_definition)"
   ]
  },
  {
   "cell_type": "code",
   "execution_count": null,
   "metadata": {},
   "outputs": [],
   "source": []
  }
 ]
}