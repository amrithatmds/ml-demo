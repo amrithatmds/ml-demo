{
 "cells": [
  {
   "cell_type": "code",
   "execution_count": 1,
   "metadata": {},
   "outputs": [],
   "source": [
    "bucket = 'bucket-mldemo-dev-20200327141354666900000003'\n",
    " \n",
    "# Define IAM role\n",
    "import re\n",
    ""
   ]
  },
  {
   "cell_type": "code",
   "execution_count": 2,
   "metadata": {},
   "outputs": [],
   "source": [
    "import boto3\n",
    "boto3_session=boto3.Session(profile_name='ml-lab')"
   ]
  },
  {
   "cell_type": "code",
   "execution_count": 3,
   "metadata": {},
   "outputs": [
    {
     "output_type": "execute_result",
     "data": {
      "text/plain": "'arn:aws:iam::814948925568:role/mldemo-dev-Sagemaker-Execution-Role'"
     },
     "metadata": {},
     "execution_count": 3
    }
   ],
   "source": [
    "from sagemaker.session import Session\n",
    "from sagemaker import get_execution_role\n",
    "\n",
    "sagemaker_session=Session(boto3_session)\n",
    "\n",
    "try:\n",
    "    role = get_execution_role()\n",
    "except:\n",
    "    iam=boto3_session.client('iam')\n",
    "    response=iam.get_role(\n",
    "        RoleName='mldemo-dev-Sagemaker-Execution-Role'\n",
    "    )\n",
    "    role=response['Role']['Arn']\n",
    "role"
   ]
  },
  {
   "cell_type": "code",
   "execution_count": 5,
   "metadata": {},
   "outputs": [
    {
     "output_type": "execute_result",
     "data": {
      "text/plain": "'s3://bucket-mldemo-dev-20200327141354666900000003/output'"
     },
     "metadata": {},
     "execution_count": 5
    }
   ],
   "source": [
    "output_location = 's3://{}/output'.format(bucket)\n",
    "output_location"
   ]
  },
  {
   "cell_type": "code",
   "execution_count": 6,
   "metadata": {},
   "outputs": [],
   "source": [
    "from sagemaker.predictor import RealTimePredictor\n",
    "linear_predictor=RealTimePredictor('mldemo-dev',sagemaker_session)"
   ]
  },
  {
   "cell_type": "code",
   "execution_count": 7,
   "metadata": {},
   "outputs": [],
   "source": [
    "from sagemaker.predictor import csv_serializer, json_deserializer\n",
    "\n",
    "linear_predictor.content_type = 'text/csv'\n",
    "linear_predictor.serializer = csv_serializer\n",
    "linear_predictor.deserializer = json_deserializer"
   ]
  },
  {
   "cell_type": "code",
   "execution_count": 8,
   "metadata": {},
   "outputs": [
    {
     "output_type": "execute_result",
     "data": {
      "text/plain": "        0     1       2       3      4          5          6          7    \\\n0     -18.0  18.0  357.70  393.90 -97.30   0.000000  -0.170000   0.000000   \n1     -18.0  18.0  357.87  394.07 -97.13   0.170000   0.000000   0.170000   \n2     -18.0  18.0  357.70  393.90 -97.30   0.000000  -0.170000   0.000000   \n3     -18.0  18.0  357.87  394.07 -97.13   0.170000   0.000000   0.170000   \n4     -18.0  18.0  357.80  394.00 -97.20   0.100000  -0.070000   0.100000   \n...     ...   ...     ...     ...    ...        ...        ...        ...   \n10002 -18.0  18.0  433.22  469.42 -73.48 -12.270000 -12.270000 -11.936667   \n10003 -18.0  18.0  433.17  469.37 -73.53 -12.320000 -11.986667 -11.820000   \n10004 -18.0  18.0  433.22  469.42 -73.48 -12.270000 -11.936667 -11.770000   \n10005 -18.0  18.0  433.27  469.47 -73.43 -12.220000 -11.886667 -11.720000   \n10006 -18.0  18.0  433.45  469.65 -73.25 -11.706667 -11.540000 -11.840000   \n\n          8       9    ...      596      597      598    599           600  \\\n0      -0.170  -0.100  ... -28.8500 -29.0550 -29.1500 -27.60 -2.746000e+01   \n1       0.000   0.070  ... -28.6800 -28.8850 -28.9800 -27.43 -2.729000e+01   \n2      -0.170  -0.100  ... -28.8500 -29.0550 -29.1500 -27.60 -2.746000e+01   \n3       0.000   0.070  ... -28.6800 -28.8850 -28.9800 -27.43 -2.729000e+01   \n4      -0.070   0.000  ... -28.7500 -28.9550 -29.0500 -27.50 -2.736000e+01   \n...       ...     ...  ...      ...      ...      ...    ...           ...   \n10002 -11.770 -12.070  ...  -2.4900  -2.4625  -2.6125  -2.35  0.000000e+00   \n10003 -12.120 -12.855  ...  -2.5125  -2.6625  -2.4000  -0.05 -9.094947e-13   \n10004 -12.070 -12.805  ...  -2.4625  -2.6125  -2.3500   0.00  5.000000e-02   \n10005 -12.020 -12.755  ...  -2.4125  -2.5625  -2.3000   0.05  1.000000e-01   \n10006 -12.575 -12.405  ...  -2.3825  -2.1200   0.2300   0.28  3.300000e-01   \n\n          601      602        603        604  605  \n0     -27.630 -27.8000 -27.850000 -27.800000    0  \n1     -27.460 -27.6300 -27.680000 -27.630000    0  \n2     -27.630 -27.8000 -27.850000 -27.800000    0  \n3     -27.460 -27.6300 -27.680000 -27.630000    0  \n4     -27.530 -27.7000 -27.750000 -27.700000    0  \n...       ...      ...        ...        ...  ...  \n10002   0.050   0.1000  -0.125000  -0.062500    0  \n10003   0.050  -0.1750  -0.112500  -0.166667    0  \n10004   0.100  -0.1250  -0.062500  -0.116667    0  \n10005   0.150  -0.0750  -0.012500  -0.066667    0  \n10006   0.105   0.1675   0.113333   0.230000    0  \n\n[10007 rows x 606 columns]",
      "text/html": "<div>\n<style scoped>\n    .dataframe tbody tr th:only-of-type {\n        vertical-align: middle;\n    }\n\n    .dataframe tbody tr th {\n        vertical-align: top;\n    }\n\n    .dataframe thead th {\n        text-align: right;\n    }\n</style>\n<table border=\"1\" class=\"dataframe\">\n  <thead>\n    <tr style=\"text-align: right;\">\n      <th></th>\n      <th>0</th>\n      <th>1</th>\n      <th>2</th>\n      <th>3</th>\n      <th>4</th>\n      <th>5</th>\n      <th>6</th>\n      <th>7</th>\n      <th>8</th>\n      <th>9</th>\n      <th>...</th>\n      <th>596</th>\n      <th>597</th>\n      <th>598</th>\n      <th>599</th>\n      <th>600</th>\n      <th>601</th>\n      <th>602</th>\n      <th>603</th>\n      <th>604</th>\n      <th>605</th>\n    </tr>\n  </thead>\n  <tbody>\n    <tr>\n      <th>0</th>\n      <td>-18.0</td>\n      <td>18.0</td>\n      <td>357.70</td>\n      <td>393.90</td>\n      <td>-97.30</td>\n      <td>0.000000</td>\n      <td>-0.170000</td>\n      <td>0.000000</td>\n      <td>-0.170</td>\n      <td>-0.100</td>\n      <td>...</td>\n      <td>-28.8500</td>\n      <td>-29.0550</td>\n      <td>-29.1500</td>\n      <td>-27.60</td>\n      <td>-2.746000e+01</td>\n      <td>-27.630</td>\n      <td>-27.8000</td>\n      <td>-27.850000</td>\n      <td>-27.800000</td>\n      <td>0</td>\n    </tr>\n    <tr>\n      <th>1</th>\n      <td>-18.0</td>\n      <td>18.0</td>\n      <td>357.87</td>\n      <td>394.07</td>\n      <td>-97.13</td>\n      <td>0.170000</td>\n      <td>0.000000</td>\n      <td>0.170000</td>\n      <td>0.000</td>\n      <td>0.070</td>\n      <td>...</td>\n      <td>-28.6800</td>\n      <td>-28.8850</td>\n      <td>-28.9800</td>\n      <td>-27.43</td>\n      <td>-2.729000e+01</td>\n      <td>-27.460</td>\n      <td>-27.6300</td>\n      <td>-27.680000</td>\n      <td>-27.630000</td>\n      <td>0</td>\n    </tr>\n    <tr>\n      <th>2</th>\n      <td>-18.0</td>\n      <td>18.0</td>\n      <td>357.70</td>\n      <td>393.90</td>\n      <td>-97.30</td>\n      <td>0.000000</td>\n      <td>-0.170000</td>\n      <td>0.000000</td>\n      <td>-0.170</td>\n      <td>-0.100</td>\n      <td>...</td>\n      <td>-28.8500</td>\n      <td>-29.0550</td>\n      <td>-29.1500</td>\n      <td>-27.60</td>\n      <td>-2.746000e+01</td>\n      <td>-27.630</td>\n      <td>-27.8000</td>\n      <td>-27.850000</td>\n      <td>-27.800000</td>\n      <td>0</td>\n    </tr>\n    <tr>\n      <th>3</th>\n      <td>-18.0</td>\n      <td>18.0</td>\n      <td>357.87</td>\n      <td>394.07</td>\n      <td>-97.13</td>\n      <td>0.170000</td>\n      <td>0.000000</td>\n      <td>0.170000</td>\n      <td>0.000</td>\n      <td>0.070</td>\n      <td>...</td>\n      <td>-28.6800</td>\n      <td>-28.8850</td>\n      <td>-28.9800</td>\n      <td>-27.43</td>\n      <td>-2.729000e+01</td>\n      <td>-27.460</td>\n      <td>-27.6300</td>\n      <td>-27.680000</td>\n      <td>-27.630000</td>\n      <td>0</td>\n    </tr>\n    <tr>\n      <th>4</th>\n      <td>-18.0</td>\n      <td>18.0</td>\n      <td>357.80</td>\n      <td>394.00</td>\n      <td>-97.20</td>\n      <td>0.100000</td>\n      <td>-0.070000</td>\n      <td>0.100000</td>\n      <td>-0.070</td>\n      <td>0.000</td>\n      <td>...</td>\n      <td>-28.7500</td>\n      <td>-28.9550</td>\n      <td>-29.0500</td>\n      <td>-27.50</td>\n      <td>-2.736000e+01</td>\n      <td>-27.530</td>\n      <td>-27.7000</td>\n      <td>-27.750000</td>\n      <td>-27.700000</td>\n      <td>0</td>\n    </tr>\n    <tr>\n      <th>...</th>\n      <td>...</td>\n      <td>...</td>\n      <td>...</td>\n      <td>...</td>\n      <td>...</td>\n      <td>...</td>\n      <td>...</td>\n      <td>...</td>\n      <td>...</td>\n      <td>...</td>\n      <td>...</td>\n      <td>...</td>\n      <td>...</td>\n      <td>...</td>\n      <td>...</td>\n      <td>...</td>\n      <td>...</td>\n      <td>...</td>\n      <td>...</td>\n      <td>...</td>\n      <td>...</td>\n    </tr>\n    <tr>\n      <th>10002</th>\n      <td>-18.0</td>\n      <td>18.0</td>\n      <td>433.22</td>\n      <td>469.42</td>\n      <td>-73.48</td>\n      <td>-12.270000</td>\n      <td>-12.270000</td>\n      <td>-11.936667</td>\n      <td>-11.770</td>\n      <td>-12.070</td>\n      <td>...</td>\n      <td>-2.4900</td>\n      <td>-2.4625</td>\n      <td>-2.6125</td>\n      <td>-2.35</td>\n      <td>0.000000e+00</td>\n      <td>0.050</td>\n      <td>0.1000</td>\n      <td>-0.125000</td>\n      <td>-0.062500</td>\n      <td>0</td>\n    </tr>\n    <tr>\n      <th>10003</th>\n      <td>-18.0</td>\n      <td>18.0</td>\n      <td>433.17</td>\n      <td>469.37</td>\n      <td>-73.53</td>\n      <td>-12.320000</td>\n      <td>-11.986667</td>\n      <td>-11.820000</td>\n      <td>-12.120</td>\n      <td>-12.855</td>\n      <td>...</td>\n      <td>-2.5125</td>\n      <td>-2.6625</td>\n      <td>-2.4000</td>\n      <td>-0.05</td>\n      <td>-9.094947e-13</td>\n      <td>0.050</td>\n      <td>-0.1750</td>\n      <td>-0.112500</td>\n      <td>-0.166667</td>\n      <td>0</td>\n    </tr>\n    <tr>\n      <th>10004</th>\n      <td>-18.0</td>\n      <td>18.0</td>\n      <td>433.22</td>\n      <td>469.42</td>\n      <td>-73.48</td>\n      <td>-12.270000</td>\n      <td>-11.936667</td>\n      <td>-11.770000</td>\n      <td>-12.070</td>\n      <td>-12.805</td>\n      <td>...</td>\n      <td>-2.4625</td>\n      <td>-2.6125</td>\n      <td>-2.3500</td>\n      <td>0.00</td>\n      <td>5.000000e-02</td>\n      <td>0.100</td>\n      <td>-0.1250</td>\n      <td>-0.062500</td>\n      <td>-0.116667</td>\n      <td>0</td>\n    </tr>\n    <tr>\n      <th>10005</th>\n      <td>-18.0</td>\n      <td>18.0</td>\n      <td>433.27</td>\n      <td>469.47</td>\n      <td>-73.43</td>\n      <td>-12.220000</td>\n      <td>-11.886667</td>\n      <td>-11.720000</td>\n      <td>-12.020</td>\n      <td>-12.755</td>\n      <td>...</td>\n      <td>-2.4125</td>\n      <td>-2.5625</td>\n      <td>-2.3000</td>\n      <td>0.05</td>\n      <td>1.000000e-01</td>\n      <td>0.150</td>\n      <td>-0.0750</td>\n      <td>-0.012500</td>\n      <td>-0.066667</td>\n      <td>0</td>\n    </tr>\n    <tr>\n      <th>10006</th>\n      <td>-18.0</td>\n      <td>18.0</td>\n      <td>433.45</td>\n      <td>469.65</td>\n      <td>-73.25</td>\n      <td>-11.706667</td>\n      <td>-11.540000</td>\n      <td>-11.840000</td>\n      <td>-12.575</td>\n      <td>-12.405</td>\n      <td>...</td>\n      <td>-2.3825</td>\n      <td>-2.1200</td>\n      <td>0.2300</td>\n      <td>0.28</td>\n      <td>3.300000e-01</td>\n      <td>0.105</td>\n      <td>0.1675</td>\n      <td>0.113333</td>\n      <td>0.230000</td>\n      <td>0</td>\n    </tr>\n  </tbody>\n</table>\n<p>10007 rows × 606 columns</p>\n</div>"
     },
     "metadata": {},
     "execution_count": 8
    }
   ],
   "source": [
    "from s3fs.core import S3FileSystem\n",
    "s3fs = S3FileSystem(anon=False,session=boto3_session)\n",
    "\n",
    "import pandas as pd\n",
    "df=pd.read_csv(s3fs.open('s3://bucket-mldemo-dev-20200327141354666900000003/transformed/all_data.csv'),header=None)\n",
    "# evaluation_data_df.loc[0].tolist()[0:72]\n",
    "df"
   ]
  },
  {
   "cell_type": "code",
   "execution_count": 9,
   "metadata": {},
   "outputs": [
    {
     "output_type": "execute_result",
     "data": {
      "text/plain": "      index     0     1       2       3      4          5          6  \\\n0      8507 -18.0  18.0  422.10  458.30 -84.60  32.086667  32.063333   \n1      8508 -18.0  18.0  422.71  458.91 -83.99  32.673333  32.425000   \n2      8509 -18.0  18.0  422.76  458.96 -83.94  32.475000  32.500000   \n3      8510 -18.0  18.0  421.65  457.85 -85.05  31.390000  31.500000   \n4      8511 -18.0  18.0  422.34  458.54 -84.36  32.190000  32.040000   \n...     ...   ...   ...     ...     ...    ...        ...        ...   \n1495  10002 -18.0  18.0  433.22  469.42 -73.48 -12.270000 -12.270000   \n1496  10003 -18.0  18.0  433.17  469.37 -73.53 -12.320000 -11.986667   \n1497  10004 -18.0  18.0  433.22  469.42 -73.48 -12.270000 -11.936667   \n1498  10005 -18.0  18.0  433.27  469.47 -73.43 -12.220000 -11.886667   \n1499  10006 -18.0  18.0  433.45  469.65 -73.25 -11.706667 -11.540000   \n\n              7       8  ...     596     597     598   599           600  \\\n0     31.815000  31.840  ...  0.9400  0.4200  0.0800 -0.77 -1.280000e+00   \n1     32.450000  32.560  ...  1.0300  0.6900 -0.1600 -0.67 -1.600000e-01   \n2     32.610000  32.460  ...  0.7400 -0.1100 -0.6200 -0.11  1.270000e+00   \n3     31.350000  31.250  ... -1.2200 -1.7300 -1.2200  0.16  6.000000e-02   \n4     31.940000  32.470  ... -1.0400 -0.5300  0.8500  0.75  5.800000e-01   \n...         ...     ...  ...     ...     ...     ...   ...           ...   \n1495 -11.936667 -11.770  ... -2.4900 -2.4625 -2.6125 -2.35  0.000000e+00   \n1496 -11.820000 -12.120  ... -2.5125 -2.6625 -2.4000 -0.05 -9.094947e-13   \n1497 -11.770000 -12.070  ... -2.4625 -2.6125 -2.3500  0.00  5.000000e-02   \n1498 -11.720000 -12.020  ... -2.4125 -2.5625 -2.3000  0.05  1.000000e-01   \n1499 -11.840000 -12.575  ... -2.3825 -2.1200  0.2300  0.28  3.300000e-01   \n\n        601     602       603       604  605  \n0    -0.770  0.6100  0.510000  0.340000    0  \n1     1.220  1.1200  0.950000  0.610000    0  \n2     1.170  1.0000  0.660000  0.050000    0  \n3    -0.110 -0.4500 -1.060000 -1.110000    0  \n4     0.240 -0.3700 -0.420000  0.690000    0  \n...     ...     ...       ...       ...  ...  \n1495  0.050  0.1000 -0.125000 -0.062500    0  \n1496  0.050 -0.1750 -0.112500 -0.166667    0  \n1497  0.100 -0.1250 -0.062500 -0.116667    0  \n1498  0.150 -0.0750 -0.012500 -0.066667    0  \n1499  0.105  0.1675  0.113333  0.230000    0  \n\n[1500 rows x 607 columns]",
      "text/html": "<div>\n<style scoped>\n    .dataframe tbody tr th:only-of-type {\n        vertical-align: middle;\n    }\n\n    .dataframe tbody tr th {\n        vertical-align: top;\n    }\n\n    .dataframe thead th {\n        text-align: right;\n    }\n</style>\n<table border=\"1\" class=\"dataframe\">\n  <thead>\n    <tr style=\"text-align: right;\">\n      <th></th>\n      <th>index</th>\n      <th>0</th>\n      <th>1</th>\n      <th>2</th>\n      <th>3</th>\n      <th>4</th>\n      <th>5</th>\n      <th>6</th>\n      <th>7</th>\n      <th>8</th>\n      <th>...</th>\n      <th>596</th>\n      <th>597</th>\n      <th>598</th>\n      <th>599</th>\n      <th>600</th>\n      <th>601</th>\n      <th>602</th>\n      <th>603</th>\n      <th>604</th>\n      <th>605</th>\n    </tr>\n  </thead>\n  <tbody>\n    <tr>\n      <th>0</th>\n      <td>8507</td>\n      <td>-18.0</td>\n      <td>18.0</td>\n      <td>422.10</td>\n      <td>458.30</td>\n      <td>-84.60</td>\n      <td>32.086667</td>\n      <td>32.063333</td>\n      <td>31.815000</td>\n      <td>31.840</td>\n      <td>...</td>\n      <td>0.9400</td>\n      <td>0.4200</td>\n      <td>0.0800</td>\n      <td>-0.77</td>\n      <td>-1.280000e+00</td>\n      <td>-0.770</td>\n      <td>0.6100</td>\n      <td>0.510000</td>\n      <td>0.340000</td>\n      <td>0</td>\n    </tr>\n    <tr>\n      <th>1</th>\n      <td>8508</td>\n      <td>-18.0</td>\n      <td>18.0</td>\n      <td>422.71</td>\n      <td>458.91</td>\n      <td>-83.99</td>\n      <td>32.673333</td>\n      <td>32.425000</td>\n      <td>32.450000</td>\n      <td>32.560</td>\n      <td>...</td>\n      <td>1.0300</td>\n      <td>0.6900</td>\n      <td>-0.1600</td>\n      <td>-0.67</td>\n      <td>-1.600000e-01</td>\n      <td>1.220</td>\n      <td>1.1200</td>\n      <td>0.950000</td>\n      <td>0.610000</td>\n      <td>0</td>\n    </tr>\n    <tr>\n      <th>2</th>\n      <td>8509</td>\n      <td>-18.0</td>\n      <td>18.0</td>\n      <td>422.76</td>\n      <td>458.96</td>\n      <td>-83.94</td>\n      <td>32.475000</td>\n      <td>32.500000</td>\n      <td>32.610000</td>\n      <td>32.460</td>\n      <td>...</td>\n      <td>0.7400</td>\n      <td>-0.1100</td>\n      <td>-0.6200</td>\n      <td>-0.11</td>\n      <td>1.270000e+00</td>\n      <td>1.170</td>\n      <td>1.0000</td>\n      <td>0.660000</td>\n      <td>0.050000</td>\n      <td>0</td>\n    </tr>\n    <tr>\n      <th>3</th>\n      <td>8510</td>\n      <td>-18.0</td>\n      <td>18.0</td>\n      <td>421.65</td>\n      <td>457.85</td>\n      <td>-85.05</td>\n      <td>31.390000</td>\n      <td>31.500000</td>\n      <td>31.350000</td>\n      <td>31.250</td>\n      <td>...</td>\n      <td>-1.2200</td>\n      <td>-1.7300</td>\n      <td>-1.2200</td>\n      <td>0.16</td>\n      <td>6.000000e-02</td>\n      <td>-0.110</td>\n      <td>-0.4500</td>\n      <td>-1.060000</td>\n      <td>-1.110000</td>\n      <td>0</td>\n    </tr>\n    <tr>\n      <th>4</th>\n      <td>8511</td>\n      <td>-18.0</td>\n      <td>18.0</td>\n      <td>422.34</td>\n      <td>458.54</td>\n      <td>-84.36</td>\n      <td>32.190000</td>\n      <td>32.040000</td>\n      <td>31.940000</td>\n      <td>32.470</td>\n      <td>...</td>\n      <td>-1.0400</td>\n      <td>-0.5300</td>\n      <td>0.8500</td>\n      <td>0.75</td>\n      <td>5.800000e-01</td>\n      <td>0.240</td>\n      <td>-0.3700</td>\n      <td>-0.420000</td>\n      <td>0.690000</td>\n      <td>0</td>\n    </tr>\n    <tr>\n      <th>...</th>\n      <td>...</td>\n      <td>...</td>\n      <td>...</td>\n      <td>...</td>\n      <td>...</td>\n      <td>...</td>\n      <td>...</td>\n      <td>...</td>\n      <td>...</td>\n      <td>...</td>\n      <td>...</td>\n      <td>...</td>\n      <td>...</td>\n      <td>...</td>\n      <td>...</td>\n      <td>...</td>\n      <td>...</td>\n      <td>...</td>\n      <td>...</td>\n      <td>...</td>\n      <td>...</td>\n    </tr>\n    <tr>\n      <th>1495</th>\n      <td>10002</td>\n      <td>-18.0</td>\n      <td>18.0</td>\n      <td>433.22</td>\n      <td>469.42</td>\n      <td>-73.48</td>\n      <td>-12.270000</td>\n      <td>-12.270000</td>\n      <td>-11.936667</td>\n      <td>-11.770</td>\n      <td>...</td>\n      <td>-2.4900</td>\n      <td>-2.4625</td>\n      <td>-2.6125</td>\n      <td>-2.35</td>\n      <td>0.000000e+00</td>\n      <td>0.050</td>\n      <td>0.1000</td>\n      <td>-0.125000</td>\n      <td>-0.062500</td>\n      <td>0</td>\n    </tr>\n    <tr>\n      <th>1496</th>\n      <td>10003</td>\n      <td>-18.0</td>\n      <td>18.0</td>\n      <td>433.17</td>\n      <td>469.37</td>\n      <td>-73.53</td>\n      <td>-12.320000</td>\n      <td>-11.986667</td>\n      <td>-11.820000</td>\n      <td>-12.120</td>\n      <td>...</td>\n      <td>-2.5125</td>\n      <td>-2.6625</td>\n      <td>-2.4000</td>\n      <td>-0.05</td>\n      <td>-9.094947e-13</td>\n      <td>0.050</td>\n      <td>-0.1750</td>\n      <td>-0.112500</td>\n      <td>-0.166667</td>\n      <td>0</td>\n    </tr>\n    <tr>\n      <th>1497</th>\n      <td>10004</td>\n      <td>-18.0</td>\n      <td>18.0</td>\n      <td>433.22</td>\n      <td>469.42</td>\n      <td>-73.48</td>\n      <td>-12.270000</td>\n      <td>-11.936667</td>\n      <td>-11.770000</td>\n      <td>-12.070</td>\n      <td>...</td>\n      <td>-2.4625</td>\n      <td>-2.6125</td>\n      <td>-2.3500</td>\n      <td>0.00</td>\n      <td>5.000000e-02</td>\n      <td>0.100</td>\n      <td>-0.1250</td>\n      <td>-0.062500</td>\n      <td>-0.116667</td>\n      <td>0</td>\n    </tr>\n    <tr>\n      <th>1498</th>\n      <td>10005</td>\n      <td>-18.0</td>\n      <td>18.0</td>\n      <td>433.27</td>\n      <td>469.47</td>\n      <td>-73.43</td>\n      <td>-12.220000</td>\n      <td>-11.886667</td>\n      <td>-11.720000</td>\n      <td>-12.020</td>\n      <td>...</td>\n      <td>-2.4125</td>\n      <td>-2.5625</td>\n      <td>-2.3000</td>\n      <td>0.05</td>\n      <td>1.000000e-01</td>\n      <td>0.150</td>\n      <td>-0.0750</td>\n      <td>-0.012500</td>\n      <td>-0.066667</td>\n      <td>0</td>\n    </tr>\n    <tr>\n      <th>1499</th>\n      <td>10006</td>\n      <td>-18.0</td>\n      <td>18.0</td>\n      <td>433.45</td>\n      <td>469.65</td>\n      <td>-73.25</td>\n      <td>-11.706667</td>\n      <td>-11.540000</td>\n      <td>-11.840000</td>\n      <td>-12.575</td>\n      <td>...</td>\n      <td>-2.3825</td>\n      <td>-2.1200</td>\n      <td>0.2300</td>\n      <td>0.28</td>\n      <td>3.300000e-01</td>\n      <td>0.105</td>\n      <td>0.1675</td>\n      <td>0.113333</td>\n      <td>0.230000</td>\n      <td>0</td>\n    </tr>\n  </tbody>\n</table>\n<p>1500 rows × 607 columns</p>\n</div>"
     },
     "metadata": {},
     "execution_count": 9
    }
   ],
   "source": [
    "evaluation_data_df=df[round(len(df)*0.85+1):].copy().reset_index()\n",
    "evaluation_data_df"
   ]
  },
  {
   "cell_type": "code",
   "execution_count": 10,
   "metadata": {},
   "outputs": [
    {
     "output_type": "execute_result",
     "data": {
      "text/plain": "{'predictions': [{'score': 0.6065435409545898, 'predicted_label': 0.0}]}"
     },
     "metadata": {},
     "execution_count": 10
    }
   ],
   "source": [
    "data=','.join([str(x) for x in evaluation_data_df.loc[0].tolist()[0:605]])\n",
    "linear_predictor.predict(data)"
   ]
  },
  {
   "cell_type": "code",
   "execution_count": 11,
   "metadata": {},
   "outputs": [],
   "source": [
    "def eval_func(row):\n",
    "    csv=','.join(row.tolist()[0:605])\n",
    "    result=linear_predictor.predict(csv)\n",
    "    return result\n",
    "results=evaluation_data_df.astype(str).apply(eval_func,axis=1)"
   ]
  },
  {
   "cell_type": "code",
   "execution_count": 12,
   "metadata": {},
   "outputs": [
    {
     "output_type": "execute_result",
     "data": {
      "text/plain": "{'predictions': [{'score': 0.6065435409545898, 'predicted_label': 0.0}]}"
     },
     "metadata": {},
     "execution_count": 12
    }
   ],
   "source": [
    "results[0]"
   ]
  },
  {
   "cell_type": "code",
   "execution_count": 13,
   "metadata": {},
   "outputs": [],
   "source": [
    "predicted_labels=[1 if i['predictions'][0]['predicted_label']==1.0 else 0 for i in results]"
   ]
  },
  {
   "cell_type": "code",
   "execution_count": 14,
   "metadata": {},
   "outputs": [],
   "source": [
    "score=[i['predictions'][0]['score'] for i in results]"
   ]
  },
  {
   "cell_type": "code",
   "execution_count": 15,
   "metadata": {},
   "outputs": [
    {
     "output_type": "execute_result",
     "data": {
      "text/plain": "      index     0     1       2       3      4          5          6  \\\n0      8507 -18.0  18.0  422.10  458.30 -84.60  32.086667  32.063333   \n1      8508 -18.0  18.0  422.71  458.91 -83.99  32.673333  32.425000   \n2      8509 -18.0  18.0  422.76  458.96 -83.94  32.475000  32.500000   \n3      8510 -18.0  18.0  421.65  457.85 -85.05  31.390000  31.500000   \n4      8511 -18.0  18.0  422.34  458.54 -84.36  32.190000  32.040000   \n...     ...   ...   ...     ...     ...    ...        ...        ...   \n1495  10002 -18.0  18.0  433.22  469.42 -73.48 -12.270000 -12.270000   \n1496  10003 -18.0  18.0  433.17  469.37 -73.53 -12.320000 -11.986667   \n1497  10004 -18.0  18.0  433.22  469.42 -73.48 -12.270000 -11.936667   \n1498  10005 -18.0  18.0  433.27  469.47 -73.43 -12.220000 -11.886667   \n1499  10006 -18.0  18.0  433.45  469.65 -73.25 -11.706667 -11.540000   \n\n              7       8  ...     598   599           600    601     602  \\\n0     31.815000  31.840  ...  0.0800 -0.77 -1.280000e+00 -0.770  0.6100   \n1     32.450000  32.560  ... -0.1600 -0.67 -1.600000e-01  1.220  1.1200   \n2     32.610000  32.460  ... -0.6200 -0.11  1.270000e+00  1.170  1.0000   \n3     31.350000  31.250  ... -1.2200  0.16  6.000000e-02 -0.110 -0.4500   \n4     31.940000  32.470  ...  0.8500  0.75  5.800000e-01  0.240 -0.3700   \n...         ...     ...  ...     ...   ...           ...    ...     ...   \n1495 -11.936667 -11.770  ... -2.6125 -2.35  0.000000e+00  0.050  0.1000   \n1496 -11.820000 -12.120  ... -2.4000 -0.05 -9.094947e-13  0.050 -0.1750   \n1497 -11.770000 -12.070  ... -2.3500  0.00  5.000000e-02  0.100 -0.1250   \n1498 -11.720000 -12.020  ... -2.3000  0.05  1.000000e-01  0.150 -0.0750   \n1499 -11.840000 -12.575  ...  0.2300  0.28  3.300000e-01  0.105  0.1675   \n\n           603       604  605  predicted_labels     score  \n0     0.510000  0.340000    0                 0  0.606544  \n1     0.950000  0.610000    0                 0  0.642264  \n2     0.660000  0.050000    0                 0  0.654851  \n3    -1.060000 -1.110000    0                 0  0.623339  \n4    -0.420000  0.690000    0                 0  0.636813  \n...        ...       ...  ...               ...       ...  \n1495 -0.125000 -0.062500    0                 0  0.274829  \n1496 -0.112500 -0.166667    0                 0  0.288146  \n1497 -0.062500 -0.116667    0                 0  0.289661  \n1498 -0.012500 -0.066667    0                 0  0.291181  \n1499  0.113333  0.230000    0                 0  0.305051  \n\n[1500 rows x 609 columns]",
      "text/html": "<div>\n<style scoped>\n    .dataframe tbody tr th:only-of-type {\n        vertical-align: middle;\n    }\n\n    .dataframe tbody tr th {\n        vertical-align: top;\n    }\n\n    .dataframe thead th {\n        text-align: right;\n    }\n</style>\n<table border=\"1\" class=\"dataframe\">\n  <thead>\n    <tr style=\"text-align: right;\">\n      <th></th>\n      <th>index</th>\n      <th>0</th>\n      <th>1</th>\n      <th>2</th>\n      <th>3</th>\n      <th>4</th>\n      <th>5</th>\n      <th>6</th>\n      <th>7</th>\n      <th>8</th>\n      <th>...</th>\n      <th>598</th>\n      <th>599</th>\n      <th>600</th>\n      <th>601</th>\n      <th>602</th>\n      <th>603</th>\n      <th>604</th>\n      <th>605</th>\n      <th>predicted_labels</th>\n      <th>score</th>\n    </tr>\n  </thead>\n  <tbody>\n    <tr>\n      <th>0</th>\n      <td>8507</td>\n      <td>-18.0</td>\n      <td>18.0</td>\n      <td>422.10</td>\n      <td>458.30</td>\n      <td>-84.60</td>\n      <td>32.086667</td>\n      <td>32.063333</td>\n      <td>31.815000</td>\n      <td>31.840</td>\n      <td>...</td>\n      <td>0.0800</td>\n      <td>-0.77</td>\n      <td>-1.280000e+00</td>\n      <td>-0.770</td>\n      <td>0.6100</td>\n      <td>0.510000</td>\n      <td>0.340000</td>\n      <td>0</td>\n      <td>0</td>\n      <td>0.606544</td>\n    </tr>\n    <tr>\n      <th>1</th>\n      <td>8508</td>\n      <td>-18.0</td>\n      <td>18.0</td>\n      <td>422.71</td>\n      <td>458.91</td>\n      <td>-83.99</td>\n      <td>32.673333</td>\n      <td>32.425000</td>\n      <td>32.450000</td>\n      <td>32.560</td>\n      <td>...</td>\n      <td>-0.1600</td>\n      <td>-0.67</td>\n      <td>-1.600000e-01</td>\n      <td>1.220</td>\n      <td>1.1200</td>\n      <td>0.950000</td>\n      <td>0.610000</td>\n      <td>0</td>\n      <td>0</td>\n      <td>0.642264</td>\n    </tr>\n    <tr>\n      <th>2</th>\n      <td>8509</td>\n      <td>-18.0</td>\n      <td>18.0</td>\n      <td>422.76</td>\n      <td>458.96</td>\n      <td>-83.94</td>\n      <td>32.475000</td>\n      <td>32.500000</td>\n      <td>32.610000</td>\n      <td>32.460</td>\n      <td>...</td>\n      <td>-0.6200</td>\n      <td>-0.11</td>\n      <td>1.270000e+00</td>\n      <td>1.170</td>\n      <td>1.0000</td>\n      <td>0.660000</td>\n      <td>0.050000</td>\n      <td>0</td>\n      <td>0</td>\n      <td>0.654851</td>\n    </tr>\n    <tr>\n      <th>3</th>\n      <td>8510</td>\n      <td>-18.0</td>\n      <td>18.0</td>\n      <td>421.65</td>\n      <td>457.85</td>\n      <td>-85.05</td>\n      <td>31.390000</td>\n      <td>31.500000</td>\n      <td>31.350000</td>\n      <td>31.250</td>\n      <td>...</td>\n      <td>-1.2200</td>\n      <td>0.16</td>\n      <td>6.000000e-02</td>\n      <td>-0.110</td>\n      <td>-0.4500</td>\n      <td>-1.060000</td>\n      <td>-1.110000</td>\n      <td>0</td>\n      <td>0</td>\n      <td>0.623339</td>\n    </tr>\n    <tr>\n      <th>4</th>\n      <td>8511</td>\n      <td>-18.0</td>\n      <td>18.0</td>\n      <td>422.34</td>\n      <td>458.54</td>\n      <td>-84.36</td>\n      <td>32.190000</td>\n      <td>32.040000</td>\n      <td>31.940000</td>\n      <td>32.470</td>\n      <td>...</td>\n      <td>0.8500</td>\n      <td>0.75</td>\n      <td>5.800000e-01</td>\n      <td>0.240</td>\n      <td>-0.3700</td>\n      <td>-0.420000</td>\n      <td>0.690000</td>\n      <td>0</td>\n      <td>0</td>\n      <td>0.636813</td>\n    </tr>\n    <tr>\n      <th>...</th>\n      <td>...</td>\n      <td>...</td>\n      <td>...</td>\n      <td>...</td>\n      <td>...</td>\n      <td>...</td>\n      <td>...</td>\n      <td>...</td>\n      <td>...</td>\n      <td>...</td>\n      <td>...</td>\n      <td>...</td>\n      <td>...</td>\n      <td>...</td>\n      <td>...</td>\n      <td>...</td>\n      <td>...</td>\n      <td>...</td>\n      <td>...</td>\n      <td>...</td>\n      <td>...</td>\n    </tr>\n    <tr>\n      <th>1495</th>\n      <td>10002</td>\n      <td>-18.0</td>\n      <td>18.0</td>\n      <td>433.22</td>\n      <td>469.42</td>\n      <td>-73.48</td>\n      <td>-12.270000</td>\n      <td>-12.270000</td>\n      <td>-11.936667</td>\n      <td>-11.770</td>\n      <td>...</td>\n      <td>-2.6125</td>\n      <td>-2.35</td>\n      <td>0.000000e+00</td>\n      <td>0.050</td>\n      <td>0.1000</td>\n      <td>-0.125000</td>\n      <td>-0.062500</td>\n      <td>0</td>\n      <td>0</td>\n      <td>0.274829</td>\n    </tr>\n    <tr>\n      <th>1496</th>\n      <td>10003</td>\n      <td>-18.0</td>\n      <td>18.0</td>\n      <td>433.17</td>\n      <td>469.37</td>\n      <td>-73.53</td>\n      <td>-12.320000</td>\n      <td>-11.986667</td>\n      <td>-11.820000</td>\n      <td>-12.120</td>\n      <td>...</td>\n      <td>-2.4000</td>\n      <td>-0.05</td>\n      <td>-9.094947e-13</td>\n      <td>0.050</td>\n      <td>-0.1750</td>\n      <td>-0.112500</td>\n      <td>-0.166667</td>\n      <td>0</td>\n      <td>0</td>\n      <td>0.288146</td>\n    </tr>\n    <tr>\n      <th>1497</th>\n      <td>10004</td>\n      <td>-18.0</td>\n      <td>18.0</td>\n      <td>433.22</td>\n      <td>469.42</td>\n      <td>-73.48</td>\n      <td>-12.270000</td>\n      <td>-11.936667</td>\n      <td>-11.770000</td>\n      <td>-12.070</td>\n      <td>...</td>\n      <td>-2.3500</td>\n      <td>0.00</td>\n      <td>5.000000e-02</td>\n      <td>0.100</td>\n      <td>-0.1250</td>\n      <td>-0.062500</td>\n      <td>-0.116667</td>\n      <td>0</td>\n      <td>0</td>\n      <td>0.289661</td>\n    </tr>\n    <tr>\n      <th>1498</th>\n      <td>10005</td>\n      <td>-18.0</td>\n      <td>18.0</td>\n      <td>433.27</td>\n      <td>469.47</td>\n      <td>-73.43</td>\n      <td>-12.220000</td>\n      <td>-11.886667</td>\n      <td>-11.720000</td>\n      <td>-12.020</td>\n      <td>...</td>\n      <td>-2.3000</td>\n      <td>0.05</td>\n      <td>1.000000e-01</td>\n      <td>0.150</td>\n      <td>-0.0750</td>\n      <td>-0.012500</td>\n      <td>-0.066667</td>\n      <td>0</td>\n      <td>0</td>\n      <td>0.291181</td>\n    </tr>\n    <tr>\n      <th>1499</th>\n      <td>10006</td>\n      <td>-18.0</td>\n      <td>18.0</td>\n      <td>433.45</td>\n      <td>469.65</td>\n      <td>-73.25</td>\n      <td>-11.706667</td>\n      <td>-11.540000</td>\n      <td>-11.840000</td>\n      <td>-12.575</td>\n      <td>...</td>\n      <td>0.2300</td>\n      <td>0.28</td>\n      <td>3.300000e-01</td>\n      <td>0.105</td>\n      <td>0.1675</td>\n      <td>0.113333</td>\n      <td>0.230000</td>\n      <td>0</td>\n      <td>0</td>\n      <td>0.305051</td>\n    </tr>\n  </tbody>\n</table>\n<p>1500 rows × 609 columns</p>\n</div>"
     },
     "metadata": {},
     "execution_count": 15
    }
   ],
   "source": [
    "evaluation_data_df['predicted_labels']=predicted_labels\n",
    "evaluation_data_df['score']=score\n",
    "evaluation_data_df"
   ]
  },
  {
   "cell_type": "code",
   "execution_count": 16,
   "metadata": {},
   "outputs": [
    {
     "output_type": "execute_result",
     "data": {
      "text/plain": "     index     0     1       2       3      4        5       6       7  \\\n10    8517 -18.0  18.0  425.88  462.08 -80.82  34.1600  33.630  29.830   \n99    8606 -18.0  18.0  423.26  459.46 -83.44  22.3325  22.210  22.210   \n100   8607 -18.0  18.0  423.43  459.63 -83.27  22.5025  22.380  22.380   \n101   8608 -18.0  18.0  423.26  459.46 -83.44  22.3325  22.210  22.210   \n102   8609 -18.0  18.0  423.60  459.80 -83.10  22.6725  22.550  22.550   \n..     ...   ...   ...     ...     ...    ...      ...     ...     ...   \n988   9495 -18.0  18.0  456.43  492.63 -50.27  35.3850  35.360  35.510   \n989   9496 -18.0  18.0  456.38  492.58 -50.32  35.3100  35.460  35.435   \n990   9497 -18.0  18.0  456.28  492.48 -50.42  35.2100  35.360  35.335   \n991   9498 -18.0  18.0  456.18  492.38 -50.52  35.1100  35.260  35.235   \n992   9499 -18.0  18.0  456.00  492.20 -50.70  35.0800  35.055  34.955   \n\n             8  ...     598     599   600   601       602       603       604  \\\n10   28.380000  ...  4.2300  3.5400  3.25  1.88  1.650000  1.600000  0.920000   \n99   22.300000  ...  4.4000  4.2300  4.06  3.89  2.400000  1.870000  1.750000   \n100  22.470000  ...  4.5700  4.4000  4.23  4.06  2.570000  2.040000  1.920000   \n101  22.300000  ...  4.4000  4.2300  4.06  3.89  2.400000  1.870000  1.750000   \n102  22.640000  ...  4.7400  4.5700  4.40  4.23  2.740000  2.210000  2.090000   \n..         ...  ...     ...     ...   ...   ...       ...       ...       ...   \n988  35.485000  ... -0.9225 -1.0075 -1.53 -1.95 -2.000000 -2.050000 -1.833333   \n989  35.335000  ... -1.0575 -1.5800 -2.00 -2.05 -2.100000 -1.883333 -0.050000   \n990  35.235000  ... -1.1575 -1.6800 -2.10 -2.15 -2.200000 -1.983333 -0.150000   \n991  35.135000  ... -1.2575 -1.7800 -2.20 -2.25 -2.300000 -2.083333 -0.250000   \n992  36.746667  ... -1.9600 -2.3800 -2.43 -2.48 -2.263333 -0.430000 -0.280000   \n\n     605  predicted_labels     score  \n10     0                 1  0.755484  \n99     0                 1  0.756744  \n100    0                 1  0.761357  \n101    0                 1  0.756721  \n102    0                 1  0.765899  \n..   ...               ...       ...  \n988    1                 1  0.793304  \n989    1                 1  0.778348  \n990    1                 1  0.775760  \n991    1                 1  0.773151  \n992    1                 1  0.759043  \n\n[557 rows x 609 columns]",
      "text/html": "<div>\n<style scoped>\n    .dataframe tbody tr th:only-of-type {\n        vertical-align: middle;\n    }\n\n    .dataframe tbody tr th {\n        vertical-align: top;\n    }\n\n    .dataframe thead th {\n        text-align: right;\n    }\n</style>\n<table border=\"1\" class=\"dataframe\">\n  <thead>\n    <tr style=\"text-align: right;\">\n      <th></th>\n      <th>index</th>\n      <th>0</th>\n      <th>1</th>\n      <th>2</th>\n      <th>3</th>\n      <th>4</th>\n      <th>5</th>\n      <th>6</th>\n      <th>7</th>\n      <th>8</th>\n      <th>...</th>\n      <th>598</th>\n      <th>599</th>\n      <th>600</th>\n      <th>601</th>\n      <th>602</th>\n      <th>603</th>\n      <th>604</th>\n      <th>605</th>\n      <th>predicted_labels</th>\n      <th>score</th>\n    </tr>\n  </thead>\n  <tbody>\n    <tr>\n      <th>10</th>\n      <td>8517</td>\n      <td>-18.0</td>\n      <td>18.0</td>\n      <td>425.88</td>\n      <td>462.08</td>\n      <td>-80.82</td>\n      <td>34.1600</td>\n      <td>33.630</td>\n      <td>29.830</td>\n      <td>28.380000</td>\n      <td>...</td>\n      <td>4.2300</td>\n      <td>3.5400</td>\n      <td>3.25</td>\n      <td>1.88</td>\n      <td>1.650000</td>\n      <td>1.600000</td>\n      <td>0.920000</td>\n      <td>0</td>\n      <td>1</td>\n      <td>0.755484</td>\n    </tr>\n    <tr>\n      <th>99</th>\n      <td>8606</td>\n      <td>-18.0</td>\n      <td>18.0</td>\n      <td>423.26</td>\n      <td>459.46</td>\n      <td>-83.44</td>\n      <td>22.3325</td>\n      <td>22.210</td>\n      <td>22.210</td>\n      <td>22.300000</td>\n      <td>...</td>\n      <td>4.4000</td>\n      <td>4.2300</td>\n      <td>4.06</td>\n      <td>3.89</td>\n      <td>2.400000</td>\n      <td>1.870000</td>\n      <td>1.750000</td>\n      <td>0</td>\n      <td>1</td>\n      <td>0.756744</td>\n    </tr>\n    <tr>\n      <th>100</th>\n      <td>8607</td>\n      <td>-18.0</td>\n      <td>18.0</td>\n      <td>423.43</td>\n      <td>459.63</td>\n      <td>-83.27</td>\n      <td>22.5025</td>\n      <td>22.380</td>\n      <td>22.380</td>\n      <td>22.470000</td>\n      <td>...</td>\n      <td>4.5700</td>\n      <td>4.4000</td>\n      <td>4.23</td>\n      <td>4.06</td>\n      <td>2.570000</td>\n      <td>2.040000</td>\n      <td>1.920000</td>\n      <td>0</td>\n      <td>1</td>\n      <td>0.761357</td>\n    </tr>\n    <tr>\n      <th>101</th>\n      <td>8608</td>\n      <td>-18.0</td>\n      <td>18.0</td>\n      <td>423.26</td>\n      <td>459.46</td>\n      <td>-83.44</td>\n      <td>22.3325</td>\n      <td>22.210</td>\n      <td>22.210</td>\n      <td>22.300000</td>\n      <td>...</td>\n      <td>4.4000</td>\n      <td>4.2300</td>\n      <td>4.06</td>\n      <td>3.89</td>\n      <td>2.400000</td>\n      <td>1.870000</td>\n      <td>1.750000</td>\n      <td>0</td>\n      <td>1</td>\n      <td>0.756721</td>\n    </tr>\n    <tr>\n      <th>102</th>\n      <td>8609</td>\n      <td>-18.0</td>\n      <td>18.0</td>\n      <td>423.60</td>\n      <td>459.80</td>\n      <td>-83.10</td>\n      <td>22.6725</td>\n      <td>22.550</td>\n      <td>22.550</td>\n      <td>22.640000</td>\n      <td>...</td>\n      <td>4.7400</td>\n      <td>4.5700</td>\n      <td>4.40</td>\n      <td>4.23</td>\n      <td>2.740000</td>\n      <td>2.210000</td>\n      <td>2.090000</td>\n      <td>0</td>\n      <td>1</td>\n      <td>0.765899</td>\n    </tr>\n    <tr>\n      <th>...</th>\n      <td>...</td>\n      <td>...</td>\n      <td>...</td>\n      <td>...</td>\n      <td>...</td>\n      <td>...</td>\n      <td>...</td>\n      <td>...</td>\n      <td>...</td>\n      <td>...</td>\n      <td>...</td>\n      <td>...</td>\n      <td>...</td>\n      <td>...</td>\n      <td>...</td>\n      <td>...</td>\n      <td>...</td>\n      <td>...</td>\n      <td>...</td>\n      <td>...</td>\n      <td>...</td>\n    </tr>\n    <tr>\n      <th>988</th>\n      <td>9495</td>\n      <td>-18.0</td>\n      <td>18.0</td>\n      <td>456.43</td>\n      <td>492.63</td>\n      <td>-50.27</td>\n      <td>35.3850</td>\n      <td>35.360</td>\n      <td>35.510</td>\n      <td>35.485000</td>\n      <td>...</td>\n      <td>-0.9225</td>\n      <td>-1.0075</td>\n      <td>-1.53</td>\n      <td>-1.95</td>\n      <td>-2.000000</td>\n      <td>-2.050000</td>\n      <td>-1.833333</td>\n      <td>1</td>\n      <td>1</td>\n      <td>0.793304</td>\n    </tr>\n    <tr>\n      <th>989</th>\n      <td>9496</td>\n      <td>-18.0</td>\n      <td>18.0</td>\n      <td>456.38</td>\n      <td>492.58</td>\n      <td>-50.32</td>\n      <td>35.3100</td>\n      <td>35.460</td>\n      <td>35.435</td>\n      <td>35.335000</td>\n      <td>...</td>\n      <td>-1.0575</td>\n      <td>-1.5800</td>\n      <td>-2.00</td>\n      <td>-2.05</td>\n      <td>-2.100000</td>\n      <td>-1.883333</td>\n      <td>-0.050000</td>\n      <td>1</td>\n      <td>1</td>\n      <td>0.778348</td>\n    </tr>\n    <tr>\n      <th>990</th>\n      <td>9497</td>\n      <td>-18.0</td>\n      <td>18.0</td>\n      <td>456.28</td>\n      <td>492.48</td>\n      <td>-50.42</td>\n      <td>35.2100</td>\n      <td>35.360</td>\n      <td>35.335</td>\n      <td>35.235000</td>\n      <td>...</td>\n      <td>-1.1575</td>\n      <td>-1.6800</td>\n      <td>-2.10</td>\n      <td>-2.15</td>\n      <td>-2.200000</td>\n      <td>-1.983333</td>\n      <td>-0.150000</td>\n      <td>1</td>\n      <td>1</td>\n      <td>0.775760</td>\n    </tr>\n    <tr>\n      <th>991</th>\n      <td>9498</td>\n      <td>-18.0</td>\n      <td>18.0</td>\n      <td>456.18</td>\n      <td>492.38</td>\n      <td>-50.52</td>\n      <td>35.1100</td>\n      <td>35.260</td>\n      <td>35.235</td>\n      <td>35.135000</td>\n      <td>...</td>\n      <td>-1.2575</td>\n      <td>-1.7800</td>\n      <td>-2.20</td>\n      <td>-2.25</td>\n      <td>-2.300000</td>\n      <td>-2.083333</td>\n      <td>-0.250000</td>\n      <td>1</td>\n      <td>1</td>\n      <td>0.773151</td>\n    </tr>\n    <tr>\n      <th>992</th>\n      <td>9499</td>\n      <td>-18.0</td>\n      <td>18.0</td>\n      <td>456.00</td>\n      <td>492.20</td>\n      <td>-50.70</td>\n      <td>35.0800</td>\n      <td>35.055</td>\n      <td>34.955</td>\n      <td>36.746667</td>\n      <td>...</td>\n      <td>-1.9600</td>\n      <td>-2.3800</td>\n      <td>-2.43</td>\n      <td>-2.48</td>\n      <td>-2.263333</td>\n      <td>-0.430000</td>\n      <td>-0.280000</td>\n      <td>1</td>\n      <td>1</td>\n      <td>0.759043</td>\n    </tr>\n  </tbody>\n</table>\n<p>557 rows × 609 columns</p>\n</div>"
     },
     "metadata": {},
     "execution_count": 16
    }
   ],
   "source": [
    "evaluation_data_df[evaluation_data_df['predicted_labels']==1]"
   ]
  },
  {
   "cell_type": "code",
   "execution_count": 37,
   "metadata": {},
   "outputs": [
    {
     "output_type": "execute_result",
     "data": {
      "text/plain": "     index     0     1       2       3      4       5       6          7  \\\n724   9231 -18.0  18.0  461.02  497.22 -45.68  38.650  38.635  38.330000   \n725   9232 -18.0  18.0  460.99  497.19 -45.71  38.605  38.300  36.860000   \n726   9233 -18.0  18.0  460.78  496.98 -45.92  38.395  38.090  36.650000   \n731   9238 -18.0  18.0  460.19  496.39 -46.51  36.060  35.520  35.623333   \n727   9234 -18.0  18.0  460.52  496.72 -46.18  38.135  37.830  36.390000   \n..     ...   ...   ...     ...     ...    ...     ...     ...        ...   \n711   9218 -18.0  18.0  453.28  489.48 -53.42  27.360  27.020  26.850000   \n649   9156 -18.0  18.0  458.74  494.94 -47.96  36.570  36.050  36.910000   \n710   9217 -18.0  18.0  453.26  489.46 -53.44  27.340  27.000  26.830000   \n689   9196 -18.0  18.0  455.25  491.45 -51.45  34.400  34.200  33.650000   \n776   9283 -18.0  18.0  457.79  493.99 -48.91  31.330  30.935  30.505000   \n\n         8  ...     598    599       600    601    602       603   604  605  \\\n724  36.89  ...  7.7700  6.370  4.470000  3.830  3.660  3.130000  2.48    1   \n725  36.32  ...  6.3400  4.440  3.800000  3.630  3.100  2.450000 -0.03    1   \n726  36.11  ...  6.1300  4.230  3.590000  3.420  2.890  2.240000 -0.24    1   \n731  35.52  ...  3.0000  2.830  2.300000  1.650 -0.830 -0.573333  0.06    1   \n727  35.85  ...  5.8700  3.970  3.330000  3.160  2.630  1.980000 -0.50    1   \n..     ...  ...     ...    ...       ...    ...    ...       ...   ...  ...   \n711  26.72  ... -1.6000 -1.375  0.373333  1.555  0.010  0.240000  0.27    1   \n649  37.78  ...  0.6700  0.240  0.073333 -0.270 -0.130  0.185000  0.12    1   \n710  26.70  ... -1.6200 -1.395  0.353333  1.535 -0.010  0.220000  0.25    1   \n689  32.46  ... -0.2575  0.250  0.896667  1.130  1.160  0.880000 -0.22    1   \n776  30.42  ... -1.5650 -1.585 -1.395000 -0.950 -0.575 -0.030000  0.83    1   \n\n     predicted_labels     score  \n724                 1  0.978773  \n725                 1  0.976534  \n726                 1  0.975806  \n731                 1  0.975150  \n727                 1  0.974874  \n..                ...       ...  \n711                 1  0.911364  \n649                 1  0.911160  \n710                 1  0.911129  \n689                 1  0.910354  \n776                 1  0.910306  \n\n[150 rows x 609 columns]",
      "text/html": "<div>\n<style scoped>\n    .dataframe tbody tr th:only-of-type {\n        vertical-align: middle;\n    }\n\n    .dataframe tbody tr th {\n        vertical-align: top;\n    }\n\n    .dataframe thead th {\n        text-align: right;\n    }\n</style>\n<table border=\"1\" class=\"dataframe\">\n  <thead>\n    <tr style=\"text-align: right;\">\n      <th></th>\n      <th>index</th>\n      <th>0</th>\n      <th>1</th>\n      <th>2</th>\n      <th>3</th>\n      <th>4</th>\n      <th>5</th>\n      <th>6</th>\n      <th>7</th>\n      <th>8</th>\n      <th>...</th>\n      <th>598</th>\n      <th>599</th>\n      <th>600</th>\n      <th>601</th>\n      <th>602</th>\n      <th>603</th>\n      <th>604</th>\n      <th>605</th>\n      <th>predicted_labels</th>\n      <th>score</th>\n    </tr>\n  </thead>\n  <tbody>\n    <tr>\n      <th>724</th>\n      <td>9231</td>\n      <td>-18.0</td>\n      <td>18.0</td>\n      <td>461.02</td>\n      <td>497.22</td>\n      <td>-45.68</td>\n      <td>38.650</td>\n      <td>38.635</td>\n      <td>38.330000</td>\n      <td>36.89</td>\n      <td>...</td>\n      <td>7.7700</td>\n      <td>6.370</td>\n      <td>4.470000</td>\n      <td>3.830</td>\n      <td>3.660</td>\n      <td>3.130000</td>\n      <td>2.48</td>\n      <td>1</td>\n      <td>1</td>\n      <td>0.978773</td>\n    </tr>\n    <tr>\n      <th>725</th>\n      <td>9232</td>\n      <td>-18.0</td>\n      <td>18.0</td>\n      <td>460.99</td>\n      <td>497.19</td>\n      <td>-45.71</td>\n      <td>38.605</td>\n      <td>38.300</td>\n      <td>36.860000</td>\n      <td>36.32</td>\n      <td>...</td>\n      <td>6.3400</td>\n      <td>4.440</td>\n      <td>3.800000</td>\n      <td>3.630</td>\n      <td>3.100</td>\n      <td>2.450000</td>\n      <td>-0.03</td>\n      <td>1</td>\n      <td>1</td>\n      <td>0.976534</td>\n    </tr>\n    <tr>\n      <th>726</th>\n      <td>9233</td>\n      <td>-18.0</td>\n      <td>18.0</td>\n      <td>460.78</td>\n      <td>496.98</td>\n      <td>-45.92</td>\n      <td>38.395</td>\n      <td>38.090</td>\n      <td>36.650000</td>\n      <td>36.11</td>\n      <td>...</td>\n      <td>6.1300</td>\n      <td>4.230</td>\n      <td>3.590000</td>\n      <td>3.420</td>\n      <td>2.890</td>\n      <td>2.240000</td>\n      <td>-0.24</td>\n      <td>1</td>\n      <td>1</td>\n      <td>0.975806</td>\n    </tr>\n    <tr>\n      <th>731</th>\n      <td>9238</td>\n      <td>-18.0</td>\n      <td>18.0</td>\n      <td>460.19</td>\n      <td>496.39</td>\n      <td>-46.51</td>\n      <td>36.060</td>\n      <td>35.520</td>\n      <td>35.623333</td>\n      <td>35.52</td>\n      <td>...</td>\n      <td>3.0000</td>\n      <td>2.830</td>\n      <td>2.300000</td>\n      <td>1.650</td>\n      <td>-0.830</td>\n      <td>-0.573333</td>\n      <td>0.06</td>\n      <td>1</td>\n      <td>1</td>\n      <td>0.975150</td>\n    </tr>\n    <tr>\n      <th>727</th>\n      <td>9234</td>\n      <td>-18.0</td>\n      <td>18.0</td>\n      <td>460.52</td>\n      <td>496.72</td>\n      <td>-46.18</td>\n      <td>38.135</td>\n      <td>37.830</td>\n      <td>36.390000</td>\n      <td>35.85</td>\n      <td>...</td>\n      <td>5.8700</td>\n      <td>3.970</td>\n      <td>3.330000</td>\n      <td>3.160</td>\n      <td>2.630</td>\n      <td>1.980000</td>\n      <td>-0.50</td>\n      <td>1</td>\n      <td>1</td>\n      <td>0.974874</td>\n    </tr>\n    <tr>\n      <th>...</th>\n      <td>...</td>\n      <td>...</td>\n      <td>...</td>\n      <td>...</td>\n      <td>...</td>\n      <td>...</td>\n      <td>...</td>\n      <td>...</td>\n      <td>...</td>\n      <td>...</td>\n      <td>...</td>\n      <td>...</td>\n      <td>...</td>\n      <td>...</td>\n      <td>...</td>\n      <td>...</td>\n      <td>...</td>\n      <td>...</td>\n      <td>...</td>\n      <td>...</td>\n      <td>...</td>\n    </tr>\n    <tr>\n      <th>711</th>\n      <td>9218</td>\n      <td>-18.0</td>\n      <td>18.0</td>\n      <td>453.28</td>\n      <td>489.48</td>\n      <td>-53.42</td>\n      <td>27.360</td>\n      <td>27.020</td>\n      <td>26.850000</td>\n      <td>26.72</td>\n      <td>...</td>\n      <td>-1.6000</td>\n      <td>-1.375</td>\n      <td>0.373333</td>\n      <td>1.555</td>\n      <td>0.010</td>\n      <td>0.240000</td>\n      <td>0.27</td>\n      <td>1</td>\n      <td>1</td>\n      <td>0.911364</td>\n    </tr>\n    <tr>\n      <th>649</th>\n      <td>9156</td>\n      <td>-18.0</td>\n      <td>18.0</td>\n      <td>458.74</td>\n      <td>494.94</td>\n      <td>-47.96</td>\n      <td>36.570</td>\n      <td>36.050</td>\n      <td>36.910000</td>\n      <td>37.78</td>\n      <td>...</td>\n      <td>0.6700</td>\n      <td>0.240</td>\n      <td>0.073333</td>\n      <td>-0.270</td>\n      <td>-0.130</td>\n      <td>0.185000</td>\n      <td>0.12</td>\n      <td>1</td>\n      <td>1</td>\n      <td>0.911160</td>\n    </tr>\n    <tr>\n      <th>710</th>\n      <td>9217</td>\n      <td>-18.0</td>\n      <td>18.0</td>\n      <td>453.26</td>\n      <td>489.46</td>\n      <td>-53.44</td>\n      <td>27.340</td>\n      <td>27.000</td>\n      <td>26.830000</td>\n      <td>26.70</td>\n      <td>...</td>\n      <td>-1.6200</td>\n      <td>-1.395</td>\n      <td>0.353333</td>\n      <td>1.535</td>\n      <td>-0.010</td>\n      <td>0.220000</td>\n      <td>0.25</td>\n      <td>1</td>\n      <td>1</td>\n      <td>0.911129</td>\n    </tr>\n    <tr>\n      <th>689</th>\n      <td>9196</td>\n      <td>-18.0</td>\n      <td>18.0</td>\n      <td>455.25</td>\n      <td>491.45</td>\n      <td>-51.45</td>\n      <td>34.400</td>\n      <td>34.200</td>\n      <td>33.650000</td>\n      <td>32.46</td>\n      <td>...</td>\n      <td>-0.2575</td>\n      <td>0.250</td>\n      <td>0.896667</td>\n      <td>1.130</td>\n      <td>1.160</td>\n      <td>0.880000</td>\n      <td>-0.22</td>\n      <td>1</td>\n      <td>1</td>\n      <td>0.910354</td>\n    </tr>\n    <tr>\n      <th>776</th>\n      <td>9283</td>\n      <td>-18.0</td>\n      <td>18.0</td>\n      <td>457.79</td>\n      <td>493.99</td>\n      <td>-48.91</td>\n      <td>31.330</td>\n      <td>30.935</td>\n      <td>30.505000</td>\n      <td>30.42</td>\n      <td>...</td>\n      <td>-1.5650</td>\n      <td>-1.585</td>\n      <td>-1.395000</td>\n      <td>-0.950</td>\n      <td>-0.575</td>\n      <td>-0.030000</td>\n      <td>0.83</td>\n      <td>1</td>\n      <td>1</td>\n      <td>0.910306</td>\n    </tr>\n  </tbody>\n</table>\n<p>150 rows × 609 columns</p>\n</div>"
     },
     "metadata": {},
     "execution_count": 37
    }
   ],
   "source": [
    "most_certain=evaluation_data_df.query('score>=0.91')\n",
    "most_certain.sort_values('score',ascending=False)"
   ]
  },
  {
   "cell_type": "code",
   "execution_count": 38,
   "metadata": {},
   "outputs": [
    {
     "output_type": "execute_result",
     "data": {
      "text/plain": "                 Predicted Negative  Predicted Positive\nActual Negative                   0                  11\nActual Positive                   0                 139",
      "text/html": "<div>\n<style scoped>\n    .dataframe tbody tr th:only-of-type {\n        vertical-align: middle;\n    }\n\n    .dataframe tbody tr th {\n        vertical-align: top;\n    }\n\n    .dataframe thead th {\n        text-align: right;\n    }\n</style>\n<table border=\"1\" class=\"dataframe\">\n  <thead>\n    <tr style=\"text-align: right;\">\n      <th></th>\n      <th>Predicted Negative</th>\n      <th>Predicted Positive</th>\n    </tr>\n  </thead>\n  <tbody>\n    <tr>\n      <th>Actual Negative</th>\n      <td>0</td>\n      <td>11</td>\n    </tr>\n    <tr>\n      <th>Actual Positive</th>\n      <td>0</td>\n      <td>139</td>\n    </tr>\n  </tbody>\n</table>\n</div>"
     },
     "metadata": {},
     "execution_count": 38
    }
   ],
   "source": [
    "# Importing the metrics package from sklearn library\n",
    "from sklearn import metrics\n",
    "# Creating the confusion matrix\n",
    "cm = metrics.confusion_matrix(most_certain[605], most_certain['predicted_labels'])\n",
    "# Assigning columns names\n",
    "cm_df = pd.DataFrame(cm, \n",
    "            columns = ['Predicted Negative', 'Predicted Positive'],\n",
    "            index = ['Actual Negative', 'Actual Positive'])\n",
    "# Showing the confusion matrix\n",
    "cm_df"
   ]
  },
  {
   "cell_type": "code",
   "execution_count": null,
   "metadata": {},
   "outputs": [],
   "source": [
    "most_certain.query('predicted_labels==1').describe()"
   ]
  },
  {
   "cell_type": "code",
   "execution_count": null,
   "metadata": {},
   "outputs": [],
   "source": [
    "most_certain.query('predicted_labels==0').describe()"
   ]
  },
  {
   "cell_type": "code",
   "execution_count": null,
   "metadata": {},
   "outputs": [],
   "source": []
  }
 ],
 "metadata": {
  "kernelspec": {
   "display_name": "Python 3.7.4 64-bit ('.venv': virtualenv)",
   "language": "python",
   "name": "python37464bitvenvvirtualenv6b4f093d3fee42a4b8c0f6bd7f8294ac"
  },
  "language_info": {
   "codemirror_mode": {
    "name": "ipython",
    "version": 3
   },
   "file_extension": ".py",
   "mimetype": "text/x-python",
   "name": "python",
   "nbconvert_exporter": "python",
   "pygments_lexer": "ipython3",
   "version": "3.8.0-final"
  }
 },
 "nbformat": 4,
 "nbformat_minor": 4
}