{
 "cells": [
  {
   "cell_type": "code",
   "execution_count": null,
   "metadata": {},
   "outputs": [],
   "source": [
    "!pip install sklearn"
   ]
  },
  {
   "cell_type": "code",
   "execution_count": 428,
   "metadata": {},
   "outputs": [],
   "source": [
    "bucket = 'ml-lab-pyspark'\n",
    "prefix = 'sagemaker/linear_learner'\n",
    " \n",
    "# Define IAM role\n",
    "import boto3\n",
    "import re\n",
    "from sagemaker import get_execution_role\n",
    "\n"
   ]
  },
  {
   "cell_type": "code",
   "execution_count": 429,
   "metadata": {},
   "outputs": [],
   "source": [
    "boto3_session=boto3.Session(profile_name='ml-lab')\n",
    "\n",
    "from sagemaker.session import Session\n",
    "\n",
    "sagemaker_session=Session(boto3_session)\n",
    "\n",
    "try:\n",
    "    role = get_execution_role()\n",
    "except:\n",
    "    role=\"arn:aws:iam::814948925568:role/service-role/AmazonSageMaker-ExecutionRole-20200310T154729\""
   ]
  },
  {
   "cell_type": "code",
   "execution_count": 430,
   "metadata": {},
   "outputs": [
    {
     "data": {
      "text/plain": "'s3://ml-lab-pyspark/sagemaker/linear_learner/output'"
     },
     "execution_count": 430,
     "metadata": {},
     "output_type": "execute_result"
    }
   ],
   "source": [
    "output_location = 's3://{}/{}/output'.format(bucket, prefix)\n",
    "output_location"
   ]
  },
  {
   "cell_type": "code",
   "execution_count": null,
   "metadata": {},
   "outputs": [],
   "source": [
    "from sagemaker.inputs import s3_input\n",
    "training_data=s3_input('s3://{}/{}'.format(bucket, 'training_data.io'),\n",
    "    s3_data_type='S3Prefix',\n",
    "    input_mode=None\n",
    ")\n",
    "training_data"
   ]
  },
  {
   "cell_type": "code",
   "execution_count": null,
   "metadata": {},
   "outputs": [],
   "source": [
    "from sagemaker.amazon.amazon_estimator import get_image_uri\n",
    "container = get_image_uri(boto3.Session().region_name, 'linear-learner')"
   ]
  },
  {
   "cell_type": "code",
   "execution_count": null,
   "metadata": {},
   "outputs": [],
   "source": [
    "import boto3\n",
    "import sagemaker\n",
    "\n",
    "linear = sagemaker.estimator.Estimator(container,\n",
    "                                       role, \n",
    "                                       train_instance_count=1, \n",
    "                                       train_instance_type='ml.c4.xlarge',\n",
    "                                       output_path=output_location,\n",
    "                                       sagemaker_session=sagemaker_session)\n",
    "linear.set_hyperparameters(feature_dim=72,\n",
    "    predictor_type='binary_classifier',\n",
    "    mini_batch_size=200,\n",
    "    normalize_data=True,\n",
    "    normalize_label=False,\n",
    ")\n",
    "\n",
    "linear.fit({'train': training_data})"
   ]
  },
  {
   "cell_type": "code",
   "execution_count": 431,
   "metadata": {},
   "outputs": [],
   "source": [
    "from sagemaker.predictor import RealTimePredictor\n",
    "linear_predictor=RealTimePredictor('linear-learner-absolute-price-endpoint',sagemaker_session)"
   ]
  },
  {
   "cell_type": "code",
   "execution_count": 432,
   "metadata": {},
   "outputs": [],
   "source": [
    "from sagemaker.predictor import csv_serializer, json_deserializer\n",
    "\n",
    "linear_predictor.content_type = 'text/csv'\n",
    "linear_predictor.serializer = csv_serializer\n",
    "linear_predictor.deserializer = json_deserializer"
   ]
  },
  {
   "cell_type": "code",
   "execution_count": 435,
   "metadata": {},
   "outputs": [
    {
     "data": {
      "text/html": "<div>\n<style scoped>\n    .dataframe tbody tr th:only-of-type {\n        vertical-align: middle;\n    }\n\n    .dataframe tbody tr th {\n        vertical-align: top;\n    }\n\n    .dataframe thead th {\n        text-align: right;\n    }\n</style>\n<table border=\"1\" class=\"dataframe\">\n  <thead>\n    <tr style=\"text-align: right;\">\n      <th></th>\n      <th>0</th>\n      <th>1</th>\n      <th>2</th>\n      <th>3</th>\n      <th>4</th>\n      <th>5</th>\n      <th>6</th>\n      <th>7</th>\n      <th>8</th>\n      <th>9</th>\n      <th>...</th>\n      <th>596</th>\n      <th>597</th>\n      <th>598</th>\n      <th>599</th>\n      <th>600</th>\n      <th>601</th>\n      <th>602</th>\n      <th>603</th>\n      <th>604</th>\n      <th>605</th>\n    </tr>\n  </thead>\n  <tbody>\n    <tr>\n      <th>0</th>\n      <td>1.24979</td>\n      <td>1.24996</td>\n      <td>1.25699</td>\n      <td>1.26256</td>\n      <td>1.24976</td>\n      <td>1.251452</td>\n      <td>1.251481</td>\n      <td>1.251491</td>\n      <td>1.251475</td>\n      <td>1.251499</td>\n      <td>...</td>\n      <td>1.249929</td>\n      <td>1.249947</td>\n      <td>1.249934</td>\n      <td>1.249927</td>\n      <td>1.249927</td>\n      <td>1.249885</td>\n      <td>1.249958</td>\n      <td>1.249899</td>\n      <td>1.249879</td>\n      <td>1</td>\n    </tr>\n    <tr>\n      <th>1</th>\n      <td>1.24981</td>\n      <td>1.24998</td>\n      <td>1.25699</td>\n      <td>1.26256</td>\n      <td>1.24976</td>\n      <td>1.251481</td>\n      <td>1.251491</td>\n      <td>1.251475</td>\n      <td>1.251499</td>\n      <td>1.251560</td>\n      <td>...</td>\n      <td>1.249947</td>\n      <td>1.249934</td>\n      <td>1.249927</td>\n      <td>1.249927</td>\n      <td>1.249885</td>\n      <td>1.249958</td>\n      <td>1.249899</td>\n      <td>1.249879</td>\n      <td>1.249895</td>\n      <td>1</td>\n    </tr>\n    <tr>\n      <th>2</th>\n      <td>1.24976</td>\n      <td>1.24993</td>\n      <td>1.25699</td>\n      <td>1.26256</td>\n      <td>1.24976</td>\n      <td>1.251481</td>\n      <td>1.251491</td>\n      <td>1.251475</td>\n      <td>1.251499</td>\n      <td>1.251560</td>\n      <td>...</td>\n      <td>1.249947</td>\n      <td>1.249934</td>\n      <td>1.249927</td>\n      <td>1.249927</td>\n      <td>1.249885</td>\n      <td>1.249958</td>\n      <td>1.249899</td>\n      <td>1.249879</td>\n      <td>1.249895</td>\n      <td>1</td>\n    </tr>\n    <tr>\n      <th>3</th>\n      <td>1.24978</td>\n      <td>1.24995</td>\n      <td>1.25699</td>\n      <td>1.26256</td>\n      <td>1.24976</td>\n      <td>1.251481</td>\n      <td>1.251491</td>\n      <td>1.251475</td>\n      <td>1.251499</td>\n      <td>1.251560</td>\n      <td>...</td>\n      <td>1.249947</td>\n      <td>1.249934</td>\n      <td>1.249927</td>\n      <td>1.249927</td>\n      <td>1.249885</td>\n      <td>1.249958</td>\n      <td>1.249899</td>\n      <td>1.249879</td>\n      <td>1.249895</td>\n      <td>1</td>\n    </tr>\n    <tr>\n      <th>4</th>\n      <td>1.24977</td>\n      <td>1.24997</td>\n      <td>1.25699</td>\n      <td>1.26256</td>\n      <td>1.24976</td>\n      <td>1.251481</td>\n      <td>1.251491</td>\n      <td>1.251475</td>\n      <td>1.251499</td>\n      <td>1.251560</td>\n      <td>...</td>\n      <td>1.249947</td>\n      <td>1.249934</td>\n      <td>1.249927</td>\n      <td>1.249927</td>\n      <td>1.249885</td>\n      <td>1.249958</td>\n      <td>1.249899</td>\n      <td>1.249879</td>\n      <td>1.249895</td>\n      <td>1</td>\n    </tr>\n    <tr>\n      <th>...</th>\n      <td>...</td>\n      <td>...</td>\n      <td>...</td>\n      <td>...</td>\n      <td>...</td>\n      <td>...</td>\n      <td>...</td>\n      <td>...</td>\n      <td>...</td>\n      <td>...</td>\n      <td>...</td>\n      <td>...</td>\n      <td>...</td>\n      <td>...</td>\n      <td>...</td>\n      <td>...</td>\n      <td>...</td>\n      <td>...</td>\n      <td>...</td>\n      <td>...</td>\n      <td>...</td>\n    </tr>\n    <tr>\n      <th>1071</th>\n      <td>1.24964</td>\n      <td>1.24981</td>\n      <td>1.25699</td>\n      <td>1.26256</td>\n      <td>1.24884</td>\n      <td>1.252425</td>\n      <td>1.252413</td>\n      <td>1.252412</td>\n      <td>1.252416</td>\n      <td>1.252200</td>\n      <td>...</td>\n      <td>1.249825</td>\n      <td>1.249830</td>\n      <td>1.249850</td>\n      <td>1.249835</td>\n      <td>1.249805</td>\n      <td>1.249739</td>\n      <td>1.249710</td>\n      <td>1.249701</td>\n      <td>1.249690</td>\n      <td>1</td>\n    </tr>\n    <tr>\n      <th>1072</th>\n      <td>1.24963</td>\n      <td>1.24980</td>\n      <td>1.25699</td>\n      <td>1.26256</td>\n      <td>1.24884</td>\n      <td>1.252425</td>\n      <td>1.252413</td>\n      <td>1.252412</td>\n      <td>1.252416</td>\n      <td>1.252200</td>\n      <td>...</td>\n      <td>1.249825</td>\n      <td>1.249830</td>\n      <td>1.249850</td>\n      <td>1.249835</td>\n      <td>1.249805</td>\n      <td>1.249739</td>\n      <td>1.249710</td>\n      <td>1.249701</td>\n      <td>1.249690</td>\n      <td>1</td>\n    </tr>\n    <tr>\n      <th>1073</th>\n      <td>1.24964</td>\n      <td>1.24981</td>\n      <td>1.25699</td>\n      <td>1.26256</td>\n      <td>1.24884</td>\n      <td>1.252425</td>\n      <td>1.252413</td>\n      <td>1.252412</td>\n      <td>1.252416</td>\n      <td>1.252200</td>\n      <td>...</td>\n      <td>1.249825</td>\n      <td>1.249830</td>\n      <td>1.249850</td>\n      <td>1.249835</td>\n      <td>1.249805</td>\n      <td>1.249739</td>\n      <td>1.249710</td>\n      <td>1.249701</td>\n      <td>1.249690</td>\n      <td>1</td>\n    </tr>\n    <tr>\n      <th>1074</th>\n      <td>1.24964</td>\n      <td>1.24981</td>\n      <td>1.25699</td>\n      <td>1.26256</td>\n      <td>1.24884</td>\n      <td>1.252425</td>\n      <td>1.252413</td>\n      <td>1.252412</td>\n      <td>1.252416</td>\n      <td>1.252200</td>\n      <td>...</td>\n      <td>1.249825</td>\n      <td>1.249830</td>\n      <td>1.249850</td>\n      <td>1.249835</td>\n      <td>1.249805</td>\n      <td>1.249739</td>\n      <td>1.249710</td>\n      <td>1.249701</td>\n      <td>1.249690</td>\n      <td>1</td>\n    </tr>\n    <tr>\n      <th>1075</th>\n      <td>1.24964</td>\n      <td>1.24981</td>\n      <td>1.25699</td>\n      <td>1.26256</td>\n      <td>1.24884</td>\n      <td>1.252425</td>\n      <td>1.252413</td>\n      <td>1.252412</td>\n      <td>1.252416</td>\n      <td>1.252200</td>\n      <td>...</td>\n      <td>1.249825</td>\n      <td>1.249830</td>\n      <td>1.249850</td>\n      <td>1.249835</td>\n      <td>1.249805</td>\n      <td>1.249739</td>\n      <td>1.249710</td>\n      <td>1.249701</td>\n      <td>1.249690</td>\n      <td>1</td>\n    </tr>\n  </tbody>\n</table>\n<p>1076 rows × 606 columns</p>\n</div>",
      "text/plain": "          0        1        2        3        4         5         6    \\\n0     1.24979  1.24996  1.25699  1.26256  1.24976  1.251452  1.251481   \n1     1.24981  1.24998  1.25699  1.26256  1.24976  1.251481  1.251491   \n2     1.24976  1.24993  1.25699  1.26256  1.24976  1.251481  1.251491   \n3     1.24978  1.24995  1.25699  1.26256  1.24976  1.251481  1.251491   \n4     1.24977  1.24997  1.25699  1.26256  1.24976  1.251481  1.251491   \n...       ...      ...      ...      ...      ...       ...       ...   \n1071  1.24964  1.24981  1.25699  1.26256  1.24884  1.252425  1.252413   \n1072  1.24963  1.24980  1.25699  1.26256  1.24884  1.252425  1.252413   \n1073  1.24964  1.24981  1.25699  1.26256  1.24884  1.252425  1.252413   \n1074  1.24964  1.24981  1.25699  1.26256  1.24884  1.252425  1.252413   \n1075  1.24964  1.24981  1.25699  1.26256  1.24884  1.252425  1.252413   \n\n           7         8         9    ...       596       597       598  \\\n0     1.251491  1.251475  1.251499  ...  1.249929  1.249947  1.249934   \n1     1.251475  1.251499  1.251560  ...  1.249947  1.249934  1.249927   \n2     1.251475  1.251499  1.251560  ...  1.249947  1.249934  1.249927   \n3     1.251475  1.251499  1.251560  ...  1.249947  1.249934  1.249927   \n4     1.251475  1.251499  1.251560  ...  1.249947  1.249934  1.249927   \n...        ...       ...       ...  ...       ...       ...       ...   \n1071  1.252412  1.252416  1.252200  ...  1.249825  1.249830  1.249850   \n1072  1.252412  1.252416  1.252200  ...  1.249825  1.249830  1.249850   \n1073  1.252412  1.252416  1.252200  ...  1.249825  1.249830  1.249850   \n1074  1.252412  1.252416  1.252200  ...  1.249825  1.249830  1.249850   \n1075  1.252412  1.252416  1.252200  ...  1.249825  1.249830  1.249850   \n\n           599       600       601       602       603       604  605  \n0     1.249927  1.249927  1.249885  1.249958  1.249899  1.249879    1  \n1     1.249927  1.249885  1.249958  1.249899  1.249879  1.249895    1  \n2     1.249927  1.249885  1.249958  1.249899  1.249879  1.249895    1  \n3     1.249927  1.249885  1.249958  1.249899  1.249879  1.249895    1  \n4     1.249927  1.249885  1.249958  1.249899  1.249879  1.249895    1  \n...        ...       ...       ...       ...       ...       ...  ...  \n1071  1.249835  1.249805  1.249739  1.249710  1.249701  1.249690    1  \n1072  1.249835  1.249805  1.249739  1.249710  1.249701  1.249690    1  \n1073  1.249835  1.249805  1.249739  1.249710  1.249701  1.249690    1  \n1074  1.249835  1.249805  1.249739  1.249710  1.249701  1.249690    1  \n1075  1.249835  1.249805  1.249739  1.249710  1.249701  1.249690    1  \n\n[1076 rows x 606 columns]"
     },
     "execution_count": 435,
     "metadata": {},
     "output_type": "execute_result"
    }
   ],
   "source": [
    "import pandas as pd\n",
    "evaluation_data_df=pd.read_csv('../data/evaluation_data.csv',header=None)\n",
    "# evaluation_data_df.loc[0].tolist()[0:72]\n",
    "evaluation_data_df"
   ]
  },
  {
   "cell_type": "code",
   "execution_count": 444,
   "metadata": {},
   "outputs": [
    {
     "data": {
      "text/plain": "{'predictions': [{'score': 2.0741686217434445e-30, 'predicted_label': 0.0}]}"
     },
     "execution_count": 444,
     "metadata": {},
     "output_type": "execute_result"
    }
   ],
   "source": [
    "data=','.join([str(x) for x in evaluation_data_df.loc[0].tolist()[0:605]])\n",
    "linear_predictor.predict(data)"
   ]
  },
  {
   "cell_type": "code",
   "execution_count": 445,
   "metadata": {},
   "outputs": [],
   "source": [
    "def eval_func(row):\n",
    "    csv=','.join(row.tolist()[0:605])\n",
    "    result=linear_predictor.predict(csv)\n",
    "    return result\n",
    "results=evaluation_data_df.astype(str).apply(eval_func,axis=1)"
   ]
  },
  {
   "cell_type": "code",
   "execution_count": 446,
   "metadata": {},
   "outputs": [
    {
     "data": {
      "text/plain": "{'predictions': [{'score': 2.0741686217434445e-30, 'predicted_label': 0.0}]}"
     },
     "execution_count": 446,
     "metadata": {},
     "output_type": "execute_result"
    }
   ],
   "source": [
    "results[0]"
   ]
  },
  {
   "cell_type": "code",
   "execution_count": 447,
   "metadata": {},
   "outputs": [],
   "source": [
    "predicted_labels=[1 if i['predictions'][0]['predicted_label']==1.0 else 0 for i in results]"
   ]
  },
  {
   "cell_type": "code",
   "execution_count": 448,
   "metadata": {},
   "outputs": [],
   "source": [
    "score=[i['predictions'][0]['score'] for i in results]"
   ]
  },
  {
   "cell_type": "code",
   "execution_count": 449,
   "metadata": {},
   "outputs": [
    {
     "data": {
      "text/html": "<div>\n<style scoped>\n    .dataframe tbody tr th:only-of-type {\n        vertical-align: middle;\n    }\n\n    .dataframe tbody tr th {\n        vertical-align: top;\n    }\n\n    .dataframe thead th {\n        text-align: right;\n    }\n</style>\n<table border=\"1\" class=\"dataframe\">\n  <thead>\n    <tr style=\"text-align: right;\">\n      <th></th>\n      <th>0</th>\n      <th>1</th>\n      <th>2</th>\n      <th>3</th>\n      <th>4</th>\n      <th>5</th>\n      <th>6</th>\n      <th>7</th>\n      <th>8</th>\n      <th>9</th>\n      <th>...</th>\n      <th>598</th>\n      <th>599</th>\n      <th>600</th>\n      <th>601</th>\n      <th>602</th>\n      <th>603</th>\n      <th>604</th>\n      <th>605</th>\n      <th>predicted_labels</th>\n      <th>score</th>\n    </tr>\n  </thead>\n  <tbody>\n    <tr>\n      <th>0</th>\n      <td>1.24979</td>\n      <td>1.24996</td>\n      <td>1.25699</td>\n      <td>1.26256</td>\n      <td>1.24976</td>\n      <td>1.251452</td>\n      <td>1.251481</td>\n      <td>1.251491</td>\n      <td>1.251475</td>\n      <td>1.251499</td>\n      <td>...</td>\n      <td>1.249934</td>\n      <td>1.249927</td>\n      <td>1.249927</td>\n      <td>1.249885</td>\n      <td>1.249958</td>\n      <td>1.249899</td>\n      <td>1.249879</td>\n      <td>1</td>\n      <td>0</td>\n      <td>2.074169e-30</td>\n    </tr>\n    <tr>\n      <th>1</th>\n      <td>1.24981</td>\n      <td>1.24998</td>\n      <td>1.25699</td>\n      <td>1.26256</td>\n      <td>1.24976</td>\n      <td>1.251481</td>\n      <td>1.251491</td>\n      <td>1.251475</td>\n      <td>1.251499</td>\n      <td>1.251560</td>\n      <td>...</td>\n      <td>1.249927</td>\n      <td>1.249927</td>\n      <td>1.249885</td>\n      <td>1.249958</td>\n      <td>1.249899</td>\n      <td>1.249879</td>\n      <td>1.249895</td>\n      <td>1</td>\n      <td>0</td>\n      <td>2.074438e-30</td>\n    </tr>\n    <tr>\n      <th>2</th>\n      <td>1.24976</td>\n      <td>1.24993</td>\n      <td>1.25699</td>\n      <td>1.26256</td>\n      <td>1.24976</td>\n      <td>1.251481</td>\n      <td>1.251491</td>\n      <td>1.251475</td>\n      <td>1.251499</td>\n      <td>1.251560</td>\n      <td>...</td>\n      <td>1.249927</td>\n      <td>1.249927</td>\n      <td>1.249885</td>\n      <td>1.249958</td>\n      <td>1.249899</td>\n      <td>1.249879</td>\n      <td>1.249895</td>\n      <td>1</td>\n      <td>0</td>\n      <td>2.074454e-30</td>\n    </tr>\n    <tr>\n      <th>3</th>\n      <td>1.24978</td>\n      <td>1.24995</td>\n      <td>1.25699</td>\n      <td>1.26256</td>\n      <td>1.24976</td>\n      <td>1.251481</td>\n      <td>1.251491</td>\n      <td>1.251475</td>\n      <td>1.251499</td>\n      <td>1.251560</td>\n      <td>...</td>\n      <td>1.249927</td>\n      <td>1.249927</td>\n      <td>1.249885</td>\n      <td>1.249958</td>\n      <td>1.249899</td>\n      <td>1.249879</td>\n      <td>1.249895</td>\n      <td>1</td>\n      <td>0</td>\n      <td>2.074454e-30</td>\n    </tr>\n    <tr>\n      <th>4</th>\n      <td>1.24977</td>\n      <td>1.24997</td>\n      <td>1.25699</td>\n      <td>1.26256</td>\n      <td>1.24976</td>\n      <td>1.251481</td>\n      <td>1.251491</td>\n      <td>1.251475</td>\n      <td>1.251499</td>\n      <td>1.251560</td>\n      <td>...</td>\n      <td>1.249927</td>\n      <td>1.249927</td>\n      <td>1.249885</td>\n      <td>1.249958</td>\n      <td>1.249899</td>\n      <td>1.249879</td>\n      <td>1.249895</td>\n      <td>1</td>\n      <td>0</td>\n      <td>2.074454e-30</td>\n    </tr>\n    <tr>\n      <th>...</th>\n      <td>...</td>\n      <td>...</td>\n      <td>...</td>\n      <td>...</td>\n      <td>...</td>\n      <td>...</td>\n      <td>...</td>\n      <td>...</td>\n      <td>...</td>\n      <td>...</td>\n      <td>...</td>\n      <td>...</td>\n      <td>...</td>\n      <td>...</td>\n      <td>...</td>\n      <td>...</td>\n      <td>...</td>\n      <td>...</td>\n      <td>...</td>\n      <td>...</td>\n      <td>...</td>\n    </tr>\n    <tr>\n      <th>1071</th>\n      <td>1.24964</td>\n      <td>1.24981</td>\n      <td>1.25699</td>\n      <td>1.26256</td>\n      <td>1.24884</td>\n      <td>1.252425</td>\n      <td>1.252413</td>\n      <td>1.252412</td>\n      <td>1.252416</td>\n      <td>1.252200</td>\n      <td>...</td>\n      <td>1.249850</td>\n      <td>1.249835</td>\n      <td>1.249805</td>\n      <td>1.249739</td>\n      <td>1.249710</td>\n      <td>1.249701</td>\n      <td>1.249690</td>\n      <td>1</td>\n      <td>0</td>\n      <td>2.163370e-30</td>\n    </tr>\n    <tr>\n      <th>1072</th>\n      <td>1.24963</td>\n      <td>1.24980</td>\n      <td>1.25699</td>\n      <td>1.26256</td>\n      <td>1.24884</td>\n      <td>1.252425</td>\n      <td>1.252413</td>\n      <td>1.252412</td>\n      <td>1.252416</td>\n      <td>1.252200</td>\n      <td>...</td>\n      <td>1.249850</td>\n      <td>1.249835</td>\n      <td>1.249805</td>\n      <td>1.249739</td>\n      <td>1.249710</td>\n      <td>1.249701</td>\n      <td>1.249690</td>\n      <td>1</td>\n      <td>0</td>\n      <td>2.163370e-30</td>\n    </tr>\n    <tr>\n      <th>1073</th>\n      <td>1.24964</td>\n      <td>1.24981</td>\n      <td>1.25699</td>\n      <td>1.26256</td>\n      <td>1.24884</td>\n      <td>1.252425</td>\n      <td>1.252413</td>\n      <td>1.252412</td>\n      <td>1.252416</td>\n      <td>1.252200</td>\n      <td>...</td>\n      <td>1.249850</td>\n      <td>1.249835</td>\n      <td>1.249805</td>\n      <td>1.249739</td>\n      <td>1.249710</td>\n      <td>1.249701</td>\n      <td>1.249690</td>\n      <td>1</td>\n      <td>0</td>\n      <td>2.163370e-30</td>\n    </tr>\n    <tr>\n      <th>1074</th>\n      <td>1.24964</td>\n      <td>1.24981</td>\n      <td>1.25699</td>\n      <td>1.26256</td>\n      <td>1.24884</td>\n      <td>1.252425</td>\n      <td>1.252413</td>\n      <td>1.252412</td>\n      <td>1.252416</td>\n      <td>1.252200</td>\n      <td>...</td>\n      <td>1.249850</td>\n      <td>1.249835</td>\n      <td>1.249805</td>\n      <td>1.249739</td>\n      <td>1.249710</td>\n      <td>1.249701</td>\n      <td>1.249690</td>\n      <td>1</td>\n      <td>0</td>\n      <td>2.163370e-30</td>\n    </tr>\n    <tr>\n      <th>1075</th>\n      <td>1.24964</td>\n      <td>1.24981</td>\n      <td>1.25699</td>\n      <td>1.26256</td>\n      <td>1.24884</td>\n      <td>1.252425</td>\n      <td>1.252413</td>\n      <td>1.252412</td>\n      <td>1.252416</td>\n      <td>1.252200</td>\n      <td>...</td>\n      <td>1.249850</td>\n      <td>1.249835</td>\n      <td>1.249805</td>\n      <td>1.249739</td>\n      <td>1.249710</td>\n      <td>1.249701</td>\n      <td>1.249690</td>\n      <td>1</td>\n      <td>0</td>\n      <td>2.163370e-30</td>\n    </tr>\n  </tbody>\n</table>\n<p>1076 rows × 608 columns</p>\n</div>",
      "text/plain": "            0        1        2        3        4         5         6  \\\n0     1.24979  1.24996  1.25699  1.26256  1.24976  1.251452  1.251481   \n1     1.24981  1.24998  1.25699  1.26256  1.24976  1.251481  1.251491   \n2     1.24976  1.24993  1.25699  1.26256  1.24976  1.251481  1.251491   \n3     1.24978  1.24995  1.25699  1.26256  1.24976  1.251481  1.251491   \n4     1.24977  1.24997  1.25699  1.26256  1.24976  1.251481  1.251491   \n...       ...      ...      ...      ...      ...       ...       ...   \n1071  1.24964  1.24981  1.25699  1.26256  1.24884  1.252425  1.252413   \n1072  1.24963  1.24980  1.25699  1.26256  1.24884  1.252425  1.252413   \n1073  1.24964  1.24981  1.25699  1.26256  1.24884  1.252425  1.252413   \n1074  1.24964  1.24981  1.25699  1.26256  1.24884  1.252425  1.252413   \n1075  1.24964  1.24981  1.25699  1.26256  1.24884  1.252425  1.252413   \n\n             7         8         9  ...       598       599       600  \\\n0     1.251491  1.251475  1.251499  ...  1.249934  1.249927  1.249927   \n1     1.251475  1.251499  1.251560  ...  1.249927  1.249927  1.249885   \n2     1.251475  1.251499  1.251560  ...  1.249927  1.249927  1.249885   \n3     1.251475  1.251499  1.251560  ...  1.249927  1.249927  1.249885   \n4     1.251475  1.251499  1.251560  ...  1.249927  1.249927  1.249885   \n...        ...       ...       ...  ...       ...       ...       ...   \n1071  1.252412  1.252416  1.252200  ...  1.249850  1.249835  1.249805   \n1072  1.252412  1.252416  1.252200  ...  1.249850  1.249835  1.249805   \n1073  1.252412  1.252416  1.252200  ...  1.249850  1.249835  1.249805   \n1074  1.252412  1.252416  1.252200  ...  1.249850  1.249835  1.249805   \n1075  1.252412  1.252416  1.252200  ...  1.249850  1.249835  1.249805   \n\n           601       602       603       604  605  predicted_labels  \\\n0     1.249885  1.249958  1.249899  1.249879    1                 0   \n1     1.249958  1.249899  1.249879  1.249895    1                 0   \n2     1.249958  1.249899  1.249879  1.249895    1                 0   \n3     1.249958  1.249899  1.249879  1.249895    1                 0   \n4     1.249958  1.249899  1.249879  1.249895    1                 0   \n...        ...       ...       ...       ...  ...               ...   \n1071  1.249739  1.249710  1.249701  1.249690    1                 0   \n1072  1.249739  1.249710  1.249701  1.249690    1                 0   \n1073  1.249739  1.249710  1.249701  1.249690    1                 0   \n1074  1.249739  1.249710  1.249701  1.249690    1                 0   \n1075  1.249739  1.249710  1.249701  1.249690    1                 0   \n\n             score  \n0     2.074169e-30  \n1     2.074438e-30  \n2     2.074454e-30  \n3     2.074454e-30  \n4     2.074454e-30  \n...            ...  \n1071  2.163370e-30  \n1072  2.163370e-30  \n1073  2.163370e-30  \n1074  2.163370e-30  \n1075  2.163370e-30  \n\n[1076 rows x 608 columns]"
     },
     "execution_count": 449,
     "metadata": {},
     "output_type": "execute_result"
    }
   ],
   "source": [
    "evaluation_data_df['predicted_labels']=predicted_labels\n",
    "evaluation_data_df['score']=score\n",
    "evaluation_data_df"
   ]
  },
  {
   "cell_type": "code",
   "execution_count": null,
   "metadata": {},
   "outputs": [],
   "source": [
    "# evaluation_data_df.to_csv('../data/100_precision_025_recall.csv')\n",
    "# evaluation_data_df=pd.read_csv('../data/044precision_high_recall.csv')"
   ]
  },
  {
   "cell_type": "code",
   "execution_count": 454,
   "metadata": {},
   "outputs": [
    {
     "data": {
      "text/html": "<div>\n<style scoped>\n    .dataframe tbody tr th:only-of-type {\n        vertical-align: middle;\n    }\n\n    .dataframe tbody tr th {\n        vertical-align: top;\n    }\n\n    .dataframe thead th {\n        text-align: right;\n    }\n</style>\n<table border=\"1\" class=\"dataframe\">\n  <thead>\n    <tr style=\"text-align: right;\">\n      <th></th>\n      <th>0</th>\n      <th>1</th>\n      <th>2</th>\n      <th>3</th>\n      <th>4</th>\n      <th>5</th>\n      <th>6</th>\n      <th>7</th>\n      <th>8</th>\n      <th>9</th>\n      <th>...</th>\n      <th>598</th>\n      <th>599</th>\n      <th>600</th>\n      <th>601</th>\n      <th>602</th>\n      <th>603</th>\n      <th>604</th>\n      <th>605</th>\n      <th>predicted_labels</th>\n      <th>score</th>\n    </tr>\n  </thead>\n  <tbody>\n  </tbody>\n</table>\n<p>0 rows × 608 columns</p>\n</div>",
      "text/plain": "Empty DataFrame\nColumns: [0, 1, 2, 3, 4, 5, 6, 7, 8, 9, 10, 11, 12, 13, 14, 15, 16, 17, 18, 19, 20, 21, 22, 23, 24, 25, 26, 27, 28, 29, 30, 31, 32, 33, 34, 35, 36, 37, 38, 39, 40, 41, 42, 43, 44, 45, 46, 47, 48, 49, 50, 51, 52, 53, 54, 55, 56, 57, 58, 59, 60, 61, 62, 63, 64, 65, 66, 67, 68, 69, 70, 71, 72, 73, 74, 75, 76, 77, 78, 79, 80, 81, 82, 83, 84, 85, 86, 87, 88, 89, 90, 91, 92, 93, 94, 95, 96, 97, 98, 99, ...]\nIndex: []\n\n[0 rows x 608 columns]"
     },
     "execution_count": 454,
     "metadata": {},
     "output_type": "execute_result"
    }
   ],
   "source": [
    "most_certain=evaluation_data_df.query('predicted_labels>0')\n",
    "most_certain"
   ]
  },
  {
   "cell_type": "code",
   "execution_count": null,
   "metadata": {},
   "outputs": [],
   "source": [
    "# Importing the metrics package from sklearn library\n",
    "from sklearn import metrics\n",
    "# Creating the confusion matrix\n",
    "cm = metrics.confusion_matrix(most_certain[72], most_certain['predicted_labels'])\n",
    "# Assigning columns names\n",
    "cm_df = pd.DataFrame(cm, \n",
    "            columns = ['Predicted Negative', 'Predicted Positive'],\n",
    "            index = ['Actual Negative', 'Actual Positive'])\n",
    "# Showing the confusion matrix\n",
    "cm_df"
   ]
  },
  {
   "cell_type": "code",
   "execution_count": null,
   "metadata": {},
   "outputs": [],
   "source": [
    "most_certain.query('predicted_labels==1').describe()"
   ]
  },
  {
   "cell_type": "code",
   "execution_count": null,
   "metadata": {},
   "outputs": [],
   "source": [
    "most_certain.query('predicted_labels==0').describe()"
   ]
  },
  {
   "cell_type": "code",
   "execution_count": null,
   "metadata": {},
   "outputs": [],
   "source": []
  }
 ],
 "metadata": {
  "kernelspec": {
   "display_name": "Python 3.7.4 64-bit ('.venv': virtualenv)",
   "language": "python",
   "name": "python37464bitvenvvirtualenv6b4f093d3fee42a4b8c0f6bd7f8294ac"
  },
  "language_info": {
   "codemirror_mode": {
    "name": "ipython",
    "version": 3
   },
   "file_extension": ".py",
   "mimetype": "text/x-python",
   "name": "python",
   "nbconvert_exporter": "python",
   "pygments_lexer": "ipython3",
   "version": "3.7.4-final"
  }
 },
 "nbformat": 4,
 "nbformat_minor": 4
}