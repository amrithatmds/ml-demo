{
 "cells": [
  {
   "cell_type": "code",
   "execution_count": 9,
   "metadata": {},
   "outputs": [],
   "source": [
    "bucket = 'bucket-mldemo-dev-20200327141354666900000003'\n",
    " \n",
    "# Define IAM role\n",
    "import re\n"
   ]
  },
  {
   "cell_type": "code",
   "execution_count": null,
   "metadata": {},
   "outputs": [],
   "source": [
    "import boto3\n",
    "boto3_session=boto3.Session(profile_name='ml-lab')"
   ]
  },
  {
   "cell_type": "code",
   "execution_count": 10,
   "metadata": {},
   "outputs": [
    {
     "output_type": "execute_result",
     "data": {
      "text/plain": "'arn:aws:iam::814948925568:role/mldemo-dev-Sagemaker-Execution-Role'"
     },
     "metadata": {},
     "execution_count": 10
    }
   ],
   "source": [
    "from sagemaker.session import Session\n",
    "from sagemaker import get_execution_role\n",
    "\n",
    "sagemaker_session=Session(boto3_session)\n",
    "\n",
    "try:\n",
    "    role = get_execution_role()\n",
    "except:\n",
    "    iam=boto3_session.client('iam')\n",
    "    response=iam.get_role(\n",
    "        RoleName='mldemo-dev-Sagemaker-Execution-Role'\n",
    "    )\n",
    "    role=response['Role']['Arn']\n",
    "role"
   ]
  },
  {
   "cell_type": "code",
   "execution_count": 11,
   "metadata": {},
   "outputs": [
    {
     "output_type": "execute_result",
     "data": {
      "text/plain": "'s3://bucket-mldemo-dev-20200327141354666900000003/output'"
     },
     "metadata": {},
     "execution_count": 11
    }
   ],
   "source": [
    "output_location = 's3://{}/output'.format(bucket)\n",
    "output_location"
   ]
  },
  {
   "cell_type": "code",
   "execution_count": 68,
   "metadata": {},
   "outputs": [],
   "source": [
    "from sagemaker.predictor import RealTimePredictor\n",
    "linear_predictor=RealTimePredictor('mldemo-dev',sagemaker_session)"
   ]
  },
  {
   "cell_type": "code",
   "execution_count": 69,
   "metadata": {},
   "outputs": [],
   "source": [
    "from sagemaker.predictor import csv_serializer, json_deserializer\n",
    "\n",
    "linear_predictor.content_type = 'text/csv'\n",
    "linear_predictor.serializer = csv_serializer\n",
    "linear_predictor.deserializer = json_deserializer"
   ]
  },
  {
   "cell_type": "code",
   "execution_count": 47,
   "metadata": {},
   "outputs": [
    {
     "output_type": "execute_result",
     "data": {
      "text/plain": "        0     1       2       3      4      5      6         7         8    \\\n0     -18.0  18.0  119.05  257.16 -55.54 -0.020  0.035  0.036667 -0.433333   \n1     -18.0  18.0  119.09  257.20 -55.50  0.020  0.075  0.076667 -0.393333   \n2     -18.0  18.0  118.94  257.05 -55.65 -0.130 -0.075 -0.073333 -0.543333   \n3     -18.0  18.0  119.09  257.20 -55.50  0.020  0.075  0.076667 -0.393333   \n4     -18.0  18.0  118.94  257.05 -55.65 -0.130 -0.075 -0.073333 -0.543333   \n...     ...   ...     ...     ...    ...    ...    ...       ...       ...   \n10336 -18.0  18.0   95.34  233.45 -79.25  2.790  2.110  1.045000  0.680000   \n10337 -18.0  18.0   95.38  233.49 -79.21  2.150  1.085  0.720000  0.750000   \n10338 -18.0  18.0   95.13  233.24 -79.46  1.900  0.835  0.470000  0.500000   \n10339 -18.0  18.0   95.28  233.39 -79.31  2.050  0.985  0.620000  0.650000   \n10340 -18.0  18.0   95.26  233.37 -79.33  0.965  0.600  0.630000  0.960000   \n\n        9    ...        596        597        598        599      600  \\\n0     -0.76  ... -14.300000 -14.090000 -14.040000 -14.390000 -14.8500   \n1     -0.72  ... -14.260000 -14.050000 -14.000000 -14.350000 -14.8100   \n2     -0.87  ... -14.410000 -14.200000 -14.150000 -14.500000 -14.9600   \n3     -0.72  ... -14.260000 -14.050000 -14.000000 -14.350000 -14.8100   \n4     -0.87  ... -14.410000 -14.200000 -14.150000 -14.500000 -14.9600   \n...     ...  ...        ...        ...        ...        ...      ...   \n10336  0.71  ...   1.090000   0.953333   0.827500   0.736667   0.6200   \n10337  1.08  ...   0.993333   0.867500   0.776667   0.660000   0.5725   \n10338  0.83  ...   0.743333   0.617500   0.526667   0.410000   0.3225   \n10339  0.98  ...   0.893333   0.767500   0.676667   0.560000   0.4725   \n10340  0.80  ...   0.747500   0.656667   0.540000   0.452500   0.4000   \n\n             601        602        603        604  605  \n0     -15.193333 -15.300000 -15.200000 -15.300000    0  \n1     -15.153333 -15.260000 -15.160000 -15.260000    0  \n2     -15.303333 -15.410000 -15.310000 -15.410000    0  \n3     -15.153333 -15.260000 -15.160000 -15.260000    0  \n4     -15.303333 -15.410000 -15.310000 -15.410000    0  \n...          ...        ...        ...        ...  ...  \n10336   0.532500   0.480000   0.360000   0.303333    0  \n10337   0.520000   0.400000   0.343333   0.040000    0  \n10338   0.270000   0.150000   0.093333  -0.210000    0  \n10339   0.420000   0.300000   0.243333  -0.060000    0  \n10340   0.280000   0.223333  -0.080000  -0.003333    0  \n\n[10341 rows x 606 columns]",
      "text/html": "<div>\n<style scoped>\n    .dataframe tbody tr th:only-of-type {\n        vertical-align: middle;\n    }\n\n    .dataframe tbody tr th {\n        vertical-align: top;\n    }\n\n    .dataframe thead th {\n        text-align: right;\n    }\n</style>\n<table border=\"1\" class=\"dataframe\">\n  <thead>\n    <tr style=\"text-align: right;\">\n      <th></th>\n      <th>0</th>\n      <th>1</th>\n      <th>2</th>\n      <th>3</th>\n      <th>4</th>\n      <th>5</th>\n      <th>6</th>\n      <th>7</th>\n      <th>8</th>\n      <th>9</th>\n      <th>...</th>\n      <th>596</th>\n      <th>597</th>\n      <th>598</th>\n      <th>599</th>\n      <th>600</th>\n      <th>601</th>\n      <th>602</th>\n      <th>603</th>\n      <th>604</th>\n      <th>605</th>\n    </tr>\n  </thead>\n  <tbody>\n    <tr>\n      <th>0</th>\n      <td>-18.0</td>\n      <td>18.0</td>\n      <td>119.05</td>\n      <td>257.16</td>\n      <td>-55.54</td>\n      <td>-0.020</td>\n      <td>0.035</td>\n      <td>0.036667</td>\n      <td>-0.433333</td>\n      <td>-0.76</td>\n      <td>...</td>\n      <td>-14.300000</td>\n      <td>-14.090000</td>\n      <td>-14.040000</td>\n      <td>-14.390000</td>\n      <td>-14.8500</td>\n      <td>-15.193333</td>\n      <td>-15.300000</td>\n      <td>-15.200000</td>\n      <td>-15.300000</td>\n      <td>0</td>\n    </tr>\n    <tr>\n      <th>1</th>\n      <td>-18.0</td>\n      <td>18.0</td>\n      <td>119.09</td>\n      <td>257.20</td>\n      <td>-55.50</td>\n      <td>0.020</td>\n      <td>0.075</td>\n      <td>0.076667</td>\n      <td>-0.393333</td>\n      <td>-0.72</td>\n      <td>...</td>\n      <td>-14.260000</td>\n      <td>-14.050000</td>\n      <td>-14.000000</td>\n      <td>-14.350000</td>\n      <td>-14.8100</td>\n      <td>-15.153333</td>\n      <td>-15.260000</td>\n      <td>-15.160000</td>\n      <td>-15.260000</td>\n      <td>0</td>\n    </tr>\n    <tr>\n      <th>2</th>\n      <td>-18.0</td>\n      <td>18.0</td>\n      <td>118.94</td>\n      <td>257.05</td>\n      <td>-55.65</td>\n      <td>-0.130</td>\n      <td>-0.075</td>\n      <td>-0.073333</td>\n      <td>-0.543333</td>\n      <td>-0.87</td>\n      <td>...</td>\n      <td>-14.410000</td>\n      <td>-14.200000</td>\n      <td>-14.150000</td>\n      <td>-14.500000</td>\n      <td>-14.9600</td>\n      <td>-15.303333</td>\n      <td>-15.410000</td>\n      <td>-15.310000</td>\n      <td>-15.410000</td>\n      <td>0</td>\n    </tr>\n    <tr>\n      <th>3</th>\n      <td>-18.0</td>\n      <td>18.0</td>\n      <td>119.09</td>\n      <td>257.20</td>\n      <td>-55.50</td>\n      <td>0.020</td>\n      <td>0.075</td>\n      <td>0.076667</td>\n      <td>-0.393333</td>\n      <td>-0.72</td>\n      <td>...</td>\n      <td>-14.260000</td>\n      <td>-14.050000</td>\n      <td>-14.000000</td>\n      <td>-14.350000</td>\n      <td>-14.8100</td>\n      <td>-15.153333</td>\n      <td>-15.260000</td>\n      <td>-15.160000</td>\n      <td>-15.260000</td>\n      <td>0</td>\n    </tr>\n    <tr>\n      <th>4</th>\n      <td>-18.0</td>\n      <td>18.0</td>\n      <td>118.94</td>\n      <td>257.05</td>\n      <td>-55.65</td>\n      <td>-0.130</td>\n      <td>-0.075</td>\n      <td>-0.073333</td>\n      <td>-0.543333</td>\n      <td>-0.87</td>\n      <td>...</td>\n      <td>-14.410000</td>\n      <td>-14.200000</td>\n      <td>-14.150000</td>\n      <td>-14.500000</td>\n      <td>-14.9600</td>\n      <td>-15.303333</td>\n      <td>-15.410000</td>\n      <td>-15.310000</td>\n      <td>-15.410000</td>\n      <td>0</td>\n    </tr>\n    <tr>\n      <th>...</th>\n      <td>...</td>\n      <td>...</td>\n      <td>...</td>\n      <td>...</td>\n      <td>...</td>\n      <td>...</td>\n      <td>...</td>\n      <td>...</td>\n      <td>...</td>\n      <td>...</td>\n      <td>...</td>\n      <td>...</td>\n      <td>...</td>\n      <td>...</td>\n      <td>...</td>\n      <td>...</td>\n      <td>...</td>\n      <td>...</td>\n      <td>...</td>\n      <td>...</td>\n      <td>...</td>\n    </tr>\n    <tr>\n      <th>10336</th>\n      <td>-18.0</td>\n      <td>18.0</td>\n      <td>95.34</td>\n      <td>233.45</td>\n      <td>-79.25</td>\n      <td>2.790</td>\n      <td>2.110</td>\n      <td>1.045000</td>\n      <td>0.680000</td>\n      <td>0.71</td>\n      <td>...</td>\n      <td>1.090000</td>\n      <td>0.953333</td>\n      <td>0.827500</td>\n      <td>0.736667</td>\n      <td>0.6200</td>\n      <td>0.532500</td>\n      <td>0.480000</td>\n      <td>0.360000</td>\n      <td>0.303333</td>\n      <td>0</td>\n    </tr>\n    <tr>\n      <th>10337</th>\n      <td>-18.0</td>\n      <td>18.0</td>\n      <td>95.38</td>\n      <td>233.49</td>\n      <td>-79.21</td>\n      <td>2.150</td>\n      <td>1.085</td>\n      <td>0.720000</td>\n      <td>0.750000</td>\n      <td>1.08</td>\n      <td>...</td>\n      <td>0.993333</td>\n      <td>0.867500</td>\n      <td>0.776667</td>\n      <td>0.660000</td>\n      <td>0.5725</td>\n      <td>0.520000</td>\n      <td>0.400000</td>\n      <td>0.343333</td>\n      <td>0.040000</td>\n      <td>0</td>\n    </tr>\n    <tr>\n      <th>10338</th>\n      <td>-18.0</td>\n      <td>18.0</td>\n      <td>95.13</td>\n      <td>233.24</td>\n      <td>-79.46</td>\n      <td>1.900</td>\n      <td>0.835</td>\n      <td>0.470000</td>\n      <td>0.500000</td>\n      <td>0.83</td>\n      <td>...</td>\n      <td>0.743333</td>\n      <td>0.617500</td>\n      <td>0.526667</td>\n      <td>0.410000</td>\n      <td>0.3225</td>\n      <td>0.270000</td>\n      <td>0.150000</td>\n      <td>0.093333</td>\n      <td>-0.210000</td>\n      <td>0</td>\n    </tr>\n    <tr>\n      <th>10339</th>\n      <td>-18.0</td>\n      <td>18.0</td>\n      <td>95.28</td>\n      <td>233.39</td>\n      <td>-79.31</td>\n      <td>2.050</td>\n      <td>0.985</td>\n      <td>0.620000</td>\n      <td>0.650000</td>\n      <td>0.98</td>\n      <td>...</td>\n      <td>0.893333</td>\n      <td>0.767500</td>\n      <td>0.676667</td>\n      <td>0.560000</td>\n      <td>0.4725</td>\n      <td>0.420000</td>\n      <td>0.300000</td>\n      <td>0.243333</td>\n      <td>-0.060000</td>\n      <td>0</td>\n    </tr>\n    <tr>\n      <th>10340</th>\n      <td>-18.0</td>\n      <td>18.0</td>\n      <td>95.26</td>\n      <td>233.37</td>\n      <td>-79.33</td>\n      <td>0.965</td>\n      <td>0.600</td>\n      <td>0.630000</td>\n      <td>0.960000</td>\n      <td>0.80</td>\n      <td>...</td>\n      <td>0.747500</td>\n      <td>0.656667</td>\n      <td>0.540000</td>\n      <td>0.452500</td>\n      <td>0.4000</td>\n      <td>0.280000</td>\n      <td>0.223333</td>\n      <td>-0.080000</td>\n      <td>-0.003333</td>\n      <td>0</td>\n    </tr>\n  </tbody>\n</table>\n<p>10341 rows × 606 columns</p>\n</div>"
     },
     "metadata": {},
     "execution_count": 47
    }
   ],
   "source": [
    "from s3fs.core import S3FileSystem\n",
    "s3fs = S3FileSystem(anon=False,session=boto3_session)\n",
    "\n",
    "import pandas as pd\n",
    "df=pd.read_csv(s3fs.open('s3://bucket-mldemo-dev-20200327141354666900000003/transformed/all_data.csv'),header=None)\n",
    "# evaluation_data_df.loc[0].tolist()[0:72]\n",
    "df"
   ]
  },
  {
   "cell_type": "code",
   "execution_count": 50,
   "metadata": {},
   "outputs": [
    {
     "output_type": "execute_result",
     "data": {
      "text/plain": "      index     0     1      2       3      4       5       6       7  \\\n0      8791 -18.0  18.0  90.20  228.31 -84.39 -26.930 -27.300 -27.550   \n1      8792 -18.0  18.0  90.05  228.16 -84.54 -27.450 -27.700 -27.680   \n2      8793 -18.0  18.0  91.64  229.75 -82.95 -26.110 -26.090 -26.110   \n3      8794 -18.0  18.0  91.61  229.72 -82.98 -26.140 -26.120 -26.140   \n4      8795 -18.0  18.0  91.66  229.77 -82.93 -26.070 -26.090 -26.020   \n...     ...   ...   ...    ...     ...    ...     ...     ...     ...   \n1545  10336 -18.0  18.0  95.34  233.45 -79.25   2.790   2.110   1.045   \n1546  10337 -18.0  18.0  95.38  233.49 -79.21   2.150   1.085   0.720   \n1547  10338 -18.0  18.0  95.13  233.24 -79.46   1.900   0.835   0.470   \n1548  10339 -18.0  18.0  95.28  233.39 -79.31   2.050   0.985   0.620   \n1549  10340 -18.0  18.0  95.26  233.37 -79.33   0.965   0.600   0.630   \n\n              8  ...       596       597       598       599     600     601  \\\n0    -27.530000  ...  0.940000  0.780000  0.740000  0.360000  0.1800  0.1600   \n1    -27.700000  ...  0.630000  0.590000  0.210000  0.030000  0.0100  0.0000   \n2    -26.040000  ...  2.180000  1.800000  1.620000  1.600000  1.5900  1.4700   \n3    -26.070000  ...  2.150000  1.770000  1.590000  1.570000  1.5600  1.4400   \n4    -26.903333  ...  1.820000  1.640000  1.620000  1.610000  1.4900  1.4700   \n...         ...  ...       ...       ...       ...       ...     ...     ...   \n1545   0.680000  ...  1.090000  0.953333  0.827500  0.736667  0.6200  0.5325   \n1546   0.750000  ...  0.993333  0.867500  0.776667  0.660000  0.5725  0.5200   \n1547   0.500000  ...  0.743333  0.617500  0.526667  0.410000  0.3225  0.2700   \n1548   0.650000  ...  0.893333  0.767500  0.676667  0.560000  0.4725  0.4200   \n1549   0.960000  ...  0.747500  0.656667  0.540000  0.452500  0.4000  0.2800   \n\n           602       603       604  605  \n0     0.150000  0.030000  0.010000    0  \n1    -0.120000 -0.140000 -0.150000    0  \n2     1.450000  1.440000  1.590000    0  \n3     1.420000  1.410000  1.560000    0  \n4     1.460000  1.610000  0.035000    0  \n...        ...       ...       ...  ...  \n1545  0.480000  0.360000  0.303333    0  \n1546  0.400000  0.343333  0.040000    0  \n1547  0.150000  0.093333 -0.210000    0  \n1548  0.300000  0.243333 -0.060000    0  \n1549  0.223333 -0.080000 -0.003333    0  \n\n[1550 rows x 607 columns]",
      "text/html": "<div>\n<style scoped>\n    .dataframe tbody tr th:only-of-type {\n        vertical-align: middle;\n    }\n\n    .dataframe tbody tr th {\n        vertical-align: top;\n    }\n\n    .dataframe thead th {\n        text-align: right;\n    }\n</style>\n<table border=\"1\" class=\"dataframe\">\n  <thead>\n    <tr style=\"text-align: right;\">\n      <th></th>\n      <th>index</th>\n      <th>0</th>\n      <th>1</th>\n      <th>2</th>\n      <th>3</th>\n      <th>4</th>\n      <th>5</th>\n      <th>6</th>\n      <th>7</th>\n      <th>8</th>\n      <th>...</th>\n      <th>596</th>\n      <th>597</th>\n      <th>598</th>\n      <th>599</th>\n      <th>600</th>\n      <th>601</th>\n      <th>602</th>\n      <th>603</th>\n      <th>604</th>\n      <th>605</th>\n    </tr>\n  </thead>\n  <tbody>\n    <tr>\n      <th>0</th>\n      <td>8791</td>\n      <td>-18.0</td>\n      <td>18.0</td>\n      <td>90.20</td>\n      <td>228.31</td>\n      <td>-84.39</td>\n      <td>-26.930</td>\n      <td>-27.300</td>\n      <td>-27.550</td>\n      <td>-27.530000</td>\n      <td>...</td>\n      <td>0.940000</td>\n      <td>0.780000</td>\n      <td>0.740000</td>\n      <td>0.360000</td>\n      <td>0.1800</td>\n      <td>0.1600</td>\n      <td>0.150000</td>\n      <td>0.030000</td>\n      <td>0.010000</td>\n      <td>0</td>\n    </tr>\n    <tr>\n      <th>1</th>\n      <td>8792</td>\n      <td>-18.0</td>\n      <td>18.0</td>\n      <td>90.05</td>\n      <td>228.16</td>\n      <td>-84.54</td>\n      <td>-27.450</td>\n      <td>-27.700</td>\n      <td>-27.680</td>\n      <td>-27.700000</td>\n      <td>...</td>\n      <td>0.630000</td>\n      <td>0.590000</td>\n      <td>0.210000</td>\n      <td>0.030000</td>\n      <td>0.0100</td>\n      <td>0.0000</td>\n      <td>-0.120000</td>\n      <td>-0.140000</td>\n      <td>-0.150000</td>\n      <td>0</td>\n    </tr>\n    <tr>\n      <th>2</th>\n      <td>8793</td>\n      <td>-18.0</td>\n      <td>18.0</td>\n      <td>91.64</td>\n      <td>229.75</td>\n      <td>-82.95</td>\n      <td>-26.110</td>\n      <td>-26.090</td>\n      <td>-26.110</td>\n      <td>-26.040000</td>\n      <td>...</td>\n      <td>2.180000</td>\n      <td>1.800000</td>\n      <td>1.620000</td>\n      <td>1.600000</td>\n      <td>1.5900</td>\n      <td>1.4700</td>\n      <td>1.450000</td>\n      <td>1.440000</td>\n      <td>1.590000</td>\n      <td>0</td>\n    </tr>\n    <tr>\n      <th>3</th>\n      <td>8794</td>\n      <td>-18.0</td>\n      <td>18.0</td>\n      <td>91.61</td>\n      <td>229.72</td>\n      <td>-82.98</td>\n      <td>-26.140</td>\n      <td>-26.120</td>\n      <td>-26.140</td>\n      <td>-26.070000</td>\n      <td>...</td>\n      <td>2.150000</td>\n      <td>1.770000</td>\n      <td>1.590000</td>\n      <td>1.570000</td>\n      <td>1.5600</td>\n      <td>1.4400</td>\n      <td>1.420000</td>\n      <td>1.410000</td>\n      <td>1.560000</td>\n      <td>0</td>\n    </tr>\n    <tr>\n      <th>4</th>\n      <td>8795</td>\n      <td>-18.0</td>\n      <td>18.0</td>\n      <td>91.66</td>\n      <td>229.77</td>\n      <td>-82.93</td>\n      <td>-26.070</td>\n      <td>-26.090</td>\n      <td>-26.020</td>\n      <td>-26.903333</td>\n      <td>...</td>\n      <td>1.820000</td>\n      <td>1.640000</td>\n      <td>1.620000</td>\n      <td>1.610000</td>\n      <td>1.4900</td>\n      <td>1.4700</td>\n      <td>1.460000</td>\n      <td>1.610000</td>\n      <td>0.035000</td>\n      <td>0</td>\n    </tr>\n    <tr>\n      <th>...</th>\n      <td>...</td>\n      <td>...</td>\n      <td>...</td>\n      <td>...</td>\n      <td>...</td>\n      <td>...</td>\n      <td>...</td>\n      <td>...</td>\n      <td>...</td>\n      <td>...</td>\n      <td>...</td>\n      <td>...</td>\n      <td>...</td>\n      <td>...</td>\n      <td>...</td>\n      <td>...</td>\n      <td>...</td>\n      <td>...</td>\n      <td>...</td>\n      <td>...</td>\n      <td>...</td>\n    </tr>\n    <tr>\n      <th>1545</th>\n      <td>10336</td>\n      <td>-18.0</td>\n      <td>18.0</td>\n      <td>95.34</td>\n      <td>233.45</td>\n      <td>-79.25</td>\n      <td>2.790</td>\n      <td>2.110</td>\n      <td>1.045</td>\n      <td>0.680000</td>\n      <td>...</td>\n      <td>1.090000</td>\n      <td>0.953333</td>\n      <td>0.827500</td>\n      <td>0.736667</td>\n      <td>0.6200</td>\n      <td>0.5325</td>\n      <td>0.480000</td>\n      <td>0.360000</td>\n      <td>0.303333</td>\n      <td>0</td>\n    </tr>\n    <tr>\n      <th>1546</th>\n      <td>10337</td>\n      <td>-18.0</td>\n      <td>18.0</td>\n      <td>95.38</td>\n      <td>233.49</td>\n      <td>-79.21</td>\n      <td>2.150</td>\n      <td>1.085</td>\n      <td>0.720</td>\n      <td>0.750000</td>\n      <td>...</td>\n      <td>0.993333</td>\n      <td>0.867500</td>\n      <td>0.776667</td>\n      <td>0.660000</td>\n      <td>0.5725</td>\n      <td>0.5200</td>\n      <td>0.400000</td>\n      <td>0.343333</td>\n      <td>0.040000</td>\n      <td>0</td>\n    </tr>\n    <tr>\n      <th>1547</th>\n      <td>10338</td>\n      <td>-18.0</td>\n      <td>18.0</td>\n      <td>95.13</td>\n      <td>233.24</td>\n      <td>-79.46</td>\n      <td>1.900</td>\n      <td>0.835</td>\n      <td>0.470</td>\n      <td>0.500000</td>\n      <td>...</td>\n      <td>0.743333</td>\n      <td>0.617500</td>\n      <td>0.526667</td>\n      <td>0.410000</td>\n      <td>0.3225</td>\n      <td>0.2700</td>\n      <td>0.150000</td>\n      <td>0.093333</td>\n      <td>-0.210000</td>\n      <td>0</td>\n    </tr>\n    <tr>\n      <th>1548</th>\n      <td>10339</td>\n      <td>-18.0</td>\n      <td>18.0</td>\n      <td>95.28</td>\n      <td>233.39</td>\n      <td>-79.31</td>\n      <td>2.050</td>\n      <td>0.985</td>\n      <td>0.620</td>\n      <td>0.650000</td>\n      <td>...</td>\n      <td>0.893333</td>\n      <td>0.767500</td>\n      <td>0.676667</td>\n      <td>0.560000</td>\n      <td>0.4725</td>\n      <td>0.4200</td>\n      <td>0.300000</td>\n      <td>0.243333</td>\n      <td>-0.060000</td>\n      <td>0</td>\n    </tr>\n    <tr>\n      <th>1549</th>\n      <td>10340</td>\n      <td>-18.0</td>\n      <td>18.0</td>\n      <td>95.26</td>\n      <td>233.37</td>\n      <td>-79.33</td>\n      <td>0.965</td>\n      <td>0.600</td>\n      <td>0.630</td>\n      <td>0.960000</td>\n      <td>...</td>\n      <td>0.747500</td>\n      <td>0.656667</td>\n      <td>0.540000</td>\n      <td>0.452500</td>\n      <td>0.4000</td>\n      <td>0.2800</td>\n      <td>0.223333</td>\n      <td>-0.080000</td>\n      <td>-0.003333</td>\n      <td>0</td>\n    </tr>\n  </tbody>\n</table>\n<p>1550 rows × 607 columns</p>\n</div>"
     },
     "metadata": {},
     "execution_count": 50
    }
   ],
   "source": [
    "evaluation_data_df=df[round(len(df)*0.85+1):].copy().reset_index()\n",
    "evaluation_data_df"
   ]
  },
  {
   "cell_type": "code",
   "execution_count": 70,
   "metadata": {},
   "outputs": [
    {
     "output_type": "execute_result",
     "data": {
      "text/plain": "{'predictions': [{'score': 0.1967127025127411, 'predicted_label': 0.0}]}"
     },
     "metadata": {},
     "execution_count": 70
    }
   ],
   "source": [
    "data=','.join([str(x) for x in evaluation_data_df.loc[0].tolist()[0:605]])\n",
    "linear_predictor.predict(data)"
   ]
  },
  {
   "cell_type": "code",
   "execution_count": 71,
   "metadata": {},
   "outputs": [],
   "source": [
    "def eval_func(row):\n",
    "    csv=','.join(row.tolist()[0:605])\n",
    "    result=linear_predictor.predict(csv)\n",
    "    return result\n",
    "results=evaluation_data_df.astype(str).apply(eval_func,axis=1)"
   ]
  },
  {
   "cell_type": "code",
   "execution_count": 72,
   "metadata": {},
   "outputs": [
    {
     "output_type": "execute_result",
     "data": {
      "text/plain": "{'predictions': [{'score': 0.1967127025127411, 'predicted_label': 0.0}]}"
     },
     "metadata": {},
     "execution_count": 72
    }
   ],
   "source": [
    "results[0]"
   ]
  },
  {
   "cell_type": "code",
   "execution_count": 73,
   "metadata": {},
   "outputs": [],
   "source": [
    "predicted_labels=[1 if i['predictions'][0]['predicted_label']==1.0 else 0 for i in results]"
   ]
  },
  {
   "cell_type": "code",
   "execution_count": 74,
   "metadata": {},
   "outputs": [],
   "source": [
    "score=[i['predictions'][0]['score'] for i in results]"
   ]
  },
  {
   "cell_type": "code",
   "execution_count": 75,
   "metadata": {},
   "outputs": [
    {
     "output_type": "execute_result",
     "data": {
      "text/plain": "      index     0     1      2       3      4       5       6       7  \\\n0      8791 -18.0  18.0  90.20  228.31 -84.39 -26.930 -27.300 -27.550   \n1      8792 -18.0  18.0  90.05  228.16 -84.54 -27.450 -27.700 -27.680   \n2      8793 -18.0  18.0  91.64  229.75 -82.95 -26.110 -26.090 -26.110   \n3      8794 -18.0  18.0  91.61  229.72 -82.98 -26.140 -26.120 -26.140   \n4      8795 -18.0  18.0  91.66  229.77 -82.93 -26.070 -26.090 -26.020   \n...     ...   ...   ...    ...     ...    ...     ...     ...     ...   \n1545  10336 -18.0  18.0  95.34  233.45 -79.25   2.790   2.110   1.045   \n1546  10337 -18.0  18.0  95.38  233.49 -79.21   2.150   1.085   0.720   \n1547  10338 -18.0  18.0  95.13  233.24 -79.46   1.900   0.835   0.470   \n1548  10339 -18.0  18.0  95.28  233.39 -79.31   2.050   0.985   0.620   \n1549  10340 -18.0  18.0  95.26  233.37 -79.33   0.965   0.600   0.630   \n\n              8  ...       598       599     600     601       602       603  \\\n0    -27.530000  ...  0.740000  0.360000  0.1800  0.1600  0.150000  0.030000   \n1    -27.700000  ...  0.210000  0.030000  0.0100  0.0000 -0.120000 -0.140000   \n2    -26.040000  ...  1.620000  1.600000  1.5900  1.4700  1.450000  1.440000   \n3    -26.070000  ...  1.590000  1.570000  1.5600  1.4400  1.420000  1.410000   \n4    -26.903333  ...  1.620000  1.610000  1.4900  1.4700  1.460000  1.610000   \n...         ...  ...       ...       ...     ...     ...       ...       ...   \n1545   0.680000  ...  0.827500  0.736667  0.6200  0.5325  0.480000  0.360000   \n1546   0.750000  ...  0.776667  0.660000  0.5725  0.5200  0.400000  0.343333   \n1547   0.500000  ...  0.526667  0.410000  0.3225  0.2700  0.150000  0.093333   \n1548   0.650000  ...  0.676667  0.560000  0.4725  0.4200  0.300000  0.243333   \n1549   0.960000  ...  0.540000  0.452500  0.4000  0.2800  0.223333 -0.080000   \n\n           604  605  predicted_labels     score  \n0     0.010000    0                 0  0.196713  \n1    -0.150000    0                 0  0.191571  \n2     1.590000    0                 0  0.225435  \n3     1.560000    0                 0  0.224716  \n4     0.035000    0                 0  0.228285  \n...        ...  ...               ...       ...  \n1545  0.303333    0                 0  0.593202  \n1546  0.040000    0                 0  0.599678  \n1547 -0.210000    0                 0  0.591395  \n1548 -0.060000    0                 0  0.596373  \n1549 -0.003333    0                 0  0.585637  \n\n[1550 rows x 609 columns]",
      "text/html": "<div>\n<style scoped>\n    .dataframe tbody tr th:only-of-type {\n        vertical-align: middle;\n    }\n\n    .dataframe tbody tr th {\n        vertical-align: top;\n    }\n\n    .dataframe thead th {\n        text-align: right;\n    }\n</style>\n<table border=\"1\" class=\"dataframe\">\n  <thead>\n    <tr style=\"text-align: right;\">\n      <th></th>\n      <th>index</th>\n      <th>0</th>\n      <th>1</th>\n      <th>2</th>\n      <th>3</th>\n      <th>4</th>\n      <th>5</th>\n      <th>6</th>\n      <th>7</th>\n      <th>8</th>\n      <th>...</th>\n      <th>598</th>\n      <th>599</th>\n      <th>600</th>\n      <th>601</th>\n      <th>602</th>\n      <th>603</th>\n      <th>604</th>\n      <th>605</th>\n      <th>predicted_labels</th>\n      <th>score</th>\n    </tr>\n  </thead>\n  <tbody>\n    <tr>\n      <th>0</th>\n      <td>8791</td>\n      <td>-18.0</td>\n      <td>18.0</td>\n      <td>90.20</td>\n      <td>228.31</td>\n      <td>-84.39</td>\n      <td>-26.930</td>\n      <td>-27.300</td>\n      <td>-27.550</td>\n      <td>-27.530000</td>\n      <td>...</td>\n      <td>0.740000</td>\n      <td>0.360000</td>\n      <td>0.1800</td>\n      <td>0.1600</td>\n      <td>0.150000</td>\n      <td>0.030000</td>\n      <td>0.010000</td>\n      <td>0</td>\n      <td>0</td>\n      <td>0.196713</td>\n    </tr>\n    <tr>\n      <th>1</th>\n      <td>8792</td>\n      <td>-18.0</td>\n      <td>18.0</td>\n      <td>90.05</td>\n      <td>228.16</td>\n      <td>-84.54</td>\n      <td>-27.450</td>\n      <td>-27.700</td>\n      <td>-27.680</td>\n      <td>-27.700000</td>\n      <td>...</td>\n      <td>0.210000</td>\n      <td>0.030000</td>\n      <td>0.0100</td>\n      <td>0.0000</td>\n      <td>-0.120000</td>\n      <td>-0.140000</td>\n      <td>-0.150000</td>\n      <td>0</td>\n      <td>0</td>\n      <td>0.191571</td>\n    </tr>\n    <tr>\n      <th>2</th>\n      <td>8793</td>\n      <td>-18.0</td>\n      <td>18.0</td>\n      <td>91.64</td>\n      <td>229.75</td>\n      <td>-82.95</td>\n      <td>-26.110</td>\n      <td>-26.090</td>\n      <td>-26.110</td>\n      <td>-26.040000</td>\n      <td>...</td>\n      <td>1.620000</td>\n      <td>1.600000</td>\n      <td>1.5900</td>\n      <td>1.4700</td>\n      <td>1.450000</td>\n      <td>1.440000</td>\n      <td>1.590000</td>\n      <td>0</td>\n      <td>0</td>\n      <td>0.225435</td>\n    </tr>\n    <tr>\n      <th>3</th>\n      <td>8794</td>\n      <td>-18.0</td>\n      <td>18.0</td>\n      <td>91.61</td>\n      <td>229.72</td>\n      <td>-82.98</td>\n      <td>-26.140</td>\n      <td>-26.120</td>\n      <td>-26.140</td>\n      <td>-26.070000</td>\n      <td>...</td>\n      <td>1.590000</td>\n      <td>1.570000</td>\n      <td>1.5600</td>\n      <td>1.4400</td>\n      <td>1.420000</td>\n      <td>1.410000</td>\n      <td>1.560000</td>\n      <td>0</td>\n      <td>0</td>\n      <td>0.224716</td>\n    </tr>\n    <tr>\n      <th>4</th>\n      <td>8795</td>\n      <td>-18.0</td>\n      <td>18.0</td>\n      <td>91.66</td>\n      <td>229.77</td>\n      <td>-82.93</td>\n      <td>-26.070</td>\n      <td>-26.090</td>\n      <td>-26.020</td>\n      <td>-26.903333</td>\n      <td>...</td>\n      <td>1.620000</td>\n      <td>1.610000</td>\n      <td>1.4900</td>\n      <td>1.4700</td>\n      <td>1.460000</td>\n      <td>1.610000</td>\n      <td>0.035000</td>\n      <td>0</td>\n      <td>0</td>\n      <td>0.228285</td>\n    </tr>\n    <tr>\n      <th>...</th>\n      <td>...</td>\n      <td>...</td>\n      <td>...</td>\n      <td>...</td>\n      <td>...</td>\n      <td>...</td>\n      <td>...</td>\n      <td>...</td>\n      <td>...</td>\n      <td>...</td>\n      <td>...</td>\n      <td>...</td>\n      <td>...</td>\n      <td>...</td>\n      <td>...</td>\n      <td>...</td>\n      <td>...</td>\n      <td>...</td>\n      <td>...</td>\n      <td>...</td>\n      <td>...</td>\n    </tr>\n    <tr>\n      <th>1545</th>\n      <td>10336</td>\n      <td>-18.0</td>\n      <td>18.0</td>\n      <td>95.34</td>\n      <td>233.45</td>\n      <td>-79.25</td>\n      <td>2.790</td>\n      <td>2.110</td>\n      <td>1.045</td>\n      <td>0.680000</td>\n      <td>...</td>\n      <td>0.827500</td>\n      <td>0.736667</td>\n      <td>0.6200</td>\n      <td>0.5325</td>\n      <td>0.480000</td>\n      <td>0.360000</td>\n      <td>0.303333</td>\n      <td>0</td>\n      <td>0</td>\n      <td>0.593202</td>\n    </tr>\n    <tr>\n      <th>1546</th>\n      <td>10337</td>\n      <td>-18.0</td>\n      <td>18.0</td>\n      <td>95.38</td>\n      <td>233.49</td>\n      <td>-79.21</td>\n      <td>2.150</td>\n      <td>1.085</td>\n      <td>0.720</td>\n      <td>0.750000</td>\n      <td>...</td>\n      <td>0.776667</td>\n      <td>0.660000</td>\n      <td>0.5725</td>\n      <td>0.5200</td>\n      <td>0.400000</td>\n      <td>0.343333</td>\n      <td>0.040000</td>\n      <td>0</td>\n      <td>0</td>\n      <td>0.599678</td>\n    </tr>\n    <tr>\n      <th>1547</th>\n      <td>10338</td>\n      <td>-18.0</td>\n      <td>18.0</td>\n      <td>95.13</td>\n      <td>233.24</td>\n      <td>-79.46</td>\n      <td>1.900</td>\n      <td>0.835</td>\n      <td>0.470</td>\n      <td>0.500000</td>\n      <td>...</td>\n      <td>0.526667</td>\n      <td>0.410000</td>\n      <td>0.3225</td>\n      <td>0.2700</td>\n      <td>0.150000</td>\n      <td>0.093333</td>\n      <td>-0.210000</td>\n      <td>0</td>\n      <td>0</td>\n      <td>0.591395</td>\n    </tr>\n    <tr>\n      <th>1548</th>\n      <td>10339</td>\n      <td>-18.0</td>\n      <td>18.0</td>\n      <td>95.28</td>\n      <td>233.39</td>\n      <td>-79.31</td>\n      <td>2.050</td>\n      <td>0.985</td>\n      <td>0.620</td>\n      <td>0.650000</td>\n      <td>...</td>\n      <td>0.676667</td>\n      <td>0.560000</td>\n      <td>0.4725</td>\n      <td>0.4200</td>\n      <td>0.300000</td>\n      <td>0.243333</td>\n      <td>-0.060000</td>\n      <td>0</td>\n      <td>0</td>\n      <td>0.596373</td>\n    </tr>\n    <tr>\n      <th>1549</th>\n      <td>10340</td>\n      <td>-18.0</td>\n      <td>18.0</td>\n      <td>95.26</td>\n      <td>233.37</td>\n      <td>-79.33</td>\n      <td>0.965</td>\n      <td>0.600</td>\n      <td>0.630</td>\n      <td>0.960000</td>\n      <td>...</td>\n      <td>0.540000</td>\n      <td>0.452500</td>\n      <td>0.4000</td>\n      <td>0.2800</td>\n      <td>0.223333</td>\n      <td>-0.080000</td>\n      <td>-0.003333</td>\n      <td>0</td>\n      <td>0</td>\n      <td>0.585637</td>\n    </tr>\n  </tbody>\n</table>\n<p>1550 rows × 609 columns</p>\n</div>"
     },
     "metadata": {},
     "execution_count": 75
    }
   ],
   "source": [
    "evaluation_data_df['predicted_labels']=predicted_labels\n",
    "evaluation_data_df['score']=score\n",
    "evaluation_data_df"
   ]
  },
  {
   "cell_type": "code",
   "execution_count": 76,
   "metadata": {},
   "outputs": [
    {
     "output_type": "execute_result",
     "data": {
      "text/plain": "      index     0     1      2       3      4       5       6        7  \\\n119    8910 -18.0  18.0  91.74  229.85 -82.85 -22.950 -22.910 -22.6300   \n121    8912 -18.0  18.0  90.60  228.71 -83.99 -24.050 -23.770 -24.1100   \n122    8913 -18.0  18.0  90.59  228.70 -84.00 -24.060 -23.780 -24.1200   \n123    8914 -18.0  18.0  90.61  228.72 -83.98 -24.040 -23.760 -24.1000   \n124    8915 -18.0  18.0  92.22  230.33 -82.37 -22.430 -22.150 -22.4900   \n...     ...   ...   ...    ...     ...    ...     ...     ...      ...   \n1058   9849 -18.0  18.0  92.72  230.83 -81.87  -1.545  -1.620  -1.6350   \n1059   9850 -18.0  18.0  92.66  230.77 -81.93  -1.605  -1.680  -1.6950   \n1060   9851 -18.0  18.0  92.65  230.76 -81.94  -1.690  -1.705  -1.7875   \n1061   9852 -18.0  18.0  92.59  230.70 -82.00  -1.750  -1.765  -1.8475   \n1162   9953 -18.0  18.0  94.38  232.49 -80.21  -2.000  -1.730  -1.4200   \n\n            8  ...    598    599       600       601    602    603     604  \\\n119  -22.9700  ...  2.535  2.165  2.610000  1.786667  1.920  1.930  1.8400   \n121  -24.0250  ...  1.025  1.470  0.646667  0.780000  0.790  0.700 -0.2000   \n122  -24.0350  ...  1.015  1.460  0.636667  0.770000  0.780  0.690 -0.2100   \n123  -24.0150  ...  1.035  1.480  0.656667  0.790000  0.800  0.710 -0.1900   \n124  -22.4050  ...  2.645  3.090  2.266667  2.400000  2.410  2.320  1.4200   \n...       ...  ...    ...    ...       ...       ...    ...    ...     ...   \n1058  -1.7175  ...  1.750  1.740  1.790000  1.915000  1.770  1.285  0.9150   \n1059  -1.7775  ...  1.690  1.680  1.730000  1.855000  1.710  1.225  0.8550   \n1060  -3.3150  ...  1.670  1.720  1.845000  1.700000  1.215  0.845  0.0125   \n1061  -3.3750  ...  1.610  1.660  1.785000  1.640000  1.155  0.785 -0.0475   \n1162  -1.4400  ...  3.280  3.220  2.620000  1.890000  1.840  1.820  1.5600   \n\n      605  predicted_labels     score  \n119     0                 1  0.642128  \n121     0                 1  0.624349  \n122     0                 1  0.624027  \n123     0                 1  0.624673  \n124     0                 1  0.675010  \n...   ...               ...       ...  \n1058    0                 1  0.624972  \n1059    0                 1  0.623036  \n1060    0                 1  0.628415  \n1061    0                 1  0.626487  \n1162    0                 1  0.621448  \n\n[283 rows x 609 columns]",
      "text/html": "<div>\n<style scoped>\n    .dataframe tbody tr th:only-of-type {\n        vertical-align: middle;\n    }\n\n    .dataframe tbody tr th {\n        vertical-align: top;\n    }\n\n    .dataframe thead th {\n        text-align: right;\n    }\n</style>\n<table border=\"1\" class=\"dataframe\">\n  <thead>\n    <tr style=\"text-align: right;\">\n      <th></th>\n      <th>index</th>\n      <th>0</th>\n      <th>1</th>\n      <th>2</th>\n      <th>3</th>\n      <th>4</th>\n      <th>5</th>\n      <th>6</th>\n      <th>7</th>\n      <th>8</th>\n      <th>...</th>\n      <th>598</th>\n      <th>599</th>\n      <th>600</th>\n      <th>601</th>\n      <th>602</th>\n      <th>603</th>\n      <th>604</th>\n      <th>605</th>\n      <th>predicted_labels</th>\n      <th>score</th>\n    </tr>\n  </thead>\n  <tbody>\n    <tr>\n      <th>119</th>\n      <td>8910</td>\n      <td>-18.0</td>\n      <td>18.0</td>\n      <td>91.74</td>\n      <td>229.85</td>\n      <td>-82.85</td>\n      <td>-22.950</td>\n      <td>-22.910</td>\n      <td>-22.6300</td>\n      <td>-22.9700</td>\n      <td>...</td>\n      <td>2.535</td>\n      <td>2.165</td>\n      <td>2.610000</td>\n      <td>1.786667</td>\n      <td>1.920</td>\n      <td>1.930</td>\n      <td>1.8400</td>\n      <td>0</td>\n      <td>1</td>\n      <td>0.642128</td>\n    </tr>\n    <tr>\n      <th>121</th>\n      <td>8912</td>\n      <td>-18.0</td>\n      <td>18.0</td>\n      <td>90.60</td>\n      <td>228.71</td>\n      <td>-83.99</td>\n      <td>-24.050</td>\n      <td>-23.770</td>\n      <td>-24.1100</td>\n      <td>-24.0250</td>\n      <td>...</td>\n      <td>1.025</td>\n      <td>1.470</td>\n      <td>0.646667</td>\n      <td>0.780000</td>\n      <td>0.790</td>\n      <td>0.700</td>\n      <td>-0.2000</td>\n      <td>0</td>\n      <td>1</td>\n      <td>0.624349</td>\n    </tr>\n    <tr>\n      <th>122</th>\n      <td>8913</td>\n      <td>-18.0</td>\n      <td>18.0</td>\n      <td>90.59</td>\n      <td>228.70</td>\n      <td>-84.00</td>\n      <td>-24.060</td>\n      <td>-23.780</td>\n      <td>-24.1200</td>\n      <td>-24.0350</td>\n      <td>...</td>\n      <td>1.015</td>\n      <td>1.460</td>\n      <td>0.636667</td>\n      <td>0.770000</td>\n      <td>0.780</td>\n      <td>0.690</td>\n      <td>-0.2100</td>\n      <td>0</td>\n      <td>1</td>\n      <td>0.624027</td>\n    </tr>\n    <tr>\n      <th>123</th>\n      <td>8914</td>\n      <td>-18.0</td>\n      <td>18.0</td>\n      <td>90.61</td>\n      <td>228.72</td>\n      <td>-83.98</td>\n      <td>-24.040</td>\n      <td>-23.760</td>\n      <td>-24.1000</td>\n      <td>-24.0150</td>\n      <td>...</td>\n      <td>1.035</td>\n      <td>1.480</td>\n      <td>0.656667</td>\n      <td>0.790000</td>\n      <td>0.800</td>\n      <td>0.710</td>\n      <td>-0.1900</td>\n      <td>0</td>\n      <td>1</td>\n      <td>0.624673</td>\n    </tr>\n    <tr>\n      <th>124</th>\n      <td>8915</td>\n      <td>-18.0</td>\n      <td>18.0</td>\n      <td>92.22</td>\n      <td>230.33</td>\n      <td>-82.37</td>\n      <td>-22.430</td>\n      <td>-22.150</td>\n      <td>-22.4900</td>\n      <td>-22.4050</td>\n      <td>...</td>\n      <td>2.645</td>\n      <td>3.090</td>\n      <td>2.266667</td>\n      <td>2.400000</td>\n      <td>2.410</td>\n      <td>2.320</td>\n      <td>1.4200</td>\n      <td>0</td>\n      <td>1</td>\n      <td>0.675010</td>\n    </tr>\n    <tr>\n      <th>...</th>\n      <td>...</td>\n      <td>...</td>\n      <td>...</td>\n      <td>...</td>\n      <td>...</td>\n      <td>...</td>\n      <td>...</td>\n      <td>...</td>\n      <td>...</td>\n      <td>...</td>\n      <td>...</td>\n      <td>...</td>\n      <td>...</td>\n      <td>...</td>\n      <td>...</td>\n      <td>...</td>\n      <td>...</td>\n      <td>...</td>\n      <td>...</td>\n      <td>...</td>\n      <td>...</td>\n    </tr>\n    <tr>\n      <th>1058</th>\n      <td>9849</td>\n      <td>-18.0</td>\n      <td>18.0</td>\n      <td>92.72</td>\n      <td>230.83</td>\n      <td>-81.87</td>\n      <td>-1.545</td>\n      <td>-1.620</td>\n      <td>-1.6350</td>\n      <td>-1.7175</td>\n      <td>...</td>\n      <td>1.750</td>\n      <td>1.740</td>\n      <td>1.790000</td>\n      <td>1.915000</td>\n      <td>1.770</td>\n      <td>1.285</td>\n      <td>0.9150</td>\n      <td>0</td>\n      <td>1</td>\n      <td>0.624972</td>\n    </tr>\n    <tr>\n      <th>1059</th>\n      <td>9850</td>\n      <td>-18.0</td>\n      <td>18.0</td>\n      <td>92.66</td>\n      <td>230.77</td>\n      <td>-81.93</td>\n      <td>-1.605</td>\n      <td>-1.680</td>\n      <td>-1.6950</td>\n      <td>-1.7775</td>\n      <td>...</td>\n      <td>1.690</td>\n      <td>1.680</td>\n      <td>1.730000</td>\n      <td>1.855000</td>\n      <td>1.710</td>\n      <td>1.225</td>\n      <td>0.8550</td>\n      <td>0</td>\n      <td>1</td>\n      <td>0.623036</td>\n    </tr>\n    <tr>\n      <th>1060</th>\n      <td>9851</td>\n      <td>-18.0</td>\n      <td>18.0</td>\n      <td>92.65</td>\n      <td>230.76</td>\n      <td>-81.94</td>\n      <td>-1.690</td>\n      <td>-1.705</td>\n      <td>-1.7875</td>\n      <td>-3.3150</td>\n      <td>...</td>\n      <td>1.670</td>\n      <td>1.720</td>\n      <td>1.845000</td>\n      <td>1.700000</td>\n      <td>1.215</td>\n      <td>0.845</td>\n      <td>0.0125</td>\n      <td>0</td>\n      <td>1</td>\n      <td>0.628415</td>\n    </tr>\n    <tr>\n      <th>1061</th>\n      <td>9852</td>\n      <td>-18.0</td>\n      <td>18.0</td>\n      <td>92.59</td>\n      <td>230.70</td>\n      <td>-82.00</td>\n      <td>-1.750</td>\n      <td>-1.765</td>\n      <td>-1.8475</td>\n      <td>-3.3750</td>\n      <td>...</td>\n      <td>1.610</td>\n      <td>1.660</td>\n      <td>1.785000</td>\n      <td>1.640000</td>\n      <td>1.155</td>\n      <td>0.785</td>\n      <td>-0.0475</td>\n      <td>0</td>\n      <td>1</td>\n      <td>0.626487</td>\n    </tr>\n    <tr>\n      <th>1162</th>\n      <td>9953</td>\n      <td>-18.0</td>\n      <td>18.0</td>\n      <td>94.38</td>\n      <td>232.49</td>\n      <td>-80.21</td>\n      <td>-2.000</td>\n      <td>-1.730</td>\n      <td>-1.4200</td>\n      <td>-1.4400</td>\n      <td>...</td>\n      <td>3.280</td>\n      <td>3.220</td>\n      <td>2.620000</td>\n      <td>1.890000</td>\n      <td>1.840</td>\n      <td>1.820</td>\n      <td>1.5600</td>\n      <td>0</td>\n      <td>1</td>\n      <td>0.621448</td>\n    </tr>\n  </tbody>\n</table>\n<p>283 rows × 609 columns</p>\n</div>"
     },
     "metadata": {},
     "execution_count": 76
    }
   ],
   "source": [
    "evaluation_data_df[evaluation_data_df['predicted_labels']==1]"
   ]
  },
  {
   "cell_type": "code",
   "execution_count": 94,
   "metadata": {},
   "outputs": [
    {
     "output_type": "execute_result",
     "data": {
      "text/plain": "     index     0     1      2       3      4          5          6       7  \\\n231   9022 -18.0  18.0  96.30  234.41 -78.29 -22.133333 -22.095000 -22.210   \n232   9023 -18.0  18.0  96.32  234.43 -78.27 -22.075000 -22.190000 -22.200   \n229   9020 -18.0  18.0  96.16  234.27 -78.43 -22.140000 -22.273333 -22.235   \n234   9025 -18.0  18.0  96.70  234.81 -77.89 -21.820000 -21.600000 -21.820   \n233   9024 -18.0  18.0  96.31  234.42 -78.28 -22.200000 -22.210000 -21.990   \n..     ...   ...   ...    ...     ...    ...        ...        ...     ...   \n276   9067 -18.0  18.0  97.16  235.27 -77.43 -25.700000 -25.750000 -25.725   \n307   9098 -18.0  18.0  96.82  234.93 -77.77 -20.896667 -20.750000 -20.630   \n309   9100 -18.0  18.0  96.73  234.84 -77.86 -20.840000 -20.720000 -20.600   \n305   9096 -18.0  18.0  97.19  235.30 -77.40 -20.995000 -20.526667 -20.380   \n261   9052 -18.0  18.0  97.07  235.18 -77.52 -22.510000 -22.610000 -22.510   \n\n           8  ...       598       599       600       601       602       603  \\\n231 -22.2200  ...  2.400000  2.390000  2.195000  1.506667  1.136667  0.380000   \n232 -21.9800  ...  2.410000  2.215000  1.526667  1.156667  0.400000  0.205000   \n229 -22.3500  ...  2.250000  2.260000  2.250000  2.055000  1.366667  0.996667   \n234 -21.8900  ...  1.906667  1.536667  0.780000  0.585000  0.400000  0.380000   \n233 -22.2100  ...  2.205000  1.516667  1.146667  0.390000  0.195000  0.010000   \n..       ...  ...       ...       ...       ...       ...       ...       ...   \n276 -25.3500  ...  0.765000  0.620000  0.590000  0.530000  0.460000  0.020000   \n307 -20.5100  ... -0.690000 -0.670000 -0.560000 -0.640000 -0.590000 -0.590000   \n309 -21.7625  ... -0.760000 -0.650000 -0.730000 -0.680000 -0.680000 -0.355000   \n305 -20.2600  ... -0.355000 -0.320000 -0.300000 -0.190000 -0.270000 -0.220000   \n261 -22.8950  ...  0.020000  0.000000  0.065000 -0.110000 -0.090000 -0.050000   \n\n       604  605  predicted_labels     score  \n231  0.185    1                 1  0.849549  \n232  0.020    1                 1  0.845754  \n229  0.240    1                 1  0.841252  \n234  0.390    1                 1  0.839947  \n233 -0.010    1                 1  0.839898  \n..     ...  ...               ...       ...  \n276  0.010    1                 1  0.753862  \n307 -0.265    1                 1  0.753534  \n309 -0.140    1                 1  0.753409  \n305 -0.220    1                 1  0.752354  \n261  0.150    1                 1  0.751326  \n\n[122 rows x 609 columns]",
      "text/html": "<div>\n<style scoped>\n    .dataframe tbody tr th:only-of-type {\n        vertical-align: middle;\n    }\n\n    .dataframe tbody tr th {\n        vertical-align: top;\n    }\n\n    .dataframe thead th {\n        text-align: right;\n    }\n</style>\n<table border=\"1\" class=\"dataframe\">\n  <thead>\n    <tr style=\"text-align: right;\">\n      <th></th>\n      <th>index</th>\n      <th>0</th>\n      <th>1</th>\n      <th>2</th>\n      <th>3</th>\n      <th>4</th>\n      <th>5</th>\n      <th>6</th>\n      <th>7</th>\n      <th>8</th>\n      <th>...</th>\n      <th>598</th>\n      <th>599</th>\n      <th>600</th>\n      <th>601</th>\n      <th>602</th>\n      <th>603</th>\n      <th>604</th>\n      <th>605</th>\n      <th>predicted_labels</th>\n      <th>score</th>\n    </tr>\n  </thead>\n  <tbody>\n    <tr>\n      <th>231</th>\n      <td>9022</td>\n      <td>-18.0</td>\n      <td>18.0</td>\n      <td>96.30</td>\n      <td>234.41</td>\n      <td>-78.29</td>\n      <td>-22.133333</td>\n      <td>-22.095000</td>\n      <td>-22.210</td>\n      <td>-22.2200</td>\n      <td>...</td>\n      <td>2.400000</td>\n      <td>2.390000</td>\n      <td>2.195000</td>\n      <td>1.506667</td>\n      <td>1.136667</td>\n      <td>0.380000</td>\n      <td>0.185</td>\n      <td>1</td>\n      <td>1</td>\n      <td>0.849549</td>\n    </tr>\n    <tr>\n      <th>232</th>\n      <td>9023</td>\n      <td>-18.0</td>\n      <td>18.0</td>\n      <td>96.32</td>\n      <td>234.43</td>\n      <td>-78.27</td>\n      <td>-22.075000</td>\n      <td>-22.190000</td>\n      <td>-22.200</td>\n      <td>-21.9800</td>\n      <td>...</td>\n      <td>2.410000</td>\n      <td>2.215000</td>\n      <td>1.526667</td>\n      <td>1.156667</td>\n      <td>0.400000</td>\n      <td>0.205000</td>\n      <td>0.020</td>\n      <td>1</td>\n      <td>1</td>\n      <td>0.845754</td>\n    </tr>\n    <tr>\n      <th>229</th>\n      <td>9020</td>\n      <td>-18.0</td>\n      <td>18.0</td>\n      <td>96.16</td>\n      <td>234.27</td>\n      <td>-78.43</td>\n      <td>-22.140000</td>\n      <td>-22.273333</td>\n      <td>-22.235</td>\n      <td>-22.3500</td>\n      <td>...</td>\n      <td>2.250000</td>\n      <td>2.260000</td>\n      <td>2.250000</td>\n      <td>2.055000</td>\n      <td>1.366667</td>\n      <td>0.996667</td>\n      <td>0.240</td>\n      <td>1</td>\n      <td>1</td>\n      <td>0.841252</td>\n    </tr>\n    <tr>\n      <th>234</th>\n      <td>9025</td>\n      <td>-18.0</td>\n      <td>18.0</td>\n      <td>96.70</td>\n      <td>234.81</td>\n      <td>-77.89</td>\n      <td>-21.820000</td>\n      <td>-21.600000</td>\n      <td>-21.820</td>\n      <td>-21.8900</td>\n      <td>...</td>\n      <td>1.906667</td>\n      <td>1.536667</td>\n      <td>0.780000</td>\n      <td>0.585000</td>\n      <td>0.400000</td>\n      <td>0.380000</td>\n      <td>0.390</td>\n      <td>1</td>\n      <td>1</td>\n      <td>0.839947</td>\n    </tr>\n    <tr>\n      <th>233</th>\n      <td>9024</td>\n      <td>-18.0</td>\n      <td>18.0</td>\n      <td>96.31</td>\n      <td>234.42</td>\n      <td>-78.28</td>\n      <td>-22.200000</td>\n      <td>-22.210000</td>\n      <td>-21.990</td>\n      <td>-22.2100</td>\n      <td>...</td>\n      <td>2.205000</td>\n      <td>1.516667</td>\n      <td>1.146667</td>\n      <td>0.390000</td>\n      <td>0.195000</td>\n      <td>0.010000</td>\n      <td>-0.010</td>\n      <td>1</td>\n      <td>1</td>\n      <td>0.839898</td>\n    </tr>\n    <tr>\n      <th>...</th>\n      <td>...</td>\n      <td>...</td>\n      <td>...</td>\n      <td>...</td>\n      <td>...</td>\n      <td>...</td>\n      <td>...</td>\n      <td>...</td>\n      <td>...</td>\n      <td>...</td>\n      <td>...</td>\n      <td>...</td>\n      <td>...</td>\n      <td>...</td>\n      <td>...</td>\n      <td>...</td>\n      <td>...</td>\n      <td>...</td>\n      <td>...</td>\n      <td>...</td>\n      <td>...</td>\n    </tr>\n    <tr>\n      <th>276</th>\n      <td>9067</td>\n      <td>-18.0</td>\n      <td>18.0</td>\n      <td>97.16</td>\n      <td>235.27</td>\n      <td>-77.43</td>\n      <td>-25.700000</td>\n      <td>-25.750000</td>\n      <td>-25.725</td>\n      <td>-25.3500</td>\n      <td>...</td>\n      <td>0.765000</td>\n      <td>0.620000</td>\n      <td>0.590000</td>\n      <td>0.530000</td>\n      <td>0.460000</td>\n      <td>0.020000</td>\n      <td>0.010</td>\n      <td>1</td>\n      <td>1</td>\n      <td>0.753862</td>\n    </tr>\n    <tr>\n      <th>307</th>\n      <td>9098</td>\n      <td>-18.0</td>\n      <td>18.0</td>\n      <td>96.82</td>\n      <td>234.93</td>\n      <td>-77.77</td>\n      <td>-20.896667</td>\n      <td>-20.750000</td>\n      <td>-20.630</td>\n      <td>-20.5100</td>\n      <td>...</td>\n      <td>-0.690000</td>\n      <td>-0.670000</td>\n      <td>-0.560000</td>\n      <td>-0.640000</td>\n      <td>-0.590000</td>\n      <td>-0.590000</td>\n      <td>-0.265</td>\n      <td>1</td>\n      <td>1</td>\n      <td>0.753534</td>\n    </tr>\n    <tr>\n      <th>309</th>\n      <td>9100</td>\n      <td>-18.0</td>\n      <td>18.0</td>\n      <td>96.73</td>\n      <td>234.84</td>\n      <td>-77.86</td>\n      <td>-20.840000</td>\n      <td>-20.720000</td>\n      <td>-20.600</td>\n      <td>-21.7625</td>\n      <td>...</td>\n      <td>-0.760000</td>\n      <td>-0.650000</td>\n      <td>-0.730000</td>\n      <td>-0.680000</td>\n      <td>-0.680000</td>\n      <td>-0.355000</td>\n      <td>-0.140</td>\n      <td>1</td>\n      <td>1</td>\n      <td>0.753409</td>\n    </tr>\n    <tr>\n      <th>305</th>\n      <td>9096</td>\n      <td>-18.0</td>\n      <td>18.0</td>\n      <td>97.19</td>\n      <td>235.30</td>\n      <td>-77.40</td>\n      <td>-20.995000</td>\n      <td>-20.526667</td>\n      <td>-20.380</td>\n      <td>-20.2600</td>\n      <td>...</td>\n      <td>-0.355000</td>\n      <td>-0.320000</td>\n      <td>-0.300000</td>\n      <td>-0.190000</td>\n      <td>-0.270000</td>\n      <td>-0.220000</td>\n      <td>-0.220</td>\n      <td>1</td>\n      <td>1</td>\n      <td>0.752354</td>\n    </tr>\n    <tr>\n      <th>261</th>\n      <td>9052</td>\n      <td>-18.0</td>\n      <td>18.0</td>\n      <td>97.07</td>\n      <td>235.18</td>\n      <td>-77.52</td>\n      <td>-22.510000</td>\n      <td>-22.610000</td>\n      <td>-22.510</td>\n      <td>-22.8950</td>\n      <td>...</td>\n      <td>0.020000</td>\n      <td>0.000000</td>\n      <td>0.065000</td>\n      <td>-0.110000</td>\n      <td>-0.090000</td>\n      <td>-0.050000</td>\n      <td>0.150</td>\n      <td>1</td>\n      <td>1</td>\n      <td>0.751326</td>\n    </tr>\n  </tbody>\n</table>\n<p>122 rows × 609 columns</p>\n</div>"
     },
     "metadata": {},
     "execution_count": 94
    }
   ],
   "source": [
    "most_certain=evaluation_data_df.query('score>=0.75')\n",
    "most_certain.sort_values('score',ascending=False)"
   ]
  },
  {
   "cell_type": "code",
   "execution_count": 95,
   "metadata": {},
   "outputs": [
    {
     "output_type": "execute_result",
     "data": {
      "text/plain": "                 Predicted Negative  Predicted Positive\nActual Negative                   0                  16\nActual Positive                   0                 106",
      "text/html": "<div>\n<style scoped>\n    .dataframe tbody tr th:only-of-type {\n        vertical-align: middle;\n    }\n\n    .dataframe tbody tr th {\n        vertical-align: top;\n    }\n\n    .dataframe thead th {\n        text-align: right;\n    }\n</style>\n<table border=\"1\" class=\"dataframe\">\n  <thead>\n    <tr style=\"text-align: right;\">\n      <th></th>\n      <th>Predicted Negative</th>\n      <th>Predicted Positive</th>\n    </tr>\n  </thead>\n  <tbody>\n    <tr>\n      <th>Actual Negative</th>\n      <td>0</td>\n      <td>16</td>\n    </tr>\n    <tr>\n      <th>Actual Positive</th>\n      <td>0</td>\n      <td>106</td>\n    </tr>\n  </tbody>\n</table>\n</div>"
     },
     "metadata": {},
     "execution_count": 95
    }
   ],
   "source": [
    "# Importing the metrics package from sklearn library\n",
    "from sklearn import metrics\n",
    "# Creating the confusion matrix\n",
    "cm = metrics.confusion_matrix(most_certain[605], most_certain['predicted_labels'])\n",
    "# Assigning columns names\n",
    "cm_df = pd.DataFrame(cm, \n",
    "            columns = ['Predicted Negative', 'Predicted Positive'],\n",
    "            index = ['Actual Negative', 'Actual Positive'])\n",
    "# Showing the confusion matrix\n",
    "cm_df"
   ]
  },
  {
   "cell_type": "code",
   "execution_count": null,
   "metadata": {},
   "outputs": [],
   "source": [
    "most_certain.query('predicted_labels==1').describe()"
   ]
  },
  {
   "cell_type": "code",
   "execution_count": null,
   "metadata": {},
   "outputs": [],
   "source": [
    "most_certain.query('predicted_labels==0').describe()"
   ]
  },
  {
   "cell_type": "code",
   "execution_count": null,
   "metadata": {},
   "outputs": [],
   "source": []
  }
 ],
 "metadata": {
  "kernelspec": {
   "display_name": "Python 3.7.4 64-bit ('.venv': virtualenv)",
   "language": "python",
   "name": "python37464bitvenvvirtualenv6b4f093d3fee42a4b8c0f6bd7f8294ac"
  },
  "language_info": {
   "codemirror_mode": {
    "name": "ipython",
    "version": 3
   },
   "file_extension": ".py",
   "mimetype": "text/x-python",
   "name": "python",
   "nbconvert_exporter": "python",
   "pygments_lexer": "ipython3",
   "version": "3.7.4-final"
  }
 },
 "nbformat": 4,
 "nbformat_minor": 4
}