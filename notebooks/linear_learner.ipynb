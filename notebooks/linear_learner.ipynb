{
 "cells": [
  {
   "cell_type": "code",
   "execution_count": null,
   "metadata": {},
   "outputs": [],
   "source": [
    "bucket = 'bucket-mldemo-dev-20200505120005202200000002'\n",
    " \n",
    "# Define IAM role\n",
    "import re\n"
   ]
  },
  {
   "cell_type": "code",
   "execution_count": null,
   "metadata": {},
   "outputs": [],
   "source": [
    "import boto3\n",
    "boto3_session=boto3.Session(profile_name='ml-demo')"
   ]
  },
  {
   "cell_type": "code",
   "execution_count": null,
   "metadata": {},
   "outputs": [],
   "source": [
    "from sagemaker.session import Session\n",
    "from sagemaker import get_execution_role\n",
    "\n",
    "sagemaker_session=Session(boto3_session)\n",
    "\n",
    "try:\n",
    "    role = get_execution_role()\n",
    "except:\n",
    "    iam=boto3_session.client('iam')\n",
    "    response=iam.get_role(\n",
    "        RoleName='mldemo-dev-Sagemaker-Execution-Role'\n",
    "    )\n",
    "    role=response['Role']['Arn']\n",
    "role"
   ]
  },
  {
   "cell_type": "code",
   "execution_count": null,
   "metadata": {},
   "outputs": [],
   "source": [
    "output_location = 's3://{}/output'.format(bucket)\n",
    "output_location"
   ]
  },
  {
   "cell_type": "code",
   "execution_count": null,
   "metadata": {},
   "outputs": [],
   "source": [
    "from sagemaker.predictor import RealTimePredictor\n",
    "linear_predictor=RealTimePredictor('mldemo-dev',sagemaker_session)"
   ]
  },
  {
   "cell_type": "code",
   "execution_count": null,
   "metadata": {},
   "outputs": [],
   "source": [
    "from sagemaker.predictor import csv_serializer, json_deserializer\n",
    "\n",
    "linear_predictor.content_type = 'text/csv'\n",
    "linear_predictor.serializer = csv_serializer\n",
    "linear_predictor.deserializer = json_deserializer"
   ]
  },
  {
   "cell_type": "code",
   "execution_count": null,
   "metadata": {},
   "outputs": [],
   "source": [
    "from s3fs.core import S3FileSystem\n",
    "s3fs = S3FileSystem(anon=False,session=boto3_session)\n",
    "\n",
    "import pandas as pd\n",
    "df=pd.read_csv(s3fs.open('s3://%s/transformed/all_data.csv' % bucket),header=None)\n",
    "\n",
    "df"
   ]
  },
  {
   "cell_type": "code",
   "execution_count": null,
   "metadata": {},
   "outputs": [],
   "source": [
    "evaluation_data_df=df[round(len(df)*0.85+1):].copy().reset_index(drop=True)\n",
    "evaluation_data_df"
   ]
  },
  {
   "cell_type": "code",
   "execution_count": null,
   "metadata": {},
   "outputs": [],
   "source": [
    "data=','.join([str(x) for x in evaluation_data_df.loc[0].tolist()[0:605]])\n",
    "linear_predictor.predict(data)"
   ]
  },
  {
   "cell_type": "code",
   "execution_count": null,
   "metadata": {},
   "outputs": [],
   "source": [
    "def eval_func(row):\n",
    "    csv=','.join(row.tolist()[0:605])\n",
    "    result=linear_predictor.predict(csv)\n",
    "    return result\n",
    "results=evaluation_data_df.astype(str).apply(eval_func,axis=1)"
   ]
  },
  {
   "cell_type": "code",
   "execution_count": null,
   "metadata": {},
   "outputs": [],
   "source": [
    "predicted_labels=[1 if i['predictions'][0]['predicted_label']==1.0 else 0 for i in results]"
   ]
  },
  {
   "cell_type": "code",
   "execution_count": null,
   "metadata": {},
   "outputs": [],
   "source": [
    "score=[i['predictions'][0]['score'] for i in results]"
   ]
  },
  {
   "cell_type": "code",
   "execution_count": 42,
   "metadata": {},
   "outputs": [
    {
     "output_type": "execute_result",
     "data": {
      "text/plain": "         0     1      2       3       4          5          6       7       8  \\\n0    -18.0  18.0  19.08  234.97 -124.53  -2.420000  -2.286667  -2.210  -2.190   \n1    -18.0  18.0  19.14  235.03 -124.47  -2.226667  -2.150000  -2.130  -2.160   \n2    -18.0  18.0  19.08  234.97 -124.53  -2.286667  -2.210000  -2.190  -2.220   \n3    -18.0  18.0  19.07  234.96 -124.54  -2.220000  -2.200000  -2.230  -2.240   \n4    -18.0  18.0  19.26  235.15 -124.35  -2.030000  -2.010000  -2.040  -2.050   \n...    ...   ...    ...     ...     ...        ...        ...     ...     ...   \n1505 -18.0  18.0 -17.14  198.75 -160.75 -22.860000 -22.880000 -23.285 -23.320   \n1506 -18.0  18.0 -16.87  199.02 -160.48 -22.610000 -23.015000 -23.050 -22.970   \n1507 -18.0  18.0 -17.14  198.75 -160.75 -22.880000 -23.285000 -23.320 -23.240   \n1508 -18.0  18.0 -16.74  199.15 -160.35 -22.885000 -22.920000 -22.840 -22.765   \n1509 -18.0  18.0 -17.00  198.89 -160.61 -23.145000 -23.180000 -23.100 -23.025   \n\n           9  ...   598   599   600   601   602       603       604  605  \\\n0     -2.220  ...  0.13  0.10  0.13  0.21  0.24  0.190000  0.200000    1   \n1     -2.170  ...  0.16  0.19  0.27  0.30  0.25  0.260000  0.030000    1   \n2     -2.230  ...  0.10  0.13  0.21  0.24  0.19  0.200000 -0.030000    1   \n3     -2.020  ...  0.12  0.20  0.23  0.18  0.19 -0.040000 -0.040000    1   \n4     -1.830  ...  0.31  0.39  0.42  0.37  0.38  0.150000  0.150000    1   \n...      ...  ...   ...   ...   ...   ...   ...       ...       ...  ...   \n1505 -23.240  ...  0.61  0.60  0.61  0.75  0.69  0.940000  0.620000    0   \n1506 -22.895  ...  0.87  0.88  1.02  0.96  1.21  0.890000  0.373333    0   \n1507 -23.165  ...  0.60  0.61  0.75  0.69  0.94  0.620000  0.103333    0   \n1508 -22.590  ...  1.01  1.15  1.09  1.34  1.02  0.503333  0.265000    0   \n1509 -22.850  ...  0.75  0.89  0.83  1.08  0.76  0.243333  0.005000    0   \n\n      predicted_labels     score  \n0                    0  0.248378  \n1                    0  0.253305  \n2                    0  0.251887  \n3                    0  0.253339  \n4                    0  0.257864  \n...                ...       ...  \n1505                 0  0.246594  \n1506                 0  0.242551  \n1507                 0  0.236395  \n1508                 0  0.249592  \n1509                 0  0.243546  \n\n[1510 rows x 608 columns]",
      "text/html": "<div>\n<style scoped>\n    .dataframe tbody tr th:only-of-type {\n        vertical-align: middle;\n    }\n\n    .dataframe tbody tr th {\n        vertical-align: top;\n    }\n\n    .dataframe thead th {\n        text-align: right;\n    }\n</style>\n<table border=\"1\" class=\"dataframe\">\n  <thead>\n    <tr style=\"text-align: right;\">\n      <th></th>\n      <th>0</th>\n      <th>1</th>\n      <th>2</th>\n      <th>3</th>\n      <th>4</th>\n      <th>5</th>\n      <th>6</th>\n      <th>7</th>\n      <th>8</th>\n      <th>9</th>\n      <th>...</th>\n      <th>598</th>\n      <th>599</th>\n      <th>600</th>\n      <th>601</th>\n      <th>602</th>\n      <th>603</th>\n      <th>604</th>\n      <th>605</th>\n      <th>predicted_labels</th>\n      <th>score</th>\n    </tr>\n  </thead>\n  <tbody>\n    <tr>\n      <th>0</th>\n      <td>-18.0</td>\n      <td>18.0</td>\n      <td>19.08</td>\n      <td>234.97</td>\n      <td>-124.53</td>\n      <td>-2.420000</td>\n      <td>-2.286667</td>\n      <td>-2.210</td>\n      <td>-2.190</td>\n      <td>-2.220</td>\n      <td>...</td>\n      <td>0.13</td>\n      <td>0.10</td>\n      <td>0.13</td>\n      <td>0.21</td>\n      <td>0.24</td>\n      <td>0.190000</td>\n      <td>0.200000</td>\n      <td>1</td>\n      <td>0</td>\n      <td>0.248378</td>\n    </tr>\n    <tr>\n      <th>1</th>\n      <td>-18.0</td>\n      <td>18.0</td>\n      <td>19.14</td>\n      <td>235.03</td>\n      <td>-124.47</td>\n      <td>-2.226667</td>\n      <td>-2.150000</td>\n      <td>-2.130</td>\n      <td>-2.160</td>\n      <td>-2.170</td>\n      <td>...</td>\n      <td>0.16</td>\n      <td>0.19</td>\n      <td>0.27</td>\n      <td>0.30</td>\n      <td>0.25</td>\n      <td>0.260000</td>\n      <td>0.030000</td>\n      <td>1</td>\n      <td>0</td>\n      <td>0.253305</td>\n    </tr>\n    <tr>\n      <th>2</th>\n      <td>-18.0</td>\n      <td>18.0</td>\n      <td>19.08</td>\n      <td>234.97</td>\n      <td>-124.53</td>\n      <td>-2.286667</td>\n      <td>-2.210000</td>\n      <td>-2.190</td>\n      <td>-2.220</td>\n      <td>-2.230</td>\n      <td>...</td>\n      <td>0.10</td>\n      <td>0.13</td>\n      <td>0.21</td>\n      <td>0.24</td>\n      <td>0.19</td>\n      <td>0.200000</td>\n      <td>-0.030000</td>\n      <td>1</td>\n      <td>0</td>\n      <td>0.251887</td>\n    </tr>\n    <tr>\n      <th>3</th>\n      <td>-18.0</td>\n      <td>18.0</td>\n      <td>19.07</td>\n      <td>234.96</td>\n      <td>-124.54</td>\n      <td>-2.220000</td>\n      <td>-2.200000</td>\n      <td>-2.230</td>\n      <td>-2.240</td>\n      <td>-2.020</td>\n      <td>...</td>\n      <td>0.12</td>\n      <td>0.20</td>\n      <td>0.23</td>\n      <td>0.18</td>\n      <td>0.19</td>\n      <td>-0.040000</td>\n      <td>-0.040000</td>\n      <td>1</td>\n      <td>0</td>\n      <td>0.253339</td>\n    </tr>\n    <tr>\n      <th>4</th>\n      <td>-18.0</td>\n      <td>18.0</td>\n      <td>19.26</td>\n      <td>235.15</td>\n      <td>-124.35</td>\n      <td>-2.030000</td>\n      <td>-2.010000</td>\n      <td>-2.040</td>\n      <td>-2.050</td>\n      <td>-1.830</td>\n      <td>...</td>\n      <td>0.31</td>\n      <td>0.39</td>\n      <td>0.42</td>\n      <td>0.37</td>\n      <td>0.38</td>\n      <td>0.150000</td>\n      <td>0.150000</td>\n      <td>1</td>\n      <td>0</td>\n      <td>0.257864</td>\n    </tr>\n    <tr>\n      <th>...</th>\n      <td>...</td>\n      <td>...</td>\n      <td>...</td>\n      <td>...</td>\n      <td>...</td>\n      <td>...</td>\n      <td>...</td>\n      <td>...</td>\n      <td>...</td>\n      <td>...</td>\n      <td>...</td>\n      <td>...</td>\n      <td>...</td>\n      <td>...</td>\n      <td>...</td>\n      <td>...</td>\n      <td>...</td>\n      <td>...</td>\n      <td>...</td>\n      <td>...</td>\n      <td>...</td>\n    </tr>\n    <tr>\n      <th>1505</th>\n      <td>-18.0</td>\n      <td>18.0</td>\n      <td>-17.14</td>\n      <td>198.75</td>\n      <td>-160.75</td>\n      <td>-22.860000</td>\n      <td>-22.880000</td>\n      <td>-23.285</td>\n      <td>-23.320</td>\n      <td>-23.240</td>\n      <td>...</td>\n      <td>0.61</td>\n      <td>0.60</td>\n      <td>0.61</td>\n      <td>0.75</td>\n      <td>0.69</td>\n      <td>0.940000</td>\n      <td>0.620000</td>\n      <td>0</td>\n      <td>0</td>\n      <td>0.246594</td>\n    </tr>\n    <tr>\n      <th>1506</th>\n      <td>-18.0</td>\n      <td>18.0</td>\n      <td>-16.87</td>\n      <td>199.02</td>\n      <td>-160.48</td>\n      <td>-22.610000</td>\n      <td>-23.015000</td>\n      <td>-23.050</td>\n      <td>-22.970</td>\n      <td>-22.895</td>\n      <td>...</td>\n      <td>0.87</td>\n      <td>0.88</td>\n      <td>1.02</td>\n      <td>0.96</td>\n      <td>1.21</td>\n      <td>0.890000</td>\n      <td>0.373333</td>\n      <td>0</td>\n      <td>0</td>\n      <td>0.242551</td>\n    </tr>\n    <tr>\n      <th>1507</th>\n      <td>-18.0</td>\n      <td>18.0</td>\n      <td>-17.14</td>\n      <td>198.75</td>\n      <td>-160.75</td>\n      <td>-22.880000</td>\n      <td>-23.285000</td>\n      <td>-23.320</td>\n      <td>-23.240</td>\n      <td>-23.165</td>\n      <td>...</td>\n      <td>0.60</td>\n      <td>0.61</td>\n      <td>0.75</td>\n      <td>0.69</td>\n      <td>0.94</td>\n      <td>0.620000</td>\n      <td>0.103333</td>\n      <td>0</td>\n      <td>0</td>\n      <td>0.236395</td>\n    </tr>\n    <tr>\n      <th>1508</th>\n      <td>-18.0</td>\n      <td>18.0</td>\n      <td>-16.74</td>\n      <td>199.15</td>\n      <td>-160.35</td>\n      <td>-22.885000</td>\n      <td>-22.920000</td>\n      <td>-22.840</td>\n      <td>-22.765</td>\n      <td>-22.590</td>\n      <td>...</td>\n      <td>1.01</td>\n      <td>1.15</td>\n      <td>1.09</td>\n      <td>1.34</td>\n      <td>1.02</td>\n      <td>0.503333</td>\n      <td>0.265000</td>\n      <td>0</td>\n      <td>0</td>\n      <td>0.249592</td>\n    </tr>\n    <tr>\n      <th>1509</th>\n      <td>-18.0</td>\n      <td>18.0</td>\n      <td>-17.00</td>\n      <td>198.89</td>\n      <td>-160.61</td>\n      <td>-23.145000</td>\n      <td>-23.180000</td>\n      <td>-23.100</td>\n      <td>-23.025</td>\n      <td>-22.850</td>\n      <td>...</td>\n      <td>0.75</td>\n      <td>0.89</td>\n      <td>0.83</td>\n      <td>1.08</td>\n      <td>0.76</td>\n      <td>0.243333</td>\n      <td>0.005000</td>\n      <td>0</td>\n      <td>0</td>\n      <td>0.243546</td>\n    </tr>\n  </tbody>\n</table>\n<p>1510 rows × 608 columns</p>\n</div>"
     },
     "metadata": {},
     "execution_count": 42
    }
   ],
   "source": [
    "evaluation_data_df['predicted_labels']=predicted_labels\n",
    "evaluation_data_df['score']=score\n",
    "evaluation_data_df"
   ]
  },
  {
   "cell_type": "code",
   "execution_count": 43,
   "metadata": {},
   "outputs": [
    {
     "output_type": "execute_result",
     "data": {
      "text/plain": "        0     1      2       3       4       5        6        7      8  \\\n171 -18.0  18.0  19.35  235.24 -124.26  14.805  14.3300  14.5700  14.65   \n283 -18.0  18.0   8.16  224.05 -135.45   2.130   2.7400   3.1275   3.11   \n284 -18.0  18.0   8.15  224.04 -135.46   2.120   2.7300   3.1175   3.10   \n285 -18.0  18.0   8.13  224.02 -135.48   2.710   3.0975   3.0800   3.15   \n\n             9  ...       598    599   600   601       602    603       604  \\\n171  14.640000  ...  0.246667  0.645  0.70  0.69  0.406667  0.265  0.265000   \n283   3.180000  ...  1.820000  1.940  2.12  2.04  2.080000  2.040  1.140000   \n284   3.170000  ...  1.810000  1.930  2.11  2.03  2.070000  2.030  1.130000   \n285   3.186667  ...  1.910000  2.090  2.01  2.05  2.010000  1.110  0.156667   \n\n     605  predicted_labels     score  \n171    1                 1  0.637307  \n283    1                 1  0.641139  \n284    1                 1  0.640851  \n285    1                 1  0.636939  \n\n[4 rows x 608 columns]",
      "text/html": "<div>\n<style scoped>\n    .dataframe tbody tr th:only-of-type {\n        vertical-align: middle;\n    }\n\n    .dataframe tbody tr th {\n        vertical-align: top;\n    }\n\n    .dataframe thead th {\n        text-align: right;\n    }\n</style>\n<table border=\"1\" class=\"dataframe\">\n  <thead>\n    <tr style=\"text-align: right;\">\n      <th></th>\n      <th>0</th>\n      <th>1</th>\n      <th>2</th>\n      <th>3</th>\n      <th>4</th>\n      <th>5</th>\n      <th>6</th>\n      <th>7</th>\n      <th>8</th>\n      <th>9</th>\n      <th>...</th>\n      <th>598</th>\n      <th>599</th>\n      <th>600</th>\n      <th>601</th>\n      <th>602</th>\n      <th>603</th>\n      <th>604</th>\n      <th>605</th>\n      <th>predicted_labels</th>\n      <th>score</th>\n    </tr>\n  </thead>\n  <tbody>\n    <tr>\n      <th>171</th>\n      <td>-18.0</td>\n      <td>18.0</td>\n      <td>19.35</td>\n      <td>235.24</td>\n      <td>-124.26</td>\n      <td>14.805</td>\n      <td>14.3300</td>\n      <td>14.5700</td>\n      <td>14.65</td>\n      <td>14.640000</td>\n      <td>...</td>\n      <td>0.246667</td>\n      <td>0.645</td>\n      <td>0.70</td>\n      <td>0.69</td>\n      <td>0.406667</td>\n      <td>0.265</td>\n      <td>0.265000</td>\n      <td>1</td>\n      <td>1</td>\n      <td>0.637307</td>\n    </tr>\n    <tr>\n      <th>283</th>\n      <td>-18.0</td>\n      <td>18.0</td>\n      <td>8.16</td>\n      <td>224.05</td>\n      <td>-135.45</td>\n      <td>2.130</td>\n      <td>2.7400</td>\n      <td>3.1275</td>\n      <td>3.11</td>\n      <td>3.180000</td>\n      <td>...</td>\n      <td>1.820000</td>\n      <td>1.940</td>\n      <td>2.12</td>\n      <td>2.04</td>\n      <td>2.080000</td>\n      <td>2.040</td>\n      <td>1.140000</td>\n      <td>1</td>\n      <td>1</td>\n      <td>0.641139</td>\n    </tr>\n    <tr>\n      <th>284</th>\n      <td>-18.0</td>\n      <td>18.0</td>\n      <td>8.15</td>\n      <td>224.04</td>\n      <td>-135.46</td>\n      <td>2.120</td>\n      <td>2.7300</td>\n      <td>3.1175</td>\n      <td>3.10</td>\n      <td>3.170000</td>\n      <td>...</td>\n      <td>1.810000</td>\n      <td>1.930</td>\n      <td>2.11</td>\n      <td>2.03</td>\n      <td>2.070000</td>\n      <td>2.030</td>\n      <td>1.130000</td>\n      <td>1</td>\n      <td>1</td>\n      <td>0.640851</td>\n    </tr>\n    <tr>\n      <th>285</th>\n      <td>-18.0</td>\n      <td>18.0</td>\n      <td>8.13</td>\n      <td>224.02</td>\n      <td>-135.48</td>\n      <td>2.710</td>\n      <td>3.0975</td>\n      <td>3.0800</td>\n      <td>3.15</td>\n      <td>3.186667</td>\n      <td>...</td>\n      <td>1.910000</td>\n      <td>2.090</td>\n      <td>2.01</td>\n      <td>2.05</td>\n      <td>2.010000</td>\n      <td>1.110</td>\n      <td>0.156667</td>\n      <td>1</td>\n      <td>1</td>\n      <td>0.636939</td>\n    </tr>\n  </tbody>\n</table>\n<p>4 rows × 608 columns</p>\n</div>"
     },
     "metadata": {},
     "execution_count": 43
    }
   ],
   "source": [
    "evaluation_data_df[evaluation_data_df['predicted_labels']==1]"
   ]
  },
  {
   "cell_type": "code",
   "execution_count": 44,
   "metadata": {},
   "outputs": [
    {
     "output_type": "execute_result",
     "data": {
      "text/plain": "        0     1      2       3       4          5        6          7  \\\n283 -18.0  18.0   8.16  224.05 -135.45   2.130000   2.7400   3.127500   \n284 -18.0  18.0   8.15  224.04 -135.46   2.120000   2.7300   3.117500   \n171 -18.0  18.0  19.35  235.24 -124.26  14.805000  14.3300  14.570000   \n285 -18.0  18.0   8.13  224.02 -135.48   2.710000   3.0975   3.080000   \n167 -18.0  18.0  19.35  235.24 -124.26  15.173333  14.7900  14.805000   \n..    ...   ...    ...     ...     ...        ...      ...        ...   \n207 -18.0  18.0  17.43  233.32 -126.18  14.435000  14.3800  14.320000   \n193 -18.0  18.0  19.31  235.20 -124.30  16.202500  16.3100  16.500000   \n140 -18.0  18.0  22.31  238.20 -121.30  18.377500  19.1175  18.785000   \n291 -18.0  18.0   7.75  223.64 -135.86   2.700000   2.7700   2.806667   \n141 -18.0  18.0  22.30  238.19 -121.31  18.367500  19.1075  18.775000   \n\n             8          9  ...       598       599       600    601       602  \\\n283   3.110000   3.180000  ...  1.820000  1.940000  2.120000  2.040  2.080000   \n284   3.100000   3.170000  ...  1.810000  1.930000  2.110000  2.030  2.070000   \n171  14.650000  14.640000  ...  0.246667  0.645000  0.700000  0.690  0.406667   \n285   3.150000   3.186667  ...  1.910000  2.090000  2.010000  2.050  2.010000   \n167  14.330000  14.570000  ...  0.365000  0.395000  0.246667  0.645  0.700000   \n..         ...        ...  ...       ...       ...       ...    ...       ...   \n207  14.800000  14.970000  ... -1.880000 -1.763333 -1.510000 -0.510 -0.220000   \n193  16.475000  16.480000  ...  0.500000  0.080000  0.250000  0.080  0.120000   \n140  19.020000  18.630000  ...  0.130000  0.110000  0.080000  0.060 -0.300000   \n291   2.656667   2.337500  ...  1.630000  1.670000  1.630000  0.730 -0.223333   \n141  19.010000  18.620000  ...  0.120000  0.100000  0.070000  0.050 -0.310000   \n\n       603       604  605  predicted_labels     score  \n283  2.040  1.140000    1                 1  0.641139  \n284  2.030  1.130000    1                 1  0.640851  \n171  0.265  0.265000    1                 1  0.637307  \n285  1.110  0.156667    1                 1  0.636939  \n167  0.690  0.406667    1                 0  0.635822  \n..     ...       ...  ...               ...       ...  \n207 -0.080 -0.070000    1                 0  0.601138  \n193 -0.180 -0.010000    1                 0  0.601022  \n140 -0.250 -0.120000    1                 0  0.600559  \n291 -0.070  0.050000    1                 0  0.600380  \n141 -0.260 -0.130000    1                 0  0.600259  \n\n[71 rows x 608 columns]",
      "text/html": "<div>\n<style scoped>\n    .dataframe tbody tr th:only-of-type {\n        vertical-align: middle;\n    }\n\n    .dataframe tbody tr th {\n        vertical-align: top;\n    }\n\n    .dataframe thead th {\n        text-align: right;\n    }\n</style>\n<table border=\"1\" class=\"dataframe\">\n  <thead>\n    <tr style=\"text-align: right;\">\n      <th></th>\n      <th>0</th>\n      <th>1</th>\n      <th>2</th>\n      <th>3</th>\n      <th>4</th>\n      <th>5</th>\n      <th>6</th>\n      <th>7</th>\n      <th>8</th>\n      <th>9</th>\n      <th>...</th>\n      <th>598</th>\n      <th>599</th>\n      <th>600</th>\n      <th>601</th>\n      <th>602</th>\n      <th>603</th>\n      <th>604</th>\n      <th>605</th>\n      <th>predicted_labels</th>\n      <th>score</th>\n    </tr>\n  </thead>\n  <tbody>\n    <tr>\n      <th>283</th>\n      <td>-18.0</td>\n      <td>18.0</td>\n      <td>8.16</td>\n      <td>224.05</td>\n      <td>-135.45</td>\n      <td>2.130000</td>\n      <td>2.7400</td>\n      <td>3.127500</td>\n      <td>3.110000</td>\n      <td>3.180000</td>\n      <td>...</td>\n      <td>1.820000</td>\n      <td>1.940000</td>\n      <td>2.120000</td>\n      <td>2.040</td>\n      <td>2.080000</td>\n      <td>2.040</td>\n      <td>1.140000</td>\n      <td>1</td>\n      <td>1</td>\n      <td>0.641139</td>\n    </tr>\n    <tr>\n      <th>284</th>\n      <td>-18.0</td>\n      <td>18.0</td>\n      <td>8.15</td>\n      <td>224.04</td>\n      <td>-135.46</td>\n      <td>2.120000</td>\n      <td>2.7300</td>\n      <td>3.117500</td>\n      <td>3.100000</td>\n      <td>3.170000</td>\n      <td>...</td>\n      <td>1.810000</td>\n      <td>1.930000</td>\n      <td>2.110000</td>\n      <td>2.030</td>\n      <td>2.070000</td>\n      <td>2.030</td>\n      <td>1.130000</td>\n      <td>1</td>\n      <td>1</td>\n      <td>0.640851</td>\n    </tr>\n    <tr>\n      <th>171</th>\n      <td>-18.0</td>\n      <td>18.0</td>\n      <td>19.35</td>\n      <td>235.24</td>\n      <td>-124.26</td>\n      <td>14.805000</td>\n      <td>14.3300</td>\n      <td>14.570000</td>\n      <td>14.650000</td>\n      <td>14.640000</td>\n      <td>...</td>\n      <td>0.246667</td>\n      <td>0.645000</td>\n      <td>0.700000</td>\n      <td>0.690</td>\n      <td>0.406667</td>\n      <td>0.265</td>\n      <td>0.265000</td>\n      <td>1</td>\n      <td>1</td>\n      <td>0.637307</td>\n    </tr>\n    <tr>\n      <th>285</th>\n      <td>-18.0</td>\n      <td>18.0</td>\n      <td>8.13</td>\n      <td>224.02</td>\n      <td>-135.48</td>\n      <td>2.710000</td>\n      <td>3.0975</td>\n      <td>3.080000</td>\n      <td>3.150000</td>\n      <td>3.186667</td>\n      <td>...</td>\n      <td>1.910000</td>\n      <td>2.090000</td>\n      <td>2.010000</td>\n      <td>2.050</td>\n      <td>2.010000</td>\n      <td>1.110</td>\n      <td>0.156667</td>\n      <td>1</td>\n      <td>1</td>\n      <td>0.636939</td>\n    </tr>\n    <tr>\n      <th>167</th>\n      <td>-18.0</td>\n      <td>18.0</td>\n      <td>19.35</td>\n      <td>235.24</td>\n      <td>-124.26</td>\n      <td>15.173333</td>\n      <td>14.7900</td>\n      <td>14.805000</td>\n      <td>14.330000</td>\n      <td>14.570000</td>\n      <td>...</td>\n      <td>0.365000</td>\n      <td>0.395000</td>\n      <td>0.246667</td>\n      <td>0.645</td>\n      <td>0.700000</td>\n      <td>0.690</td>\n      <td>0.406667</td>\n      <td>1</td>\n      <td>0</td>\n      <td>0.635822</td>\n    </tr>\n    <tr>\n      <th>...</th>\n      <td>...</td>\n      <td>...</td>\n      <td>...</td>\n      <td>...</td>\n      <td>...</td>\n      <td>...</td>\n      <td>...</td>\n      <td>...</td>\n      <td>...</td>\n      <td>...</td>\n      <td>...</td>\n      <td>...</td>\n      <td>...</td>\n      <td>...</td>\n      <td>...</td>\n      <td>...</td>\n      <td>...</td>\n      <td>...</td>\n      <td>...</td>\n      <td>...</td>\n      <td>...</td>\n    </tr>\n    <tr>\n      <th>207</th>\n      <td>-18.0</td>\n      <td>18.0</td>\n      <td>17.43</td>\n      <td>233.32</td>\n      <td>-126.18</td>\n      <td>14.435000</td>\n      <td>14.3800</td>\n      <td>14.320000</td>\n      <td>14.800000</td>\n      <td>14.970000</td>\n      <td>...</td>\n      <td>-1.880000</td>\n      <td>-1.763333</td>\n      <td>-1.510000</td>\n      <td>-0.510</td>\n      <td>-0.220000</td>\n      <td>-0.080</td>\n      <td>-0.070000</td>\n      <td>1</td>\n      <td>0</td>\n      <td>0.601138</td>\n    </tr>\n    <tr>\n      <th>193</th>\n      <td>-18.0</td>\n      <td>18.0</td>\n      <td>19.31</td>\n      <td>235.20</td>\n      <td>-124.30</td>\n      <td>16.202500</td>\n      <td>16.3100</td>\n      <td>16.500000</td>\n      <td>16.475000</td>\n      <td>16.480000</td>\n      <td>...</td>\n      <td>0.500000</td>\n      <td>0.080000</td>\n      <td>0.250000</td>\n      <td>0.080</td>\n      <td>0.120000</td>\n      <td>-0.180</td>\n      <td>-0.010000</td>\n      <td>1</td>\n      <td>0</td>\n      <td>0.601022</td>\n    </tr>\n    <tr>\n      <th>140</th>\n      <td>-18.0</td>\n      <td>18.0</td>\n      <td>22.31</td>\n      <td>238.20</td>\n      <td>-121.30</td>\n      <td>18.377500</td>\n      <td>19.1175</td>\n      <td>18.785000</td>\n      <td>19.020000</td>\n      <td>18.630000</td>\n      <td>...</td>\n      <td>0.130000</td>\n      <td>0.110000</td>\n      <td>0.080000</td>\n      <td>0.060</td>\n      <td>-0.300000</td>\n      <td>-0.250</td>\n      <td>-0.120000</td>\n      <td>1</td>\n      <td>0</td>\n      <td>0.600559</td>\n    </tr>\n    <tr>\n      <th>291</th>\n      <td>-18.0</td>\n      <td>18.0</td>\n      <td>7.75</td>\n      <td>223.64</td>\n      <td>-135.86</td>\n      <td>2.700000</td>\n      <td>2.7700</td>\n      <td>2.806667</td>\n      <td>2.656667</td>\n      <td>2.337500</td>\n      <td>...</td>\n      <td>1.630000</td>\n      <td>1.670000</td>\n      <td>1.630000</td>\n      <td>0.730</td>\n      <td>-0.223333</td>\n      <td>-0.070</td>\n      <td>0.050000</td>\n      <td>1</td>\n      <td>0</td>\n      <td>0.600380</td>\n    </tr>\n    <tr>\n      <th>141</th>\n      <td>-18.0</td>\n      <td>18.0</td>\n      <td>22.30</td>\n      <td>238.19</td>\n      <td>-121.31</td>\n      <td>18.367500</td>\n      <td>19.1075</td>\n      <td>18.775000</td>\n      <td>19.010000</td>\n      <td>18.620000</td>\n      <td>...</td>\n      <td>0.120000</td>\n      <td>0.100000</td>\n      <td>0.070000</td>\n      <td>0.050</td>\n      <td>-0.310000</td>\n      <td>-0.260</td>\n      <td>-0.130000</td>\n      <td>1</td>\n      <td>0</td>\n      <td>0.600259</td>\n    </tr>\n  </tbody>\n</table>\n<p>71 rows × 608 columns</p>\n</div>"
     },
     "metadata": {},
     "execution_count": 44
    }
   ],
   "source": [
    "most_certain=evaluation_data_df.query('score>=0.6')\n",
    "most_certain.sort_values('score',ascending=False)"
   ]
  },
  {
   "cell_type": "code",
   "execution_count": 45,
   "metadata": {},
   "outputs": [
    {
     "output_type": "execute_result",
     "data": {
      "text/plain": "                 Predicted Negative  Predicted Positive\nActual Negative                   0                   0\nActual Positive                  67                   4",
      "text/html": "<div>\n<style scoped>\n    .dataframe tbody tr th:only-of-type {\n        vertical-align: middle;\n    }\n\n    .dataframe tbody tr th {\n        vertical-align: top;\n    }\n\n    .dataframe thead th {\n        text-align: right;\n    }\n</style>\n<table border=\"1\" class=\"dataframe\">\n  <thead>\n    <tr style=\"text-align: right;\">\n      <th></th>\n      <th>Predicted Negative</th>\n      <th>Predicted Positive</th>\n    </tr>\n  </thead>\n  <tbody>\n    <tr>\n      <th>Actual Negative</th>\n      <td>0</td>\n      <td>0</td>\n    </tr>\n    <tr>\n      <th>Actual Positive</th>\n      <td>67</td>\n      <td>4</td>\n    </tr>\n  </tbody>\n</table>\n</div>"
     },
     "metadata": {},
     "execution_count": 45
    }
   ],
   "source": [
    "# Importing the metrics package from sklearn library\n",
    "from sklearn import metrics\n",
    "# Creating the confusion matrix\n",
    "cm = metrics.confusion_matrix(most_certain[605], most_certain['predicted_labels'])\n",
    "# Assigning columns names\n",
    "cm_df = pd.DataFrame(cm, \n",
    "            columns = ['Predicted Negative', 'Predicted Positive'],\n",
    "            index = ['Actual Negative', 'Actual Positive'])\n",
    "# Showing the confusion matrix\n",
    "cm_df"
   ]
  },
  {
   "cell_type": "code",
   "execution_count": null,
   "metadata": {},
   "outputs": [],
   "source": [
    "most_certain.query('predicted_labels==1').describe()"
   ]
  },
  {
   "cell_type": "code",
   "execution_count": null,
   "metadata": {},
   "outputs": [],
   "source": [
    "most_certain.query('predicted_labels==0').describe()"
   ]
  },
  {
   "cell_type": "code",
   "execution_count": null,
   "metadata": {},
   "outputs": [],
   "source": []
  }
 ],
 "metadata": {
  "kernelspec": {
   "display_name": "Python 3.7.4 64-bit ('.venv': virtualenv)",
   "language": "python",
   "name": "python37464bitvenvvirtualenv6b4f093d3fee42a4b8c0f6bd7f8294ac"
  },
  "language_info": {
   "codemirror_mode": {
    "name": "ipython",
    "version": 3
   },
   "file_extension": ".py",
   "mimetype": "text/x-python",
   "name": "python",
   "nbconvert_exporter": "python",
   "pygments_lexer": "ipython3",
   "version": "3.7.4-final"
  }
 },
 "nbformat": 4,
 "nbformat_minor": 4
}