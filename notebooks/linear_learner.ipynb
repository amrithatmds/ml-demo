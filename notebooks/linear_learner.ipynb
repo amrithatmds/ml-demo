{
 "cells": [
  {
   "cell_type": "code",
   "execution_count": 1,
   "metadata": {},
   "outputs": [],
   "source": [
    "bucket = 'bucket-mldemo-dev-20200624145048345300000002'\n",
    " \n",
    "# Define IAM role\n",
    "import re\n"
   ]
  },
  {
   "cell_type": "code",
   "execution_count": 2,
   "metadata": {},
   "outputs": [],
   "source": [
    "import boto3\n",
    "boto3_session=boto3.Session(profile_name='ml-demo')"
   ]
  },
  {
   "cell_type": "code",
   "execution_count": 3,
   "metadata": {},
   "outputs": [
    {
     "output_type": "execute_result",
     "data": {
      "text/plain": "'arn:aws:iam::929759656386:role/mldemo-dev-Sagemaker-Execution-Role'"
     },
     "metadata": {},
     "execution_count": 3
    }
   ],
   "source": [
    "from sagemaker.session import Session\n",
    "from sagemaker import get_execution_role\n",
    "\n",
    "sagemaker_session=Session(boto3_session)\n",
    "\n",
    "try:\n",
    "    role = get_execution_role()\n",
    "except:\n",
    "    iam=boto3_session.client('iam')\n",
    "    response=iam.get_role(\n",
    "        RoleName='mldemo-dev-Sagemaker-Execution-Role'\n",
    "    )\n",
    "    role=response['Role']['Arn']\n",
    "role"
   ]
  },
  {
   "cell_type": "code",
   "execution_count": 4,
   "metadata": {},
   "outputs": [
    {
     "output_type": "execute_result",
     "data": {
      "text/plain": "'s3://bucket-mldemo-dev-20200624145048345300000002/output'"
     },
     "metadata": {},
     "execution_count": 4
    }
   ],
   "source": [
    "output_location = 's3://{}/output'.format(bucket)\n",
    "output_location"
   ]
  },
  {
   "cell_type": "code",
   "execution_count": 5,
   "metadata": {},
   "outputs": [],
   "source": [
    "from sagemaker.predictor import RealTimePredictor\n",
    "linear_predictor=RealTimePredictor('mldemo-dev',sagemaker_session)"
   ]
  },
  {
   "cell_type": "code",
   "execution_count": 6,
   "metadata": {},
   "outputs": [],
   "source": [
    "from sagemaker.predictor import csv_serializer, json_deserializer\n",
    "\n",
    "linear_predictor.content_type = 'text/csv'\n",
    "linear_predictor.serializer = csv_serializer\n",
    "linear_predictor.deserializer = json_deserializer"
   ]
  },
  {
   "cell_type": "code",
   "execution_count": 7,
   "metadata": {},
   "outputs": [
    {
     "output_type": "execute_result",
     "data": {
      "text/plain": "        0     1       2       3      4     5       6         7         8    \\\n0     -18.0  18.0  335.39  386.34 -43.66  0.00  0.2575 -0.143333 -0.273333   \n1     -18.0  18.0  335.42  386.37 -43.63  0.03  0.2875 -0.113333 -0.243333   \n2     -18.0  18.0  335.31  386.26 -43.74 -0.08  0.1775 -0.223333 -0.353333   \n3     -18.0  18.0  334.46  385.41 -44.59 -0.93 -0.6725 -1.073333 -1.203333   \n4     -18.0  18.0  335.34  386.29 -43.71 -0.05  0.2075 -0.193333 -0.323333   \n...     ...   ...     ...     ...    ...   ...     ...       ...       ...   \n10100 -18.0  18.0  352.29  403.24 -94.06 -2.23 -2.0800 -2.070000 -2.060000   \n10101 -18.0  18.0  351.34  402.29 -95.01 -3.03 -3.0200 -3.010000 -3.000000   \n10102 -18.0  18.0  351.28  402.23 -95.07 -3.08 -3.0700 -3.060000 -3.045000   \n10103 -18.0  18.0  351.34  402.29 -95.01 -3.02 -3.0100 -3.000000 -2.985000   \n10104 -18.0  18.0  351.12  402.07 -95.23 -3.24 -3.2300 -3.220000 -3.205000   \n\n         9    ...    596    597   598    599   600    601    602    603  \\\n0      0.270  ...  2.780  2.790  2.20  2.305  2.39  2.310  2.890  2.440   \n1      0.300  ...  2.810  2.820  2.23  2.335  2.42  2.340  2.920  2.470   \n2      0.190  ...  2.700  2.710  2.12  2.225  2.31  2.230  2.810  2.360   \n3     -0.660  ...  1.850  1.860  1.27  1.375  1.46  1.380  1.960  1.510   \n4      0.220  ...  2.730  2.740  2.15  2.255  2.34  2.260  2.840  2.390   \n...      ...  ...    ...    ...   ...    ...   ...    ...    ...    ...   \n10100 -2.050  ...  0.040  0.035  0.03  0.020  0.03  0.020  0.010  0.015   \n10101 -2.985  ... -0.915 -0.920 -0.93 -0.920 -0.93 -0.940 -0.935 -0.935   \n10102 -3.050  ... -0.980 -0.990 -0.98 -0.990 -1.00 -0.995 -0.995 -1.000   \n10103 -2.990  ... -0.920 -0.930 -0.92 -0.930 -0.94 -0.935 -0.935 -0.940   \n10104 -3.210  ... -1.140 -1.150 -1.14 -1.150 -1.16 -1.155 -1.155 -1.160   \n\n         604  605  \n0      2.400    0  \n1      2.430    0  \n2      2.320    0  \n3      1.470    0  \n4      2.350    0  \n...      ...  ...  \n10100  0.015    1  \n10101 -0.940    1  \n10102 -0.060    1  \n10103  0.000    1  \n10104 -0.220    1  \n\n[10105 rows x 606 columns]",
      "text/html": "<div>\n<style scoped>\n    .dataframe tbody tr th:only-of-type {\n        vertical-align: middle;\n    }\n\n    .dataframe tbody tr th {\n        vertical-align: top;\n    }\n\n    .dataframe thead th {\n        text-align: right;\n    }\n</style>\n<table border=\"1\" class=\"dataframe\">\n  <thead>\n    <tr style=\"text-align: right;\">\n      <th></th>\n      <th>0</th>\n      <th>1</th>\n      <th>2</th>\n      <th>3</th>\n      <th>4</th>\n      <th>5</th>\n      <th>6</th>\n      <th>7</th>\n      <th>8</th>\n      <th>9</th>\n      <th>...</th>\n      <th>596</th>\n      <th>597</th>\n      <th>598</th>\n      <th>599</th>\n      <th>600</th>\n      <th>601</th>\n      <th>602</th>\n      <th>603</th>\n      <th>604</th>\n      <th>605</th>\n    </tr>\n  </thead>\n  <tbody>\n    <tr>\n      <th>0</th>\n      <td>-18.0</td>\n      <td>18.0</td>\n      <td>335.39</td>\n      <td>386.34</td>\n      <td>-43.66</td>\n      <td>0.00</td>\n      <td>0.2575</td>\n      <td>-0.143333</td>\n      <td>-0.273333</td>\n      <td>0.270</td>\n      <td>...</td>\n      <td>2.780</td>\n      <td>2.790</td>\n      <td>2.20</td>\n      <td>2.305</td>\n      <td>2.39</td>\n      <td>2.310</td>\n      <td>2.890</td>\n      <td>2.440</td>\n      <td>2.400</td>\n      <td>0</td>\n    </tr>\n    <tr>\n      <th>1</th>\n      <td>-18.0</td>\n      <td>18.0</td>\n      <td>335.42</td>\n      <td>386.37</td>\n      <td>-43.63</td>\n      <td>0.03</td>\n      <td>0.2875</td>\n      <td>-0.113333</td>\n      <td>-0.243333</td>\n      <td>0.300</td>\n      <td>...</td>\n      <td>2.810</td>\n      <td>2.820</td>\n      <td>2.23</td>\n      <td>2.335</td>\n      <td>2.42</td>\n      <td>2.340</td>\n      <td>2.920</td>\n      <td>2.470</td>\n      <td>2.430</td>\n      <td>0</td>\n    </tr>\n    <tr>\n      <th>2</th>\n      <td>-18.0</td>\n      <td>18.0</td>\n      <td>335.31</td>\n      <td>386.26</td>\n      <td>-43.74</td>\n      <td>-0.08</td>\n      <td>0.1775</td>\n      <td>-0.223333</td>\n      <td>-0.353333</td>\n      <td>0.190</td>\n      <td>...</td>\n      <td>2.700</td>\n      <td>2.710</td>\n      <td>2.12</td>\n      <td>2.225</td>\n      <td>2.31</td>\n      <td>2.230</td>\n      <td>2.810</td>\n      <td>2.360</td>\n      <td>2.320</td>\n      <td>0</td>\n    </tr>\n    <tr>\n      <th>3</th>\n      <td>-18.0</td>\n      <td>18.0</td>\n      <td>334.46</td>\n      <td>385.41</td>\n      <td>-44.59</td>\n      <td>-0.93</td>\n      <td>-0.6725</td>\n      <td>-1.073333</td>\n      <td>-1.203333</td>\n      <td>-0.660</td>\n      <td>...</td>\n      <td>1.850</td>\n      <td>1.860</td>\n      <td>1.27</td>\n      <td>1.375</td>\n      <td>1.46</td>\n      <td>1.380</td>\n      <td>1.960</td>\n      <td>1.510</td>\n      <td>1.470</td>\n      <td>0</td>\n    </tr>\n    <tr>\n      <th>4</th>\n      <td>-18.0</td>\n      <td>18.0</td>\n      <td>335.34</td>\n      <td>386.29</td>\n      <td>-43.71</td>\n      <td>-0.05</td>\n      <td>0.2075</td>\n      <td>-0.193333</td>\n      <td>-0.323333</td>\n      <td>0.220</td>\n      <td>...</td>\n      <td>2.730</td>\n      <td>2.740</td>\n      <td>2.15</td>\n      <td>2.255</td>\n      <td>2.34</td>\n      <td>2.260</td>\n      <td>2.840</td>\n      <td>2.390</td>\n      <td>2.350</td>\n      <td>0</td>\n    </tr>\n    <tr>\n      <th>...</th>\n      <td>...</td>\n      <td>...</td>\n      <td>...</td>\n      <td>...</td>\n      <td>...</td>\n      <td>...</td>\n      <td>...</td>\n      <td>...</td>\n      <td>...</td>\n      <td>...</td>\n      <td>...</td>\n      <td>...</td>\n      <td>...</td>\n      <td>...</td>\n      <td>...</td>\n      <td>...</td>\n      <td>...</td>\n      <td>...</td>\n      <td>...</td>\n      <td>...</td>\n      <td>...</td>\n    </tr>\n    <tr>\n      <th>10100</th>\n      <td>-18.0</td>\n      <td>18.0</td>\n      <td>352.29</td>\n      <td>403.24</td>\n      <td>-94.06</td>\n      <td>-2.23</td>\n      <td>-2.0800</td>\n      <td>-2.070000</td>\n      <td>-2.060000</td>\n      <td>-2.050</td>\n      <td>...</td>\n      <td>0.040</td>\n      <td>0.035</td>\n      <td>0.03</td>\n      <td>0.020</td>\n      <td>0.03</td>\n      <td>0.020</td>\n      <td>0.010</td>\n      <td>0.015</td>\n      <td>0.015</td>\n      <td>1</td>\n    </tr>\n    <tr>\n      <th>10101</th>\n      <td>-18.0</td>\n      <td>18.0</td>\n      <td>351.34</td>\n      <td>402.29</td>\n      <td>-95.01</td>\n      <td>-3.03</td>\n      <td>-3.0200</td>\n      <td>-3.010000</td>\n      <td>-3.000000</td>\n      <td>-2.985</td>\n      <td>...</td>\n      <td>-0.915</td>\n      <td>-0.920</td>\n      <td>-0.93</td>\n      <td>-0.920</td>\n      <td>-0.93</td>\n      <td>-0.940</td>\n      <td>-0.935</td>\n      <td>-0.935</td>\n      <td>-0.940</td>\n      <td>1</td>\n    </tr>\n    <tr>\n      <th>10102</th>\n      <td>-18.0</td>\n      <td>18.0</td>\n      <td>351.28</td>\n      <td>402.23</td>\n      <td>-95.07</td>\n      <td>-3.08</td>\n      <td>-3.0700</td>\n      <td>-3.060000</td>\n      <td>-3.045000</td>\n      <td>-3.050</td>\n      <td>...</td>\n      <td>-0.980</td>\n      <td>-0.990</td>\n      <td>-0.98</td>\n      <td>-0.990</td>\n      <td>-1.00</td>\n      <td>-0.995</td>\n      <td>-0.995</td>\n      <td>-1.000</td>\n      <td>-0.060</td>\n      <td>1</td>\n    </tr>\n    <tr>\n      <th>10103</th>\n      <td>-18.0</td>\n      <td>18.0</td>\n      <td>351.34</td>\n      <td>402.29</td>\n      <td>-95.01</td>\n      <td>-3.02</td>\n      <td>-3.0100</td>\n      <td>-3.000000</td>\n      <td>-2.985000</td>\n      <td>-2.990</td>\n      <td>...</td>\n      <td>-0.920</td>\n      <td>-0.930</td>\n      <td>-0.92</td>\n      <td>-0.930</td>\n      <td>-0.94</td>\n      <td>-0.935</td>\n      <td>-0.935</td>\n      <td>-0.940</td>\n      <td>0.000</td>\n      <td>1</td>\n    </tr>\n    <tr>\n      <th>10104</th>\n      <td>-18.0</td>\n      <td>18.0</td>\n      <td>351.12</td>\n      <td>402.07</td>\n      <td>-95.23</td>\n      <td>-3.24</td>\n      <td>-3.2300</td>\n      <td>-3.220000</td>\n      <td>-3.205000</td>\n      <td>-3.210</td>\n      <td>...</td>\n      <td>-1.140</td>\n      <td>-1.150</td>\n      <td>-1.14</td>\n      <td>-1.150</td>\n      <td>-1.16</td>\n      <td>-1.155</td>\n      <td>-1.155</td>\n      <td>-1.160</td>\n      <td>-0.220</td>\n      <td>1</td>\n    </tr>\n  </tbody>\n</table>\n<p>10105 rows × 606 columns</p>\n</div>"
     },
     "metadata": {},
     "execution_count": 7
    }
   ],
   "source": [
    "from s3fs.core import S3FileSystem\n",
    "s3fs = S3FileSystem(anon=False,session=boto3_session)\n",
    "\n",
    "import pandas as pd\n",
    "df=pd.read_csv(s3fs.open('s3://%s/transformed/all_data.csv' % bucket),header=None)\n",
    "\n",
    "df"
   ]
  },
  {
   "cell_type": "code",
   "execution_count": 9,
   "metadata": {},
   "outputs": [
    {
     "output_type": "execute_result",
     "data": {
      "text/plain": "       0     1       2       3       4         5         6         7      8    \\\n0    -18.0  18.0  329.88  380.83 -116.47 -0.370000 -0.515000 -0.516667 -0.520   \n1    -18.0  18.0  329.86  380.81 -116.49 -0.535000 -0.536667 -0.540000 -0.510   \n2    -18.0  18.0  329.89  380.84 -116.46 -0.506667 -0.510000 -0.480000 -0.540   \n3    -18.0  18.0  329.86  380.81 -116.49 -0.536667 -0.540000 -0.510000 -0.570   \n4    -18.0  18.0  329.11  380.06 -117.24 -1.290000 -1.260000 -1.320000 -1.220   \n...    ...   ...     ...     ...     ...       ...       ...       ...    ...   \n1510 -18.0  18.0  352.29  403.24  -94.06 -2.230000 -2.080000 -2.070000 -2.060   \n1511 -18.0  18.0  351.34  402.29  -95.01 -3.030000 -3.020000 -3.010000 -3.000   \n1512 -18.0  18.0  351.28  402.23  -95.07 -3.080000 -3.070000 -3.060000 -3.045   \n1513 -18.0  18.0  351.34  402.29  -95.01 -3.020000 -3.010000 -3.000000 -2.985   \n1514 -18.0  18.0  351.12  402.07  -95.23 -3.240000 -3.230000 -3.220000 -3.205   \n\n        9    ...    596    597   598   599   600    601    602    603    604  \\\n0    -0.490  ... -0.400 -0.390 -0.29 -0.05 -0.31  0.020 -0.320  0.020 -0.160   \n1    -0.570  ... -0.410 -0.310 -0.07 -0.33  0.00 -0.340  0.000 -0.180 -0.020   \n2    -0.440  ... -0.280 -0.040 -0.30  0.03 -0.31  0.030 -0.150  0.010  0.030   \n3    -0.470  ... -0.310 -0.070 -0.33  0.00 -0.34  0.000 -0.180 -0.020  0.000   \n4    -1.400  ... -0.820 -1.080 -0.75 -1.09 -0.75 -0.930 -0.770 -0.750 -0.765   \n...     ...  ...    ...    ...   ...   ...   ...    ...    ...    ...    ...   \n1510 -2.050  ...  0.040  0.035  0.03  0.02  0.03  0.020  0.010  0.015  0.015   \n1511 -2.985  ... -0.915 -0.920 -0.93 -0.92 -0.93 -0.940 -0.935 -0.935 -0.940   \n1512 -3.050  ... -0.980 -0.990 -0.98 -0.99 -1.00 -0.995 -0.995 -1.000 -0.060   \n1513 -2.990  ... -0.920 -0.930 -0.92 -0.93 -0.94 -0.935 -0.935 -0.940  0.000   \n1514 -3.210  ... -1.140 -1.150 -1.14 -1.15 -1.16 -1.155 -1.155 -1.160 -0.220   \n\n      605  \n0       1  \n1       1  \n2       1  \n3       1  \n4       1  \n...   ...  \n1510    1  \n1511    1  \n1512    1  \n1513    1  \n1514    1  \n\n[1515 rows x 606 columns]",
      "text/html": "<div>\n<style scoped>\n    .dataframe tbody tr th:only-of-type {\n        vertical-align: middle;\n    }\n\n    .dataframe tbody tr th {\n        vertical-align: top;\n    }\n\n    .dataframe thead th {\n        text-align: right;\n    }\n</style>\n<table border=\"1\" class=\"dataframe\">\n  <thead>\n    <tr style=\"text-align: right;\">\n      <th></th>\n      <th>0</th>\n      <th>1</th>\n      <th>2</th>\n      <th>3</th>\n      <th>4</th>\n      <th>5</th>\n      <th>6</th>\n      <th>7</th>\n      <th>8</th>\n      <th>9</th>\n      <th>...</th>\n      <th>596</th>\n      <th>597</th>\n      <th>598</th>\n      <th>599</th>\n      <th>600</th>\n      <th>601</th>\n      <th>602</th>\n      <th>603</th>\n      <th>604</th>\n      <th>605</th>\n    </tr>\n  </thead>\n  <tbody>\n    <tr>\n      <th>0</th>\n      <td>-18.0</td>\n      <td>18.0</td>\n      <td>329.88</td>\n      <td>380.83</td>\n      <td>-116.47</td>\n      <td>-0.370000</td>\n      <td>-0.515000</td>\n      <td>-0.516667</td>\n      <td>-0.520</td>\n      <td>-0.490</td>\n      <td>...</td>\n      <td>-0.400</td>\n      <td>-0.390</td>\n      <td>-0.29</td>\n      <td>-0.05</td>\n      <td>-0.31</td>\n      <td>0.020</td>\n      <td>-0.320</td>\n      <td>0.020</td>\n      <td>-0.160</td>\n      <td>1</td>\n    </tr>\n    <tr>\n      <th>1</th>\n      <td>-18.0</td>\n      <td>18.0</td>\n      <td>329.86</td>\n      <td>380.81</td>\n      <td>-116.49</td>\n      <td>-0.535000</td>\n      <td>-0.536667</td>\n      <td>-0.540000</td>\n      <td>-0.510</td>\n      <td>-0.570</td>\n      <td>...</td>\n      <td>-0.410</td>\n      <td>-0.310</td>\n      <td>-0.07</td>\n      <td>-0.33</td>\n      <td>0.00</td>\n      <td>-0.340</td>\n      <td>0.000</td>\n      <td>-0.180</td>\n      <td>-0.020</td>\n      <td>1</td>\n    </tr>\n    <tr>\n      <th>2</th>\n      <td>-18.0</td>\n      <td>18.0</td>\n      <td>329.89</td>\n      <td>380.84</td>\n      <td>-116.46</td>\n      <td>-0.506667</td>\n      <td>-0.510000</td>\n      <td>-0.480000</td>\n      <td>-0.540</td>\n      <td>-0.440</td>\n      <td>...</td>\n      <td>-0.280</td>\n      <td>-0.040</td>\n      <td>-0.30</td>\n      <td>0.03</td>\n      <td>-0.31</td>\n      <td>0.030</td>\n      <td>-0.150</td>\n      <td>0.010</td>\n      <td>0.030</td>\n      <td>1</td>\n    </tr>\n    <tr>\n      <th>3</th>\n      <td>-18.0</td>\n      <td>18.0</td>\n      <td>329.86</td>\n      <td>380.81</td>\n      <td>-116.49</td>\n      <td>-0.536667</td>\n      <td>-0.540000</td>\n      <td>-0.510000</td>\n      <td>-0.570</td>\n      <td>-0.470</td>\n      <td>...</td>\n      <td>-0.310</td>\n      <td>-0.070</td>\n      <td>-0.33</td>\n      <td>0.00</td>\n      <td>-0.34</td>\n      <td>0.000</td>\n      <td>-0.180</td>\n      <td>-0.020</td>\n      <td>0.000</td>\n      <td>1</td>\n    </tr>\n    <tr>\n      <th>4</th>\n      <td>-18.0</td>\n      <td>18.0</td>\n      <td>329.11</td>\n      <td>380.06</td>\n      <td>-117.24</td>\n      <td>-1.290000</td>\n      <td>-1.260000</td>\n      <td>-1.320000</td>\n      <td>-1.220</td>\n      <td>-1.400</td>\n      <td>...</td>\n      <td>-0.820</td>\n      <td>-1.080</td>\n      <td>-0.75</td>\n      <td>-1.09</td>\n      <td>-0.75</td>\n      <td>-0.930</td>\n      <td>-0.770</td>\n      <td>-0.750</td>\n      <td>-0.765</td>\n      <td>1</td>\n    </tr>\n    <tr>\n      <th>...</th>\n      <td>...</td>\n      <td>...</td>\n      <td>...</td>\n      <td>...</td>\n      <td>...</td>\n      <td>...</td>\n      <td>...</td>\n      <td>...</td>\n      <td>...</td>\n      <td>...</td>\n      <td>...</td>\n      <td>...</td>\n      <td>...</td>\n      <td>...</td>\n      <td>...</td>\n      <td>...</td>\n      <td>...</td>\n      <td>...</td>\n      <td>...</td>\n      <td>...</td>\n      <td>...</td>\n    </tr>\n    <tr>\n      <th>1510</th>\n      <td>-18.0</td>\n      <td>18.0</td>\n      <td>352.29</td>\n      <td>403.24</td>\n      <td>-94.06</td>\n      <td>-2.230000</td>\n      <td>-2.080000</td>\n      <td>-2.070000</td>\n      <td>-2.060</td>\n      <td>-2.050</td>\n      <td>...</td>\n      <td>0.040</td>\n      <td>0.035</td>\n      <td>0.03</td>\n      <td>0.02</td>\n      <td>0.03</td>\n      <td>0.020</td>\n      <td>0.010</td>\n      <td>0.015</td>\n      <td>0.015</td>\n      <td>1</td>\n    </tr>\n    <tr>\n      <th>1511</th>\n      <td>-18.0</td>\n      <td>18.0</td>\n      <td>351.34</td>\n      <td>402.29</td>\n      <td>-95.01</td>\n      <td>-3.030000</td>\n      <td>-3.020000</td>\n      <td>-3.010000</td>\n      <td>-3.000</td>\n      <td>-2.985</td>\n      <td>...</td>\n      <td>-0.915</td>\n      <td>-0.920</td>\n      <td>-0.93</td>\n      <td>-0.92</td>\n      <td>-0.93</td>\n      <td>-0.940</td>\n      <td>-0.935</td>\n      <td>-0.935</td>\n      <td>-0.940</td>\n      <td>1</td>\n    </tr>\n    <tr>\n      <th>1512</th>\n      <td>-18.0</td>\n      <td>18.0</td>\n      <td>351.28</td>\n      <td>402.23</td>\n      <td>-95.07</td>\n      <td>-3.080000</td>\n      <td>-3.070000</td>\n      <td>-3.060000</td>\n      <td>-3.045</td>\n      <td>-3.050</td>\n      <td>...</td>\n      <td>-0.980</td>\n      <td>-0.990</td>\n      <td>-0.98</td>\n      <td>-0.99</td>\n      <td>-1.00</td>\n      <td>-0.995</td>\n      <td>-0.995</td>\n      <td>-1.000</td>\n      <td>-0.060</td>\n      <td>1</td>\n    </tr>\n    <tr>\n      <th>1513</th>\n      <td>-18.0</td>\n      <td>18.0</td>\n      <td>351.34</td>\n      <td>402.29</td>\n      <td>-95.01</td>\n      <td>-3.020000</td>\n      <td>-3.010000</td>\n      <td>-3.000000</td>\n      <td>-2.985</td>\n      <td>-2.990</td>\n      <td>...</td>\n      <td>-0.920</td>\n      <td>-0.930</td>\n      <td>-0.92</td>\n      <td>-0.93</td>\n      <td>-0.94</td>\n      <td>-0.935</td>\n      <td>-0.935</td>\n      <td>-0.940</td>\n      <td>0.000</td>\n      <td>1</td>\n    </tr>\n    <tr>\n      <th>1514</th>\n      <td>-18.0</td>\n      <td>18.0</td>\n      <td>351.12</td>\n      <td>402.07</td>\n      <td>-95.23</td>\n      <td>-3.240000</td>\n      <td>-3.230000</td>\n      <td>-3.220000</td>\n      <td>-3.205</td>\n      <td>-3.210</td>\n      <td>...</td>\n      <td>-1.140</td>\n      <td>-1.150</td>\n      <td>-1.14</td>\n      <td>-1.15</td>\n      <td>-1.16</td>\n      <td>-1.155</td>\n      <td>-1.155</td>\n      <td>-1.160</td>\n      <td>-0.220</td>\n      <td>1</td>\n    </tr>\n  </tbody>\n</table>\n<p>1515 rows × 606 columns</p>\n</div>"
     },
     "metadata": {},
     "execution_count": 9
    }
   ],
   "source": [
    "test_data_df=df[round(len(df)*0.85+1):].copy().reset_index(drop=True)\n",
    "test_data_df"
   ]
  },
  {
   "cell_type": "code",
   "execution_count": 10,
   "metadata": {},
   "outputs": [
    {
     "output_type": "execute_result",
     "data": {
      "text/plain": "{'predictions': [{'score': 0.004702974576503038, 'predicted_label': 0}]}"
     },
     "metadata": {},
     "execution_count": 10
    }
   ],
   "source": [
    "data=','.join([str(x) for x in test_data_df.loc[0].tolist()[0:605]])\n",
    "linear_predictor.predict(data)"
   ]
  },
  {
   "cell_type": "code",
   "execution_count": 12,
   "metadata": {},
   "outputs": [],
   "source": [
    "def eval_func(row):\n",
    "    csv=','.join(row.tolist()[0:605])\n",
    "    result=linear_predictor.predict(csv)\n",
    "    return result\n",
    "results=test_data_df.astype(str).apply(eval_func,axis=1)"
   ]
  },
  {
   "cell_type": "code",
   "execution_count": 13,
   "metadata": {},
   "outputs": [],
   "source": [
    "predicted_labels=[1 if i['predictions'][0]['predicted_label']==1.0 else 0 for i in results]"
   ]
  },
  {
   "cell_type": "code",
   "execution_count": 14,
   "metadata": {},
   "outputs": [],
   "source": [
    "score=[i['predictions'][0]['score'] for i in results]"
   ]
  },
  {
   "cell_type": "code",
   "execution_count": 15,
   "metadata": {},
   "outputs": [
    {
     "output_type": "execute_result",
     "data": {
      "text/plain": "         0     1       2       3       4         5         6         7      8  \\\n0    -18.0  18.0  329.88  380.83 -116.47 -0.370000 -0.515000 -0.516667 -0.520   \n1    -18.0  18.0  329.86  380.81 -116.49 -0.535000 -0.536667 -0.540000 -0.510   \n2    -18.0  18.0  329.89  380.84 -116.46 -0.506667 -0.510000 -0.480000 -0.540   \n3    -18.0  18.0  329.86  380.81 -116.49 -0.536667 -0.540000 -0.510000 -0.570   \n4    -18.0  18.0  329.11  380.06 -117.24 -1.290000 -1.260000 -1.320000 -1.220   \n...    ...   ...     ...     ...     ...       ...       ...       ...    ...   \n1510 -18.0  18.0  352.29  403.24  -94.06 -2.230000 -2.080000 -2.070000 -2.060   \n1511 -18.0  18.0  351.34  402.29  -95.01 -3.030000 -3.020000 -3.010000 -3.000   \n1512 -18.0  18.0  351.28  402.23  -95.07 -3.080000 -3.070000 -3.060000 -3.045   \n1513 -18.0  18.0  351.34  402.29  -95.01 -3.020000 -3.010000 -3.000000 -2.985   \n1514 -18.0  18.0  351.12  402.07  -95.23 -3.240000 -3.230000 -3.220000 -3.205   \n\n          9  ...   598   599   600    601    602    603    604  605  \\\n0    -0.490  ... -0.29 -0.05 -0.31  0.020 -0.320  0.020 -0.160    1   \n1    -0.570  ... -0.07 -0.33  0.00 -0.340  0.000 -0.180 -0.020    1   \n2    -0.440  ... -0.30  0.03 -0.31  0.030 -0.150  0.010  0.030    1   \n3    -0.470  ... -0.33  0.00 -0.34  0.000 -0.180 -0.020  0.000    1   \n4    -1.400  ... -0.75 -1.09 -0.75 -0.930 -0.770 -0.750 -0.765    1   \n...     ...  ...   ...   ...   ...    ...    ...    ...    ...  ...   \n1510 -2.050  ...  0.03  0.02  0.03  0.020  0.010  0.015  0.015    1   \n1511 -2.985  ... -0.93 -0.92 -0.93 -0.940 -0.935 -0.935 -0.940    1   \n1512 -3.050  ... -0.98 -0.99 -1.00 -0.995 -0.995 -1.000 -0.060    1   \n1513 -2.990  ... -0.92 -0.93 -0.94 -0.935 -0.935 -0.940  0.000    1   \n1514 -3.210  ... -1.14 -1.15 -1.16 -1.155 -1.155 -1.160 -0.220    1   \n\n      predicted_labels     score  \n0                    0  0.004703  \n1                    0  0.004644  \n2                    0  0.004993  \n3                    0  0.004923  \n4                    0  0.003406  \n...                ...       ...  \n1510                 1  0.006203  \n1511                 0  0.004011  \n1512                 0  0.004532  \n1513                 0  0.004663  \n1514                 0  0.004202  \n\n[1515 rows x 608 columns]",
      "text/html": "<div>\n<style scoped>\n    .dataframe tbody tr th:only-of-type {\n        vertical-align: middle;\n    }\n\n    .dataframe tbody tr th {\n        vertical-align: top;\n    }\n\n    .dataframe thead th {\n        text-align: right;\n    }\n</style>\n<table border=\"1\" class=\"dataframe\">\n  <thead>\n    <tr style=\"text-align: right;\">\n      <th></th>\n      <th>0</th>\n      <th>1</th>\n      <th>2</th>\n      <th>3</th>\n      <th>4</th>\n      <th>5</th>\n      <th>6</th>\n      <th>7</th>\n      <th>8</th>\n      <th>9</th>\n      <th>...</th>\n      <th>598</th>\n      <th>599</th>\n      <th>600</th>\n      <th>601</th>\n      <th>602</th>\n      <th>603</th>\n      <th>604</th>\n      <th>605</th>\n      <th>predicted_labels</th>\n      <th>score</th>\n    </tr>\n  </thead>\n  <tbody>\n    <tr>\n      <th>0</th>\n      <td>-18.0</td>\n      <td>18.0</td>\n      <td>329.88</td>\n      <td>380.83</td>\n      <td>-116.47</td>\n      <td>-0.370000</td>\n      <td>-0.515000</td>\n      <td>-0.516667</td>\n      <td>-0.520</td>\n      <td>-0.490</td>\n      <td>...</td>\n      <td>-0.29</td>\n      <td>-0.05</td>\n      <td>-0.31</td>\n      <td>0.020</td>\n      <td>-0.320</td>\n      <td>0.020</td>\n      <td>-0.160</td>\n      <td>1</td>\n      <td>0</td>\n      <td>0.004703</td>\n    </tr>\n    <tr>\n      <th>1</th>\n      <td>-18.0</td>\n      <td>18.0</td>\n      <td>329.86</td>\n      <td>380.81</td>\n      <td>-116.49</td>\n      <td>-0.535000</td>\n      <td>-0.536667</td>\n      <td>-0.540000</td>\n      <td>-0.510</td>\n      <td>-0.570</td>\n      <td>...</td>\n      <td>-0.07</td>\n      <td>-0.33</td>\n      <td>0.00</td>\n      <td>-0.340</td>\n      <td>0.000</td>\n      <td>-0.180</td>\n      <td>-0.020</td>\n      <td>1</td>\n      <td>0</td>\n      <td>0.004644</td>\n    </tr>\n    <tr>\n      <th>2</th>\n      <td>-18.0</td>\n      <td>18.0</td>\n      <td>329.89</td>\n      <td>380.84</td>\n      <td>-116.46</td>\n      <td>-0.506667</td>\n      <td>-0.510000</td>\n      <td>-0.480000</td>\n      <td>-0.540</td>\n      <td>-0.440</td>\n      <td>...</td>\n      <td>-0.30</td>\n      <td>0.03</td>\n      <td>-0.31</td>\n      <td>0.030</td>\n      <td>-0.150</td>\n      <td>0.010</td>\n      <td>0.030</td>\n      <td>1</td>\n      <td>0</td>\n      <td>0.004993</td>\n    </tr>\n    <tr>\n      <th>3</th>\n      <td>-18.0</td>\n      <td>18.0</td>\n      <td>329.86</td>\n      <td>380.81</td>\n      <td>-116.49</td>\n      <td>-0.536667</td>\n      <td>-0.540000</td>\n      <td>-0.510000</td>\n      <td>-0.570</td>\n      <td>-0.470</td>\n      <td>...</td>\n      <td>-0.33</td>\n      <td>0.00</td>\n      <td>-0.34</td>\n      <td>0.000</td>\n      <td>-0.180</td>\n      <td>-0.020</td>\n      <td>0.000</td>\n      <td>1</td>\n      <td>0</td>\n      <td>0.004923</td>\n    </tr>\n    <tr>\n      <th>4</th>\n      <td>-18.0</td>\n      <td>18.0</td>\n      <td>329.11</td>\n      <td>380.06</td>\n      <td>-117.24</td>\n      <td>-1.290000</td>\n      <td>-1.260000</td>\n      <td>-1.320000</td>\n      <td>-1.220</td>\n      <td>-1.400</td>\n      <td>...</td>\n      <td>-0.75</td>\n      <td>-1.09</td>\n      <td>-0.75</td>\n      <td>-0.930</td>\n      <td>-0.770</td>\n      <td>-0.750</td>\n      <td>-0.765</td>\n      <td>1</td>\n      <td>0</td>\n      <td>0.003406</td>\n    </tr>\n    <tr>\n      <th>...</th>\n      <td>...</td>\n      <td>...</td>\n      <td>...</td>\n      <td>...</td>\n      <td>...</td>\n      <td>...</td>\n      <td>...</td>\n      <td>...</td>\n      <td>...</td>\n      <td>...</td>\n      <td>...</td>\n      <td>...</td>\n      <td>...</td>\n      <td>...</td>\n      <td>...</td>\n      <td>...</td>\n      <td>...</td>\n      <td>...</td>\n      <td>...</td>\n      <td>...</td>\n      <td>...</td>\n    </tr>\n    <tr>\n      <th>1510</th>\n      <td>-18.0</td>\n      <td>18.0</td>\n      <td>352.29</td>\n      <td>403.24</td>\n      <td>-94.06</td>\n      <td>-2.230000</td>\n      <td>-2.080000</td>\n      <td>-2.070000</td>\n      <td>-2.060</td>\n      <td>-2.050</td>\n      <td>...</td>\n      <td>0.03</td>\n      <td>0.02</td>\n      <td>0.03</td>\n      <td>0.020</td>\n      <td>0.010</td>\n      <td>0.015</td>\n      <td>0.015</td>\n      <td>1</td>\n      <td>1</td>\n      <td>0.006203</td>\n    </tr>\n    <tr>\n      <th>1511</th>\n      <td>-18.0</td>\n      <td>18.0</td>\n      <td>351.34</td>\n      <td>402.29</td>\n      <td>-95.01</td>\n      <td>-3.030000</td>\n      <td>-3.020000</td>\n      <td>-3.010000</td>\n      <td>-3.000</td>\n      <td>-2.985</td>\n      <td>...</td>\n      <td>-0.93</td>\n      <td>-0.92</td>\n      <td>-0.93</td>\n      <td>-0.940</td>\n      <td>-0.935</td>\n      <td>-0.935</td>\n      <td>-0.940</td>\n      <td>1</td>\n      <td>0</td>\n      <td>0.004011</td>\n    </tr>\n    <tr>\n      <th>1512</th>\n      <td>-18.0</td>\n      <td>18.0</td>\n      <td>351.28</td>\n      <td>402.23</td>\n      <td>-95.07</td>\n      <td>-3.080000</td>\n      <td>-3.070000</td>\n      <td>-3.060000</td>\n      <td>-3.045</td>\n      <td>-3.050</td>\n      <td>...</td>\n      <td>-0.98</td>\n      <td>-0.99</td>\n      <td>-1.00</td>\n      <td>-0.995</td>\n      <td>-0.995</td>\n      <td>-1.000</td>\n      <td>-0.060</td>\n      <td>1</td>\n      <td>0</td>\n      <td>0.004532</td>\n    </tr>\n    <tr>\n      <th>1513</th>\n      <td>-18.0</td>\n      <td>18.0</td>\n      <td>351.34</td>\n      <td>402.29</td>\n      <td>-95.01</td>\n      <td>-3.020000</td>\n      <td>-3.010000</td>\n      <td>-3.000000</td>\n      <td>-2.985</td>\n      <td>-2.990</td>\n      <td>...</td>\n      <td>-0.92</td>\n      <td>-0.93</td>\n      <td>-0.94</td>\n      <td>-0.935</td>\n      <td>-0.935</td>\n      <td>-0.940</td>\n      <td>0.000</td>\n      <td>1</td>\n      <td>0</td>\n      <td>0.004663</td>\n    </tr>\n    <tr>\n      <th>1514</th>\n      <td>-18.0</td>\n      <td>18.0</td>\n      <td>351.12</td>\n      <td>402.07</td>\n      <td>-95.23</td>\n      <td>-3.240000</td>\n      <td>-3.230000</td>\n      <td>-3.220000</td>\n      <td>-3.205</td>\n      <td>-3.210</td>\n      <td>...</td>\n      <td>-1.14</td>\n      <td>-1.15</td>\n      <td>-1.16</td>\n      <td>-1.155</td>\n      <td>-1.155</td>\n      <td>-1.160</td>\n      <td>-0.220</td>\n      <td>1</td>\n      <td>0</td>\n      <td>0.004202</td>\n    </tr>\n  </tbody>\n</table>\n<p>1515 rows × 608 columns</p>\n</div>"
     },
     "metadata": {},
     "execution_count": 15
    }
   ],
   "source": [
    "test_data_df['predicted_labels']=predicted_labels\n",
    "test_data_df['score']=score\n",
    "test_data_df"
   ]
  },
  {
   "cell_type": "code",
   "execution_count": 16,
   "metadata": {},
   "outputs": [
    {
     "output_type": "execute_result",
     "data": {
      "text/plain": "         0     1       2       3       4         5         6     7     8  \\\n23   -18.0  18.0  329.00  379.95 -117.35 -1.345000 -1.053333 -0.70 -0.69   \n24   -18.0  18.0  328.99  379.94 -117.36 -1.063333 -0.710000 -0.70 -0.71   \n25   -18.0  18.0  328.98  379.93 -117.37 -0.720000 -0.710000 -0.72 -0.65   \n26   -18.0  18.0  328.97  379.92 -117.38 -0.720000 -0.730000 -0.66 -0.94   \n27   -18.0  18.0  328.99  379.94 -117.36 -0.700000 -0.710000 -0.64 -0.92   \n...    ...   ...     ...     ...     ...       ...       ...   ...   ...   \n1506 -18.0  18.0  352.28  403.23  -94.07 -2.280000 -2.285000 -2.24 -2.09   \n1507 -18.0  18.0  352.27  403.22  -94.08 -2.295000 -2.250000 -2.10 -2.09   \n1508 -18.0  18.0  352.28  403.23  -94.07 -2.285000 -2.240000 -2.09 -2.08   \n1509 -18.0  18.0  352.27  403.22  -94.08 -2.250000 -2.100000 -2.09 -2.08   \n1510 -18.0  18.0  352.29  403.24  -94.06 -2.230000 -2.080000 -2.07 -2.06   \n\n          9  ...    598    599    600    601    602    603    604  605  \\\n23   -0.700  ...  0.030  0.040  0.715  0.710  0.720  0.730  0.725    1   \n24   -0.640  ...  0.030  0.705  0.700  0.710  0.720  0.715 -0.010    1   \n25   -0.930  ...  0.695  0.690  0.700  0.710  0.705 -0.020 -0.010    1   \n26   -0.795  ...  0.680  0.690  0.700  0.695 -0.030 -0.020 -0.010    1   \n27   -0.775  ...  0.700  0.710  0.720  0.715 -0.010  0.000  0.010    1   \n...     ...  ...    ...    ...    ...    ...    ...    ...    ...  ...   \n1506 -2.080  ...  0.030  0.025  0.020  0.010  0.020  0.010  0.000    1   \n1507 -2.080  ...  0.015  0.010  0.000  0.010  0.000 -0.010 -0.005    1   \n1508 -2.070  ...  0.025  0.020  0.010  0.020  0.010  0.000  0.005    1   \n1509 -2.070  ...  0.010  0.000  0.010  0.000 -0.010 -0.005 -0.005    1   \n1510 -2.050  ...  0.030  0.020  0.030  0.020  0.010  0.015  0.015    1   \n\n      predicted_labels     score  \n23                   1  0.007476  \n24                   1  0.006596  \n25                   1  0.006117  \n26                   1  0.005907  \n27                   1  0.005963  \n...                ...       ...  \n1506                 1  0.006033  \n1507                 1  0.006201  \n1508                 1  0.006231  \n1509                 1  0.006144  \n1510                 1  0.006203  \n\n[942 rows x 608 columns]",
      "text/html": "<div>\n<style scoped>\n    .dataframe tbody tr th:only-of-type {\n        vertical-align: middle;\n    }\n\n    .dataframe tbody tr th {\n        vertical-align: top;\n    }\n\n    .dataframe thead th {\n        text-align: right;\n    }\n</style>\n<table border=\"1\" class=\"dataframe\">\n  <thead>\n    <tr style=\"text-align: right;\">\n      <th></th>\n      <th>0</th>\n      <th>1</th>\n      <th>2</th>\n      <th>3</th>\n      <th>4</th>\n      <th>5</th>\n      <th>6</th>\n      <th>7</th>\n      <th>8</th>\n      <th>9</th>\n      <th>...</th>\n      <th>598</th>\n      <th>599</th>\n      <th>600</th>\n      <th>601</th>\n      <th>602</th>\n      <th>603</th>\n      <th>604</th>\n      <th>605</th>\n      <th>predicted_labels</th>\n      <th>score</th>\n    </tr>\n  </thead>\n  <tbody>\n    <tr>\n      <th>23</th>\n      <td>-18.0</td>\n      <td>18.0</td>\n      <td>329.00</td>\n      <td>379.95</td>\n      <td>-117.35</td>\n      <td>-1.345000</td>\n      <td>-1.053333</td>\n      <td>-0.70</td>\n      <td>-0.69</td>\n      <td>-0.700</td>\n      <td>...</td>\n      <td>0.030</td>\n      <td>0.040</td>\n      <td>0.715</td>\n      <td>0.710</td>\n      <td>0.720</td>\n      <td>0.730</td>\n      <td>0.725</td>\n      <td>1</td>\n      <td>1</td>\n      <td>0.007476</td>\n    </tr>\n    <tr>\n      <th>24</th>\n      <td>-18.0</td>\n      <td>18.0</td>\n      <td>328.99</td>\n      <td>379.94</td>\n      <td>-117.36</td>\n      <td>-1.063333</td>\n      <td>-0.710000</td>\n      <td>-0.70</td>\n      <td>-0.71</td>\n      <td>-0.640</td>\n      <td>...</td>\n      <td>0.030</td>\n      <td>0.705</td>\n      <td>0.700</td>\n      <td>0.710</td>\n      <td>0.720</td>\n      <td>0.715</td>\n      <td>-0.010</td>\n      <td>1</td>\n      <td>1</td>\n      <td>0.006596</td>\n    </tr>\n    <tr>\n      <th>25</th>\n      <td>-18.0</td>\n      <td>18.0</td>\n      <td>328.98</td>\n      <td>379.93</td>\n      <td>-117.37</td>\n      <td>-0.720000</td>\n      <td>-0.710000</td>\n      <td>-0.72</td>\n      <td>-0.65</td>\n      <td>-0.930</td>\n      <td>...</td>\n      <td>0.695</td>\n      <td>0.690</td>\n      <td>0.700</td>\n      <td>0.710</td>\n      <td>0.705</td>\n      <td>-0.020</td>\n      <td>-0.010</td>\n      <td>1</td>\n      <td>1</td>\n      <td>0.006117</td>\n    </tr>\n    <tr>\n      <th>26</th>\n      <td>-18.0</td>\n      <td>18.0</td>\n      <td>328.97</td>\n      <td>379.92</td>\n      <td>-117.38</td>\n      <td>-0.720000</td>\n      <td>-0.730000</td>\n      <td>-0.66</td>\n      <td>-0.94</td>\n      <td>-0.795</td>\n      <td>...</td>\n      <td>0.680</td>\n      <td>0.690</td>\n      <td>0.700</td>\n      <td>0.695</td>\n      <td>-0.030</td>\n      <td>-0.020</td>\n      <td>-0.010</td>\n      <td>1</td>\n      <td>1</td>\n      <td>0.005907</td>\n    </tr>\n    <tr>\n      <th>27</th>\n      <td>-18.0</td>\n      <td>18.0</td>\n      <td>328.99</td>\n      <td>379.94</td>\n      <td>-117.36</td>\n      <td>-0.700000</td>\n      <td>-0.710000</td>\n      <td>-0.64</td>\n      <td>-0.92</td>\n      <td>-0.775</td>\n      <td>...</td>\n      <td>0.700</td>\n      <td>0.710</td>\n      <td>0.720</td>\n      <td>0.715</td>\n      <td>-0.010</td>\n      <td>0.000</td>\n      <td>0.010</td>\n      <td>1</td>\n      <td>1</td>\n      <td>0.005963</td>\n    </tr>\n    <tr>\n      <th>...</th>\n      <td>...</td>\n      <td>...</td>\n      <td>...</td>\n      <td>...</td>\n      <td>...</td>\n      <td>...</td>\n      <td>...</td>\n      <td>...</td>\n      <td>...</td>\n      <td>...</td>\n      <td>...</td>\n      <td>...</td>\n      <td>...</td>\n      <td>...</td>\n      <td>...</td>\n      <td>...</td>\n      <td>...</td>\n      <td>...</td>\n      <td>...</td>\n      <td>...</td>\n      <td>...</td>\n    </tr>\n    <tr>\n      <th>1506</th>\n      <td>-18.0</td>\n      <td>18.0</td>\n      <td>352.28</td>\n      <td>403.23</td>\n      <td>-94.07</td>\n      <td>-2.280000</td>\n      <td>-2.285000</td>\n      <td>-2.24</td>\n      <td>-2.09</td>\n      <td>-2.080</td>\n      <td>...</td>\n      <td>0.030</td>\n      <td>0.025</td>\n      <td>0.020</td>\n      <td>0.010</td>\n      <td>0.020</td>\n      <td>0.010</td>\n      <td>0.000</td>\n      <td>1</td>\n      <td>1</td>\n      <td>0.006033</td>\n    </tr>\n    <tr>\n      <th>1507</th>\n      <td>-18.0</td>\n      <td>18.0</td>\n      <td>352.27</td>\n      <td>403.22</td>\n      <td>-94.08</td>\n      <td>-2.295000</td>\n      <td>-2.250000</td>\n      <td>-2.10</td>\n      <td>-2.09</td>\n      <td>-2.080</td>\n      <td>...</td>\n      <td>0.015</td>\n      <td>0.010</td>\n      <td>0.000</td>\n      <td>0.010</td>\n      <td>0.000</td>\n      <td>-0.010</td>\n      <td>-0.005</td>\n      <td>1</td>\n      <td>1</td>\n      <td>0.006201</td>\n    </tr>\n    <tr>\n      <th>1508</th>\n      <td>-18.0</td>\n      <td>18.0</td>\n      <td>352.28</td>\n      <td>403.23</td>\n      <td>-94.07</td>\n      <td>-2.285000</td>\n      <td>-2.240000</td>\n      <td>-2.09</td>\n      <td>-2.08</td>\n      <td>-2.070</td>\n      <td>...</td>\n      <td>0.025</td>\n      <td>0.020</td>\n      <td>0.010</td>\n      <td>0.020</td>\n      <td>0.010</td>\n      <td>0.000</td>\n      <td>0.005</td>\n      <td>1</td>\n      <td>1</td>\n      <td>0.006231</td>\n    </tr>\n    <tr>\n      <th>1509</th>\n      <td>-18.0</td>\n      <td>18.0</td>\n      <td>352.27</td>\n      <td>403.22</td>\n      <td>-94.08</td>\n      <td>-2.250000</td>\n      <td>-2.100000</td>\n      <td>-2.09</td>\n      <td>-2.08</td>\n      <td>-2.070</td>\n      <td>...</td>\n      <td>0.010</td>\n      <td>0.000</td>\n      <td>0.010</td>\n      <td>0.000</td>\n      <td>-0.010</td>\n      <td>-0.005</td>\n      <td>-0.005</td>\n      <td>1</td>\n      <td>1</td>\n      <td>0.006144</td>\n    </tr>\n    <tr>\n      <th>1510</th>\n      <td>-18.0</td>\n      <td>18.0</td>\n      <td>352.29</td>\n      <td>403.24</td>\n      <td>-94.06</td>\n      <td>-2.230000</td>\n      <td>-2.080000</td>\n      <td>-2.07</td>\n      <td>-2.06</td>\n      <td>-2.050</td>\n      <td>...</td>\n      <td>0.030</td>\n      <td>0.020</td>\n      <td>0.030</td>\n      <td>0.020</td>\n      <td>0.010</td>\n      <td>0.015</td>\n      <td>0.015</td>\n      <td>1</td>\n      <td>1</td>\n      <td>0.006203</td>\n    </tr>\n  </tbody>\n</table>\n<p>942 rows × 608 columns</p>\n</div>"
     },
     "metadata": {},
     "execution_count": 16
    }
   ],
   "source": [
    "test_data_df[test_data_df['predicted_labels']==1]"
   ]
  },
  {
   "cell_type": "code",
   "execution_count": 27,
   "metadata": {},
   "outputs": [
    {
     "output_type": "execute_result",
     "data": {
      "text/plain": "        0     1       2       3       4       5        6        7       8  \\\n893 -18.0  18.0  357.00  407.95  -89.35  27.965  27.9250  28.0150  28.030   \n892 -18.0  18.0  356.97  407.92  -89.38  27.935  27.8950  27.9850  28.000   \n896 -18.0  18.0  357.81  408.76  -88.54  28.825  28.8400  28.8500  29.525   \n898 -18.0  18.0  357.74  408.69  -88.61  28.755  28.7700  28.7800  29.455   \n894 -18.0  18.0  357.02  407.97  -89.33  27.945  28.0350  28.0500  28.060   \n..    ...   ...     ...     ...     ...     ...      ...      ...     ...   \n444 -18.0  18.0  324.01  374.96 -122.34 -16.745 -16.5950 -16.4900 -16.480   \n445 -18.0  18.0  323.77  374.72 -122.58 -16.985 -16.8350 -16.7300 -16.720   \n450 -18.0  18.0  319.08  370.03 -127.27 -21.410 -21.5125 -21.3700 -21.320   \n451 -18.0  18.0  319.07  370.02 -127.28 -21.420 -21.5225 -21.3800 -21.330   \n449 -18.0  18.0  320.56  371.51 -125.79 -19.940 -19.9300 -20.0325 -19.890   \n\n           9  ...       598       599       600       601       602       603  \\\n893  28.0400  ...  3.290000  3.260000  3.250000  3.143333  2.910000  2.700000   \n892  28.0100  ...  3.260000  3.230000  3.220000  3.113333  2.880000  2.670000   \n896  29.5200  ...  4.060000  3.953333  3.720000  3.510000  3.030000  0.825000   \n898  29.4500  ...  3.990000  3.883333  3.650000  3.440000  2.960000  0.755000   \n894  28.7350  ...  3.280000  3.270000  3.163333  2.930000  2.720000  2.240000   \n..       ...  ...       ...       ...       ...       ...       ...       ...   \n444 -16.5825  ... -4.076667 -4.130000 -4.140000 -4.350000 -4.140000 -3.835000   \n445 -16.8225  ... -4.316667 -4.370000 -4.380000 -4.590000 -4.380000 -4.075000   \n450 -21.2900  ... -9.280000 -9.070000 -8.765000 -8.010000 -5.556667 -4.415000   \n451 -21.3000  ... -9.290000 -9.080000 -8.775000 -8.020000 -5.566667 -4.425000   \n449 -19.8400  ... -7.590000 -7.800000 -7.590000 -7.285000 -6.530000 -4.076667   \n\n       604  605  predicted_labels     score  \n893  2.220    1                 1  0.496580  \n892  2.190    1                 1  0.493012  \n896  0.790    1                 1  0.407540  \n898  0.720    1                 1  0.399525  \n894  0.035    1                 1  0.392712  \n..     ...  ...               ...       ...  \n444 -3.080    0                 0  0.000322  \n445 -3.320    0                 0  0.000288  \n450 -2.740    0                 0  0.000213  \n451 -2.750    0                 0  0.000212  \n449 -2.935    0                 0  0.000199  \n\n[1515 rows x 608 columns]",
      "text/html": "<div>\n<style scoped>\n    .dataframe tbody tr th:only-of-type {\n        vertical-align: middle;\n    }\n\n    .dataframe tbody tr th {\n        vertical-align: top;\n    }\n\n    .dataframe thead th {\n        text-align: right;\n    }\n</style>\n<table border=\"1\" class=\"dataframe\">\n  <thead>\n    <tr style=\"text-align: right;\">\n      <th></th>\n      <th>0</th>\n      <th>1</th>\n      <th>2</th>\n      <th>3</th>\n      <th>4</th>\n      <th>5</th>\n      <th>6</th>\n      <th>7</th>\n      <th>8</th>\n      <th>9</th>\n      <th>...</th>\n      <th>598</th>\n      <th>599</th>\n      <th>600</th>\n      <th>601</th>\n      <th>602</th>\n      <th>603</th>\n      <th>604</th>\n      <th>605</th>\n      <th>predicted_labels</th>\n      <th>score</th>\n    </tr>\n  </thead>\n  <tbody>\n    <tr>\n      <th>893</th>\n      <td>-18.0</td>\n      <td>18.0</td>\n      <td>357.00</td>\n      <td>407.95</td>\n      <td>-89.35</td>\n      <td>27.965</td>\n      <td>27.9250</td>\n      <td>28.0150</td>\n      <td>28.030</td>\n      <td>28.0400</td>\n      <td>...</td>\n      <td>3.290000</td>\n      <td>3.260000</td>\n      <td>3.250000</td>\n      <td>3.143333</td>\n      <td>2.910000</td>\n      <td>2.700000</td>\n      <td>2.220</td>\n      <td>1</td>\n      <td>1</td>\n      <td>0.496580</td>\n    </tr>\n    <tr>\n      <th>892</th>\n      <td>-18.0</td>\n      <td>18.0</td>\n      <td>356.97</td>\n      <td>407.92</td>\n      <td>-89.38</td>\n      <td>27.935</td>\n      <td>27.8950</td>\n      <td>27.9850</td>\n      <td>28.000</td>\n      <td>28.0100</td>\n      <td>...</td>\n      <td>3.260000</td>\n      <td>3.230000</td>\n      <td>3.220000</td>\n      <td>3.113333</td>\n      <td>2.880000</td>\n      <td>2.670000</td>\n      <td>2.190</td>\n      <td>1</td>\n      <td>1</td>\n      <td>0.493012</td>\n    </tr>\n    <tr>\n      <th>896</th>\n      <td>-18.0</td>\n      <td>18.0</td>\n      <td>357.81</td>\n      <td>408.76</td>\n      <td>-88.54</td>\n      <td>28.825</td>\n      <td>28.8400</td>\n      <td>28.8500</td>\n      <td>29.525</td>\n      <td>29.5200</td>\n      <td>...</td>\n      <td>4.060000</td>\n      <td>3.953333</td>\n      <td>3.720000</td>\n      <td>3.510000</td>\n      <td>3.030000</td>\n      <td>0.825000</td>\n      <td>0.790</td>\n      <td>1</td>\n      <td>1</td>\n      <td>0.407540</td>\n    </tr>\n    <tr>\n      <th>898</th>\n      <td>-18.0</td>\n      <td>18.0</td>\n      <td>357.74</td>\n      <td>408.69</td>\n      <td>-88.61</td>\n      <td>28.755</td>\n      <td>28.7700</td>\n      <td>28.7800</td>\n      <td>29.455</td>\n      <td>29.4500</td>\n      <td>...</td>\n      <td>3.990000</td>\n      <td>3.883333</td>\n      <td>3.650000</td>\n      <td>3.440000</td>\n      <td>2.960000</td>\n      <td>0.755000</td>\n      <td>0.720</td>\n      <td>1</td>\n      <td>1</td>\n      <td>0.399525</td>\n    </tr>\n    <tr>\n      <th>894</th>\n      <td>-18.0</td>\n      <td>18.0</td>\n      <td>357.02</td>\n      <td>407.97</td>\n      <td>-89.33</td>\n      <td>27.945</td>\n      <td>28.0350</td>\n      <td>28.0500</td>\n      <td>28.060</td>\n      <td>28.7350</td>\n      <td>...</td>\n      <td>3.280000</td>\n      <td>3.270000</td>\n      <td>3.163333</td>\n      <td>2.930000</td>\n      <td>2.720000</td>\n      <td>2.240000</td>\n      <td>0.035</td>\n      <td>1</td>\n      <td>1</td>\n      <td>0.392712</td>\n    </tr>\n    <tr>\n      <th>...</th>\n      <td>...</td>\n      <td>...</td>\n      <td>...</td>\n      <td>...</td>\n      <td>...</td>\n      <td>...</td>\n      <td>...</td>\n      <td>...</td>\n      <td>...</td>\n      <td>...</td>\n      <td>...</td>\n      <td>...</td>\n      <td>...</td>\n      <td>...</td>\n      <td>...</td>\n      <td>...</td>\n      <td>...</td>\n      <td>...</td>\n      <td>...</td>\n      <td>...</td>\n      <td>...</td>\n    </tr>\n    <tr>\n      <th>444</th>\n      <td>-18.0</td>\n      <td>18.0</td>\n      <td>324.01</td>\n      <td>374.96</td>\n      <td>-122.34</td>\n      <td>-16.745</td>\n      <td>-16.5950</td>\n      <td>-16.4900</td>\n      <td>-16.480</td>\n      <td>-16.5825</td>\n      <td>...</td>\n      <td>-4.076667</td>\n      <td>-4.130000</td>\n      <td>-4.140000</td>\n      <td>-4.350000</td>\n      <td>-4.140000</td>\n      <td>-3.835000</td>\n      <td>-3.080</td>\n      <td>0</td>\n      <td>0</td>\n      <td>0.000322</td>\n    </tr>\n    <tr>\n      <th>445</th>\n      <td>-18.0</td>\n      <td>18.0</td>\n      <td>323.77</td>\n      <td>374.72</td>\n      <td>-122.58</td>\n      <td>-16.985</td>\n      <td>-16.8350</td>\n      <td>-16.7300</td>\n      <td>-16.720</td>\n      <td>-16.8225</td>\n      <td>...</td>\n      <td>-4.316667</td>\n      <td>-4.370000</td>\n      <td>-4.380000</td>\n      <td>-4.590000</td>\n      <td>-4.380000</td>\n      <td>-4.075000</td>\n      <td>-3.320</td>\n      <td>0</td>\n      <td>0</td>\n      <td>0.000288</td>\n    </tr>\n    <tr>\n      <th>450</th>\n      <td>-18.0</td>\n      <td>18.0</td>\n      <td>319.08</td>\n      <td>370.03</td>\n      <td>-127.27</td>\n      <td>-21.410</td>\n      <td>-21.5125</td>\n      <td>-21.3700</td>\n      <td>-21.320</td>\n      <td>-21.2900</td>\n      <td>...</td>\n      <td>-9.280000</td>\n      <td>-9.070000</td>\n      <td>-8.765000</td>\n      <td>-8.010000</td>\n      <td>-5.556667</td>\n      <td>-4.415000</td>\n      <td>-2.740</td>\n      <td>0</td>\n      <td>0</td>\n      <td>0.000213</td>\n    </tr>\n    <tr>\n      <th>451</th>\n      <td>-18.0</td>\n      <td>18.0</td>\n      <td>319.07</td>\n      <td>370.02</td>\n      <td>-127.28</td>\n      <td>-21.420</td>\n      <td>-21.5225</td>\n      <td>-21.3800</td>\n      <td>-21.330</td>\n      <td>-21.3000</td>\n      <td>...</td>\n      <td>-9.290000</td>\n      <td>-9.080000</td>\n      <td>-8.775000</td>\n      <td>-8.020000</td>\n      <td>-5.566667</td>\n      <td>-4.425000</td>\n      <td>-2.750</td>\n      <td>0</td>\n      <td>0</td>\n      <td>0.000212</td>\n    </tr>\n    <tr>\n      <th>449</th>\n      <td>-18.0</td>\n      <td>18.0</td>\n      <td>320.56</td>\n      <td>371.51</td>\n      <td>-125.79</td>\n      <td>-19.940</td>\n      <td>-19.9300</td>\n      <td>-20.0325</td>\n      <td>-19.890</td>\n      <td>-19.8400</td>\n      <td>...</td>\n      <td>-7.590000</td>\n      <td>-7.800000</td>\n      <td>-7.590000</td>\n      <td>-7.285000</td>\n      <td>-6.530000</td>\n      <td>-4.076667</td>\n      <td>-2.935</td>\n      <td>0</td>\n      <td>0</td>\n      <td>0.000199</td>\n    </tr>\n  </tbody>\n</table>\n<p>1515 rows × 608 columns</p>\n</div>"
     },
     "metadata": {},
     "execution_count": 27
    }
   ],
   "source": [
    "most_certain=test_data_df.query('score>=0.0')\n",
    "most_certain.sort_values('score',ascending=False)"
   ]
  },
  {
   "cell_type": "code",
   "execution_count": 28,
   "metadata": {},
   "outputs": [
    {
     "output_type": "execute_result",
     "data": {
      "text/plain": "                 Predicted Negative  Predicted Positive\nActual Negative                 241                 201\nActual Positive                 332                 741",
      "text/html": "<div>\n<style scoped>\n    .dataframe tbody tr th:only-of-type {\n        vertical-align: middle;\n    }\n\n    .dataframe tbody tr th {\n        vertical-align: top;\n    }\n\n    .dataframe thead th {\n        text-align: right;\n    }\n</style>\n<table border=\"1\" class=\"dataframe\">\n  <thead>\n    <tr style=\"text-align: right;\">\n      <th></th>\n      <th>Predicted Negative</th>\n      <th>Predicted Positive</th>\n    </tr>\n  </thead>\n  <tbody>\n    <tr>\n      <th>Actual Negative</th>\n      <td>241</td>\n      <td>201</td>\n    </tr>\n    <tr>\n      <th>Actual Positive</th>\n      <td>332</td>\n      <td>741</td>\n    </tr>\n  </tbody>\n</table>\n</div>"
     },
     "metadata": {},
     "execution_count": 28
    }
   ],
   "source": [
    "# Importing the metrics package from sklearn library\n",
    "from sklearn import metrics\n",
    "# Creating the confusion matrix\n",
    "cm = metrics.confusion_matrix(most_certain[605], most_certain['predicted_labels'])\n",
    "# Assigning columns names\n",
    "cm_df = pd.DataFrame(cm, \n",
    "            columns = ['Predicted Negative', 'Predicted Positive'],\n",
    "            index = ['Actual Negative', 'Actual Positive'])\n",
    "# Showing the confusion matrix\n",
    "cm_df"
   ]
  },
  {
   "cell_type": "code",
   "execution_count": null,
   "metadata": {},
   "outputs": [],
   "source": [
    "most_certain.query('predicted_labels==1').describe()"
   ]
  },
  {
   "cell_type": "code",
   "execution_count": null,
   "metadata": {},
   "outputs": [],
   "source": [
    "most_certain.query('predicted_labels==0').describe()"
   ]
  },
  {
   "cell_type": "code",
   "execution_count": null,
   "metadata": {},
   "outputs": [],
   "source": []
  }
 ],
 "metadata": {
  "kernelspec": {
   "display_name": "Python 3.8.0 64-bit ('.venv': virtualenv)",
   "language": "python",
   "name": "python38064bitvenvvirtualenv36415f59e6224e2c91dba0fb0a6c6ee1"
  },
  "language_info": {
   "codemirror_mode": {
    "name": "ipython",
    "version": 3
   },
   "file_extension": ".py",
   "mimetype": "text/x-python",
   "name": "python",
   "nbconvert_exporter": "python",
   "pygments_lexer": "ipython3",
   "version": "3.8.0-final"
  }
 },
 "nbformat": 4,
 "nbformat_minor": 4
}