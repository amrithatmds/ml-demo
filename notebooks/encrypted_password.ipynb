{
 "cells": [
  {
   "cell_type": "code",
   "execution_count": 401,
   "metadata": {},
   "outputs": [],
   "source": [
    "import requests\n",
    "import json\n",
    "from IPython.core.display import display, HTML"
   ]
  },
  {
   "cell_type": "code",
   "execution_count": 402,
   "metadata": {},
   "outputs": [],
   "source": [
    "IG_ENDPOINT='https://demo-api.ig.com/gateway/deal'"
   ]
  },
  {
   "cell_type": "code",
   "execution_count": 403,
   "metadata": {},
   "outputs": [],
   "source": [
    "PASSWORD='ABCabc123'"
   ]
  },
  {
   "cell_type": "markdown",
   "metadata": {},
   "source": [
    "1) call /session/encryptionKey which gives a key and timestamp [see https://labs.ig.com/rest-trading-api-reference/service-detail?id=151]\n",
    "2) create a RSAToken using the key.\n",
    "3) encrypt password + \"|\" + timestamp\n",
    "\n",
    "```\n",
    "export function publicEncrypt(key, value) {\n",
    "  const asn = ASN1.decode(toByteArray(decodeBase64(key)))\n",
    "  const rsa = new RSA()\n",
    "  rsa.setPublicKeyFromASN(asn.toHexTree())\n",
    "  return encodeBase64(convertFromHex(rsa.encrypt(value)))\n",
    "}\n",
    "```"
   ]
  },
  {
   "cell_type": "code",
   "execution_count": 404,
   "metadata": {},
   "outputs": [],
   "source": [
    "get_encrytion_key=requests.get(IG_ENDPOINT+'/session/encryptionKey',\n",
    "    headers={\n",
    "        \"Content-Type\":\"application/json\",\n",
    "        \"X-IG-API-KEY\":\"926a298bff0f23aac7c196be864a834c4409eb4d\"\n",
    "    })"
   ]
  },
  {
   "cell_type": "code",
   "execution_count": 405,
   "metadata": {},
   "outputs": [
    {
     "data": {
      "text/plain": [
       "{'encryptionKey': 'MIIBIjANBgkqhkiG9w0BAQEFAAOCAQ8AMIIBCgKCAQEAp9te7ztue8HhdRFsn47EI8exZ1Yi+bJoKtclGTiPau1T+4AclNqB2mIya/Ik6IV6A2pt4FFVoqvrhJA4wD6i4XgA4Ojhl2Xxw4++blAMgT3jU7N5nY13LdJzZuYv/oPZKRcEj6RrlBV68HjrTnjAMWARl0jFbVCiLWovTGJ0stx/zJAKX0GFyuUlsoaJISJJRYeOLUtZ8B4ZE6ZkmKnz4V8YNyyoWCyXQp+IKCZrfoEdlMOPBgsjbRy02Gh9xZqcm2erLsp40F+w3AjHUqQQi7eQuPQaPWq9Lhm8cVDH2CB2BtfM8Ew8T5/A36eqa5eoeQcZaMnLUQP5UYtG2Wd//wIDAQAB',\n",
       " 'timeStamp': 1583842488184}"
      ]
     },
     "execution_count": 405,
     "metadata": {},
     "output_type": "execute_result"
    }
   ],
   "source": [
    "encrytion_key=get_encrytion_key.json()\n",
    "encrytion_key"
   ]
  },
  {
   "cell_type": "code",
   "execution_count": 406,
   "metadata": {},
   "outputs": [],
   "source": [
    "import base64"
   ]
  },
  {
   "cell_type": "code",
   "execution_count": 407,
   "metadata": {},
   "outputs": [],
   "source": [
    "encrytion_key_bytes=base64.b64decode(encrytion_key['encryptionKey'])"
   ]
  },
  {
   "cell_type": "code",
   "execution_count": 408,
   "metadata": {
    "scrolled": true
   },
   "outputs": [
    {
     "data": {
      "text/plain": [
       "b'0\\x82\\x01\"0\\r\\x06\\t*\\x86H\\x86\\xf7\\r\\x01\\x01\\x01\\x05\\x00\\x03\\x82\\x01\\x0f\\x000\\x82\\x01\\n\\x02\\x82\\x01\\x01\\x00\\xa7\\xdb^\\xef;n{\\xc1\\xe1u\\x11l\\x9f\\x8e\\xc4#\\xc7\\xb1gV\"\\xf9\\xb2h*\\xd7%\\x198\\x8fj\\xedS\\xfb\\x80\\x1c\\x94\\xda\\x81\\xdab2k\\xf2$\\xe8\\x85z\\x03jm\\xe0QU\\xa2\\xab\\xeb\\x84\\x908\\xc0>\\xa2\\xe1x\\x00\\xe0\\xe8\\xe1\\x97e\\xf1\\xc3\\x8f\\xbenP\\x0c\\x81=\\xe3S\\xb3y\\x9d\\x8dw-\\xd2sf\\xe6/\\xfe\\x83\\xd9)\\x17\\x04\\x8f\\xa4k\\x94\\x15z\\xf0x\\xebNx\\xc01`\\x11\\x97H\\xc5mP\\xa2-j/Lbt\\xb2\\xdc\\x7f\\xcc\\x90\\n_A\\x85\\xca\\xe5%\\xb2\\x86\\x89!\"IE\\x87\\x8e-KY\\xf0\\x1e\\x19\\x13\\xa6d\\x98\\xa9\\xf3\\xe1_\\x187,\\xa8X,\\x97B\\x9f\\x88(&k~\\x81\\x1d\\x94\\xc3\\x8f\\x06\\x0b#m\\x1c\\xb4\\xd8h}\\xc5\\x9a\\x9c\\x9bg\\xab.\\xcax\\xd0_\\xb0\\xdc\\x08\\xc7R\\xa4\\x10\\x8b\\xb7\\x90\\xb8\\xf4\\x1a=j\\xbd.\\x19\\xbcqP\\xc7\\xd8 v\\x06\\xd7\\xcc\\xf0L<O\\x9f\\xc0\\xdf\\xa7\\xaak\\x97\\xa8y\\x07\\x19h\\xc9\\xcbQ\\x03\\xf9Q\\x8bF\\xd9g\\x7f\\xff\\x02\\x03\\x01\\x00\\x01'"
      ]
     },
     "execution_count": 408,
     "metadata": {},
     "output_type": "execute_result"
    }
   ],
   "source": [
    "encrytion_key_bytes"
   ]
  },
  {
   "cell_type": "code",
   "execution_count": 409,
   "metadata": {},
   "outputs": [
    {
     "name": "stdout",
     "output_type": "stream",
     "text": [
      "\u001b[33mWARNING: Skipping Crypto as it is not installed.\u001b[0m\r\n"
     ]
    }
   ],
   "source": [
    "!pip uninstall Crypto"
   ]
  },
  {
   "cell_type": "code",
   "execution_count": 410,
   "metadata": {},
   "outputs": [
    {
     "name": "stdout",
     "output_type": "stream",
     "text": [
      "Requirement already satisfied: pycrypto in ./.venv/lib/python3.7/site-packages (2.6.1)\r\n"
     ]
    }
   ],
   "source": [
    "!pip install pycrypto\n",
    "\n",
    "from Crypto.PublicKey import RSA"
   ]
  },
  {
   "cell_type": "code",
   "execution_count": 411,
   "metadata": {},
   "outputs": [],
   "source": [
    "rsa_key=RSA.import_key(encrytion_key_bytes)"
   ]
  },
  {
   "cell_type": "code",
   "execution_count": 412,
   "metadata": {
    "scrolled": true
   },
   "outputs": [
    {
     "data": {
      "text/plain": [
       "'ABCabc123|1583842488184'"
      ]
     },
     "execution_count": 412,
     "metadata": {},
     "output_type": "execute_result"
    }
   ],
   "source": [
    "password_message='%s|%s' % (PASSWORD,encrytion_key['timeStamp'])\n",
    "password_message"
   ]
  },
  {
   "cell_type": "code",
   "execution_count": 413,
   "metadata": {},
   "outputs": [
    {
     "data": {
      "text/plain": [
       "b'ABCabc123|1583842488184'"
      ]
     },
     "execution_count": 413,
     "metadata": {},
     "output_type": "execute_result"
    }
   ],
   "source": [
    "password_message_bytes=password_message.encode('UTF8')\n",
    "password_message_bytes"
   ]
  },
  {
   "cell_type": "code",
   "execution_count": 414,
   "metadata": {},
   "outputs": [
    {
     "data": {
      "text/plain": [
       "b'0\\x82\\x01\"0\\r\\x06\\t*\\x86H\\x86\\xf7\\r\\x01\\x01\\x01\\x05\\x00\\x03\\x82\\x01\\x0f\\x000\\x82\\x01\\n\\x02\\x82\\x01\\x01\\x00\\xa7\\xdb^\\xef;n{\\xc1\\xe1u\\x11l\\x9f\\x8e\\xc4#\\xc7\\xb1gV\"\\xf9\\xb2h*\\xd7%\\x198\\x8fj\\xedS\\xfb\\x80\\x1c\\x94\\xda\\x81\\xdab2k\\xf2$\\xe8\\x85z\\x03jm\\xe0QU\\xa2\\xab\\xeb\\x84\\x908\\xc0>\\xa2\\xe1x\\x00\\xe0\\xe8\\xe1\\x97e\\xf1\\xc3\\x8f\\xbenP\\x0c\\x81=\\xe3S\\xb3y\\x9d\\x8dw-\\xd2sf\\xe6/\\xfe\\x83\\xd9)\\x17\\x04\\x8f\\xa4k\\x94\\x15z\\xf0x\\xebNx\\xc01`\\x11\\x97H\\xc5mP\\xa2-j/Lbt\\xb2\\xdc\\x7f\\xcc\\x90\\n_A\\x85\\xca\\xe5%\\xb2\\x86\\x89!\"IE\\x87\\x8e-KY\\xf0\\x1e\\x19\\x13\\xa6d\\x98\\xa9\\xf3\\xe1_\\x187,\\xa8X,\\x97B\\x9f\\x88(&k~\\x81\\x1d\\x94\\xc3\\x8f\\x06\\x0b#m\\x1c\\xb4\\xd8h}\\xc5\\x9a\\x9c\\x9bg\\xab.\\xcax\\xd0_\\xb0\\xdc\\x08\\xc7R\\xa4\\x10\\x8b\\xb7\\x90\\xb8\\xf4\\x1a=j\\xbd.\\x19\\xbcqP\\xc7\\xd8 v\\x06\\xd7\\xcc\\xf0L<O\\x9f\\xc0\\xdf\\xa7\\xaak\\x97\\xa8y\\x07\\x19h\\xc9\\xcbQ\\x03\\xf9Q\\x8bF\\xd9g\\x7f\\xff\\x02\\x03\\x01\\x00\\x01'"
      ]
     },
     "execution_count": 414,
     "metadata": {},
     "output_type": "execute_result"
    }
   ],
   "source": [
    "password_message_bytes_base64 = base64.b64decode(base64_bytes)\n",
    "password_message_bytes_base64"
   ]
  },
  {
   "cell_type": "code",
   "execution_count": 415,
   "metadata": {},
   "outputs": [
    {
     "data": {
      "text/plain": [
       "b'b\\xc0\\xa3\\xe8A!\\x81\\xa3;\\xbd\\xf2\\x87\\x05\"\\xa8=r\\xc9\\xf2\\x11\\xfa\\xf42\\xd4\\xb8\"\\x98\\xb7\\x82G\\x89lY\\xb0\\x7fA\\xea\\xcb\\x07\\x18\\x0c\\x94\\xcf\\xa58\\xfd\\x0f\\x9b\\xf7\\x89\\x00\\xcc\\x11$\\xa5\\xf0r)\\xce\\xac\\xba\\x19Z8\\xc8\\x19Dq\\x9dc\\x84K-\\x1e\\xf4\\x93:3Ka\\x19\\xeb\\xde\"\\xf4\\xae\\xf0\\t(l\\xd1cA\\xa3yn\\x12o^Y\\x90_2x=MA0\\xd4JohYW\\x90Hg5\\x7fP\\x8dx\\x97)>\\xb1\\x05mc\\xa6K#\\'\\xa7\\x03\\x81>g\\x98r\\xbf\\x1d\\x82\\x9f\\xf3\\xb5\\x8b\\xae\\x80\\x7fY \\xa8\\xb8i{\\xa0\\x8bp\\xe7r\\xdc\\xe9\\x9e\\xde\\x1dS\\xdbb\\x8b\\xbe\\xf5F\\xc89\\x13\\xcc\\x82\\xc6\\x8fCa\\xea\\x9b\\x00\\xcf\\xb2Z7`\\x87\\xfd\\xe8\\x0e\\x9aF\\xb6\\x14\\xfds\\xbeN\\x87\\xe8\\x1b\\x99Gy1\\x95,k\\xa1@z\\x0foVD\\xc3\\x87M\\x06\\x96F\\xce\\xb8\\xa5\\x90\\xa5\\xb7\\xfbZ\\xbb\\x00\\x17!\\x1a\\x92\\xb5\\xe0\\xd7\\xfc\\xaeQ\\x92\\x0e\\x0c\\x8a\\xe9\\xba\\x8f`^\\x87~'"
      ]
     },
     "execution_count": 415,
     "metadata": {},
     "output_type": "execute_result"
    }
   ],
   "source": [
    "from Crypto.Cipher import PKCS1_OAEP\n",
    "cipher_rsa = PKCS1_OAEP.new(rsa_key)\n",
    "ciphertext = cipher_rsa.encrypt(password_message_bytes)\n",
    "ciphertext"
   ]
  },
  {
   "cell_type": "code",
   "execution_count": 416,
   "metadata": {},
   "outputs": [
    {
     "data": {
      "text/plain": [
       "b'YsCj6EEhgaM7vfKHBSKoPXLJ8hH69DLUuCKYt4JHiWxZsH9B6ssHGAyUz6U4/Q+b94kAzBEkpfByKc6suhlaOMgZRHGdY4RLLR70kzozS2EZ694i9K7wCShs0WNBo3luEm9eWZBfMng9TUEw1EpvaFlXkEhnNX9QjXiXKT6xBW1jpksjJ6cDgT5nmHK/HYKf87WLroB/WSCouGl7oItw53Lc6Z7eHVPbYou+9UbIORPMgsaPQ2HqmwDPslo3YIf96A6aRrYU/XO+TofoG5lHeTGVLGuhQHoPb1ZEw4dNBpZGzrilkKW3+1q7ABchGpK14Nf8rlGSDgyK6bqPYF6Hfg=='"
      ]
     },
     "metadata": {},
     "output_type": "display_data"
    },
    {
     "data": {
      "text/plain": [
       "b'YsCj6EEhgaM7vfKHBSKoPXLJ8hH69DLUuCKYt4JHiWxZsH9B6ssHGAyUz6U4/Q+b94kAzBEkpfByKc6suhlaOMgZRHGdY4RLLR70kzozS2EZ694i9K7wCShs0WNBo3luEm9eWZBfMng9TUEw1EpvaFlXkEhnNX9QjXiXKT6xBW1jpksjJ6cDgT5nmHK/HYKf87WLroB/WSCouGl7oItw53Lc6Z7eHVPbYou+9UbIORPMgsaPQ2HqmwDPslo3YIf96A6aRrYU/XO+TofoG5lHeTGVLGuhQHoPb1ZEw4dNBpZGzrilkKW3+1q7ABchGpK14Nf8rlGSDgyK6bqPYF6Hfg=='"
      ]
     },
     "execution_count": 416,
     "metadata": {},
     "output_type": "execute_result"
    }
   ],
   "source": [
    "password_encrypted=base64.b64encode(ciphertext)\n",
    "display(password_encrypted)\n",
    "password_encrypted"
   ]
  },
  {
   "cell_type": "code",
   "execution_count": 417,
   "metadata": {},
   "outputs": [
    {
     "data": {
      "text/plain": [
       "'YsCj6EEhgaM7vfKHBSKoPXLJ8hH69DLUuCKYt4JHiWxZsH9B6ssHGAyUz6U4/Q+b94kAzBEkpfByKc6suhlaOMgZRHGdY4RLLR70kzozS2EZ694i9K7wCShs0WNBo3luEm9eWZBfMng9TUEw1EpvaFlXkEhnNX9QjXiXKT6xBW1jpksjJ6cDgT5nmHK/HYKf87WLroB/WSCouGl7oItw53Lc6Z7eHVPbYou+9UbIORPMgsaPQ2HqmwDPslo3YIf96A6aRrYU/XO+TofoG5lHeTGVLGuhQHoPb1ZEw4dNBpZGzrilkKW3+1q7ABchGpK14Nf8rlGSDgyK6bqPYF6Hfg=='"
      ]
     },
     "execution_count": 417,
     "metadata": {},
     "output_type": "execute_result"
    }
   ],
   "source": [
    "password_encrypted.decode('UTF8')"
   ]
  },
  {
   "cell_type": "code",
   "execution_count": 418,
   "metadata": {},
   "outputs": [],
   "source": [
    "data={\n",
    "    \"identifier\":\"demo2020\",\n",
    "    \"password\":password_encrypted.decode('UTF8'),\n",
    "    \"encryptedPassword\":True\n",
    "}"
   ]
  },
  {
   "cell_type": "code",
   "execution_count": 419,
   "metadata": {},
   "outputs": [],
   "source": [
    "headers={\n",
    "    \"Content-Type\":\"application/json\",\n",
    "    \"X-IG-API-KEY\":\"926a298bff0f23aac7c196be864a834c4409eb4d\",\n",
    "    \"Version\":\"2\"\n",
    "}"
   ]
  },
  {
   "cell_type": "code",
   "execution_count": 420,
   "metadata": {},
   "outputs": [],
   "source": [
    "r = requests.post(IG_ENDPOINT+'/session',\n",
    "                headers=headers,\n",
    "                data=json.dumps(data))"
   ]
  },
  {
   "cell_type": "code",
   "execution_count": 421,
   "metadata": {},
   "outputs": [
    {
     "data": {
      "text/html": [
       "{\"errorCode\":\"error.security.invalid-details\"}"
      ],
      "text/plain": [
       "<IPython.core.display.HTML object>"
      ]
     },
     "metadata": {},
     "output_type": "display_data"
    }
   ],
   "source": [
    "display(HTML(r.text))"
   ]
  },
  {
   "cell_type": "code",
   "execution_count": null,
   "metadata": {},
   "outputs": [],
   "source": []
  },
  {
   "cell_type": "code",
   "execution_count": null,
   "metadata": {},
   "outputs": [],
   "source": []
  }
 ],
 "metadata": {
  "kernelspec": {
   "display_name": "Python 3",
   "language": "python",
   "name": "python3"
  },
  "language_info": {
   "codemirror_mode": {
    "name": "ipython",
    "version": 3
   },
   "file_extension": ".py",
   "mimetype": "text/x-python",
   "name": "python",
   "nbconvert_exporter": "python",
   "pygments_lexer": "ipython3",
   "version": "3.7.4"
  }
 },
 "nbformat": 4,
 "nbformat_minor": 2
}
