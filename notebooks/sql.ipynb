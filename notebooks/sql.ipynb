{
 "nbformat": 4,
 "nbformat_minor": 2,
 "metadata": {
  "language_info": {
   "name": "python",
   "codemirror_mode": {
    "name": "ipython",
    "version": 3
   },
   "version": "3.7.4-final"
  },
  "orig_nbformat": 2,
  "file_extension": ".py",
  "mimetype": "text/x-python",
  "name": "python",
  "npconvert_exporter": "python",
  "pygments_lexer": "ipython3",
  "version": 3,
  "kernelspec": {
   "name": "python37464bitvenvvirtualenv6b4f093d3fee42a4b8c0f6bd7f8294ac",
   "display_name": "Python 3.7.4 64-bit ('.venv': virtualenv)"
  }
 },
 "cells": [
  {
   "cell_type": "code",
   "execution_count": 1,
   "metadata": {},
   "outputs": [],
   "source": [
    "from pymongo import MongoClient\n",
    "client = MongoClient('localhost', 27017)"
   ]
  },
  {
   "cell_type": "code",
   "execution_count": 2,
   "metadata": {},
   "outputs": [],
   "source": [
    "ordersimp = client.ml_lab.orders"
   ]
  },
  {
   "cell_type": "code",
   "execution_count": 3,
   "metadata": {},
   "outputs": [
    {
     "data": {
      "text/plain": "[{'_id': ObjectId('5e6abef5a22e882f5900cc6a'),\n  'order_type': 'sell',\n  'stop': 54,\n  'limit': 17,\n  'price': 1.257,\n  'stop_price': 1.2624,\n  'limit_price': 1.2552999999999999},\n {'_id': ObjectId('5e6abef5a22e882f5900cc6b'),\n  'order_type': 'sell',\n  'stop': 90,\n  'limit': 47,\n  'price': 1.257,\n  'stop_price': 1.2659999999999998,\n  'limit_price': 1.2523},\n {'_id': ObjectId('5e6abef5a22e882f5900cc6c'),\n  'order_type': 'sell',\n  'stop': 46,\n  'limit': 47,\n  'price': 1.257,\n  'stop_price': 1.2615999999999998,\n  'limit_price': 1.2523},\n {'_id': ObjectId('5e6abef5a22e882f5900cc6e'),\n  'order_type': 'sell',\n  'stop': 91,\n  'limit': 64,\n  'price': 1.257,\n  'stop_price': 1.2661,\n  'limit_price': 1.2506},\n {'_id': ObjectId('5e6abef5a22e882f5900cc6f'),\n  'order_type': 'sell',\n  'stop': 16,\n  'limit': 36,\n  'price': 1.257,\n  'stop_price': 1.2586,\n  'limit_price': 1.2533999999999998},\n {'_id': ObjectId('5e6abef5a22e882f5900cc70'),\n  'order_type': 'sell',\n  'stop': 45,\n  'limit': 2,\n  'price': 1.257,\n  'stop_price': 1.2614999999999998,\n  'limit_price': 1.2568},\n {'_id': ObjectId('5e6abef5a22e882f5900cc71'),\n  'order_type': 'buy',\n  'stop': 84,\n  'limit': 59,\n  'price': 1.258,\n  'stop_price': 1.2496,\n  'limit_price': 1.2639},\n {'_id': ObjectId('5e6abef5a22e882f5900cc72'),\n  'order_type': 'sell',\n  'stop': 77,\n  'limit': 52,\n  'price': 1.257,\n  'stop_price': 1.2647,\n  'limit_price': 1.2517999999999998},\n {'_id': ObjectId('5e6abef5a22e882f5900cc73'),\n  'order_type': 'buy',\n  'stop': 48,\n  'limit': 96,\n  'price': 1.258,\n  'stop_price': 1.2532,\n  'limit_price': 1.2676},\n {'_id': ObjectId('5e6abef6a22e882f5900cc74'),\n  'order_type': 'sell',\n  'stop': 53,\n  'limit': 57,\n  'price': 1.25693,\n  'stop_price': 1.2622300000000002,\n  'limit_price': 1.25123},\n {'_id': ObjectId('5e6abef6a22e882f5900cc75'),\n  'order_type': 'buy',\n  'stop': 69,\n  'limit': 1,\n  'price': 1.25793,\n  'stop_price': 1.25103,\n  'limit_price': 1.25803},\n {'_id': ObjectId('5e6abef6a22e882f5900cc76'),\n  'order_type': 'sell',\n  'stop': 84,\n  'limit': 11,\n  'price': 1.25693,\n  'stop_price': 1.26533,\n  'limit_price': 1.25583},\n {'_id': ObjectId('5e6abef6a22e882f5900cc77'),\n  'order_type': 'buy',\n  'stop': 60,\n  'limit': 71,\n  'price': 1.25793,\n  'stop_price': 1.25193,\n  'limit_price': 1.26503},\n {'_id': ObjectId('5e6abef6a22e882f5900cc78'),\n  'order_type': 'buy',\n  'stop': 66,\n  'limit': 25,\n  'price': 1.25793,\n  'stop_price': 1.25133,\n  'limit_price': 1.26043},\n {'_id': ObjectId('5e6abef6a22e882f5900cc79'),\n  'order_type': 'sell',\n  'stop': 98,\n  'limit': 87,\n  'price': 1.25693,\n  'stop_price': 1.2667300000000001,\n  'limit_price': 1.2482300000000002},\n {'_id': ObjectId('5e6abef6a22e882f5900cc7a'),\n  'order_type': 'sell',\n  'stop': 89,\n  'limit': 1,\n  'price': 1.25693,\n  'stop_price': 1.26583,\n  'limit_price': 1.2568300000000001},\n {'_id': ObjectId('5e6abef6a22e882f5900cc7b'),\n  'order_type': 'sell',\n  'stop': 34,\n  'limit': 6,\n  'price': 1.25693,\n  'stop_price': 1.2603300000000002,\n  'limit_price': 1.2563300000000002},\n {'_id': ObjectId('5e6abef6a22e882f5900cc7c'),\n  'order_type': 'sell',\n  'stop': 30,\n  'limit': 16,\n  'price': 1.25693,\n  'stop_price': 1.25993,\n  'limit_price': 1.25533},\n {'_id': ObjectId('5e6abef6a22e882f5900cc7d'),\n  'order_type': 'buy',\n  'stop': 32,\n  'limit': 86,\n  'price': 1.25793,\n  'stop_price': 1.25473,\n  'limit_price': 1.26653},\n {'_id': ObjectId('5e6abef6a22e882f5900cc7e'),\n  'order_type': 'buy',\n  'stop': 95,\n  'limit': 89,\n  'price': 1.25774,\n  'stop_price': 1.24824,\n  'limit_price': 1.26664},\n {'_id': ObjectId('5e6abef6a22e882f5900cc7f'),\n  'order_type': 'sell',\n  'stop': 93,\n  'limit': 1,\n  'price': 1.25674,\n  'stop_price': 1.26604,\n  'limit_price': 1.25664},\n {'_id': ObjectId('5e6abef6a22e882f5900cc80'),\n  'order_type': 'sell',\n  'stop': 55,\n  'limit': 71,\n  'price': 1.25674,\n  'stop_price': 1.26224,\n  'limit_price': 1.2496399999999999},\n {'_id': ObjectId('5e6abef6a22e882f5900cc81'),\n  'order_type': 'buy',\n  'stop': 55,\n  'limit': 18,\n  'price': 1.25774,\n  'stop_price': 1.25224,\n  'limit_price': 1.25954},\n {'_id': ObjectId('5e6abef6a22e882f5900cc82'),\n  'order_type': 'sell',\n  'stop': 57,\n  'limit': 84,\n  'price': 1.25674,\n  'stop_price': 1.26244,\n  'limit_price': 1.24834},\n {'_id': ObjectId('5e6abef6a22e882f5900cc83'),\n  'order_type': 'sell',\n  'stop': 69,\n  'limit': 31,\n  'price': 1.25674,\n  'stop_price': 1.2636399999999999,\n  'limit_price': 1.2536399999999999},\n {'_id': ObjectId('5e6abef6a22e882f5900cc84'),\n  'order_type': 'sell',\n  'stop': 44,\n  'limit': 57,\n  'price': 1.25674,\n  'stop_price': 1.26114,\n  'limit_price': 1.25104},\n {'_id': ObjectId('5e6abef6a22e882f5900cc85'),\n  'order_type': 'sell',\n  'stop': 54,\n  'limit': 98,\n  'price': 1.25674,\n  'stop_price': 1.26214,\n  'limit_price': 1.24694},\n {'_id': ObjectId('5e6abef6a22e882f5900cc86'),\n  'order_type': 'buy',\n  'stop': 94,\n  'limit': 2,\n  'price': 1.25774,\n  'stop_price': 1.24834,\n  'limit_price': 1.25794},\n {'_id': ObjectId('5e6abef6a22e882f5900cc87'),\n  'order_type': 'sell',\n  'stop': 48,\n  'limit': 21,\n  'price': 1.25674,\n  'stop_price': 1.2615399999999999,\n  'limit_price': 1.25464},\n {'_id': ObjectId('5e6abef6a22e882f5900cc88'),\n  'order_type': 'buy',\n  'stop': 22,\n  'limit': 58,\n  'price': 1.25788,\n  'stop_price': 1.2556800000000001,\n  'limit_price': 1.2636800000000001},\n {'_id': ObjectId('5e6abef6a22e882f5900cc89'),\n  'order_type': 'sell',\n  'stop': 14,\n  'limit': 56,\n  'price': 1.25688,\n  'stop_price': 1.25828,\n  'limit_price': 1.25128},\n {'_id': ObjectId('5e6abef6a22e882f5900cc8a'),\n  'order_type': 'sell',\n  'stop': 67,\n  'limit': 20,\n  'price': 1.25688,\n  'stop_price': 1.26358,\n  'limit_price': 1.25488},\n {'_id': ObjectId('5e6abef6a22e882f5900cc8b'),\n  'order_type': 'sell',\n  'stop': 37,\n  'limit': 95,\n  'price': 1.25688,\n  'stop_price': 1.26058,\n  'limit_price': 1.24738},\n {'_id': ObjectId('5e6abef6a22e882f5900cc8c'),\n  'order_type': 'sell',\n  'stop': 85,\n  'limit': 80,\n  'price': 1.25688,\n  'stop_price': 1.26538,\n  'limit_price': 1.24888},\n {'_id': ObjectId('5e6abef6a22e882f5900cc8d'),\n  'order_type': 'buy',\n  'stop': 86,\n  'limit': 86,\n  'price': 1.25788,\n  'stop_price': 1.2492800000000002,\n  'limit_price': 1.26648},\n {'_id': ObjectId('5e6abef6a22e882f5900cc8e'),\n  'order_type': 'buy',\n  'stop': 95,\n  'limit': 74,\n  'price': 1.25788,\n  'stop_price': 1.24838,\n  'limit_price': 1.2652800000000002},\n {'_id': ObjectId('5e6abef6a22e882f5900cc8f'),\n  'order_type': 'buy',\n  'stop': 76,\n  'limit': 87,\n  'price': 1.25788,\n  'stop_price': 1.25028,\n  'limit_price': 1.26658},\n {'_id': ObjectId('5e6abef6a22e882f5900cc90'),\n  'order_type': 'buy',\n  'stop': 14,\n  'limit': 63,\n  'price': 1.25788,\n  'stop_price': 1.25648,\n  'limit_price': 1.26418},\n {'_id': ObjectId('5e6abef6a22e882f5900cc91'),\n  'order_type': 'sell',\n  'stop': 54,\n  'limit': 82,\n  'price': 1.25688,\n  'stop_price': 1.26228,\n  'limit_price': 1.24868},\n {'_id': ObjectId('5e6abef6a22e882f5900cc92'),\n  'order_type': 'sell',\n  'stop': 59,\n  'limit': 90,\n  'price': 1.25698,\n  'stop_price': 1.26288,\n  'limit_price': 1.24798},\n {'_id': ObjectId('5e6abef6a22e882f5900cc93'),\n  'order_type': 'buy',\n  'stop': 83,\n  'limit': 59,\n  'price': 1.25798,\n  'stop_price': 1.2496800000000001,\n  'limit_price': 1.2638800000000001},\n {'_id': ObjectId('5e6abef6a22e882f5900cc94'),\n  'order_type': 'buy',\n  'stop': 62,\n  'limit': 27,\n  'price': 1.25798,\n  'stop_price': 1.2517800000000001,\n  'limit_price': 1.26068},\n {'_id': ObjectId('5e6abef6a22e882f5900cc95'),\n  'order_type': 'sell',\n  'stop': 92,\n  'limit': 78,\n  'price': 1.25698,\n  'stop_price': 1.26618,\n  'limit_price': 1.24918},\n {'_id': ObjectId('5e6abef6a22e882f5900cc96'),\n  'order_type': 'sell',\n  'stop': 16,\n  'limit': 89,\n  'price': 1.25698,\n  'stop_price': 1.25858,\n  'limit_price': 1.24808},\n {'_id': ObjectId('5e6abef6a22e882f5900cc97'),\n  'order_type': 'sell',\n  'stop': 21,\n  'limit': 69,\n  'price': 1.25698,\n  'stop_price': 1.25908,\n  'limit_price': 1.25008},\n {'_id': ObjectId('5e6abef6a22e882f5900cc98'),\n  'order_type': 'sell',\n  'stop': 53,\n  'limit': 20,\n  'price': 1.25698,\n  'stop_price': 1.26228,\n  'limit_price': 1.25498},\n {'_id': ObjectId('5e6abef6a22e882f5900cc99'),\n  'order_type': 'sell',\n  'stop': 44,\n  'limit': 4,\n  'price': 1.25698,\n  'stop_price': 1.26138,\n  'limit_price': 1.25658},\n {'_id': ObjectId('5e6abef6a22e882f5900cc9a'),\n  'order_type': 'buy',\n  'stop': 85,\n  'limit': 5,\n  'price': 1.25798,\n  'stop_price': 1.2494800000000001,\n  'limit_price': 1.25848},\n {'_id': ObjectId('5e6abef6a22e882f5900cc9b'),\n  'order_type': 'sell',\n  'stop': 65,\n  'limit': 73,\n  'price': 1.25698,\n  'stop_price': 1.26348,\n  'limit_price': 1.24968},\n {'_id': ObjectId('5e6abef6a22e882f5900cc9c'),\n  'order_type': 'sell',\n  'stop': 51,\n  'limit': 72,\n  'price': 1.25701,\n  'stop_price': 1.26211,\n  'limit_price': 1.2498099999999999},\n {'_id': ObjectId('5e6abef6a22e882f5900cc9d'),\n  'order_type': 'buy',\n  'stop': 61,\n  'limit': 70,\n  'price': 1.25801,\n  'stop_price': 1.25191,\n  'limit_price': 1.26501},\n {'_id': ObjectId('5e6abef6a22e882f5900cc9e'),\n  'order_type': 'buy',\n  'stop': 12,\n  'limit': 72,\n  'price': 1.25801,\n  'stop_price': 1.25681,\n  'limit_price': 1.2652100000000002},\n {'_id': ObjectId('5e6abef6a22e882f5900cc9f'),\n  'order_type': 'sell',\n  'stop': 15,\n  'limit': 21,\n  'price': 1.25701,\n  'stop_price': 1.25851,\n  'limit_price': 1.25491},\n {'_id': ObjectId('5e6abef6a22e882f5900cca0'),\n  'order_type': 'sell',\n  'stop': 31,\n  'limit': 53,\n  'price': 1.25701,\n  'stop_price': 1.26011,\n  'limit_price': 1.2517099999999999},\n {'_id': ObjectId('5e6abef6a22e882f5900cca1'),\n  'order_type': 'sell',\n  'stop': 81,\n  'limit': 43,\n  'price': 1.25701,\n  'stop_price': 1.26511,\n  'limit_price': 1.25271},\n {'_id': ObjectId('5e6abef6a22e882f5900cca2'),\n  'order_type': 'buy',\n  'stop': 30,\n  'limit': 29,\n  'price': 1.25801,\n  'stop_price': 1.2550100000000002,\n  'limit_price': 1.26091},\n {'_id': ObjectId('5e6abef6a22e882f5900cca3'),\n  'order_type': 'buy',\n  'stop': 81,\n  'limit': 99,\n  'price': 1.25801,\n  'stop_price': 1.24991,\n  'limit_price': 1.26791},\n {'_id': ObjectId('5e6abef6a22e882f5900cca4'),\n  'order_type': 'sell',\n  'stop': 29,\n  'limit': 73,\n  'price': 1.25701,\n  'stop_price': 1.2599099999999999,\n  'limit_price': 1.2497099999999999},\n {'_id': ObjectId('5e6abef6a22e882f5900cca5'),\n  'order_type': 'buy',\n  'stop': 39,\n  'limit': 7,\n  'price': 1.25801,\n  'stop_price': 1.25411,\n  'limit_price': 1.25871},\n {'_id': ObjectId('5e6abef7a22e882f5900cca6'),\n  'order_type': 'sell',\n  'stop': 26,\n  'limit': 69,\n  'price': 1.25693,\n  'stop_price': 1.25953,\n  'limit_price': 1.2500300000000002},\n {'_id': ObjectId('5e6abef7a22e882f5900cca7'),\n  'order_type': 'sell',\n  'stop': 86,\n  'limit': 88,\n  'price': 1.25693,\n  'stop_price': 1.26553,\n  'limit_price': 1.2481300000000002},\n {'_id': ObjectId('5e6abef7a22e882f5900cca8'),\n  'order_type': 'sell',\n  'stop': 29,\n  'limit': 47,\n  'price': 1.25693,\n  'stop_price': 1.25983,\n  'limit_price': 1.2522300000000002},\n {'_id': ObjectId('5e6abef7a22e882f5900cca9'),\n  'order_type': 'buy',\n  'stop': 35,\n  'limit': 88,\n  'price': 1.25793,\n  'stop_price': 1.25443,\n  'limit_price': 1.26673},\n {'_id': ObjectId('5e6abef7a22e882f5900ccaa'),\n  'order_type': 'sell',\n  'stop': 24,\n  'limit': 65,\n  'price': 1.25693,\n  'stop_price': 1.25933,\n  'limit_price': 1.2504300000000002},\n {'_id': ObjectId('5e6abef7a22e882f5900ccab'),\n  'order_type': 'buy',\n  'stop': 38,\n  'limit': 75,\n  'price': 1.25793,\n  'stop_price': 1.25413,\n  'limit_price': 1.26543},\n {'_id': ObjectId('5e6abef7a22e882f5900ccac'),\n  'order_type': 'sell',\n  'stop': 34,\n  'limit': 30,\n  'price': 1.25693,\n  'stop_price': 1.2603300000000002,\n  'limit_price': 1.2539300000000002},\n {'_id': ObjectId('5e6abef7a22e882f5900ccad'),\n  'order_type': 'buy',\n  'stop': 7,\n  'limit': 84,\n  'price': 1.25793,\n  'stop_price': 1.25723,\n  'limit_price': 1.26633},\n {'_id': ObjectId('5e6abef7a22e882f5900ccae'),\n  'order_type': 'buy',\n  'stop': 82,\n  'limit': 95,\n  'price': 1.25793,\n  'stop_price': 1.24973,\n  'limit_price': 1.26743},\n {'_id': ObjectId('5e6abef7a22e882f5900ccaf'),\n  'order_type': 'sell',\n  'stop': 21,\n  'limit': 73,\n  'price': 1.25693,\n  'stop_price': 1.25903,\n  'limit_price': 1.24963},\n {'_id': ObjectId('5e6abef7a22e882f5900ccb0'),\n  'order_type': 'sell',\n  'stop': 59,\n  'limit': 77,\n  'price': 1.25708,\n  'stop_price': 1.26298,\n  'limit_price': 1.24938},\n {'_id': ObjectId('5e6abef7a22e882f5900ccb1'),\n  'order_type': 'buy',\n  'stop': 95,\n  'limit': 79,\n  'price': 1.25808,\n  'stop_price': 1.24858,\n  'limit_price': 1.26598},\n {'_id': ObjectId('5e6abef7a22e882f5900ccb2'),\n  'order_type': 'sell',\n  'stop': 61,\n  'limit': 94,\n  'price': 1.25708,\n  'stop_price': 1.26318,\n  'limit_price': 1.24768},\n {'_id': ObjectId('5e6abef7a22e882f5900ccb3'),\n  'order_type': 'buy',\n  'stop': 84,\n  'limit': 40,\n  'price': 1.25808,\n  'stop_price': 1.2496800000000001,\n  'limit_price': 1.26208},\n {'_id': ObjectId('5e6abef7a22e882f5900ccb4'),\n  'order_type': 'buy',\n  'stop': 25,\n  'limit': 57,\n  'price': 1.25808,\n  'stop_price': 1.2555800000000001,\n  'limit_price': 1.2637800000000001},\n {'_id': ObjectId('5e6abef7a22e882f5900ccb5'),\n  'order_type': 'buy',\n  'stop': 36,\n  'limit': 57,\n  'price': 1.25808,\n  'stop_price': 1.25448,\n  'limit_price': 1.2637800000000001},\n {'_id': ObjectId('5e6abef7a22e882f5900ccb6'),\n  'order_type': 'sell',\n  'stop': 58,\n  'limit': 91,\n  'price': 1.25708,\n  'stop_price': 1.26288,\n  'limit_price': 1.2479799999999999},\n {'_id': ObjectId('5e6abef7a22e882f5900ccb7'),\n  'order_type': 'sell',\n  'stop': 47,\n  'limit': 8,\n  'price': 1.25708,\n  'stop_price': 1.26178,\n  'limit_price': 1.25628},\n {'_id': ObjectId('5e6abef7a22e882f5900ccb8'),\n  'order_type': 'sell',\n  'stop': 45,\n  'limit': 1,\n  'price': 1.25708,\n  'stop_price': 1.26158,\n  'limit_price': 1.25698},\n {'_id': ObjectId('5e6abef7a22e882f5900ccb9'),\n  'order_type': 'sell',\n  'stop': 58,\n  'limit': 1,\n  'price': 1.25708,\n  'stop_price': 1.26288,\n  'limit_price': 1.25698},\n {'_id': ObjectId('5e6abef7a22e882f5900ccba'),\n  'order_type': 'sell',\n  'stop': 74,\n  'limit': 21,\n  'price': 1.25689,\n  'stop_price': 1.2642900000000001,\n  'limit_price': 1.25479},\n {'_id': ObjectId('5e6abef7a22e882f5900ccbb'),\n  'order_type': 'sell',\n  'stop': 58,\n  'limit': 19,\n  'price': 1.25689,\n  'stop_price': 1.26269,\n  'limit_price': 1.25499},\n {'_id': ObjectId('5e6abef7a22e882f5900ccbc'),\n  'order_type': 'buy',\n  'stop': 41,\n  'limit': 4,\n  'price': 1.25789,\n  'stop_price': 1.25379,\n  'limit_price': 1.25829},\n {'_id': ObjectId('5e6abef7a22e882f5900ccbd'),\n  'order_type': 'sell',\n  'stop': 25,\n  'limit': 53,\n  'price': 1.25689,\n  'stop_price': 1.25939,\n  'limit_price': 1.25159},\n {'_id': ObjectId('5e6abef7a22e882f5900ccbe'),\n  'order_type': 'sell',\n  'stop': 61,\n  'limit': 72,\n  'price': 1.25689,\n  'stop_price': 1.26299,\n  'limit_price': 1.24969},\n {'_id': ObjectId('5e6abef7a22e882f5900ccbf'),\n  'order_type': 'buy',\n  'stop': 59,\n  'limit': 67,\n  'price': 1.25789,\n  'stop_price': 1.25199,\n  'limit_price': 1.2645899999999999},\n {'_id': ObjectId('5e6abef7a22e882f5900ccc1'),\n  'order_type': 'buy',\n  'stop': 47,\n  'limit': 62,\n  'price': 1.25789,\n  'stop_price': 1.25319,\n  'limit_price': 1.26409},\n {'_id': ObjectId('5e6abef7a22e882f5900ccc2'),\n  'order_type': 'buy',\n  'stop': 80,\n  'limit': 20,\n  'price': 1.25789,\n  'stop_price': 1.24989,\n  'limit_price': 1.25989},\n {'_id': ObjectId('5e6abef7a22e882f5900ccc3'),\n  'order_type': 'sell',\n  'stop': 22,\n  'limit': 45,\n  'price': 1.25689,\n  'stop_price': 1.25909,\n  'limit_price': 1.2523900000000001},\n {'_id': ObjectId('5e6abef7a22e882f5900ccc4'),\n  'order_type': 'sell',\n  'stop': 60,\n  'limit': 19,\n  'price': 1.25705,\n  'stop_price': 1.26305,\n  'limit_price': 1.25515},\n {'_id': ObjectId('5e6abef7a22e882f5900ccc5'),\n  'order_type': 'buy',\n  'stop': 10,\n  'limit': 81,\n  'price': 1.25805,\n  'stop_price': 1.25705,\n  'limit_price': 1.2661499999999999},\n {'_id': ObjectId('5e6abef7a22e882f5900ccc6'),\n  'order_type': 'sell',\n  'stop': 34,\n  'limit': 9,\n  'price': 1.25705,\n  'stop_price': 1.26045,\n  'limit_price': 1.25615},\n {'_id': ObjectId('5e6abef7a22e882f5900ccc7'),\n  'order_type': 'buy',\n  'stop': 37,\n  'limit': 72,\n  'price': 1.25805,\n  'stop_price': 1.2543499999999999,\n  'limit_price': 1.26525},\n {'_id': ObjectId('5e6abef7a22e882f5900ccc8'),\n  'order_type': 'sell',\n  'stop': 52,\n  'limit': 57,\n  'price': 1.25705,\n  'stop_price': 1.26225,\n  'limit_price': 1.25135},\n {'_id': ObjectId('5e6abef7a22e882f5900ccc9'),\n  'order_type': 'sell',\n  'stop': 16,\n  'limit': 54,\n  'price': 1.25705,\n  'stop_price': 1.25865,\n  'limit_price': 1.25165},\n {'_id': ObjectId('5e6abef7a22e882f5900ccca'),\n  'order_type': 'buy',\n  'stop': 59,\n  'limit': 49,\n  'price': 1.25805,\n  'stop_price': 1.2521499999999999,\n  'limit_price': 1.2629499999999998},\n {'_id': ObjectId('5e6abef7a22e882f5900cccb'),\n  'order_type': 'sell',\n  'stop': 8,\n  'limit': 10,\n  'price': 1.25705,\n  'stop_price': 1.25785,\n  'limit_price': 1.25605},\n {'_id': ObjectId('5e6abef7a22e882f5900cccc'),\n  'order_type': 'sell',\n  'stop': 76,\n  'limit': 92,\n  'price': 1.25705,\n  'stop_price': 1.26465,\n  'limit_price': 1.24785},\n {'_id': ObjectId('5e6abef7a22e882f5900cccd'),\n  'order_type': 'buy',\n  'stop': 29,\n  'limit': 47,\n  'price': 1.25805,\n  'stop_price': 1.25515,\n  'limit_price': 1.2627499999999998},\n {'_id': ObjectId('5e6abef7a22e882f5900ccce'),\n  'order_type': 'sell',\n  'stop': 26,\n  'limit': 72,\n  'price': 1.25691,\n  'stop_price': 1.25951,\n  'limit_price': 1.2497099999999999},\n {'_id': ObjectId('5e6abef7a22e882f5900cccf'),\n  'order_type': 'buy',\n  'stop': 48,\n  'limit': 93,\n  'price': 1.25791,\n  'stop_price': 1.2531100000000002,\n  'limit_price': 1.2672100000000002}]"
     },
     "execution_count": 3,
     "metadata": {},
     "output_type": "execute_result"
    }
   ],
   "source": [
    "list(orders.find({}).limit(100))"
   ]
  },
  {
   "cell_type": "code",
   "execution_count": 13,
   "metadata": {},
   "outputs": [
    {
     "data": {
      "text/plain": "'20-03-13'"
     },
     "execution_count": 13,
     "metadata": {},
     "output_type": "execute_result"
    }
   ],
   "source": [
    "from datetime import datetime as dt\n",
    "dt.today().strftime(\"%y-%m-%d\")"
   ]
  },
  {
   "cell_type": "code",
   "execution_count": 14,
   "metadata": {},
   "outputs": [
    {
     "data": {
      "text/plain": "2"
     },
     "execution_count": 14,
     "metadata": {},
     "output_type": "execute_result"
    }
   ],
   "source": [
    "d = {\"key1\": 10, \"key2\": 23}\n",
    "len(d)"
   ]
  },
  {
   "cell_type": "code",
   "execution_count": 17,
   "metadata": {},
   "outputs": [
    {
     "data": {
      "text/plain": "1584097525.73975"
     },
     "execution_count": 17,
     "metadata": {},
     "output_type": "execute_result"
    }
   ],
   "source": [
    "dt.now().timestamp()"
   ]
  },
  {
   "cell_type": "code",
   "execution_count": null,
   "metadata": {},
   "outputs": [],
   "source": []
  }
 ]
}