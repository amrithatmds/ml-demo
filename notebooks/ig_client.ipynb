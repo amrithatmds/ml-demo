{
 "cells": [
  {
   "cell_type": "code",
   "execution_count": 1,
   "metadata": {},
   "outputs": [
    {
     "name": "stdout",
     "output_type": "stream",
     "text": [
      "Overwriting ig_client.py\n"
     ]
    }
   ],
   "source": [
    "%%writefile ig_client.py\n",
    "\n",
    "import requests\n",
    "import json\n"
   ]
  },
  {
   "cell_type": "code",
   "execution_count": 2,
   "metadata": {},
   "outputs": [],
   "source": [
    "from IPython.core.display import display, HTML"
   ]
  },
  {
   "cell_type": "markdown",
   "metadata": {},
   "source": [
    "## Creating IG Class"
   ]
  },
  {
   "cell_type": "code",
   "execution_count": 3,
   "metadata": {},
   "outputs": [
    {
     "name": "stdout",
     "output_type": "stream",
     "text": [
      "Appending to ig_client.py\n"
     ]
    }
   ],
   "source": [
    "%%writefile -a ig_client.py\n",
    "\n",
    "# Creating IGClient class\n",
    "\n",
    "class IGClient:\n",
    "    def __init__(self,base_url,identifier,ig_password,ig_api_key):\n",
    "        self.base_url=base_url\n",
    "        self.identifier=identifier\n",
    "        self.password=ig_password\n",
    "        self.api_key=ig_api_key\n",
    "        pass"
   ]
  },
  {
   "cell_type": "markdown",
   "metadata": {},
   "source": [
    "## `login` method"
   ]
  },
  {
   "cell_type": "code",
   "execution_count": 4,
   "metadata": {},
   "outputs": [
    {
     "name": "stdout",
     "output_type": "stream",
     "text": [
      "Appending to ig_client.py\n"
     ]
    }
   ],
   "source": [
    "%%writefile -a ig_client.py\n",
    "\n",
    "def login(self):\n",
    "\n",
    "    data={\n",
    "        \"identifier\":self.identifier,\n",
    "        \"password\":self.password\n",
    "    }\n",
    "    \n",
    "    headers={\n",
    "        \"Content-Type\":\"application/json\",\n",
    "        \"X-IG-API-KEY\":self.api_key,\n",
    "        \"Version\":\"2\"\n",
    "    }\n",
    "    \n",
    "    r = requests.post(self.base_url+'/session',\n",
    "        headers=headers,\n",
    "        data=json.dumps(data))\n",
    "    \n",
    "    if r.status_code==200:\n",
    "        self.CST=r.headers['CST']\n",
    "        self.X_SECURITY_TOKEN=r.headers['X-SECURITY-TOKEN']\n",
    "    \n",
    "    return\n",
    "\n",
    "IGClient.login=login\n"
   ]
  },
  {
   "cell_type": "markdown",
   "metadata": {},
   "source": [
    "## `get_session_info` method"
   ]
  },
  {
   "cell_type": "code",
   "execution_count": 5,
   "metadata": {},
   "outputs": [
    {
     "name": "stdout",
     "output_type": "stream",
     "text": [
      "Appending to ig_client.py\n"
     ]
    }
   ],
   "source": [
    "%%writefile -a ig_client.py\n",
    "\n",
    "def get_session_info(self):\n",
    "    headers={\n",
    "        \"Content-Type\":\"application/json\",\n",
    "        \"X-IG-API-KEY\":self.api_key,\n",
    "        \"CST\":self.CST,\n",
    "        \"X-SECURITY-TOKEN\":self.X_SECURITY_TOKEN,\n",
    "        \"Version\":\"1\"\n",
    "    }\n",
    "    \n",
    "    r = requests.get(self.base_url+'/session',\n",
    "        headers=headers)\n",
    "        \n",
    "    return r.json()\n",
    "\n",
    "IGClient.get_session_info=get_session_info"
   ]
  },
  {
   "cell_type": "markdown",
   "metadata": {},
   "source": [
    "# Testing"
   ]
  },
  {
   "cell_type": "code",
   "execution_count": 6,
   "metadata": {},
   "outputs": [],
   "source": [
    "from config import IDENTIFIER\n",
    "from config import IG_BASE_URL"
   ]
  },
  {
   "cell_type": "code",
   "execution_count": 7,
   "metadata": {},
   "outputs": [
    {
     "data": {
      "text/plain": [
       "{'ig_password': 'ABCabc123',\n",
       " 'ig_api_key': '926a298bff0f23aac7c196be864a834c4409eb4d'}"
      ]
     },
     "execution_count": 7,
     "metadata": {},
     "output_type": "execute_result"
    }
   ],
   "source": [
    "from secret_manager import SecretManager\n",
    "sm=SecretManager()\n",
    "sm.get_secret()\n",
    "sm.secret"
   ]
  },
  {
   "cell_type": "code",
   "execution_count": 8,
   "metadata": {},
   "outputs": [],
   "source": [
    "from ig_client import IGClient\n",
    "ig=IGClient(IG_BASE_URL,IDENTIFIER,sm.secret['ig_password'],sm.secret['ig_api_key'])"
   ]
  },
  {
   "cell_type": "code",
   "execution_count": 9,
   "metadata": {},
   "outputs": [
    {
     "data": {
      "text/plain": [
       "'a76ced6f9da8c7bd98448dcb2cb7fe1c361b032697ae0910907632ef05464d9d01111'"
      ]
     },
     "execution_count": 9,
     "metadata": {},
     "output_type": "execute_result"
    }
   ],
   "source": [
    "ig.login()\n",
    "ig.CST"
   ]
  },
  {
   "cell_type": "code",
   "execution_count": 10,
   "metadata": {},
   "outputs": [
    {
     "data": {
      "text/plain": [
       "{'clientId': '101811698',\n",
       " 'accountId': 'Z3071N',\n",
       " 'timezoneOffset': 0,\n",
       " 'locale': 'en_GB',\n",
       " 'currency': 'GBP',\n",
       " 'lightstreamerEndpoint': 'https://demo-apd.marketdatasystems.com'}"
      ]
     },
     "execution_count": 10,
     "metadata": {},
     "output_type": "execute_result"
    }
   ],
   "source": [
    "ig.get_session_info()"
   ]
  },
  {
   "cell_type": "code",
   "execution_count": null,
   "metadata": {},
   "outputs": [],
   "source": []
  }
 ],
 "metadata": {
  "kernelspec": {
   "display_name": "conda_python3",
   "language": "python",
   "name": "conda_python3"
  },
  "language_info": {
   "codemirror_mode": {
    "name": "ipython",
    "version": 3
   },
   "file_extension": ".py",
   "mimetype": "text/x-python",
   "name": "python",
   "nbconvert_exporter": "python",
   "pygments_lexer": "ipython3",
   "version": "3.6.5"
  }
 },
 "nbformat": 4,
 "nbformat_minor": 4
}
