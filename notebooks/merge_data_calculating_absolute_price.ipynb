{
 "cells": [
  {
   "cell_type": "code",
   "execution_count": null,
   "metadata": {},
   "outputs": [],
   "source": [
    "!pip install s3fs\n",
    "!pip install sagemaker"
   ]
  },
  {
   "cell_type": "code",
   "execution_count": null,
   "metadata": {},
   "outputs": [],
   "source": [
    "BUCKET='ml-lab-pyspark'\n",
    "!export AWS_PROFILE=ml-lab"
   ]
  },
  {
   "cell_type": "code",
   "execution_count": null,
   "metadata": {},
   "outputs": [],
   "source": [
    "import pandas as pd\n",
    "import numpy as np\n",
    "from datetime import datetime as dt"
   ]
  },
  {
   "cell_type": "code",
   "execution_count": null,
   "metadata": {},
   "outputs": [],
   "source": [
    "deals=pd.read_csv('../data/deals_replay.csv',\n",
    "    header=None,\n",
    "    names=[\"timestamp\",\"deal_type\",\"order_type\",\"stop\",\"limit\",\"price\",\"stop_price\",\"limit_price\",\"loss_or_profit\"],\n",
    "    dtype={\n",
    "        \"timestamp\":str\n",
    "    }\n",
    ")"
   ]
  },
  {
   "cell_type": "markdown",
   "execution_count": null,
   "metadata": {},
   "outputs": [],
   "source": [
    "## All orders sorted by timestamp"
   ]
  },
  {
   "cell_type": "code",
   "execution_count": null,
   "metadata": {},
   "outputs": [],
   "source": [
    "deals.sort_values(by=\"timestamp\")"
   ]
  },
  {
   "cell_type": "markdown",
   "execution_count": null,
   "metadata": {},
   "outputs": [],
   "source": [
    "### All `buy` type orders where the stop/limit was 10"
   ]
  },
  {
   "cell_type": "code",
   "execution_count": null,
   "metadata": {},
   "outputs": [],
   "source": [
    "qualified_deals=deals.query('order_type==\"buy\" & stop==10')\n",
    "qualified_deals"
   ]
  },
  {
   "cell_type": "code",
   "execution_count": null,
   "metadata": {},
   "outputs": [],
   "source": [
    "qualified_deals.describe()"
   ]
  },
  {
   "cell_type": "markdown",
   "execution_count": null,
   "metadata": {},
   "outputs": [],
   "source": [
    "Among above orders, below have made a profit. We want to predict these orders:"
   ]
  },
  {
   "cell_type": "code",
   "execution_count": null,
   "metadata": {},
   "outputs": [],
   "source": [
    "len(qualified_deals.query('deal_type==\"limit\"'))"
   ]
  },
  {
   "cell_type": "code",
   "execution_count": null,
   "metadata": {},
   "outputs": [],
   "source": [
    "price=pd.read_csv('../data/price.csv',\n",
    "    header=None,\n",
    "    names=[\"datetime\",\"timestamp\",\"MID_OPEN\",\"BID\",\"OFFER\",\"CHANGE\",\"CHANGE_PCT\",\"HIGH\",\"LOW\"],\n",
    "    dtype={\n",
    "        \"timestamp\":str,\n",
    "        \"datetime\":str\n",
    "    }\n",
    ")"
   ]
  },
  {
   "cell_type": "code",
   "execution_count": null,
   "metadata": {},
   "outputs": [],
   "source": [
    "price.sort_values(by=\"timestamp\")"
   ]
  },
  {
   "cell_type": "code",
   "execution_count": null,
   "metadata": {},
   "outputs": [],
   "source": [
    "deals_with_price=pd.merge(qualified_deals, price,how=\"left\",on=\"timestamp\",sort=True)\n",
    "deals_with_price['MID']=(deals_with_price['BID']+deals_with_price['OFFER'])/2\n",
    "deals_with_price"
   ]
  },
  {
   "cell_type": "code",
   "execution_count": null,
   "metadata": {},
   "outputs": [],
   "source": [
    "_format='%y-%m-%d %H:%M:%S'\n",
    "\n",
    "def datetime_to_int(x):\n",
    "    return int(dt.strptime(x,_format).timestamp())\n",
    "\n",
    "datetime_to_int('20-03-13 11:47:24')"
   ]
  },
  {
   "cell_type": "code",
   "execution_count": null,
   "metadata": {},
   "outputs": [],
   "source": [
    "from datetime import datetime as dt\n",
    "deals_with_price['datetime_int']=deals_with_price['datetime'].apply(datetime_to_int)\n",
    "deals_with_price"
   ]
  },
  {
   "cell_type": "code",
   "execution_count": null,
   "metadata": {},
   "outputs": [],
   "source": [
    "mean_price_each_second=deals_with_price[['datetime','BID','OFFER']].groupby('datetime').mean().reset_index()\n",
    "mean_price_each_second['datetime_int']=mean_price_each_second['datetime'].apply(datetime_to_int)\n",
    "mean_price_each_second['MID']=(mean_price_each_second['BID']+mean_price_each_second['OFFER'])/2\n",
    "mean_price_each_second"
   ]
  },
  {
   "cell_type": "code",
   "execution_count": null,
   "metadata": {},
   "outputs": [],
   "source": [
    "df=pd.DataFrame()\n",
    "historical_data_points=600\n",
    "for i,row in deals_with_price.iterrows():\n",
    "    values=np.full(historical_data_points,np.nan)\n",
    "    _timestamp=row['datetime_int']\n",
    "    prices=mean_price_each_second[['datetime_int','MID']].query('datetime_int<%s' % _timestamp).tail(historical_data_points)['MID']\n",
    "    values[0:len(prices)]=prices.values\n",
    "    value_series=pd.Series(values)\n",
    "    df.insert(loc=i,column=str(row['timestamp']),value=values)\n",
    "df.transpose()"
   ]
  },
  {
   "cell_type": "code",
   "execution_count": null,
   "metadata": {},
   "outputs": [],
   "source": [
    "all_data_absolute=deals_with_price[['timestamp','BID','OFFER','MID_OPEN','HIGH','LOW']].merge(df.transpose(),left_on='timestamp',right_index=True)\n",
    "all_data_absolute"
   ]
  },
  {
   "cell_type": "code",
   "execution_count": null,
   "metadata": {},
   "outputs": [],
   "source": [
    "all_data_absolute.drop('timestamp',axis=1,inplace=True)"
   ]
  },
  {
   "cell_type": "code",
   "execution_count": 253,
   "metadata": {},
   "outputs": [
    {
     "data": {
      "text/html": "<div>\n<style scoped>\n    .dataframe tbody tr th:only-of-type {\n        vertical-align: middle;\n    }\n\n    .dataframe tbody tr th {\n        vertical-align: top;\n    }\n\n    .dataframe thead th {\n        text-align: right;\n    }\n</style>\n<table border=\"1\" class=\"dataframe\">\n  <thead>\n    <tr style=\"text-align: right;\">\n      <th></th>\n      <th>BID</th>\n      <th>OFFER</th>\n      <th>MID_OPEN</th>\n      <th>HIGH</th>\n      <th>LOW</th>\n      <th>0</th>\n      <th>1</th>\n      <th>2</th>\n      <th>3</th>\n      <th>4</th>\n      <th>...</th>\n      <th>590</th>\n      <th>591</th>\n      <th>592</th>\n      <th>593</th>\n      <th>594</th>\n      <th>595</th>\n      <th>596</th>\n      <th>597</th>\n      <th>598</th>\n      <th>599</th>\n    </tr>\n  </thead>\n  <tbody>\n    <tr>\n      <th>0</th>\n      <td>1.25176</td>\n      <td>1.25193</td>\n      <td>1.25699</td>\n      <td>1.26256</td>\n      <td>1.25052</td>\n      <td>1.251845</td>\n      <td>1.251895</td>\n      <td>1.251923</td>\n      <td>1.251871</td>\n      <td>1.251793</td>\n      <td>...</td>\n      <td>1.251036</td>\n      <td>1.251046</td>\n      <td>1.251061</td>\n      <td>1.251081</td>\n      <td>1.251231</td>\n      <td>1.251271</td>\n      <td>1.251271</td>\n      <td>1.251262</td>\n      <td>1.251262</td>\n      <td>1.251355</td>\n    </tr>\n    <tr>\n      <th>1</th>\n      <td>1.25177</td>\n      <td>1.25194</td>\n      <td>1.25699</td>\n      <td>1.26256</td>\n      <td>1.25052</td>\n      <td>1.251845</td>\n      <td>1.251895</td>\n      <td>1.251923</td>\n      <td>1.251871</td>\n      <td>1.251793</td>\n      <td>...</td>\n      <td>1.251036</td>\n      <td>1.251046</td>\n      <td>1.251061</td>\n      <td>1.251081</td>\n      <td>1.251231</td>\n      <td>1.251271</td>\n      <td>1.251271</td>\n      <td>1.251262</td>\n      <td>1.251262</td>\n      <td>1.251355</td>\n    </tr>\n    <tr>\n      <th>2</th>\n      <td>1.25180</td>\n      <td>1.25200</td>\n      <td>1.25699</td>\n      <td>1.26256</td>\n      <td>1.25052</td>\n      <td>1.251845</td>\n      <td>1.251895</td>\n      <td>1.251923</td>\n      <td>1.251871</td>\n      <td>1.251793</td>\n      <td>...</td>\n      <td>1.251036</td>\n      <td>1.251046</td>\n      <td>1.251061</td>\n      <td>1.251081</td>\n      <td>1.251231</td>\n      <td>1.251271</td>\n      <td>1.251271</td>\n      <td>1.251262</td>\n      <td>1.251262</td>\n      <td>1.251355</td>\n    </tr>\n    <tr>\n      <th>3</th>\n      <td>1.25184</td>\n      <td>1.25202</td>\n      <td>1.25699</td>\n      <td>1.26256</td>\n      <td>1.25052</td>\n      <td>1.251845</td>\n      <td>1.251895</td>\n      <td>1.251923</td>\n      <td>1.251871</td>\n      <td>1.251793</td>\n      <td>...</td>\n      <td>1.251036</td>\n      <td>1.251046</td>\n      <td>1.251061</td>\n      <td>1.251081</td>\n      <td>1.251231</td>\n      <td>1.251271</td>\n      <td>1.251271</td>\n      <td>1.251262</td>\n      <td>1.251262</td>\n      <td>1.251355</td>\n    </tr>\n    <tr>\n      <th>4</th>\n      <td>1.25182</td>\n      <td>1.25202</td>\n      <td>1.25699</td>\n      <td>1.26256</td>\n      <td>1.25052</td>\n      <td>1.251845</td>\n      <td>1.251895</td>\n      <td>1.251923</td>\n      <td>1.251871</td>\n      <td>1.251793</td>\n      <td>...</td>\n      <td>1.251036</td>\n      <td>1.251046</td>\n      <td>1.251061</td>\n      <td>1.251081</td>\n      <td>1.251231</td>\n      <td>1.251271</td>\n      <td>1.251271</td>\n      <td>1.251262</td>\n      <td>1.251262</td>\n      <td>1.251355</td>\n    </tr>\n    <tr>\n      <th>...</th>\n      <td>...</td>\n      <td>...</td>\n      <td>...</td>\n      <td>...</td>\n      <td>...</td>\n      <td>...</td>\n      <td>...</td>\n      <td>...</td>\n      <td>...</td>\n      <td>...</td>\n      <td>...</td>\n      <td>...</td>\n      <td>...</td>\n      <td>...</td>\n      <td>...</td>\n      <td>...</td>\n      <td>...</td>\n      <td>...</td>\n      <td>...</td>\n      <td>...</td>\n      <td>...</td>\n    </tr>\n    <tr>\n      <th>7166</th>\n      <td>1.24964</td>\n      <td>1.24981</td>\n      <td>1.25699</td>\n      <td>1.26256</td>\n      <td>1.24884</td>\n      <td>1.252425</td>\n      <td>1.252413</td>\n      <td>1.252412</td>\n      <td>1.252416</td>\n      <td>1.252200</td>\n      <td>...</td>\n      <td>1.249884</td>\n      <td>1.249825</td>\n      <td>1.249830</td>\n      <td>1.249850</td>\n      <td>1.249835</td>\n      <td>1.249805</td>\n      <td>1.249739</td>\n      <td>1.249710</td>\n      <td>1.249701</td>\n      <td>1.249690</td>\n    </tr>\n    <tr>\n      <th>7167</th>\n      <td>1.24963</td>\n      <td>1.24980</td>\n      <td>1.25699</td>\n      <td>1.26256</td>\n      <td>1.24884</td>\n      <td>1.252425</td>\n      <td>1.252413</td>\n      <td>1.252412</td>\n      <td>1.252416</td>\n      <td>1.252200</td>\n      <td>...</td>\n      <td>1.249884</td>\n      <td>1.249825</td>\n      <td>1.249830</td>\n      <td>1.249850</td>\n      <td>1.249835</td>\n      <td>1.249805</td>\n      <td>1.249739</td>\n      <td>1.249710</td>\n      <td>1.249701</td>\n      <td>1.249690</td>\n    </tr>\n    <tr>\n      <th>7168</th>\n      <td>1.24964</td>\n      <td>1.24981</td>\n      <td>1.25699</td>\n      <td>1.26256</td>\n      <td>1.24884</td>\n      <td>1.252425</td>\n      <td>1.252413</td>\n      <td>1.252412</td>\n      <td>1.252416</td>\n      <td>1.252200</td>\n      <td>...</td>\n      <td>1.249884</td>\n      <td>1.249825</td>\n      <td>1.249830</td>\n      <td>1.249850</td>\n      <td>1.249835</td>\n      <td>1.249805</td>\n      <td>1.249739</td>\n      <td>1.249710</td>\n      <td>1.249701</td>\n      <td>1.249690</td>\n    </tr>\n    <tr>\n      <th>7169</th>\n      <td>1.24964</td>\n      <td>1.24981</td>\n      <td>1.25699</td>\n      <td>1.26256</td>\n      <td>1.24884</td>\n      <td>1.252425</td>\n      <td>1.252413</td>\n      <td>1.252412</td>\n      <td>1.252416</td>\n      <td>1.252200</td>\n      <td>...</td>\n      <td>1.249884</td>\n      <td>1.249825</td>\n      <td>1.249830</td>\n      <td>1.249850</td>\n      <td>1.249835</td>\n      <td>1.249805</td>\n      <td>1.249739</td>\n      <td>1.249710</td>\n      <td>1.249701</td>\n      <td>1.249690</td>\n    </tr>\n    <tr>\n      <th>7170</th>\n      <td>1.24964</td>\n      <td>1.24981</td>\n      <td>1.25699</td>\n      <td>1.26256</td>\n      <td>1.24884</td>\n      <td>1.252425</td>\n      <td>1.252413</td>\n      <td>1.252412</td>\n      <td>1.252416</td>\n      <td>1.252200</td>\n      <td>...</td>\n      <td>1.249884</td>\n      <td>1.249825</td>\n      <td>1.249830</td>\n      <td>1.249850</td>\n      <td>1.249835</td>\n      <td>1.249805</td>\n      <td>1.249739</td>\n      <td>1.249710</td>\n      <td>1.249701</td>\n      <td>1.249690</td>\n    </tr>\n  </tbody>\n</table>\n<p>7171 rows × 605 columns</p>\n</div>",
      "text/plain": "          BID    OFFER  MID_OPEN     HIGH      LOW         0         1  \\\n0     1.25176  1.25193   1.25699  1.26256  1.25052  1.251845  1.251895   \n1     1.25177  1.25194   1.25699  1.26256  1.25052  1.251845  1.251895   \n2     1.25180  1.25200   1.25699  1.26256  1.25052  1.251845  1.251895   \n3     1.25184  1.25202   1.25699  1.26256  1.25052  1.251845  1.251895   \n4     1.25182  1.25202   1.25699  1.26256  1.25052  1.251845  1.251895   \n...       ...      ...       ...      ...      ...       ...       ...   \n7166  1.24964  1.24981   1.25699  1.26256  1.24884  1.252425  1.252413   \n7167  1.24963  1.24980   1.25699  1.26256  1.24884  1.252425  1.252413   \n7168  1.24964  1.24981   1.25699  1.26256  1.24884  1.252425  1.252413   \n7169  1.24964  1.24981   1.25699  1.26256  1.24884  1.252425  1.252413   \n7170  1.24964  1.24981   1.25699  1.26256  1.24884  1.252425  1.252413   \n\n             2         3         4  ...       590       591       592  \\\n0     1.251923  1.251871  1.251793  ...  1.251036  1.251046  1.251061   \n1     1.251923  1.251871  1.251793  ...  1.251036  1.251046  1.251061   \n2     1.251923  1.251871  1.251793  ...  1.251036  1.251046  1.251061   \n3     1.251923  1.251871  1.251793  ...  1.251036  1.251046  1.251061   \n4     1.251923  1.251871  1.251793  ...  1.251036  1.251046  1.251061   \n...        ...       ...       ...  ...       ...       ...       ...   \n7166  1.252412  1.252416  1.252200  ...  1.249884  1.249825  1.249830   \n7167  1.252412  1.252416  1.252200  ...  1.249884  1.249825  1.249830   \n7168  1.252412  1.252416  1.252200  ...  1.249884  1.249825  1.249830   \n7169  1.252412  1.252416  1.252200  ...  1.249884  1.249825  1.249830   \n7170  1.252412  1.252416  1.252200  ...  1.249884  1.249825  1.249830   \n\n           593       594       595       596       597       598       599  \n0     1.251081  1.251231  1.251271  1.251271  1.251262  1.251262  1.251355  \n1     1.251081  1.251231  1.251271  1.251271  1.251262  1.251262  1.251355  \n2     1.251081  1.251231  1.251271  1.251271  1.251262  1.251262  1.251355  \n3     1.251081  1.251231  1.251271  1.251271  1.251262  1.251262  1.251355  \n4     1.251081  1.251231  1.251271  1.251271  1.251262  1.251262  1.251355  \n...        ...       ...       ...       ...       ...       ...       ...  \n7166  1.249850  1.249835  1.249805  1.249739  1.249710  1.249701  1.249690  \n7167  1.249850  1.249835  1.249805  1.249739  1.249710  1.249701  1.249690  \n7168  1.249850  1.249835  1.249805  1.249739  1.249710  1.249701  1.249690  \n7169  1.249850  1.249835  1.249805  1.249739  1.249710  1.249701  1.249690  \n7170  1.249850  1.249835  1.249805  1.249739  1.249710  1.249701  1.249690  \n\n[7171 rows x 605 columns]"
     },
     "execution_count": 253,
     "metadata": {},
     "output_type": "execute_result"
    }
   ],
   "source": [
    "all_data_absolute.fillna(method='backfill',inplace=True)\n",
    "all_data_absolute.fillna(method='pad',inplace=True)\n",
    "all_data_absolute"
   ]
  },
  {
   "cell_type": "code",
   "execution_count": 254,
   "metadata": {},
   "outputs": [
    {
     "data": {
      "text/plain": "0       1.251845\n1       1.251855\n2       1.251900\n3       1.251930\n4       1.251920\n          ...   \n7166    1.249725\n7167    1.249715\n7168    1.249725\n7169    1.249725\n7170    1.249725\nLength: 7171, dtype: float64"
     },
     "execution_count": 254,
     "metadata": {},
     "output_type": "execute_result"
    }
   ],
   "source": [
    "mid=(all_data_absolute['BID']+all_data_absolute['OFFER'])/2\n",
    "mid"
   ]
  },
  {
   "cell_type": "code",
   "execution_count": 255,
   "metadata": {},
   "outputs": [
    {
     "data": {
      "text/html": "<div>\n<style scoped>\n    .dataframe tbody tr th:only-of-type {\n        vertical-align: middle;\n    }\n\n    .dataframe tbody tr th {\n        vertical-align: top;\n    }\n\n    .dataframe thead th {\n        text-align: right;\n    }\n</style>\n<table border=\"1\" class=\"dataframe\">\n  <thead>\n    <tr style=\"text-align: right;\">\n      <th></th>\n      <th>BID</th>\n      <th>OFFER</th>\n      <th>MID_OPEN</th>\n      <th>HIGH</th>\n      <th>LOW</th>\n      <th>0</th>\n      <th>1</th>\n      <th>2</th>\n      <th>3</th>\n      <th>4</th>\n      <th>...</th>\n      <th>590</th>\n      <th>591</th>\n      <th>592</th>\n      <th>593</th>\n      <th>594</th>\n      <th>595</th>\n      <th>596</th>\n      <th>597</th>\n      <th>598</th>\n      <th>599</th>\n    </tr>\n  </thead>\n  <tbody>\n    <tr>\n      <th>0</th>\n      <td>-0.000085</td>\n      <td>0.000085</td>\n      <td>0.005145</td>\n      <td>0.010715</td>\n      <td>-0.001325</td>\n      <td>0.000000</td>\n      <td>0.000050</td>\n      <td>0.000078</td>\n      <td>0.000026</td>\n      <td>-0.000052</td>\n      <td>...</td>\n      <td>-0.000809</td>\n      <td>-0.000799</td>\n      <td>-0.000784</td>\n      <td>-0.000764</td>\n      <td>-0.000614</td>\n      <td>-0.000574</td>\n      <td>-0.000574</td>\n      <td>-0.000582</td>\n      <td>-0.000583</td>\n      <td>-0.000490</td>\n    </tr>\n    <tr>\n      <th>1</th>\n      <td>-0.000085</td>\n      <td>0.000085</td>\n      <td>0.005135</td>\n      <td>0.010705</td>\n      <td>-0.001335</td>\n      <td>-0.000010</td>\n      <td>0.000040</td>\n      <td>0.000068</td>\n      <td>0.000016</td>\n      <td>-0.000062</td>\n      <td>...</td>\n      <td>-0.000819</td>\n      <td>-0.000809</td>\n      <td>-0.000794</td>\n      <td>-0.000774</td>\n      <td>-0.000624</td>\n      <td>-0.000584</td>\n      <td>-0.000584</td>\n      <td>-0.000592</td>\n      <td>-0.000593</td>\n      <td>-0.000500</td>\n    </tr>\n    <tr>\n      <th>2</th>\n      <td>-0.000100</td>\n      <td>0.000100</td>\n      <td>0.005090</td>\n      <td>0.010660</td>\n      <td>-0.001380</td>\n      <td>-0.000055</td>\n      <td>-0.000005</td>\n      <td>0.000023</td>\n      <td>-0.000029</td>\n      <td>-0.000107</td>\n      <td>...</td>\n      <td>-0.000864</td>\n      <td>-0.000854</td>\n      <td>-0.000839</td>\n      <td>-0.000819</td>\n      <td>-0.000669</td>\n      <td>-0.000629</td>\n      <td>-0.000629</td>\n      <td>-0.000638</td>\n      <td>-0.000638</td>\n      <td>-0.000545</td>\n    </tr>\n    <tr>\n      <th>3</th>\n      <td>-0.000090</td>\n      <td>0.000090</td>\n      <td>0.005060</td>\n      <td>0.010630</td>\n      <td>-0.001410</td>\n      <td>-0.000085</td>\n      <td>-0.000035</td>\n      <td>-0.000008</td>\n      <td>-0.000059</td>\n      <td>-0.000137</td>\n      <td>...</td>\n      <td>-0.000894</td>\n      <td>-0.000884</td>\n      <td>-0.000869</td>\n      <td>-0.000849</td>\n      <td>-0.000699</td>\n      <td>-0.000659</td>\n      <td>-0.000659</td>\n      <td>-0.000668</td>\n      <td>-0.000668</td>\n      <td>-0.000575</td>\n    </tr>\n    <tr>\n      <th>4</th>\n      <td>-0.000100</td>\n      <td>0.000100</td>\n      <td>0.005070</td>\n      <td>0.010640</td>\n      <td>-0.001400</td>\n      <td>-0.000075</td>\n      <td>-0.000025</td>\n      <td>0.000002</td>\n      <td>-0.000049</td>\n      <td>-0.000127</td>\n      <td>...</td>\n      <td>-0.000884</td>\n      <td>-0.000874</td>\n      <td>-0.000859</td>\n      <td>-0.000839</td>\n      <td>-0.000689</td>\n      <td>-0.000649</td>\n      <td>-0.000649</td>\n      <td>-0.000658</td>\n      <td>-0.000658</td>\n      <td>-0.000565</td>\n    </tr>\n    <tr>\n      <th>...</th>\n      <td>...</td>\n      <td>...</td>\n      <td>...</td>\n      <td>...</td>\n      <td>...</td>\n      <td>...</td>\n      <td>...</td>\n      <td>...</td>\n      <td>...</td>\n      <td>...</td>\n      <td>...</td>\n      <td>...</td>\n      <td>...</td>\n      <td>...</td>\n      <td>...</td>\n      <td>...</td>\n      <td>...</td>\n      <td>...</td>\n      <td>...</td>\n      <td>...</td>\n      <td>...</td>\n    </tr>\n    <tr>\n      <th>7166</th>\n      <td>-0.000085</td>\n      <td>0.000085</td>\n      <td>0.007265</td>\n      <td>0.012835</td>\n      <td>-0.000885</td>\n      <td>0.002700</td>\n      <td>0.002688</td>\n      <td>0.002687</td>\n      <td>0.002691</td>\n      <td>0.002475</td>\n      <td>...</td>\n      <td>0.000159</td>\n      <td>0.000100</td>\n      <td>0.000105</td>\n      <td>0.000125</td>\n      <td>0.000110</td>\n      <td>0.000080</td>\n      <td>0.000014</td>\n      <td>-0.000015</td>\n      <td>-0.000024</td>\n      <td>-0.000035</td>\n    </tr>\n    <tr>\n      <th>7167</th>\n      <td>-0.000085</td>\n      <td>0.000085</td>\n      <td>0.007275</td>\n      <td>0.012845</td>\n      <td>-0.000875</td>\n      <td>0.002710</td>\n      <td>0.002698</td>\n      <td>0.002697</td>\n      <td>0.002701</td>\n      <td>0.002485</td>\n      <td>...</td>\n      <td>0.000169</td>\n      <td>0.000110</td>\n      <td>0.000115</td>\n      <td>0.000135</td>\n      <td>0.000120</td>\n      <td>0.000090</td>\n      <td>0.000024</td>\n      <td>-0.000005</td>\n      <td>-0.000014</td>\n      <td>-0.000025</td>\n    </tr>\n    <tr>\n      <th>7168</th>\n      <td>-0.000085</td>\n      <td>0.000085</td>\n      <td>0.007265</td>\n      <td>0.012835</td>\n      <td>-0.000885</td>\n      <td>0.002700</td>\n      <td>0.002688</td>\n      <td>0.002687</td>\n      <td>0.002691</td>\n      <td>0.002475</td>\n      <td>...</td>\n      <td>0.000159</td>\n      <td>0.000100</td>\n      <td>0.000105</td>\n      <td>0.000125</td>\n      <td>0.000110</td>\n      <td>0.000080</td>\n      <td>0.000014</td>\n      <td>-0.000015</td>\n      <td>-0.000024</td>\n      <td>-0.000035</td>\n    </tr>\n    <tr>\n      <th>7169</th>\n      <td>-0.000085</td>\n      <td>0.000085</td>\n      <td>0.007265</td>\n      <td>0.012835</td>\n      <td>-0.000885</td>\n      <td>0.002700</td>\n      <td>0.002688</td>\n      <td>0.002687</td>\n      <td>0.002691</td>\n      <td>0.002475</td>\n      <td>...</td>\n      <td>0.000159</td>\n      <td>0.000100</td>\n      <td>0.000105</td>\n      <td>0.000125</td>\n      <td>0.000110</td>\n      <td>0.000080</td>\n      <td>0.000014</td>\n      <td>-0.000015</td>\n      <td>-0.000024</td>\n      <td>-0.000035</td>\n    </tr>\n    <tr>\n      <th>7170</th>\n      <td>-0.000085</td>\n      <td>0.000085</td>\n      <td>0.007265</td>\n      <td>0.012835</td>\n      <td>-0.000885</td>\n      <td>0.002700</td>\n      <td>0.002688</td>\n      <td>0.002687</td>\n      <td>0.002691</td>\n      <td>0.002475</td>\n      <td>...</td>\n      <td>0.000159</td>\n      <td>0.000100</td>\n      <td>0.000105</td>\n      <td>0.000125</td>\n      <td>0.000110</td>\n      <td>0.000080</td>\n      <td>0.000014</td>\n      <td>-0.000015</td>\n      <td>-0.000024</td>\n      <td>-0.000035</td>\n    </tr>\n  </tbody>\n</table>\n<p>7171 rows × 605 columns</p>\n</div>",
      "text/plain": "           BID     OFFER  MID_OPEN      HIGH       LOW         0         1  \\\n0    -0.000085  0.000085  0.005145  0.010715 -0.001325  0.000000  0.000050   \n1    -0.000085  0.000085  0.005135  0.010705 -0.001335 -0.000010  0.000040   \n2    -0.000100  0.000100  0.005090  0.010660 -0.001380 -0.000055 -0.000005   \n3    -0.000090  0.000090  0.005060  0.010630 -0.001410 -0.000085 -0.000035   \n4    -0.000100  0.000100  0.005070  0.010640 -0.001400 -0.000075 -0.000025   \n...        ...       ...       ...       ...       ...       ...       ...   \n7166 -0.000085  0.000085  0.007265  0.012835 -0.000885  0.002700  0.002688   \n7167 -0.000085  0.000085  0.007275  0.012845 -0.000875  0.002710  0.002698   \n7168 -0.000085  0.000085  0.007265  0.012835 -0.000885  0.002700  0.002688   \n7169 -0.000085  0.000085  0.007265  0.012835 -0.000885  0.002700  0.002688   \n7170 -0.000085  0.000085  0.007265  0.012835 -0.000885  0.002700  0.002688   \n\n             2         3         4  ...       590       591       592  \\\n0     0.000078  0.000026 -0.000052  ... -0.000809 -0.000799 -0.000784   \n1     0.000068  0.000016 -0.000062  ... -0.000819 -0.000809 -0.000794   \n2     0.000023 -0.000029 -0.000107  ... -0.000864 -0.000854 -0.000839   \n3    -0.000008 -0.000059 -0.000137  ... -0.000894 -0.000884 -0.000869   \n4     0.000002 -0.000049 -0.000127  ... -0.000884 -0.000874 -0.000859   \n...        ...       ...       ...  ...       ...       ...       ...   \n7166  0.002687  0.002691  0.002475  ...  0.000159  0.000100  0.000105   \n7167  0.002697  0.002701  0.002485  ...  0.000169  0.000110  0.000115   \n7168  0.002687  0.002691  0.002475  ...  0.000159  0.000100  0.000105   \n7169  0.002687  0.002691  0.002475  ...  0.000159  0.000100  0.000105   \n7170  0.002687  0.002691  0.002475  ...  0.000159  0.000100  0.000105   \n\n           593       594       595       596       597       598       599  \n0    -0.000764 -0.000614 -0.000574 -0.000574 -0.000582 -0.000583 -0.000490  \n1    -0.000774 -0.000624 -0.000584 -0.000584 -0.000592 -0.000593 -0.000500  \n2    -0.000819 -0.000669 -0.000629 -0.000629 -0.000638 -0.000638 -0.000545  \n3    -0.000849 -0.000699 -0.000659 -0.000659 -0.000668 -0.000668 -0.000575  \n4    -0.000839 -0.000689 -0.000649 -0.000649 -0.000658 -0.000658 -0.000565  \n...        ...       ...       ...       ...       ...       ...       ...  \n7166  0.000125  0.000110  0.000080  0.000014 -0.000015 -0.000024 -0.000035  \n7167  0.000135  0.000120  0.000090  0.000024 -0.000005 -0.000014 -0.000025  \n7168  0.000125  0.000110  0.000080  0.000014 -0.000015 -0.000024 -0.000035  \n7169  0.000125  0.000110  0.000080  0.000014 -0.000015 -0.000024 -0.000035  \n7170  0.000125  0.000110  0.000080  0.000014 -0.000015 -0.000024 -0.000035  \n\n[7171 rows x 605 columns]"
     },
     "execution_count": 255,
     "metadata": {},
     "output_type": "execute_result"
    }
   ],
   "source": [
    "all_data=all_data_absolute.subtract(mid,axis='index')\n",
    "all_data"
   ]
  },
  {
   "cell_type": "code",
   "execution_count": 256,
   "metadata": {},
   "outputs": [
    {
     "data": {
      "text/plain": "0       0\n1       0\n2       0\n3       0\n4       0\n       ..\n7166    1\n7167    1\n7168    1\n7169    1\n7170    1\nName: deal_type, Length: 7171, dtype: int64"
     },
     "execution_count": 256,
     "metadata": {},
     "output_type": "execute_result"
    }
   ],
   "source": [
    "labels=deals_with_price['deal_type'].apply(lambda x:1 if x=='limit' else 0)\n",
    "labels"
   ]
  },
  {
   "cell_type": "code",
   "execution_count": 257,
   "metadata": {},
   "outputs": [],
   "source": [
    "count=len(all_data)\n",
    "\n",
    "import math\n",
    "training=math.floor(0.7*count)\n",
    "test=math.floor(0.15*count)\n",
    "validation=math.floor(0.15*count)\n",
    "evaluation=math.floor(0.2*count)"
   ]
  },
  {
   "cell_type": "code",
   "execution_count": 258,
   "metadata": {},
   "outputs": [
    {
     "data": {
      "text/plain": "5019"
     },
     "execution_count": 258,
     "metadata": {},
     "output_type": "execute_result"
    }
   ],
   "source": [
    "training_data_set=all_data[0:training]\n",
    "training_labels=labels[0:training]\n",
    "len(training_data_set)"
   ]
  },
  {
   "cell_type": "code",
   "execution_count": 259,
   "metadata": {},
   "outputs": [
    {
     "data": {
      "text/plain": "1074"
     },
     "execution_count": 259,
     "metadata": {},
     "output_type": "execute_result"
    }
   ],
   "source": [
    "test_data_set=all_data[(training+1):(training+test)]\n",
    "test_labels=labels[(training+1):(training+test)]\n",
    "len(test_data_set)"
   ]
  },
  {
   "cell_type": "code",
   "execution_count": 260,
   "metadata": {},
   "outputs": [
    {
     "data": {
      "text/plain": "1076"
     },
     "execution_count": 260,
     "metadata": {},
     "output_type": "execute_result"
    }
   ],
   "source": [
    "validation_data_set=all_data[(training+test+1):]\n",
    "validation_labels=labels[(training+test+1):]\n",
    "len(validation_data_set)"
   ]
  },
  {
   "cell_type": "code",
   "execution_count": 261,
   "metadata": {},
   "outputs": [],
   "source": [
    "training_data_set.to_csv('../data/training_data.csv',header=None,index=False)\n",
    "test_data_set.to_csv('../data/test_data.csv',header=None,index=False)\n",
    "validation_data_set.to_csv('../data/validation_data.csv',header=None,index=False)"
   ]
  },
  {
   "cell_type": "code",
   "execution_count": 262,
   "metadata": {},
   "outputs": [],
   "source": [
    "training_data_np=training_data_set.to_numpy().astype('float32')\n",
    "training_labels_np=training_labels.to_numpy().astype('float32')\n",
    "\n",
    "test_data_np=test_data_set.to_numpy().astype('float32')\n",
    "test_labels_np=test_labels.to_numpy().astype('float32')\n",
    "\n",
    "validation_data_np=validation_data_set.to_numpy().astype('float32')\n",
    "validation_labels_np=validation_labels.to_numpy().astype('float32')"
   ]
  },
  {
   "cell_type": "code",
   "execution_count": 263,
   "metadata": {},
   "outputs": [],
   "source": [
    "import io\n",
    "import sagemaker.amazon.common as smac\n",
    "import boto3\n",
    "session=boto3.Session(profile_name='ml-lab')"
   ]
  },
  {
   "cell_type": "code",
   "execution_count": 264,
   "metadata": {},
   "outputs": [],
   "source": [
    "buf = io.BytesIO()\n",
    "smac.write_numpy_to_dense_tensor(buf, training_data_np, training_labels_np)\n",
    "buf.seek(0)\n",
    "session.resource('s3').Bucket(BUCKET).Object('training_data.io').upload_fileobj(buf)"
   ]
  },
  {
   "cell_type": "code",
   "execution_count": 265,
   "metadata": {},
   "outputs": [],
   "source": [
    "buf = io.BytesIO()\n",
    "smac.write_numpy_to_dense_tensor(buf, test_data_np, test_labels_np)\n",
    "buf.seek(0)\n",
    "session.resource('s3').Bucket(BUCKET).Object('test_data.io').upload_fileobj(buf)"
   ]
  },
  {
   "cell_type": "code",
   "execution_count": 266,
   "metadata": {},
   "outputs": [],
   "source": [
    "buf = io.BytesIO()\n",
    "smac.write_numpy_to_dense_tensor(buf, validation_data_np, validation_labels_np)\n",
    "buf.seek(0)\n",
    "session.resource('s3').Bucket(BUCKET).Object('validation_data.io').upload_fileobj(buf)"
   ]
  },
  {
   "cell_type": "code",
   "execution_count": 267,
   "metadata": {},
   "outputs": [],
   "source": [
    "evaluation_data=all_data.copy()\n",
    "evaluation_data['profit']=labels\n",
    "evaluation_data_set=evaluation_data[(training+test+1):]"
   ]
  },
  {
   "cell_type": "code",
   "execution_count": 268,
   "metadata": {},
   "outputs": [],
   "source": [
    "evaluation_data_set.to_csv('../data/evaluation_data.csv',header=None,index=False)"
   ]
  },
  {
   "cell_type": "code",
   "execution_count": null,
   "metadata": {},
   "outputs": [],
   "source": []
  }
 ],
 "metadata": {
  "kernelspec": {
   "display_name": "Python 3.7.4 64-bit ('.venv': virtualenv)",
   "language": "python",
   "name": "python37464bitvenvvirtualenv6b4f093d3fee42a4b8c0f6bd7f8294ac"
  },
  "language_info": {
   "codemirror_mode": {
    "name": "ipython",
    "version": 3
   },
   "file_extension": ".py",
   "mimetype": "text/x-python",
   "name": "python",
   "nbconvert_exporter": "python",
   "pygments_lexer": "ipython3",
   "version": "3.7.4-final"
  }
 },
 "nbformat": 4,
 "nbformat_minor": 4
}