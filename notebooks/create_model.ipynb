{
 "nbformat": 4,
 "nbformat_minor": 2,
 "metadata": {
  "language_info": {
   "name": "python",
   "codemirror_mode": {
    "name": "ipython",
    "version": 3
   },
   "version": "3.7.4-final"
  },
  "orig_nbformat": 2,
  "file_extension": ".py",
  "mimetype": "text/x-python",
  "name": "python",
  "npconvert_exporter": "python",
  "pygments_lexer": "ipython3",
  "version": 3,
  "kernelspec": {
   "name": "python37464bitvenvvirtualenv6b4f093d3fee42a4b8c0f6bd7f8294ac",
   "display_name": "Python 3.7.4 64-bit ('.venv': virtualenv)"
  }
 },
 "cells": [
  {
   "cell_type": "code",
   "execution_count": 12,
   "metadata": {},
   "outputs": [],
   "source": [
    "bucket = 'ml-lab-pyspark'\n",
    "prefix = 'sagemaker/tuning/linear_learner'\n",
    "name='linear-learner-absolute-price'\n",
    "# Define IAM role\n",
    "import boto3\n",
    "from sagemaker import get_execution_role"
   ]
  },
  {
   "cell_type": "code",
   "execution_count": 5,
   "metadata": {},
   "outputs": [],
   "source": [
    "boto3_session=boto3.Session(profile_name='ml-lab')\n",
    "sagemaker_client=boto3_session.client('sagemaker')\n",
    "\n",
    "try:\n",
    "    role = get_execution_role()\n",
    "except:\n",
    "    role=\"arn:aws:iam::814948925568:role/service-role/AmazonSageMaker-ExecutionRole-20200310T154729\""
   ]
  },
  {
   "cell_type": "code",
   "execution_count": 14,
   "metadata": {},
   "outputs": [
    {
     "data": {
      "text/plain": "{'ModelArn': 'arn:aws:sagemaker:eu-west-2:814948925568:model/linear-learner-absolute-price-model',\n 'ResponseMetadata': {'RequestId': '429b4be0-47bb-4ca9-a3bd-f42583d21290',\n  'HTTPStatusCode': 200,\n  'HTTPHeaders': {'x-amzn-requestid': '429b4be0-47bb-4ca9-a3bd-f42583d21290',\n   'content-type': 'application/x-amz-json-1.1',\n   'content-length': '97',\n   'date': 'Mon, 16 Mar 2020 18:52:37 GMT'},\n  'RetryAttempts': 0}}"
     },
     "execution_count": 14,
     "metadata": {},
     "output_type": "execute_result"
    }
   ],
   "source": [
    "sagemaker_model = sagemaker_client.create_model(\n",
    "    ModelName=name+'-model',\n",
    "    PrimaryContainer={\n",
    "        'Image': '644912444149.dkr.ecr.eu-west-2.amazonaws.com/linear-learner:1',\n",
    "        'ModelDataUrl': 's3://ml-lab-pyspark/sagemaker/tuning/linear_learner/output/MyTuningJob-absolute-price-007-51097598/output/model.tar.gz',\n",
    "    },\n",
    "    ExecutionRoleArn=role\n",
    ")\n",
    "sagemaker_model"
   ]
  },
  {
   "cell_type": "code",
   "execution_count": 15,
   "metadata": {},
   "outputs": [
    {
     "data": {
      "text/plain": "{'EndpointConfigArn': 'arn:aws:sagemaker:eu-west-2:814948925568:endpoint-config/linear-learner-absolute-price-endpoint-config',\n 'ResponseMetadata': {'RequestId': '9076b986-507e-44c4-8c93-ff4c23066739',\n  'HTTPStatusCode': 200,\n  'HTTPHeaders': {'x-amzn-requestid': '9076b986-507e-44c4-8c93-ff4c23066739',\n   'content-type': 'application/x-amz-json-1.1',\n   'content-length': '126',\n   'date': 'Mon, 16 Mar 2020 18:52:37 GMT'},\n  'RetryAttempts': 0}}"
     },
     "execution_count": 15,
     "metadata": {},
     "output_type": "execute_result"
    }
   ],
   "source": [
    "sagemaker_endpoint_config=sagemaker_client.create_endpoint_config(\n",
    "    EndpointConfigName=name+'-endpoint-config',\n",
    "    ProductionVariants=[\n",
    "        {\n",
    "            'VariantName': 'default-variant-name',\n",
    "            'ModelName': name+'-model',\n",
    "            'InitialInstanceCount': 1,\n",
    "            'InstanceType': 'ml.t2.medium'\n",
    "        }\n",
    "    ]\n",
    ")\n",
    "sagemaker_endpoint_config"
   ]
  },
  {
   "cell_type": "code",
   "execution_count": 16,
   "metadata": {},
   "outputs": [],
   "source": [
    "sagemaker_endpoint=sagemaker_client.create_endpoint(\n",
    "    EndpointName=name+'-endpoint',\n",
    "    EndpointConfigName=name+'-endpoint-config'\n",
    ")"
   ]
  },
  {
   "cell_type": "code",
   "execution_count": 17,
   "metadata": {},
   "outputs": [
    {
     "data": {
      "text/plain": "{'EndpointArn': 'arn:aws:sagemaker:eu-west-2:814948925568:endpoint/linear-learner-absolute-price-endpoint',\n 'ResponseMetadata': {'RequestId': 'd5f6dece-955d-4ed2-b627-8431f9f5dbe7',\n  'HTTPStatusCode': 200,\n  'HTTPHeaders': {'x-amzn-requestid': 'd5f6dece-955d-4ed2-b627-8431f9f5dbe7',\n   'content-type': 'application/x-amz-json-1.1',\n   'content-length': '106',\n   'date': 'Mon, 16 Mar 2020 18:52:42 GMT'},\n  'RetryAttempts': 0}}"
     },
     "execution_count": 17,
     "metadata": {},
     "output_type": "execute_result"
    }
   ],
   "source": [
    "sagemaker_endpoint"
   ]
  },
  {
   "cell_type": "code",
   "execution_count": null,
   "metadata": {},
   "outputs": [],
   "source": []
  }
 ]
}