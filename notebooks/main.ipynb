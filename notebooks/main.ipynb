{
 "cells": [
  {
   "cell_type": "code",
   "execution_count": 27,
   "metadata": {},
   "outputs": [],
   "source": [
    "import json\n",
    "from IPython.core.display import display, HTML"
   ]
  },
  {
   "cell_type": "code",
   "execution_count": 28,
   "metadata": {},
   "outputs": [],
   "source": [
    "import logging\n",
    "import os\n",
    "\n",
    "logging.basicConfig(level=os.environ.get(\"LOGLEVEL\", \"INFO\"),\n",
    "                    format='%(asctime)s %(name)-12s %(levelname)-8s %(message)s',\n",
    "                    datefmt='%m-%d %H:%M')\n",
    "\n",
    "console = logging.StreamHandler()\n",
    "\n",
    "log_file=logging.FileHandler('logs/ml-lab-local.log', mode='a')\n",
    "\n",
    "\n",
    "logger=logging.getLogger('ml-lab-local')\n",
    "logger.addHandler(log_file)"
   ]
  },
  {
   "cell_type": "code",
   "execution_count": 29,
   "metadata": {},
   "outputs": [
    {
     "name": "stderr",
     "output_type": "stream",
     "text": [
      "03-11 18:17 ml-lab-local INFO     IDENTIFIER: demo2020, IG_BASE_URL: https://demo-api.ig.com/gateway/deal\n"
     ]
    }
   ],
   "source": [
    "from config import IDENTIFIER\n",
    "from config import IG_BASE_URL\n",
    "\n",
    "logger.info('IDENTIFIER: %s, IG_BASE_URL: %s' %(IDENTIFIER,IG_BASE_URL))\n"
   ]
  },
  {
   "cell_type": "code",
   "execution_count": 30,
   "metadata": {},
   "outputs": [],
   "source": [
    "from secret_manager import SecretManager\n",
    "sm=SecretManager()\n",
    "sm.get_secret()"
   ]
  },
  {
   "cell_type": "code",
   "execution_count": 31,
   "metadata": {},
   "outputs": [],
   "source": [
    "from ig_client import IGClient\n",
    "ig=IGClient(IG_BASE_URL,IDENTIFIER,sm.secret['ig_password'],sm.secret['ig_api_key'])\n",
    "ig.login()"
   ]
  },
  {
   "cell_type": "code",
   "execution_count": 32,
   "metadata": {},
   "outputs": [
    {
     "name": "stderr",
     "output_type": "stream",
     "text": [
      "03-11 18:17 ml-lab-local INFO     {'clientId': '101811698', 'accountId': 'Z3071N', 'timezoneOffset': 0, 'locale': 'en_GB', 'currency': 'GBP', 'lightstreamerEndpoint': 'https://demo-apd.marketdatasystems.com'}\n"
     ]
    }
   ],
   "source": [
    "session_info=ig.get_session_info()\n",
    "logger.info(session_info)"
   ]
  },
  {
   "cell_type": "code",
   "execution_count": 33,
   "metadata": {},
   "outputs": [],
   "source": [
    "from lightstreamer_client import LightstreamerClient, LightstreamerSubscription\n",
    "\n",
    "ls_client=LightstreamerClient(\n",
    "    lightstreamer_url=session_info[\"lightstreamerEndpoint\"],\n",
    "    lightstreamer_username=IDENTIFIER,\n",
    "    lightstreamer_password=\"CST-%s|XST-%s\" %(ig.CST,ig.X_SECURITY_TOKEN)\n",
    ")"
   ]
  },
  {
   "cell_type": "code",
   "execution_count": 34,
   "metadata": {},
   "outputs": [
    {
     "name": "stderr",
     "output_type": "stream",
     "text": [
      "03-11 18:17 root         INFO     Successfully connected to <https://demo-apd.marketdatasystems.com>\n",
      "03-11 18:17 root         INFO     Started handling of real-time stream\n"
     ]
    }
   ],
   "source": [
    "try:\n",
    "    ls_client.connect()\n",
    "except Exception as e:\n",
    "    print(e)\n",
    "    print(\"Unable to connect to Lightstreamer Server\")"
   ]
  },
  {
   "cell_type": "code",
   "execution_count": 35,
   "metadata": {},
   "outputs": [],
   "source": [
    "subscription = LightstreamerSubscription(\n",
    "    mode=\"MERGE\",\n",
    "    items=[\"MARKET:CS.D.GBPUSD.CFD.IP\"],\n",
    "    fields=[\"UPDATE_TIME\",\"MID_OPEN\",\"BID\", \"OFFER\",\"CHANGE\",\"CHANGE_PCT\",\"HIGH\",\"LOW\"]\n",
    ")"
   ]
  },
  {
   "cell_type": "code",
   "execution_count": 36,
   "metadata": {},
   "outputs": [],
   "source": [
    "from concurrent.futures import ThreadPoolExecutor\n",
    "executor = ThreadPoolExecutor(max_workers=2)"
   ]
  },
  {
   "cell_type": "code",
   "execution_count": 37,
   "metadata": {},
   "outputs": [
    {
     "name": "stderr",
     "output_type": "stream",
     "text": [
      "03-11 18:17 root         INFO     Successfully subscribed \n",
      "03-11 18:17 ml-lab-local INFO     Subscription:1\n"
     ]
    },
    {
     "name": "stdout",
     "output_type": "stream",
     "text": [
      "{'pos': 1, 'name': 'MARKET:CS.D.GBPUSD.CFD.IP', 'values': {'UPDATE_TIME': '18:17:26', 'MID_OPEN': '1.29093', 'BID': '1.28464', 'OFFER': '1.28473', 'CHANGE': '-0.00624', 'CHANGE_PCT': '-0.48', 'HIGH': '1.29775', 'LOW': '1.28249'}}\n",
      "{'pos': 1, 'name': 'MARKET:CS.D.GBPUSD.CFD.IP', 'values': {'UPDATE_TIME': '18:17:26', 'MID_OPEN': '1.29093', 'BID': '1.28464', 'OFFER': '1.28473', 'CHANGE': '-0.00625', 'CHANGE_PCT': '-0.48', 'HIGH': '1.29775', 'LOW': '1.28249'}}\n",
      "{'pos': 1, 'name': 'MARKET:CS.D.GBPUSD.CFD.IP', 'values': {'UPDATE_TIME': '18:17:26', 'MID_OPEN': '1.29093', 'BID': '1.28464', 'OFFER': '1.28473', 'CHANGE': '-0.00624', 'CHANGE_PCT': '-0.48', 'HIGH': '1.29775', 'LOW': '1.28249'}}\n",
      "{'pos': 1, 'name': 'MARKET:CS.D.GBPUSD.CFD.IP', 'values': {'UPDATE_TIME': '18:17:28', 'MID_OPEN': '1.29093', 'BID': '1.28465', 'OFFER': '1.28474', 'CHANGE': '-0.00624', 'CHANGE_PCT': '-0.48', 'HIGH': '1.29775', 'LOW': '1.28249'}}\n",
      "{'pos': 1, 'name': 'MARKET:CS.D.GBPUSD.CFD.IP', 'values': {'UPDATE_TIME': '18:17:29', 'MID_OPEN': '1.29093', 'BID': '1.28464', 'OFFER': '1.28473', 'CHANGE': '-0.00624', 'CHANGE_PCT': '-0.48', 'HIGH': '1.29775', 'LOW': '1.28249'}}\n",
      "{'pos': 1, 'name': 'MARKET:CS.D.GBPUSD.CFD.IP', 'values': {'UPDATE_TIME': '18:17:29', 'MID_OPEN': '1.29093', 'BID': '1.28464', 'OFFER': '1.28473', 'CHANGE': '-0.00625', 'CHANGE_PCT': '-0.48', 'HIGH': '1.29775', 'LOW': '1.28249'}}\n"
     ]
    }
   ],
   "source": [
    "def thread_function(item):\n",
    "     with open('messages.txt', 'a') as f:\n",
    "        f.write('%s \\n' % item)\n",
    "        \n",
    "# A simple function acting as a Subscription listener\n",
    "def on_item_update(item):\n",
    "    print(item)\n",
    "    x = executor.submit(thread_function,item)\n",
    "\n",
    "# Adding the \"on_item_update\" function to Subscription\n",
    "subscription.addlistener(on_item_update)\n",
    "\n",
    "# Registering the Subscription\n",
    "sub_key = ls_client.subscribe(subscription)\n",
    "logger.info(\"Subscription:%s\" % sub_key)"
   ]
  },
  {
   "cell_type": "code",
   "execution_count": 38,
   "metadata": {},
   "outputs": [],
   "source": [
    "executor.shutdown(wait=False)\n",
    "subscription.removelisteners()"
   ]
  },
  {
   "cell_type": "code",
   "execution_count": null,
   "metadata": {},
   "outputs": [],
   "source": []
  }
 ],
 "metadata": {
  "kernelspec": {
   "display_name": "conda_python3",
   "language": "python",
   "name": "conda_python3"
  },
  "language_info": {
   "codemirror_mode": {
    "name": "ipython",
    "version": 3
   },
   "file_extension": ".py",
   "mimetype": "text/x-python",
   "name": "python",
   "nbconvert_exporter": "python",
   "pygments_lexer": "ipython3",
   "version": "3.6.5"
  }
 },
 "nbformat": 4,
 "nbformat_minor": 4
}
